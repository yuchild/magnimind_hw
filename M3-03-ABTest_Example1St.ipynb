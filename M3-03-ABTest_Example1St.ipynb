{
 "cells": [
  {
   "cell_type": "markdown",
   "id": "d9051967-d31c-4425-92a7-cbf33d634289",
   "metadata": {},
   "source": [
    "Imagine you're in charge of a website to optimise sales. You have the current version of the website, but aren't happy with it. The \"Buy now\" button is not obvious to the user, it's hidden away, so you want to try making it bigger and brighter, maybe that will increase conversion. But you also care about statistical rigour (an odd combination to be sure). So you set up your website so that half the people are directed to the old website, and half to one where you've made your change. You have data from both, and want to know, with confidence, \"Does the change I made increase conversion?\"."
   ]
  },
  {
   "cell_type": "markdown",
   "id": "5f27e930-5c6f-4239-948e-2b99e953cd72",
   "metadata": {},
   "source": [
    "Now, A/B tests can test anything you want, but common ones are click through/conversion, bounce rate, and how long you spend on the page. For this example, let us assume we want to optimise conversion, which in our case is clicking the \"Add to cart\" button above.\n",
    "\n",
    "Let us assume you have 1000 users, 550 were directed to site A, 450 to site B. In site A, 48 users converted. In site B, 56 users converted. Is this a statistically significant result?"
   ]
  },
  {
   "cell_type": "markdown",
   "id": "3c3c78a0-fce3-41a7-84e9-9bb6a2427b65",
   "metadata": {},
   "source": [
    "- Step 1: Find $p_A$ and $p_B$\n",
    "- Step 2: Use `binom` class from `scipy.stats`, use $p_A$ and $p_B$ values from previous step and determine the probability of having x number of click throughs. Plot the distributions for both webpages.\n",
    "- Step 3: Use `norm` class from `scipy.stats` and similar to Step 2, plot the histogram of conversion rates using normal distribution approximation ($N_A\\text{ ~ }(p_A, \\sqrt{\\frac{p_A(1-p_A)}{N_A}})$).\n",
    "- Step 4: What is the chance that the actual CTR from B is higher than the CTR of A. Ie, the chance a draw from the B distribution above is greater than a draw from the A distribution. And is that significant? \n",
    "  To answer this, let us utilise the handy fact that the sum (or difference) of normally distributed random numbers is also a normal:\n",
    "\n",
    "$$P(b-a) = \\mathcal{N}(\\mu_B - \\mu_A, \\sqrt{\\sigma_A^2 + \\sigma_B^2})$$\n",
    "    First, get the z-score, and second, plot the proper distribution.\n",
    "- Step 5: So what if we're not confident that we've done the math perfectly? Is there a way we can brute force a check? Draw 10000 samples of possible rates ($p_A$ and $p_B$) for a and b and chgeck how many times B>A."
   ]
  },
  {
   "cell_type": "code",
   "execution_count": 1,
   "id": "ce277695-be40-4508-946e-cf2aeb620262",
   "metadata": {},
   "outputs": [],
   "source": [
    "num_a, num_b = 550, 450\n",
    "click_a, click_b = 48, 56\n",
    "\n",
    "rate_a, rate_b = click_a/num_a, click_b/num_b"
   ]
  },
  {
   "cell_type": "code",
   "execution_count": 2,
   "id": "9dc25333-bc2b-408d-8548-289a250c9bab",
   "metadata": {},
   "outputs": [
    {
     "data": {
      "text/plain": [
       "<BarContainer object of 60 artists>"
      ]
     },
     "execution_count": 2,
     "metadata": {},
     "output_type": "execute_result"
    },
    {
     "data": {
      "image/png": "[encoded data removed]",
      "text/plain": [
       "<Figure size 432x288 with 1 Axes>"
      ]
     },
     "metadata": {
      "needs_background": "light"
     },
     "output_type": "display_data"
    }
   ],
   "source": [
    "import matplotlib.pyplot as plt\n",
    "from scipy.stats import binom\n",
    "import numpy as np\n",
    "\n",
    "clicks = np.arange(20,80)\n",
    "\n",
    "prob_a = binom(num_a, rate_a).pmf(clicks)\n",
    "prob_b = binom(num_b, rate_b).pmf(clicks)\n",
    "\n",
    "plt.bar(clicks, prob_a, label='A', alpha=0.7)\n",
    "plt.bar(clicks, prob_b, label='B', alpha=0.7)"
   ]
  },
  {
   "cell_type": "code",
   "execution_count": null,
   "id": "dedc5399-7e12-435f-ad07-4d83544af52a",
   "metadata": {},
   "outputs": [],
   "source": [
    "variance of binom = p(1-p)N"
   ]
  },
  {
   "cell_type": "code",
   "execution_count": 3,
   "id": "5071acea-687c-44a3-b359-938b2900435b",
   "metadata": {},
   "outputs": [
    {
     "data": {
      "text/plain": [
       "(0.08727272727272728, 0.12444444444444444)"
      ]
     },
     "execution_count": 3,
     "metadata": {},
     "output_type": "execute_result"
    }
   ],
   "source": [
    "rate_a, rate_b"
   ]
  },
  {
   "cell_type": "code",
   "execution_count": 6,
   "id": "6850c03e-cae1-4b86-871d-d65df721eb73",
   "metadata": {},
   "outputs": [
    {
     "data": {
      "text/plain": [
       "[<matplotlib.lines.Line2D at 0x7fefb03f51f0>]"
      ]
     },
     "execution_count": 6,
     "metadata": {},
     "output_type": "execute_result"
    },
    {
     "data": {
      "image/png": "[encoded data removed]",
      "text/plain": [
       "<Figure size 432x288 with 1 Axes>"
      ]
     },
     "metadata": {
      "needs_background": "light"
     },
     "output_type": "display_data"
    }
   ],
   "source": [
    "from scipy.stats import norm\n",
    "\n",
    "std_a=np.sqrt(rate_a * (1-rate_a)/num_a)\n",
    "std_b=np.sqrt(rate_b * (1-rate_b)/num_b)\n",
    "\n",
    "click_rate = np.linspace(0,0.2, 200)\n",
    "prob_a=norm(rate_a, std_a).pdf(click_rate)\n",
    "prob_b=norm(rate_b, std_b).pdf(click_rate)\n",
    "\n",
    "plt.plot(click_rate, prob_a, label='A')\n",
    "plt.plot(click_rate, prob_b, label='B')"
   ]
  },
  {
   "cell_type": "code",
   "execution_count": 8,
   "id": "0ce74a08-ffa1-41cc-ab5f-d31303b703ed",
   "metadata": {},
   "outputs": [
    {
     "data": {
      "text/plain": [
       "0.02940265017242183"
      ]
     },
     "execution_count": 8,
     "metadata": {},
     "output_type": "execute_result"
    }
   ],
   "source": [
    "z_score = (rate_b-rate_a)/np.sqrt(std_a**2+std_b**2)\n",
    "1-norm().cdf(z_score)"
   ]
  },
  {
   "cell_type": "markdown",
   "id": "5b4ada97-171c-4c12-a16d-d06916377a71",
   "metadata": {},
   "source": [
    "p<0.05, we reject the null hypothesis and conclude that there is a statistically significant difference between the clicking ratios of two groups"
   ]
  },
  {
   "cell_type": "code",
   "execution_count": 11,
   "id": "0369c7ab-1234-4bc6-beed-4490122291b2",
   "metadata": {},
   "outputs": [
    {
     "name": "stdout",
     "output_type": "stream",
     "text": [
      "0.9713\n",
      "0.028699999999999948\n"
     ]
    }
   ],
   "source": [
    "n = 100000\n",
    "\n",
    "rates_a = norm(rate_a, std_a).rvs(n)\n",
    "rates_b = norm(rate_b, std_b).rvs(n)\n",
    "\n",
    "b_better = (rates_b>rates_a).mean()\n",
    "\n",
    "print(b_better)\n",
    "print(1-b_better)"
   ]
  },
  {
   "cell_type": "code",
   "execution_count": null,
   "id": "4566efe4-1a23-47f4-8471-bd5d16b0f0b3",
   "metadata": {},
   "outputs": [],
   "source": []
  }
 ],
 "metadata": {
  "kernelspec": {
   "display_name": "Python 3 (ipykernel)",
   "language": "python",
   "name": "python3"
  },
  "language_info": {
   "codemirror_mode": {
    "name": "ipython",
    "version": 3
   },
   "file_extension": ".py",
   "mimetype": "text/x-python",
   "name": "python",
   "nbconvert_exporter": "python",
   "pygments_lexer": "ipython3",
   "version": "3.7.11"
  }
 },
 "nbformat": 4,
 "nbformat_minor": 5
}
