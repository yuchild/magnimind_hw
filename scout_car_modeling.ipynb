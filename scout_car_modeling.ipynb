{
 "cells": [
  {
   "cell_type": "code",
   "execution_count": 1,
   "id": "1f7b5408",
   "metadata": {},
   "outputs": [],
   "source": [
    "import pandas as pd"
   ]
  },
  {
   "cell_type": "code",
   "execution_count": 2,
   "id": "6dece8e1",
   "metadata": {},
   "outputs": [
    {
     "data": {
      "text/plain": [
       "(15915, 34)"
      ]
     },
     "execution_count": 2,
     "metadata": {},
     "output_type": "execute_result"
    }
   ],
   "source": [
    "df = pd.read_csv(\"./data/scout_missings_filled_2.csv\")\n",
    "df.shape"
   ]
  },
  {
   "cell_type": "code",
   "execution_count": 3,
   "id": "63d01772",
   "metadata": {},
   "outputs": [
    {
     "name": "stdout",
     "output_type": "stream",
     "text": [
      "<class 'pandas.core.frame.DataFrame'>\n",
      "RangeIndex: 15915 entries, 0 to 15914\n",
      "Data columns (total 34 columns):\n",
      " #   Column                   Non-Null Count  Dtype  \n",
      "---  ------                   --------------  -----  \n",
      " 0   make_model               15915 non-null  object \n",
      " 1   body_type                15915 non-null  object \n",
      " 2   price                    15915 non-null  int64  \n",
      " 3   vat                      15915 non-null  object \n",
      " 4   km                       15915 non-null  float64\n",
      " 5   prev_owner               15915 non-null  float64\n",
      " 6   hp                       15915 non-null  float64\n",
      " 7   inspection_new           15915 non-null  object \n",
      " 8   warranty                 15915 non-null  float64\n",
      " 9   body_color               15915 non-null  object \n",
      " 10  paint_type               15915 non-null  object \n",
      " 11  nr_of_doors              15915 non-null  float64\n",
      " 12  nr_of_seats              15915 non-null  float64\n",
      " 13  gearing_type             15915 non-null  object \n",
      " 14  displacement             15915 non-null  float64\n",
      " 15  cylinders                15915 non-null  float64\n",
      " 16  weight                   15880 non-null  float64\n",
      " 17  drive_chain              15915 non-null  object \n",
      " 18  co2_emission             15915 non-null  float64\n",
      " 19  emission_class           15915 non-null  object \n",
      " 20  comfort_convenience      14995 non-null  object \n",
      " 21  entertainment_media      14541 non-null  object \n",
      " 22  extras                   12953 non-null  object \n",
      " 23  safety_security          14933 non-null  object \n",
      " 24  gears                    15915 non-null  float64\n",
      " 25  electricity_consumption  15915 non-null  int64  \n",
      " 26  age                      15915 non-null  float64\n",
      " 27  new_used                 15915 non-null  object \n",
      " 28  fuel_type                15913 non-null  object \n",
      " 29  upholstery_material      11414 non-null  object \n",
      " 30  consumption_comb         15915 non-null  float64\n",
      " 31  consumption_city         13480 non-null  float64\n",
      " 32  consumption_country      13540 non-null  float64\n",
      " 33  Weight                   15915 non-null  float64\n",
      "dtypes: float64(16), int64(2), object(16)\n",
      "memory usage: 4.1+ MB\n"
     ]
    }
   ],
   "source": [
    "df.info()"
   ]
  },
  {
   "cell_type": "code",
   "execution_count": null,
   "id": "b44e715f",
   "metadata": {},
   "outputs": [],
   "source": []
  }
 ],
 "metadata": {
  "kernelspec": {
   "display_name": "Python 3 (ipykernel)",
   "language": "python",
   "name": "python3"
  },
  "language_info": {
   "codemirror_mode": {
    "name": "ipython",
    "version": 3
   },
   "file_extension": ".py",
   "mimetype": "text/x-python",
   "name": "python",
   "nbconvert_exporter": "python",
   "pygments_lexer": "ipython3",
   "version": "3.12.3"
  }
 },
 "nbformat": 4,
 "nbformat_minor": 5
}
