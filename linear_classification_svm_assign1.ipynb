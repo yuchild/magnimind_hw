{
 "cells": [
  {
   "cell_type": "markdown",
   "id": "b661ada8",
   "metadata": {},
   "source": [
    "## Assignment 1: Logistic Regression "
   ]
  },
  {
   "cell_type": "code",
   "execution_count": 1,
   "id": "e62f0e17",
   "metadata": {},
   "outputs": [],
   "source": [
    "from sklearn.linear_model import LogisticRegression\n",
    "from sklearn.model_selection import train_test_split\n",
    "from sklearn.preprocessing import StandardScaler\n",
    "from sklearn.datasets import load_digits\n",
    "\n",
    "import numpy as np\n",
    "import pandas as pd"
   ]
  },
  {
   "cell_type": "markdown",
   "id": "24254a02",
   "metadata": {},
   "source": [
    "### Import digits data set from Scikitlearn datasets library. Use load_digits(). When loaded, the dataset comes with data and target values.\n",
    "### Assign data to X and target to y\n",
    "### Check the shape of the data"
   ]
  },
  {
   "cell_type": "code",
   "execution_count": 2,
   "id": "5fdbb9f3",
   "metadata": {},
   "outputs": [
    {
     "name": "stdout",
     "output_type": "stream",
     "text": [
      "Shape of X: (1797, 64)\n",
      "\n",
      "Shape of y: (1797,)\n"
     ]
    }
   ],
   "source": [
    "digits = load_digits()\n",
    "\n",
    "X = digits.data\n",
    "y = digits.target\n",
    "\n",
    "print(f\"Shape of X: {X.shape}\\n\\nShape of y: {y.shape}\")"
   ]
  },
  {
   "cell_type": "markdown",
   "id": "26c0dbf8",
   "metadata": {},
   "source": [
    "### Use np.bincount to print the number of uniqe elements of the target vriable y"
   ]
  },
  {
   "cell_type": "code",
   "execution_count": 3,
   "id": "5b566a72",
   "metadata": {},
   "outputs": [
    {
     "name": "stdout",
     "output_type": "stream",
     "text": [
      "Unique counts of each element in y: [178 182 177 183 181 182 181 179 174 180]\n"
     ]
    }
   ],
   "source": [
    "unique_counts = np.bincount(y)\n",
    "\n",
    "print(f'Unique counts of each element in y: {unique_counts}')"
   ]
  },
  {
   "cell_type": "markdown",
   "id": "8e046853",
   "metadata": {},
   "source": [
    "### Split data into train and test datasets. Use stratification when splitting. You can set your random_state to 42"
   ]
  },
  {
   "cell_type": "code",
   "execution_count": 4,
   "id": "34da0cd2",
   "metadata": {},
   "outputs": [
    {
     "name": "stdout",
     "output_type": "stream",
     "text": [
      "Training set shape: (1437, 64) (1437,)\n",
      "Test set shape: (360, 64) (360,)\n"
     ]
    }
   ],
   "source": [
    "from sklearn.model_selection import train_test_split\n",
    "\n",
    "# Split the data into training and test sets with stratification and random_state\n",
    "X_train, X_test, y_train, y_test = train_test_split(X, \n",
    "                                                    y, \n",
    "                                                    test_size=0.2, \n",
    "                                                    stratify=y, \n",
    "                                                    random_state=42\n",
    "                                                   )\n",
    "\n",
    "# Check the shape of the train and test sets\n",
    "print(\"Training set shape:\", X_train.shape, y_train.shape)\n",
    "print(\"Test set shape:\", X_test.shape, y_test.shape)\n"
   ]
  },
  {
   "cell_type": "markdown",
   "id": "0d3d9d05",
   "metadata": {},
   "source": [
    "### Normalize your dataset. When normalizing, simply divide your dataset by the maximum of the train dataset. To find the maximum, use `max("
   ]
  },
  {
   "cell_type": "code",
   "execution_count": 5,
   "id": "6dae0cf4",
   "metadata": {},
   "outputs": [
    {
     "name": "stdout",
     "output_type": "stream",
     "text": [
      "Max value in normalized X_train: 1.0\n",
      "Max value in normalized X_test: 1.0\n"
     ]
    }
   ],
   "source": [
    "# Calculate the maximum value of the training dataset\n",
    "max_value = X_train.max()\n",
    "\n",
    "# Normalize the training and test datasets by dividing by the maximum value\n",
    "X_train_normalized = X_train / max_value\n",
    "X_test_normalized = X_test / max_value\n",
    "\n",
    "# Check the maximum value to ensure normalization\n",
    "print(\"Max value in normalized X_train:\", X_train_normalized.max())\n",
    "print(\"Max value in normalized X_test:\", X_test_normalized.max())\n"
   ]
  },
  {
   "cell_type": "code",
   "execution_count": null,
   "id": "9f808cfe",
   "metadata": {},
   "outputs": [],
   "source": []
  }
 ],
 "metadata": {
  "kernelspec": {
   "display_name": "Python 3 (ipykernel)",
   "language": "python",
   "name": "python3"
  },
  "language_info": {
   "codemirror_mode": {
    "name": "ipython",
    "version": 3
   },
   "file_extension": ".py",
   "mimetype": "text/x-python",
   "name": "python",
   "nbconvert_exporter": "python",
   "pygments_lexer": "ipython3",
   "version": "3.12.3"
  }
 },
 "nbformat": 4,
 "nbformat_minor": 5
}
