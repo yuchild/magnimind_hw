{
 "cells": [
  {
   "cell_type": "markdown",
   "id": "8c17e12e",
   "metadata": {},
   "source": [
    "## LSTM Stock Price Predictor \n",
    "\n",
    "Model will predict stock prices 15 days into the future"
   ]
  },
  {
   "cell_type": "code",
   "execution_count": 4,
   "id": "522f634d",
   "metadata": {},
   "outputs": [],
   "source": [
    "import yfinance as yf\n",
    "import numpy as np\n",
    "import pandas as pd\n",
    "import matplotlib.pyplot as plt\n",
    "\n",
    "import os\n",
    "os.environ['TF_CPP_MIN_LOG_LEVEL'] = '2'\n",
    "\n",
    "from sklearn.preprocessing import MinMaxScaler\n",
    "from tensorflow.keras.models import Sequential\n",
    "from tensorflow.keras.layers import LSTM, Dense, Input"
   ]
  },
  {
   "cell_type": "markdown",
   "id": "fdd3fcff",
   "metadata": {},
   "source": [
    "### Functions"
   ]
  },
  {
   "cell_type": "code",
   "execution_count": 5,
   "id": "41c2e51f",
   "metadata": {},
   "outputs": [],
   "source": [
    "# Fetch stock data\n",
    "def get_stock_data(ticker, start_date, end_date):\n",
    "    stock_data = yf.download(ticker, start=start_date, end=end_date)\n",
    "    return stock_data['Close']\n",
    "\n",
    "# Process data\n",
    "def preprocess_data(data, look_back, prediction_steps):\n",
    "    from sklearn.preprocessing import MinMaxScaler\n",
    "    scaler = MinMaxScaler(feature_range=(0, 1))\n",
    "    scaled_data = scaler.fit_transform(data.reshape(-1, 1))\n",
    "    \n",
    "    X, y = [], []\n",
    "    for i in range(look_back, len(scaled_data) - prediction_steps + 1):\n",
    "        X.append(scaled_data[i - look_back:i, 0])  # Last `look_back` days\n",
    "        y.append(scaled_data[i:i + prediction_steps, 0])  # Next `prediction_steps` days\n",
    "    \n",
    "    return np.array(X), np.array(y), scaler\n",
    "\n",
    "    \n",
    "# Build the model\n",
    "def build_lstm_model(look_back, output_steps):\n",
    "    from tensorflow.keras.models import Sequential\n",
    "    from tensorflow.keras.layers import LSTM, Dense, Input\n",
    "\n",
    "    model = Sequential([\n",
    "        Input(shape=(look_back, 1)),  # Explicitly define the input shape\n",
    "        LSTM(units=50, activation='tanh', return_sequences=True),\n",
    "        LSTM(units=50, activation='sigmoid', return_sequences=True),\n",
    "        LSTM(units=50, activation='relu', return_sequences=True),\n",
    "        Dense(units=output_steps, activation='relu')  # Output layer with 'output_steps' timesteps\n",
    "    ])\n",
    "    model.compile(optimizer='adam', loss='mean_squared_error')  # Compile the model\n",
    "    return model\n",
    "\n",
    "# Training step\n",
    "def train_model(model, X_train, y_train, epochs=50, batch_size=32):\n",
    "    model.fit(X_train, y_train, epochs=epochs, batch_size=batch_size, verbose=1)\n",
    "\n",
    "# Prediction step\n",
    "def make_predictions(model, X_test, scaler):\n",
    "    predicted_stock_price = model.predict(X_test)\n",
    "    predicted_stock_price = scaler.inverse_transform(predicted_stock_price)  # Inverse scaling\n",
    "    return predicted_stock_price\n",
    "\n",
    "# Visualization step\n",
    "def plot_predictions(real, predicted, title):\n",
    "    import matplotlib.pyplot as plt\n",
    "\n",
    "    plt.figure(figsize=(12, 6))\n",
    "    plt.plot(real.flatten(), color='blue', label='Real Stock Price')\n",
    "    plt.plot(predicted.flatten(), color='red', label='Predicted Stock Price')\n",
    "    plt.title(title)\n",
    "    plt.xlabel('Time')\n",
    "    plt.ylabel('Stock Price')\n",
    "    plt.legend()\n",
    "    plt.show()"
   ]
  },
  {
   "cell_type": "markdown",
   "id": "978c48bb",
   "metadata": {},
   "source": [
    "### Parameters"
   ]
  },
  {
   "cell_type": "code",
   "execution_count": 6,
   "id": "14276f6c",
   "metadata": {},
   "outputs": [],
   "source": [
    "# Parameters\n",
    "ticker = \"AAPL\"\n",
    "start_date = \"2000-01-01\"\n",
    "end_date = \"2024-12-05\"\n",
    "look_back = 60  # Use the last 60 days to predict\n",
    "output_steps = 15  # Predict 15 days ahead"
   ]
  },
  {
   "cell_type": "markdown",
   "id": "0b45fc68",
   "metadata": {},
   "source": [
    "### Main Process"
   ]
  },
  {
   "cell_type": "code",
   "execution_count": 7,
   "id": "bdb8d7f0",
   "metadata": {
    "scrolled": false
   },
   "outputs": [
    {
     "name": "stderr",
     "output_type": "stream",
     "text": [
      "[*********************100%***********************]  1 of 1 completed\n"
     ]
    },
    {
     "name": "stdout",
     "output_type": "stream",
     "text": [
      "Shape of X_train: (4942, 60, 1)\n",
      "Shape of y_train: (4942, 15)\n",
      "Epoch 1/20\n"
     ]
    },
    {
     "ename": "InvalidArgumentError",
     "evalue": "Graph execution error:\n\nDetected at node gradient_tape/compile_loss/mean_squared_error/sub/BroadcastGradientArgs defined at (most recent call last):\n  File \"/usr/lib/python3.12/runpy.py\", line 198, in _run_module_as_main\n\n  File \"/usr/lib/python3.12/runpy.py\", line 88, in _run_code\n\n  File \"/home/oem/Documents/github/magnimind_hw/magenv/lib/python3.12/site-packages/ipykernel_launcher.py\", line 18, in <module>\n\n  File \"/home/oem/Documents/github/magnimind_hw/magenv/lib/python3.12/site-packages/traitlets/config/application.py\", line 1075, in launch_instance\n\n  File \"/home/oem/Documents/github/magnimind_hw/magenv/lib/python3.12/site-packages/ipykernel/kernelapp.py\", line 739, in start\n\n  File \"/home/oem/Documents/github/magnimind_hw/magenv/lib/python3.12/site-packages/tornado/platform/asyncio.py\", line 205, in start\n\n  File \"/usr/lib/python3.12/asyncio/base_events.py\", line 641, in run_forever\n\n  File \"/usr/lib/python3.12/asyncio/base_events.py\", line 1987, in _run_once\n\n  File \"/usr/lib/python3.12/asyncio/events.py\", line 88, in _run\n\n  File \"/home/oem/Documents/github/magnimind_hw/magenv/lib/python3.12/site-packages/ipykernel/kernelbase.py\", line 545, in dispatch_queue\n\n  File \"/home/oem/Documents/github/magnimind_hw/magenv/lib/python3.12/site-packages/ipykernel/kernelbase.py\", line 534, in process_one\n\n  File \"/home/oem/Documents/github/magnimind_hw/magenv/lib/python3.12/site-packages/ipykernel/kernelbase.py\", line 437, in dispatch_shell\n\n  File \"/home/oem/Documents/github/magnimind_hw/magenv/lib/python3.12/site-packages/ipykernel/ipkernel.py\", line 362, in execute_request\n\n  File \"/home/oem/Documents/github/magnimind_hw/magenv/lib/python3.12/site-packages/ipykernel/kernelbase.py\", line 778, in execute_request\n\n  File \"/home/oem/Documents/github/magnimind_hw/magenv/lib/python3.12/site-packages/ipykernel/ipkernel.py\", line 449, in do_execute\n\n  File \"/home/oem/Documents/github/magnimind_hw/magenv/lib/python3.12/site-packages/ipykernel/zmqshell.py\", line 549, in run_cell\n\n  File \"/home/oem/Documents/github/magnimind_hw/magenv/lib/python3.12/site-packages/IPython/core/interactiveshell.py\", line 3075, in run_cell\n\n  File \"/home/oem/Documents/github/magnimind_hw/magenv/lib/python3.12/site-packages/IPython/core/interactiveshell.py\", line 3130, in _run_cell\n\n  File \"/home/oem/Documents/github/magnimind_hw/magenv/lib/python3.12/site-packages/IPython/core/async_helpers.py\", line 128, in _pseudo_sync_runner\n\n  File \"/home/oem/Documents/github/magnimind_hw/magenv/lib/python3.12/site-packages/IPython/core/interactiveshell.py\", line 3334, in run_cell_async\n\n  File \"/home/oem/Documents/github/magnimind_hw/magenv/lib/python3.12/site-packages/IPython/core/interactiveshell.py\", line 3517, in run_ast_nodes\n\n  File \"/home/oem/Documents/github/magnimind_hw/magenv/lib/python3.12/site-packages/IPython/core/interactiveshell.py\", line 3577, in run_code\n\n  File \"/tmp/ipykernel_67347/260683867.py\", line 24, in <module>\n\n  File \"/tmp/ipykernel_67347/3095149304.py\", line 37, in train_model\n\n  File \"/home/oem/Documents/github/magnimind_hw/magenv/lib/python3.12/site-packages/keras/src/utils/traceback_utils.py\", line 117, in error_handler\n\n  File \"/home/oem/Documents/github/magnimind_hw/magenv/lib/python3.12/site-packages/keras/src/backend/tensorflow/trainer.py\", line 320, in fit\n\n  File \"/home/oem/Documents/github/magnimind_hw/magenv/lib/python3.12/site-packages/keras/src/backend/tensorflow/trainer.py\", line 121, in one_step_on_iterator\n\n  File \"/home/oem/Documents/github/magnimind_hw/magenv/lib/python3.12/site-packages/keras/src/backend/tensorflow/trainer.py\", line 108, in one_step_on_data\n\n  File \"/home/oem/Documents/github/magnimind_hw/magenv/lib/python3.12/site-packages/keras/src/backend/tensorflow/trainer.py\", line 70, in train_step\n\nIncompatible shapes: [32,15] vs. [32,60,15]\n\t [[{{node gradient_tape/compile_loss/mean_squared_error/sub/BroadcastGradientArgs}}]] [Op:__inference_one_step_on_iterator_5191]",
     "output_type": "error",
     "traceback": [
      "\u001b[0;31m---------------------------------------------------------------------------\u001b[0m",
      "\u001b[0;31mInvalidArgumentError\u001b[0m                      Traceback (most recent call last)",
      "Cell \u001b[0;32mIn[7], line 24\u001b[0m\n\u001b[1;32m     21\u001b[0m model \u001b[38;5;241m=\u001b[39m build_lstm_model(look_back, output_steps)\n\u001b[1;32m     23\u001b[0m \u001b[38;5;66;03m# Train the model\u001b[39;00m\n\u001b[0;32m---> 24\u001b[0m \u001b[43mtrain_model\u001b[49m\u001b[43m(\u001b[49m\u001b[43mmodel\u001b[49m\u001b[43m,\u001b[49m\u001b[43m \u001b[49m\u001b[43mX_train\u001b[49m\u001b[43m,\u001b[49m\u001b[43m \u001b[49m\u001b[43my_train\u001b[49m\u001b[43m,\u001b[49m\u001b[43m \u001b[49m\u001b[43mepochs\u001b[49m\u001b[38;5;241;43m=\u001b[39;49m\u001b[38;5;241;43m20\u001b[39;49m\u001b[43m,\u001b[49m\u001b[43m \u001b[49m\u001b[43mbatch_size\u001b[49m\u001b[38;5;241;43m=\u001b[39;49m\u001b[38;5;241;43m32\u001b[39;49m\u001b[43m)\u001b[49m\n\u001b[1;32m     26\u001b[0m \u001b[38;5;66;03m# Make predictions\u001b[39;00m\n\u001b[1;32m     27\u001b[0m predicted_stock_price \u001b[38;5;241m=\u001b[39m make_predictions(model, X_test, scaler)\n",
      "Cell \u001b[0;32mIn[5], line 37\u001b[0m, in \u001b[0;36mtrain_model\u001b[0;34m(model, X_train, y_train, epochs, batch_size)\u001b[0m\n\u001b[1;32m     36\u001b[0m \u001b[38;5;28;01mdef\u001b[39;00m \u001b[38;5;21mtrain_model\u001b[39m(model, X_train, y_train, epochs\u001b[38;5;241m=\u001b[39m\u001b[38;5;241m50\u001b[39m, batch_size\u001b[38;5;241m=\u001b[39m\u001b[38;5;241m32\u001b[39m):\n\u001b[0;32m---> 37\u001b[0m     \u001b[43mmodel\u001b[49m\u001b[38;5;241;43m.\u001b[39;49m\u001b[43mfit\u001b[49m\u001b[43m(\u001b[49m\u001b[43mX_train\u001b[49m\u001b[43m,\u001b[49m\u001b[43m \u001b[49m\u001b[43my_train\u001b[49m\u001b[43m,\u001b[49m\u001b[43m \u001b[49m\u001b[43mepochs\u001b[49m\u001b[38;5;241;43m=\u001b[39;49m\u001b[43mepochs\u001b[49m\u001b[43m,\u001b[49m\u001b[43m \u001b[49m\u001b[43mbatch_size\u001b[49m\u001b[38;5;241;43m=\u001b[39;49m\u001b[43mbatch_size\u001b[49m\u001b[43m,\u001b[49m\u001b[43m \u001b[49m\u001b[43mverbose\u001b[49m\u001b[38;5;241;43m=\u001b[39;49m\u001b[38;5;241;43m1\u001b[39;49m\u001b[43m)\u001b[49m\n",
      "File \u001b[0;32m~/Documents/github/magnimind_hw/magenv/lib/python3.12/site-packages/keras/src/utils/traceback_utils.py:122\u001b[0m, in \u001b[0;36mfilter_traceback.<locals>.error_handler\u001b[0;34m(*args, **kwargs)\u001b[0m\n\u001b[1;32m    119\u001b[0m     filtered_tb \u001b[38;5;241m=\u001b[39m _process_traceback_frames(e\u001b[38;5;241m.\u001b[39m__traceback__)\n\u001b[1;32m    120\u001b[0m     \u001b[38;5;66;03m# To get the full stack trace, call:\u001b[39;00m\n\u001b[1;32m    121\u001b[0m     \u001b[38;5;66;03m# `keras.config.disable_traceback_filtering()`\u001b[39;00m\n\u001b[0;32m--> 122\u001b[0m     \u001b[38;5;28;01mraise\u001b[39;00m e\u001b[38;5;241m.\u001b[39mwith_traceback(filtered_tb) \u001b[38;5;28;01mfrom\u001b[39;00m \u001b[38;5;28;01mNone\u001b[39;00m\n\u001b[1;32m    123\u001b[0m \u001b[38;5;28;01mfinally\u001b[39;00m:\n\u001b[1;32m    124\u001b[0m     \u001b[38;5;28;01mdel\u001b[39;00m filtered_tb\n",
      "File \u001b[0;32m~/Documents/github/magnimind_hw/magenv/lib/python3.12/site-packages/tensorflow/python/eager/execute.py:53\u001b[0m, in \u001b[0;36mquick_execute\u001b[0;34m(op_name, num_outputs, inputs, attrs, ctx, name)\u001b[0m\n\u001b[1;32m     51\u001b[0m \u001b[38;5;28;01mtry\u001b[39;00m:\n\u001b[1;32m     52\u001b[0m   ctx\u001b[38;5;241m.\u001b[39mensure_initialized()\n\u001b[0;32m---> 53\u001b[0m   tensors \u001b[38;5;241m=\u001b[39m pywrap_tfe\u001b[38;5;241m.\u001b[39mTFE_Py_Execute(ctx\u001b[38;5;241m.\u001b[39m_handle, device_name, op_name,\n\u001b[1;32m     54\u001b[0m                                       inputs, attrs, num_outputs)\n\u001b[1;32m     55\u001b[0m \u001b[38;5;28;01mexcept\u001b[39;00m core\u001b[38;5;241m.\u001b[39m_NotOkStatusException \u001b[38;5;28;01mas\u001b[39;00m e:\n\u001b[1;32m     56\u001b[0m   \u001b[38;5;28;01mif\u001b[39;00m name \u001b[38;5;129;01mis\u001b[39;00m \u001b[38;5;129;01mnot\u001b[39;00m \u001b[38;5;28;01mNone\u001b[39;00m:\n",
      "\u001b[0;31mInvalidArgumentError\u001b[0m: Graph execution error:\n\nDetected at node gradient_tape/compile_loss/mean_squared_error/sub/BroadcastGradientArgs defined at (most recent call last):\n  File \"/usr/lib/python3.12/runpy.py\", line 198, in _run_module_as_main\n\n  File \"/usr/lib/python3.12/runpy.py\", line 88, in _run_code\n\n  File \"/home/oem/Documents/github/magnimind_hw/magenv/lib/python3.12/site-packages/ipykernel_launcher.py\", line 18, in <module>\n\n  File \"/home/oem/Documents/github/magnimind_hw/magenv/lib/python3.12/site-packages/traitlets/config/application.py\", line 1075, in launch_instance\n\n  File \"/home/oem/Documents/github/magnimind_hw/magenv/lib/python3.12/site-packages/ipykernel/kernelapp.py\", line 739, in start\n\n  File \"/home/oem/Documents/github/magnimind_hw/magenv/lib/python3.12/site-packages/tornado/platform/asyncio.py\", line 205, in start\n\n  File \"/usr/lib/python3.12/asyncio/base_events.py\", line 641, in run_forever\n\n  File \"/usr/lib/python3.12/asyncio/base_events.py\", line 1987, in _run_once\n\n  File \"/usr/lib/python3.12/asyncio/events.py\", line 88, in _run\n\n  File \"/home/oem/Documents/github/magnimind_hw/magenv/lib/python3.12/site-packages/ipykernel/kernelbase.py\", line 545, in dispatch_queue\n\n  File \"/home/oem/Documents/github/magnimind_hw/magenv/lib/python3.12/site-packages/ipykernel/kernelbase.py\", line 534, in process_one\n\n  File \"/home/oem/Documents/github/magnimind_hw/magenv/lib/python3.12/site-packages/ipykernel/kernelbase.py\", line 437, in dispatch_shell\n\n  File \"/home/oem/Documents/github/magnimind_hw/magenv/lib/python3.12/site-packages/ipykernel/ipkernel.py\", line 362, in execute_request\n\n  File \"/home/oem/Documents/github/magnimind_hw/magenv/lib/python3.12/site-packages/ipykernel/kernelbase.py\", line 778, in execute_request\n\n  File \"/home/oem/Documents/github/magnimind_hw/magenv/lib/python3.12/site-packages/ipykernel/ipkernel.py\", line 449, in do_execute\n\n  File \"/home/oem/Documents/github/magnimind_hw/magenv/lib/python3.12/site-packages/ipykernel/zmqshell.py\", line 549, in run_cell\n\n  File \"/home/oem/Documents/github/magnimind_hw/magenv/lib/python3.12/site-packages/IPython/core/interactiveshell.py\", line 3075, in run_cell\n\n  File \"/home/oem/Documents/github/magnimind_hw/magenv/lib/python3.12/site-packages/IPython/core/interactiveshell.py\", line 3130, in _run_cell\n\n  File \"/home/oem/Documents/github/magnimind_hw/magenv/lib/python3.12/site-packages/IPython/core/async_helpers.py\", line 128, in _pseudo_sync_runner\n\n  File \"/home/oem/Documents/github/magnimind_hw/magenv/lib/python3.12/site-packages/IPython/core/interactiveshell.py\", line 3334, in run_cell_async\n\n  File \"/home/oem/Documents/github/magnimind_hw/magenv/lib/python3.12/site-packages/IPython/core/interactiveshell.py\", line 3517, in run_ast_nodes\n\n  File \"/home/oem/Documents/github/magnimind_hw/magenv/lib/python3.12/site-packages/IPython/core/interactiveshell.py\", line 3577, in run_code\n\n  File \"/tmp/ipykernel_67347/260683867.py\", line 24, in <module>\n\n  File \"/tmp/ipykernel_67347/3095149304.py\", line 37, in train_model\n\n  File \"/home/oem/Documents/github/magnimind_hw/magenv/lib/python3.12/site-packages/keras/src/utils/traceback_utils.py\", line 117, in error_handler\n\n  File \"/home/oem/Documents/github/magnimind_hw/magenv/lib/python3.12/site-packages/keras/src/backend/tensorflow/trainer.py\", line 320, in fit\n\n  File \"/home/oem/Documents/github/magnimind_hw/magenv/lib/python3.12/site-packages/keras/src/backend/tensorflow/trainer.py\", line 121, in one_step_on_iterator\n\n  File \"/home/oem/Documents/github/magnimind_hw/magenv/lib/python3.12/site-packages/keras/src/backend/tensorflow/trainer.py\", line 108, in one_step_on_data\n\n  File \"/home/oem/Documents/github/magnimind_hw/magenv/lib/python3.12/site-packages/keras/src/backend/tensorflow/trainer.py\", line 70, in train_step\n\nIncompatible shapes: [32,15] vs. [32,60,15]\n\t [[{{node gradient_tape/compile_loss/mean_squared_error/sub/BroadcastGradientArgs}}]] [Op:__inference_one_step_on_iterator_5191]"
     ]
    }
   ],
   "source": [
    "# Get data\n",
    "data = get_stock_data(ticker, start_date, end_date)\n",
    "data_values = data.values\n",
    "\n",
    "# Train-Test Split\n",
    "train_size = int(len(data_values) * 0.8)\n",
    "train_data, test_data = data_values[:train_size], data_values[train_size:]\n",
    "\n",
    "# Preprocess data\n",
    "X_train, y_train, scaler = preprocess_data(train_data, look_back, output_steps)\n",
    "X_test, y_test, _ = preprocess_data(test_data, look_back, output_steps)\n",
    "\n",
    "# Reshape data for LSTM\n",
    "X_train = np.reshape(X_train, (X_train.shape[0], X_train.shape[1], 1))\n",
    "X_test = np.reshape(X_test, (X_test.shape[0], X_test.shape[1], 1))\n",
    "\n",
    "print(\"Shape of X_train:\", X_train.shape)  # Should be (samples, look_back, 1)\n",
    "print(\"Shape of y_train:\", y_train.shape)  # Should be (samples, output_steps)\n",
    "\n",
    "# Build the model\n",
    "model = build_lstm_model(look_back, output_steps)\n",
    "\n",
    "# Train the model\n",
    "train_model(model, X_train, y_train, epochs=20, batch_size=32)\n",
    "\n",
    "# Make predictions\n",
    "predicted_stock_price = make_predictions(model, X_test, scaler)\n",
    "\n",
    "# Inverse scale the actual prices for comparison\n",
    "y_test_actual = scaler.inverse_transform(y_test)\n",
    "\n",
    "# Visualize predictions\n",
    "plot_predictions(y_test_actual, predicted_stock_price, \"Stock Price Prediction\")"
   ]
  },
  {
   "cell_type": "markdown",
   "id": "ae65ee73",
   "metadata": {},
   "source": [
    "### Make price predictions"
   ]
  },
  {
   "cell_type": "code",
   "execution_count": null,
   "id": "4630fa1c",
   "metadata": {},
   "outputs": [],
   "source": [
    "# Extend plot_predictions to include future prices\n",
    "def plot_predictions_with_future(real, predicted, future, future_dates, title):\n",
    "    import matplotlib.pyplot as plt\n",
    "\n",
    "    plt.figure(figsize=(12, 6))\n",
    "    \n",
    "    # Plot historical prices\n",
    "    plt.plot(real.index, real, color='blue', label='Real Stock Price')\n",
    "    \n",
    "    # Ensure x-axis matches the predictions' length\n",
    "    predicted_x = real.index[-len(predicted):]\n",
    "    min_length = min(len(predicted_x), len(predicted))\n",
    "    predicted_x = predicted_x[-min_length:]\n",
    "    predicted = predicted[-min_length:]\n",
    "    plt.plot(predicted_x, predicted, color='red', label='Predicted Stock Price (Test)')\n",
    "    \n",
    "    # Plot future prices\n",
    "    plt.plot(future_dates, future, color='green', label='Predicted Future Prices (Next 15 days)', linestyle='--')\n",
    "    \n",
    "    # Format x-axis\n",
    "    plt.title(title)\n",
    "    plt.xlabel('Date')\n",
    "    plt.ylabel('Stock Price')\n",
    "    plt.legend()\n",
    "    plt.tight_layout()\n",
    "    plt.show()\n",
    "\n",
    "\n",
    "# Predict the next 15 days\n",
    "def predict_future_prices(model, recent_data, scaler, prediction_steps):\n",
    "    recent_data_scaled = scaler.transform(recent_data[-look_back:].reshape(-1, 1))\n",
    "    future_predictions = []\n",
    "    input_seq = recent_data_scaled.reshape(1, look_back, 1)  # Correct input shape for LSTM\n",
    "\n",
    "    for _ in range(prediction_steps):\n",
    "        # Predict the next value\n",
    "        prediction = model.predict(input_seq, verbose=0)  # Shape: (1, 1)\n",
    "        future_predictions.append(prediction[0, 0])  # Append the scalar value\n",
    "        \n",
    "        # Update the sequence: Remove the oldest value and append the new prediction\n",
    "        input_seq = np.append(input_seq[:, 1:, :], [[[prediction[0, 0]]]], axis=1)\n",
    "\n",
    "    # Inverse scale the future predictions\n",
    "    future_predictions = scaler.inverse_transform(np.array(future_predictions).reshape(-1, 1)).flatten()\n",
    "    return future_predictions\n",
    "\n",
    "# Predict future prices\n",
    "future_predictions = predict_future_prices(model, data_values, scaler, output_steps)\n",
    "\n",
    "# Generate future dates\n",
    "last_date = data.index[-1]\n",
    "future_dates = pd.date_range(start=last_date + pd.Timedelta(days=1), periods=output_steps, freq='B')\n",
    "\n",
    "# Ensure correct columns from `data`\n",
    "plot_predictions_with_future(\n",
    "    real=data['AAPL'],  # Replace with the correct column\n",
    "    predicted=predicted_stock_price.flatten(),\n",
    "    future=future_predictions,\n",
    "    future_dates=future_dates,\n",
    "    title=\"Stock Price Prediction with Future Overlay\"\n",
    ")\n",
    "\n",
    "\n"
   ]
  },
  {
   "cell_type": "code",
   "execution_count": null,
   "id": "21109b60",
   "metadata": {},
   "outputs": [],
   "source": [
    "future_predictions"
   ]
  },
  {
   "cell_type": "code",
   "execution_count": null,
   "id": "106155ac",
   "metadata": {},
   "outputs": [],
   "source": [
    "future_dates"
   ]
  },
  {
   "cell_type": "code",
   "execution_count": null,
   "id": "ccbee8c4",
   "metadata": {},
   "outputs": [],
   "source": [
    "print(f\"Length of real: {len(data['AAPL'])}\")\n",
    "print(f\"Length of predicted_stock_price: {len(predicted_stock_price.flatten())}\")\n",
    "print(f\"Length of predicted_x: {len(data['AAPL'].index[-len(predicted_stock_price.flatten()):])}\")\n"
   ]
  },
  {
   "cell_type": "code",
   "execution_count": null,
   "id": "01427b8d",
   "metadata": {},
   "outputs": [],
   "source": []
  }
 ],
 "metadata": {
  "kernelspec": {
   "display_name": "Python (magenv)",
   "language": "python",
   "name": "magenv"
  },
  "language_info": {
   "codemirror_mode": {
    "name": "ipython",
    "version": 3
   },
   "file_extension": ".py",
   "mimetype": "text/x-python",
   "name": "python",
   "nbconvert_exporter": "python",
   "pygments_lexer": "ipython3",
   "version": "3.12.3"
  }
 },
 "nbformat": 4,
 "nbformat_minor": 5
}
