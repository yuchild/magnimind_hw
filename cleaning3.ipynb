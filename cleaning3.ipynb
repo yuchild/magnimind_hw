{
 "cells": [
  {
   "cell_type": "markdown",
   "metadata": {},
   "source": [
    "### Columns:\n",
    "\n",
    "**General Columns**\n",
    "* url: url of autos\n",
    "* short_description, description: Description of autos (in English and German) written by users\n",
    "\n",
    "**Categorical Columns**\n",
    "* make_model, make, model: Model of autos. Ex:Audi A1\n",
    "* body_type, body: Body type of autos Example: van, sedans\n",
    "* vat: VAT deductible, price negotiable\n",
    "* registration, first_registration: First registration date and year of autos.\n",
    "* prev_owner, previous_owners: Number of previous owners\n",
    "* type: new or used\n",
    "* next_inspection, inspection_new: information about inspection (inspection date,..)\n",
    "* body_color, body_color_original: Color of auto Ex: Black, red\n",
    "* paint_type: Paint type of auto Ex: Metallic, Uni/basic\n",
    "* upholstery: Upholstery information (texture, color)\n",
    "* gearing_type: Type of gear Ex: automatic, manual\n",
    "* fuel : fuel type Ex: diesel, benzine\n",
    "* co2_emission, emission_class, emission_label: emission information\n",
    "* drive_chain: drive chain Ex: front,rear, 4WD\n",
    "* consumption: consumption of auto in city, country and combination (lt/100 km)\n",
    "* country_version\n",
    "* entertainment_media\n",
    "* safety_security\n",
    "* comfort_convenience\n",
    "* extras\n",
    "\n",
    "**Quantitative Columns**\n",
    "* price: Price of cars\n",
    "* km: km of autos\n",
    "* hp: horsepower of autos (kW)\n",
    "* displacement: displacement of autos (cc)\n",
    "* warranty: warranty period (month)\n",
    "* weight: weight of auto (kg)\n",
    "* nr_of_doors: number of doors\n",
    "* nr_of_seats : number of seats\n",
    "* cylinders: number of cylinders\n",
    "* gears: number of gears\n",
    "\n"
   ]
  },
  {
   "cell_type": "code",
   "execution_count": 2,
   "metadata": {},
   "outputs": [],
   "source": [
    "import matplotlib.pyplot as plt\n",
    "%matplotlib inline\n",
    "import numpy as np\n",
    "import pandas as pd\n",
    "import seaborn as sns\n",
    "import warnings;\n",
    "warnings.filterwarnings(\"ignore\")\n",
    "import re\n",
    "pd.set_option(\"display.max_columns\",None)\n",
    "pd.set_option(\"display.max_rows\",None)"
   ]
  },
  {
   "cell_type": "code",
   "execution_count": null,
   "metadata": {},
   "outputs": [],
   "source": [
    "df_org = pd.read_json('./data/scout_car.json', lines=True)\n",
    "df = df_org.copy()"
   ]
  },
  {
   "cell_type": "code",
   "execution_count": 4,
   "metadata": {},
   "outputs": [
    {
     "data": {
      "text/plain": [
       "Index(['url', 'make_model', 'short_description', 'body_type', 'price', 'vat',\n",
       "       'km', 'registration', 'prev_owner', 'kW', 'hp', 'Type',\n",
       "       'Previous Owners', 'Next Inspection', 'Inspection new', 'Warranty',\n",
       "       'Full Service', 'Non-smoking Vehicle', 'null', 'Make', 'Model',\n",
       "       'Offer Number', 'First Registration', 'Body Color', 'Paint Type',\n",
       "       'Body Color Original', 'Upholstery', 'Body', 'Nr. of Doors',\n",
       "       'Nr. of Seats', 'Model Code', 'Gearing Type', 'Displacement',\n",
       "       'Cylinders', 'Weight', 'Drive chain', 'Fuel', 'Consumption',\n",
       "       'CO2 Emission', 'Emission Class', '\\nComfort & Convenience\\n',\n",
       "       '\\nEntertainment & Media\\n', '\\nExtras\\n', '\\nSafety & Security\\n',\n",
       "       'description', 'Emission Label', 'Gears', 'Country version',\n",
       "       'Electricity consumption', 'Last Service Date', 'Other Fuel Types',\n",
       "       'Availability', 'Last Timing Belt Service Date', 'Available from'],\n",
       "      dtype='object')"
      ]
     },
     "execution_count": 4,
     "metadata": {},
     "output_type": "execute_result"
    }
   ],
   "source": [
    "df.columns"
   ]
  },
  {
   "cell_type": "markdown",
   "metadata": {},
   "source": [
    "### URL"
   ]
  },
  {
   "cell_type": "code",
   "execution_count": 5,
   "metadata": {},
   "outputs": [],
   "source": [
    "df.drop(\"url\",axis=1,inplace=True)"
   ]
  },
  {
   "cell_type": "markdown",
   "metadata": {},
   "source": [
    "### Make_Model"
   ]
  },
  {
   "cell_type": "code",
   "execution_count": 6,
   "metadata": {},
   "outputs": [
    {
     "data": {
      "text/plain": [
       "Audi A3           3097\n",
       "Audi A1           2614\n",
       "Opel Insignia     2598\n",
       "Opel Astra        2526\n",
       "Opel Corsa        2219\n",
       "Renault Clio      1839\n",
       "Renault Espace     991\n",
       "Renault Duster      34\n",
       "Audi A2              1\n",
       "Name: make_model, dtype: int64"
      ]
     },
     "execution_count": 6,
     "metadata": {},
     "output_type": "execute_result"
    }
   ],
   "source": [
    "df[\"make_model\"].value_counts(dropna=False)"
   ]
  },
  {
   "cell_type": "code",
   "execution_count": 7,
   "metadata": {},
   "outputs": [],
   "source": [
    "df.drop([\"Make\",\"Model\"],axis=1,inplace=True)"
   ]
  },
  {
   "cell_type": "markdown",
   "metadata": {},
   "source": [
    "* Since \"Make_Model\" and \"Model-Make Columns\" are equal, these columns were dropped."
   ]
  },
  {
   "cell_type": "markdown",
   "metadata": {},
   "source": [
    "### Short description "
   ]
  },
  {
   "cell_type": "code",
   "execution_count": 8,
   "metadata": {},
   "outputs": [],
   "source": [
    "sd_disp = df['short_description'].str.findall('\\d\\.\\d').str[0].astype(float)\n",
    "df['sd_disp'] = sd_disp*1000\n",
    "df['sd_disp'] = df['sd_disp'].replace(1600,1598).replace(1800,1798)"
   ]
  },
  {
   "cell_type": "code",
   "execution_count": 9,
   "metadata": {},
   "outputs": [],
   "source": [
    "df.loc[df['sd_disp']<800,'sd_disp'] = np.nan"
   ]
  },
  {
   "cell_type": "markdown",
   "metadata": {},
   "source": [
    "* The displacement values in short description column was extracted."
   ]
  },
  {
   "cell_type": "markdown",
   "metadata": {},
   "source": [
    "### Displacement"
   ]
  },
  {
   "cell_type": "code",
   "execution_count": 10,
   "metadata": {},
   "outputs": [],
   "source": [
    "df['Displacement']=df['Displacement'].str[0].str.replace(\",\",\"\").str.findall('\\d+').str[0].astype(\"float\")"
   ]
  },
  {
   "cell_type": "code",
   "execution_count": 11,
   "metadata": {},
   "outputs": [],
   "source": [
    "#df[\"Displacement\"]=df[\"Displacement\"].str[0].str.replace(\"cc\",\"\").str.replace(\",\",\"\").str.strip()\n",
    "#df[\"Displacement\"]=pd.to_numeric(df[\"Displacement\"])"
   ]
  },
  {
   "cell_type": "code",
   "execution_count": 12,
   "metadata": {},
   "outputs": [],
   "source": [
    "def disp(d1,d2):\n",
    "    if (d1>4000) | (d1<700) | np.isnan(d1):\n",
    "        if np.isnan(d2):\n",
    "            return d1\n",
    "        else:\n",
    "            return d2\n",
    "    else:\n",
    "        return d1"
   ]
  },
  {
   "cell_type": "code",
   "execution_count": 13,
   "metadata": {},
   "outputs": [],
   "source": [
    "df['Displacement'] = df.apply(lambda x: disp(x['Displacement'],x['sd_disp']),axis=1)"
   ]
  },
  {
   "cell_type": "code",
   "execution_count": 14,
   "metadata": {},
   "outputs": [
    {
     "data": {
      "text/plain": [
       "180"
      ]
     },
     "execution_count": 14,
     "metadata": {},
     "output_type": "execute_result"
    }
   ],
   "source": [
    "df['Displacement'].isnull().sum()"
   ]
  },
  {
   "cell_type": "code",
   "execution_count": 15,
   "metadata": {},
   "outputs": [],
   "source": [
    "df.drop([\"short_description\",\"sd_disp\"],axis=1,inplace=True)"
   ]
  },
  {
   "cell_type": "markdown",
   "metadata": {},
   "source": [
    "* Displacement column was cleaned and compared and matched with sd_disp (short description displacement) column. Some null values of displacement column were filled in this way."
   ]
  },
  {
   "cell_type": "markdown",
   "metadata": {},
   "source": [
    "### Body Type"
   ]
  },
  {
   "cell_type": "code",
   "execution_count": 16,
   "metadata": {},
   "outputs": [
    {
     "data": {
      "text/plain": [
       "Sedans           7903\n",
       "Station wagon    3553\n",
       "Compact          3153\n",
       "Van               783\n",
       "Other             290\n",
       "Transporter        88\n",
       "NaN                60\n",
       "Off-Road           56\n",
       "Coupe              25\n",
       "Convertible         8\n",
       "Name: body_type, dtype: int64"
      ]
     },
     "execution_count": 16,
     "metadata": {},
     "output_type": "execute_result"
    }
   ],
   "source": [
    "df[\"body_type\"].value_counts(dropna=False)"
   ]
  },
  {
   "cell_type": "code",
   "execution_count": 17,
   "metadata": {},
   "outputs": [
    {
     "data": {
      "text/plain": [
       "Sedans           7903\n",
       "Station wagon    3553\n",
       "Compact          3153\n",
       "Van               783\n",
       "Other             290\n",
       "Transporter        88\n",
       "NaN                60\n",
       "Off-Road           56\n",
       "Coupe              25\n",
       "Convertible         8\n",
       "Name: Body, dtype: int64"
      ]
     },
     "execution_count": 17,
     "metadata": {},
     "output_type": "execute_result"
    }
   ],
   "source": [
    "df.Body.str[1].str.strip().value_counts(dropna=False)"
   ]
  },
  {
   "cell_type": "code",
   "execution_count": 18,
   "metadata": {},
   "outputs": [],
   "source": [
    "df.drop(\"Body\",axis=1,inplace=True)"
   ]
  },
  {
   "cell_type": "markdown",
   "metadata": {},
   "source": [
    "* Displacement column was cleaned"
   ]
  },
  {
   "cell_type": "markdown",
   "metadata": {},
   "source": [
    "### km"
   ]
  },
  {
   "cell_type": "code",
   "execution_count": 19,
   "metadata": {},
   "outputs": [],
   "source": [
    "df['km']=df['km'].str.replace(',' , '').str.findall('\\d+').str[0].astype(float)"
   ]
  },
  {
   "cell_type": "markdown",
   "metadata": {},
   "source": [
    "* km column was cleaned and converted to float."
   ]
  },
  {
   "cell_type": "markdown",
   "metadata": {},
   "source": [
    "### kW-NULL"
   ]
  },
  {
   "cell_type": "code",
   "execution_count": 20,
   "metadata": {},
   "outputs": [],
   "source": [
    "df.drop([\"kW\",\"null\"],axis=1,inplace=True)"
   ]
  },
  {
   "cell_type": "markdown",
   "metadata": {},
   "source": [
    "* Since there is no meaningful data in kW and null columns they were dropped."
   ]
  },
  {
   "cell_type": "markdown",
   "metadata": {},
   "source": [
    "### registration- First Registration"
   ]
  },
  {
   "cell_type": "code",
   "execution_count": 21,
   "metadata": {},
   "outputs": [],
   "source": [
    "df[\"registration\"]=df[\"registration\"].replace(\"-/-\",np.NaN)"
   ]
  },
  {
   "cell_type": "code",
   "execution_count": 22,
   "metadata": {},
   "outputs": [],
   "source": [
    "df[\"registration\"]=pd.to_datetime(df[\"registration\"]).dt.year"
   ]
  },
  {
   "cell_type": "code",
   "execution_count": 23,
   "metadata": {},
   "outputs": [],
   "source": [
    "df.drop(\"First Registration\",axis=1,inplace=True)"
   ]
  },
  {
   "cell_type": "markdown",
   "metadata": {},
   "source": [
    "* Year parts of registration column were extracted and these values were compared with 'First registration' column. Since all the values were exactly matched, 'First registration' column was dropped."
   ]
  },
  {
   "cell_type": "markdown",
   "metadata": {},
   "source": [
    "### Prev_owner-Previous Owners"
   ]
  },
  {
   "cell_type": "code",
   "execution_count": 24,
   "metadata": {},
   "outputs": [],
   "source": [
    "df['prev_owner']=df['prev_owner'].str.findall(\"\\d+\").str[0].astype(float)"
   ]
  },
  {
   "cell_type": "code",
   "execution_count": 25,
   "metadata": {},
   "outputs": [],
   "source": [
    "df['Previous Owners'] = df['Previous Owners'].astype('str').str.findall('\\d+').str[0].astype(float)"
   ]
  },
  {
   "cell_type": "code",
   "execution_count": 26,
   "metadata": {},
   "outputs": [
    {
     "data": {
      "text/plain": [
       "1.0    8294\n",
       "2.0     778\n",
       "3.0      17\n",
       "4.0       2\n",
       "Name: prev_owner, dtype: int64"
      ]
     },
     "execution_count": 26,
     "metadata": {},
     "output_type": "execute_result"
    }
   ],
   "source": [
    "df[\"prev_owner\"].value_counts()"
   ]
  },
  {
   "cell_type": "code",
   "execution_count": 27,
   "metadata": {},
   "outputs": [],
   "source": [
    "def prev_owner_combine(p1,p2):\n",
    "    if p1 == p2:\n",
    "        return p1\n",
    "    elif np.isnan(p1) :\n",
    "        if np.isnan(p2):\n",
    "            return np.nan\n",
    "        else:\n",
    "            return p2\n",
    "    elif np.isnan(p2):\n",
    "        if np.isnan(p1):\n",
    "            return np.nan\n",
    "        else:\n",
    "            return p1\n",
    "    else:\n",
    "        return 'conflict'"
   ]
  },
  {
   "cell_type": "code",
   "execution_count": 28,
   "metadata": {},
   "outputs": [],
   "source": [
    "df[\"prev_owner\"]=df.apply(lambda x: prev_owner_combine(x['prev_owner'],x['Previous Owners']), axis=1).value_counts(dropna=False)"
   ]
  },
  {
   "cell_type": "code",
   "execution_count": 29,
   "metadata": {},
   "outputs": [],
   "source": [
    "df.drop('Previous Owners',axis=1,inplace=True)"
   ]
  },
  {
   "cell_type": "markdown",
   "metadata": {},
   "source": [
    "* prev_owner and Previous Owners columns were combined and Previous Owners column was dropped."
   ]
  },
  {
   "cell_type": "markdown",
   "metadata": {},
   "source": [
    "### hp"
   ]
  },
  {
   "cell_type": "code",
   "execution_count": 30,
   "metadata": {},
   "outputs": [],
   "source": [
    "df['hp']=df['hp'].map(lambda x: x.rstrip(' kW')).replace(\"-\",np.NaN).astype(\"float\")"
   ]
  },
  {
   "cell_type": "markdown",
   "metadata": {},
   "source": [
    "* hp column was cleaned and converted to float."
   ]
  },
  {
   "cell_type": "markdown",
   "metadata": {},
   "source": [
    "### Type"
   ]
  },
  {
   "cell_type": "code",
   "execution_count": 31,
   "metadata": {},
   "outputs": [],
   "source": [
    "df.Type=df.Type.str[1].str.strip()"
   ]
  },
  {
   "cell_type": "markdown",
   "metadata": {},
   "source": [
    "* This column consists of the information about if the car is new, used, pre-registered, demonstration or employee's car. This part cleaned.\n",
    "* This column also includes data about fuel_type. This data was compared with fuel column. Since they exactly match, fuel datas of type column has not been taken into account."
   ]
  },
  {
   "cell_type": "markdown",
   "metadata": {},
   "source": [
    "### Next Inspection"
   ]
  },
  {
   "cell_type": "code",
   "execution_count": 32,
   "metadata": {},
   "outputs": [],
   "source": [
    "listINS=[]\n",
    "for i in df[\"Next Inspection\"]:\n",
    "    if type(i)==float:\n",
    "        listINS.append(i)\n",
    "    elif type(i)==list:\n",
    "        listINS.append(i[0].strip())\n",
    "    else:\n",
    "        listINS.append(i.replace(\"\\n\",\"\"))"
   ]
  },
  {
   "cell_type": "code",
   "execution_count": 33,
   "metadata": {},
   "outputs": [],
   "source": [
    "df[\"Next Inspection\"]=listINS"
   ]
  },
  {
   "cell_type": "code",
   "execution_count": 34,
   "metadata": {},
   "outputs": [],
   "source": [
    "df[\"Next Inspection\"]=pd.to_datetime(df[\"Next Inspection\"])"
   ]
  },
  {
   "cell_type": "markdown",
   "metadata": {},
   "source": [
    "### Inspection new"
   ]
  },
  {
   "cell_type": "code",
   "execution_count": 35,
   "metadata": {},
   "outputs": [],
   "source": [
    "def inspection_new(a):\n",
    "    if type(a)== list:\n",
    "        return a[0].replace('\\n', '')\n",
    "    elif type(a)== str:\n",
    "        return a.replace('\\n', '')\n",
    "    else:\n",
    "        return a"
   ]
  },
  {
   "cell_type": "code",
   "execution_count": 36,
   "metadata": {},
   "outputs": [],
   "source": [
    "df['Inspection new'] = df['Inspection new'].apply(inspection_new)"
   ]
  },
  {
   "cell_type": "markdown",
   "metadata": {},
   "source": [
    "* Other parts of this column shows fuel consumption. Since they were the same data in the following consumption column, this part of data was not extracted."
   ]
  },
  {
   "cell_type": "markdown",
   "metadata": {},
   "source": [
    "### Warranty"
   ]
  },
  {
   "cell_type": "code",
   "execution_count": 37,
   "metadata": {},
   "outputs": [],
   "source": [
    "def clean_alt_list(a):\n",
    "    if type(a) == list:\n",
    "        b = re.findall(r'\\d+', a[0])\n",
    "        if len(b)== 0:\n",
    "            return np.nan\n",
    "        else:\n",
    "            return b[0]\n",
    "    elif type(a) ==str:\n",
    "        b = re.findall(r'\\d+', a)\n",
    "        if len(b)== 0:\n",
    "            return np.nan\n",
    "        else:\n",
    "            return b[0]\n",
    "    else:\n",
    "        return a"
   ]
  },
  {
   "cell_type": "code",
   "execution_count": 38,
   "metadata": {},
   "outputs": [],
   "source": [
    "df['Warranty'] = df['Warranty'].apply(clean_alt_list)\n",
    "df = df.rename({'Warranty': 'Warranty(months)'}, axis=1)"
   ]
  },
  {
   "cell_type": "markdown",
   "metadata": {},
   "source": [
    "* Warranty column was cleaned. In warranty column other parts of column are meaningless."
   ]
  },
  {
   "cell_type": "markdown",
   "metadata": {},
   "source": [
    "### Full Service, Non-smoking Vehicle, Offer Number "
   ]
  },
  {
   "cell_type": "code",
   "execution_count": 39,
   "metadata": {},
   "outputs": [],
   "source": [
    "df.drop('Full Service',axis=1,inplace=True)"
   ]
  },
  {
   "cell_type": "code",
   "execution_count": 40,
   "metadata": {},
   "outputs": [],
   "source": [
    "df.drop('Non-smoking Vehicle',axis=1,inplace=True)"
   ]
  },
  {
   "cell_type": "code",
   "execution_count": 41,
   "metadata": {},
   "outputs": [],
   "source": [
    "df.drop('Offer Number',axis=1,inplace=True)"
   ]
  },
  {
   "cell_type": "markdown",
   "metadata": {},
   "source": [
    "* Since there is no meaningful data in these columns, they were dropped."
   ]
  },
  {
   "cell_type": "markdown",
   "metadata": {},
   "source": [
    "### Body Color -Body Color Original"
   ]
  },
  {
   "cell_type": "code",
   "execution_count": 42,
   "metadata": {},
   "outputs": [],
   "source": [
    "df[\"Body Color\"]=df[\"Body Color\"].str[1]"
   ]
  },
  {
   "cell_type": "code",
   "execution_count": 43,
   "metadata": {},
   "outputs": [],
   "source": [
    "df[\"Body Color Original\"]=df[\"Body Color Original\"].str[0]"
   ]
  },
  {
   "cell_type": "code",
   "execution_count": 44,
   "metadata": {},
   "outputs": [],
   "source": [
    "df[\"Body Color Original\"]=df[\"Body Color Original\"].str.strip()"
   ]
  },
  {
   "cell_type": "markdown",
   "metadata": {},
   "source": [
    "### Nr. of Doors -Nr. of Seats -Displacement - Gearing Type-Model Code-Drive chain-Paint Type-Emission Class-Cylinders\n"
   ]
  },
  {
   "cell_type": "code",
   "execution_count": 45,
   "metadata": {},
   "outputs": [],
   "source": [
    "df[\"Paint Type\"]=df[\"Paint Type\"].str[0].str.strip()"
   ]
  },
  {
   "cell_type": "code",
   "execution_count": 46,
   "metadata": {},
   "outputs": [],
   "source": [
    "df[\"Nr. of Seats\"]=df[\"Nr. of Seats\"].str[0].str.strip()\n",
    "df[\"Nr. of Seats\"]=pd.to_numeric(df[\"Nr. of Seats\"])"
   ]
  },
  {
   "cell_type": "code",
   "execution_count": 47,
   "metadata": {},
   "outputs": [],
   "source": [
    "df[\"Gearing Type\"]=df[\"Gearing Type\"].str[1].str.strip()"
   ]
  },
  {
   "cell_type": "code",
   "execution_count": 48,
   "metadata": {},
   "outputs": [],
   "source": [
    "df[\"Nr. of Doors\"]=df[\"Nr. of Doors\"].str[0].str.strip()\n",
    "df[\"Nr. of Doors\"]=pd.to_numeric(df[\"Nr. of Doors\"])"
   ]
  },
  {
   "cell_type": "code",
   "execution_count": 49,
   "metadata": {},
   "outputs": [],
   "source": [
    "df[\"Model Code\"]=df[\"Model Code\"].str[0].str.strip()"
   ]
  },
  {
   "cell_type": "code",
   "execution_count": 50,
   "metadata": {},
   "outputs": [],
   "source": [
    "df[\"Drive chain\"]=df[\"Drive chain\"].str[0].str.strip()"
   ]
  },
  {
   "cell_type": "code",
   "execution_count": 51,
   "metadata": {},
   "outputs": [],
   "source": [
    "df[\"Cylinders\"]=df[\"Cylinders\"].str[0].str.strip()"
   ]
  },
  {
   "cell_type": "code",
   "execution_count": 52,
   "metadata": {},
   "outputs": [],
   "source": [
    "df[\"Cylinders\"]=pd.to_numeric(df[\"Cylinders\"])"
   ]
  },
  {
   "cell_type": "code",
   "execution_count": 53,
   "metadata": {},
   "outputs": [],
   "source": [
    "df['Weight'] = df['Weight'].str[0].str.replace(',','').str.findall('\\d+').str[0].astype('float')"
   ]
  },
  {
   "cell_type": "markdown",
   "metadata": {},
   "source": [
    "### Upholstery"
   ]
  },
  {
   "cell_type": "code",
   "execution_count": 54,
   "metadata": {},
   "outputs": [],
   "source": [
    "df['upholstery_material']=df['Upholstery'].str[0].str.replace('\\n','').str.split(', ').str[0]"
   ]
  },
  {
   "cell_type": "code",
   "execution_count": 55,
   "metadata": {},
   "outputs": [],
   "source": [
    "list_color = ['Black','Grey','Brown','Beige', 'Blue', 'White']\n",
    "for i in list_color:\n",
    "    df['upholstery_material'] = df['upholstery_material'].replace(i,np.nan)"
   ]
  },
  {
   "cell_type": "code",
   "execution_count": 56,
   "metadata": {},
   "outputs": [],
   "source": [
    "df['upholstery_color'] = df['Upholstery'].str[0].str.replace('\\n','').str.replace(', ','')\n",
    "\n",
    "list_uph_mat = ['Cloth', 'Part leather', 'Full leather', 'Other', 'Velour', 'alcantara']\n",
    "for i in list_uph_mat:\n",
    "    df['upholstery_color'] = df['upholstery_color'].str.replace(i,'')\n",
    "df['upholstery_color'] = df['upholstery_color'].replace('',np.nan)"
   ]
  },
  {
   "cell_type": "markdown",
   "metadata": {},
   "source": [
    "### Fuel"
   ]
  },
  {
   "cell_type": "code",
   "execution_count": 57,
   "metadata": {},
   "outputs": [],
   "source": [
    "df[\"Fuel\"]=df[\"Fuel\"].str[1]"
   ]
  },
  {
   "cell_type": "code",
   "execution_count": 58,
   "metadata": {},
   "outputs": [],
   "source": [
    "def func2(x):\n",
    "    if 'Diesel' in x:\n",
    "        return 'Diesel'\n",
    "    elif 'Super' in x:\n",
    "        return 'Benzine'\n",
    "    elif 'Gasoline' in x:\n",
    "        return 'Benzine'\n",
    "    elif 'Benzine' in x:\n",
    "        return 'Benzine'\n",
    "    else:\n",
    "        return x"
   ]
  },
  {
   "cell_type": "code",
   "execution_count": 59,
   "metadata": {},
   "outputs": [],
   "source": [
    "df[\"Fuel\"]=df[\"Fuel\"].apply(func2)"
   ]
  },
  {
   "cell_type": "code",
   "execution_count": 60,
   "metadata": {},
   "outputs": [],
   "source": [
    "df['Fuel'].replace(['CNG','LPG', 'Liquid petroleum gas (LPG)','CNG (Particulate Filter)', 'Domestic gas H','Biogas'], 'Gas',inplace = True)"
   ]
  },
  {
   "cell_type": "code",
   "execution_count": 61,
   "metadata": {},
   "outputs": [],
   "source": [
    "df['Fuel'].replace(['Others (Particulate Filter)','Others','Electric'], 'Others',inplace = True)"
   ]
  },
  {
   "cell_type": "markdown",
   "metadata": {},
   "source": [
    "### Consumption"
   ]
  },
  {
   "cell_type": "code",
   "execution_count": 62,
   "metadata": {},
   "outputs": [],
   "source": [
    "def consume_combined(a):\n",
    "    if type(a) == list:\n",
    "        if len(a) >3:\n",
    "            for i in a:\n",
    "                if 'comb' in i:\n",
    "                    return i\n",
    "        else:\n",
    "            return a[0]            \n",
    "    \n",
    "    else:\n",
    "        return a\n",
    "    \n",
    "df['Consumption_combined'] = df['Consumption'].apply(consume_combined)"
   ]
  },
  {
   "cell_type": "code",
   "execution_count": 63,
   "metadata": {},
   "outputs": [],
   "source": [
    "def cleaning_consumption(a):\n",
    "    if type(a) == list:\n",
    "        if len(a) > 0:\n",
    "            b = re.findall(\"\\d\\.?\\d?\", a[0])\n",
    "            return b[0]\n",
    "        else:\n",
    "            return np.nan\n",
    "    elif type(a) == str:\n",
    "        b = re.findall(\"\\d\\.?\\d?\",a)\n",
    "        return b[0]        \n",
    "    else:\n",
    "        return a"
   ]
  },
  {
   "cell_type": "code",
   "execution_count": 64,
   "metadata": {},
   "outputs": [],
   "source": [
    "def consume_city(a):\n",
    "    if type(a) == list:\n",
    "        if len(a) >3:\n",
    "            for i in a:\n",
    "                if 'city' in i:\n",
    "                    return i\n",
    "        else:\n",
    "            return a[1]           \n",
    "    \n",
    "    else:\n",
    "        return a\n",
    "    \n",
    "df['Consumption_city'] = df['Consumption'].apply(consume_city)"
   ]
  },
  {
   "cell_type": "code",
   "execution_count": 65,
   "metadata": {},
   "outputs": [],
   "source": [
    "def consume_country(a):\n",
    "    if type(a)== list:\n",
    "        if len(a) >3:\n",
    "            for i in a:\n",
    "                if 'country' in i:\n",
    "                    return i\n",
    "        else:\n",
    "            return a[2]            \n",
    "    \n",
    "    else:\n",
    "        return a\n",
    "    \n",
    "df['Consumption_country'] = df['Consumption'].apply(consume_country)"
   ]
  },
  {
   "cell_type": "code",
   "execution_count": 66,
   "metadata": {},
   "outputs": [],
   "source": [
    "\n",
    "df['Consumption_combined'] = df['Consumption_combined'].apply(cleaning_consumption).astype('float')\n",
    "df['Consumption_city'] = df['Consumption_city'].apply(cleaning_consumption).astype('float')\n",
    "df['Consumption_country'] = df['Consumption_country'].apply(cleaning_consumption).astype('float')\n",
    "\n",
    "df.drop(\"Consumption\",axis=1,inplace=True)"
   ]
  },
  {
   "cell_type": "markdown",
   "metadata": {},
   "source": [
    "### CO2 Emission"
   ]
  },
  {
   "cell_type": "code",
   "execution_count": 67,
   "metadata": {},
   "outputs": [],
   "source": [
    "df['CO2 Emission'] = df['CO2 Emission'].str[0].str.findall('\\d+').str[0].astype('float')"
   ]
  },
  {
   "cell_type": "code",
   "execution_count": 68,
   "metadata": {},
   "outputs": [],
   "source": [
    "df.rename(columns={'CO2 Emission' : 'CO2 Emission(g CO2/km)'}, inplace = True)"
   ]
  },
  {
   "cell_type": "markdown",
   "metadata": {},
   "source": [
    "### Emission Class "
   ]
  },
  {
   "cell_type": "code",
   "execution_count": 69,
   "metadata": {},
   "outputs": [],
   "source": [
    "df[\"Emission Class\"]=df[\"Emission Class\"].str[0].str.replace(\"\\n\",\"\")"
   ]
  },
  {
   "cell_type": "code",
   "execution_count": 70,
   "metadata": {},
   "outputs": [],
   "source": [
    "df['Emission Class'].replace(['Euro 6','Euro 6d-TEMP','Euro 6d', 'Euro 6c'], 'Euro 6', inplace = True)"
   ]
  },
  {
   "cell_type": "code",
   "execution_count": 71,
   "metadata": {},
   "outputs": [
    {
     "data": {
      "text/plain": [
       "Euro 6    12173\n",
       "NaN        3628\n",
       "Euro 5       78\n",
       "Euro 4       40\n",
       "Name: Emission Class, dtype: int64"
      ]
     },
     "execution_count": 71,
     "metadata": {},
     "output_type": "execute_result"
    }
   ],
   "source": [
    "df[\"Emission Class\"].value_counts(dropna=False)"
   ]
  },
  {
   "cell_type": "markdown",
   "metadata": {},
   "source": [
    "### Emission Label, description, \"Last Timing Belt Service Date\",\"Electricity consumption\", \"Available from\", \"Availability\", \"Other Fuel Types\", \"Last Service Date\" columns"
   ]
  },
  {
   "cell_type": "code",
   "execution_count": 72,
   "metadata": {},
   "outputs": [],
   "source": [
    "df.drop(\"Emission Label\",axis=1,inplace=True)"
   ]
  },
  {
   "cell_type": "code",
   "execution_count": 73,
   "metadata": {},
   "outputs": [],
   "source": [
    "df.drop(\"description\",axis=1,inplace=True)"
   ]
  },
  {
   "cell_type": "code",
   "execution_count": 74,
   "metadata": {},
   "outputs": [],
   "source": [
    "df.drop(\"Last Timing Belt Service Date\",axis=1,inplace=True)"
   ]
  },
  {
   "cell_type": "code",
   "execution_count": 75,
   "metadata": {},
   "outputs": [],
   "source": [
    "df.drop(\"Electricity consumption\",axis=1,inplace=True)"
   ]
  },
  {
   "cell_type": "code",
   "execution_count": 76,
   "metadata": {},
   "outputs": [],
   "source": [
    "df.drop(\"Available from\",axis=1,inplace=True)"
   ]
  },
  {
   "cell_type": "code",
   "execution_count": 77,
   "metadata": {},
   "outputs": [],
   "source": [
    "df.drop(\"Availability\",axis=1,inplace=True)"
   ]
  },
  {
   "cell_type": "code",
   "execution_count": 78,
   "metadata": {},
   "outputs": [],
   "source": [
    "df.drop(\"Other Fuel Types\",axis=1,inplace=True)"
   ]
  },
  {
   "cell_type": "code",
   "execution_count": 79,
   "metadata": {},
   "outputs": [],
   "source": [
    "df.drop(\"Last Service Date\",axis=1,inplace=True)"
   ]
  },
  {
   "cell_type": "markdown",
   "metadata": {},
   "source": [
    "* Since there was no meaningful data in these columns, they were dropped. "
   ]
  },
  {
   "cell_type": "markdown",
   "metadata": {},
   "source": [
    "## Gears column"
   ]
  },
  {
   "cell_type": "code",
   "execution_count": 81,
   "metadata": {},
   "outputs": [],
   "source": [
    "df[\"Gears\"]=df[\"Gears\"].str[0].str.replace(\"\\n\",\"\")#.value_counts(dropna=False)"
   ]
  },
  {
   "cell_type": "code",
   "execution_count": 82,
   "metadata": {},
   "outputs": [],
   "source": [
    "df[\"Gears\"]=pd.to_numeric(df[\"Gears\"])"
   ]
  },
  {
   "cell_type": "code",
   "execution_count": 83,
   "metadata": {},
   "outputs": [],
   "source": [
    "df[df[\"Gears\"]==50.0].Gears=5.0"
   ]
  },
  {
   "cell_type": "markdown",
   "metadata": {},
   "source": [
    "## Country version column"
   ]
  },
  {
   "cell_type": "code",
   "execution_count": 82,
   "metadata": {},
   "outputs": [],
   "source": [
    "df[\"Country version\"]=df[\"Country version\"].str[0].str.replace(\"\\n\",\"\")"
   ]
  },
  {
   "cell_type": "markdown",
   "metadata": {},
   "source": [
    "## Clean data was saved to a csv file called \"auto_scout_clean.csv\""
   ]
  },
  {
   "cell_type": "code",
   "execution_count": 83,
   "metadata": {},
   "outputs": [],
   "source": [
    "df.to_csv(\"cleaned_scout_car.csv\", index=False)"
   ]
  }
 ],
 "metadata": {
  "kernelspec": {
   "display_name": "Python 3 (ipykernel)",
   "language": "python",
   "name": "python3"
  },
  "language_info": {
   "codemirror_mode": {
    "name": "ipython",
    "version": 3
   },
   "file_extension": ".py",
   "mimetype": "text/x-python",
   "name": "python",
   "nbconvert_exporter": "python",
   "pygments_lexer": "ipython3",
   "version": "3.8.10"
  }
 },
 "nbformat": 4,
 "nbformat_minor": 4
}
