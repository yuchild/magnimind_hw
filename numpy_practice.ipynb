{
 "cells": [
  {
   "cell_type": "code",
   "execution_count": 1,
   "id": "7586a5a6",
   "metadata": {},
   "outputs": [],
   "source": [
    "import numpy as np"
   ]
  },
  {
   "cell_type": "code",
   "execution_count": 2,
   "id": "82cb4ded",
   "metadata": {},
   "outputs": [
    {
     "data": {
      "text/plain": [
       "array([('1970/01/06 05:35:51.80',  -9.628 , 151.458 ,   8.  , 6.2, 'Ms', 85, -1, -1, 0.  , 'NEI', 1970010640),\n",
       "       ('1970/01/08 17:12:39.10', -34.741 , 178.568 , 179.  , 6.1, 'Mb', 59, -1, -1, 0.  , 'NEI', 1970010840),\n",
       "       ('1970/01/10 12:07:08.60',   6.825 , 126.737 ,  73.  , 6.1, 'Mb', 91, -1, -1, 0.  , 'NEI', 1970011040),\n",
       "       ...,\n",
       "       ('2013/12/17 23:38:08.10',  20.7635, 146.7599,  16.06, 6.2, 'Mw', -1, 14,  4, 0.74, 'us', 2013121720),\n",
       "       ('2014/01/01 16:03:28.89', -13.8779, 167.2434, 187.  , 6.5, 'Mw', -1, 14,  4, 0.67, 'us', 2014010120),\n",
       "       ('2014/01/13 04:01:04.69',  19.0014, -66.8478,  28.  , 6.4, 'Mw', -1, 21,  1, 1.42, 'us', 2014011320)],\n",
       "      dtype=[('19700104_17004020', '<U22'), ('24138999999999900', '<f8'), ('102503000000000000', '<f8'), ('3100', '<f8'), ('750', '<f8'), ('Ms', '<U3'), ('90', '<i8'), ('f0', '<i8'), ('f1', '<i8'), ('0000000000000000', '<f8'), ('NEI', '<U3'), ('1970010440', '<i8')])"
      ]
     },
     "execution_count": 2,
     "metadata": {},
     "output_type": "execute_result"
    }
   ],
   "source": [
    "earthquakes_csv_file_path = './data/earthquakes1970-2014.csv'\n",
    "data = np.genfromtxt(earthquakes_csv_file_path, delimiter=',', dtype=None, names=True, skip_header=1, encoding='utf-8')\n",
    "data"
   ]
  },
  {
   "cell_type": "code",
   "execution_count": 7,
   "id": "37282495",
   "metadata": {},
   "outputs": [
    {
     "name": "stdout",
     "output_type": "stream",
     "text": [
      "[['1970/01/06 05:35:51.80' '-9.628' '151.458' ... '0.0' 'NEI'\n",
      "  '1970010640']\n",
      " ['1970/01/08 17:12:39.10' '-34.741' '178.568' ... '0.0' 'NEI'\n",
      "  '1970010840']\n",
      " ['1970/01/10 12:07:08.60' '6.825' '126.736999999999' ... '0.0' 'NEI'\n",
      "  '1970011040']\n",
      " ...\n",
      " ['2013/12/17 23:38:08.10' '20.7635' '146.759899999999' ... '0.74' 'us'\n",
      "  '2013121720']\n",
      " ['2014/01/01 16:03:28.89' '-13.8779' '167.2434' ... '0.67' 'us'\n",
      "  '2014010120']\n",
      " ['2014/01/13 04:01:04.69' '19.0014' '-66.8478' ... '1.42' 'us'\n",
      "  '2014011320']]\n",
      "(5303, 12)\n"
     ]
    }
   ],
   "source": [
    "# Extract the fields and stack them into a 2D array\n",
    "data_2d = np.column_stack([data[field] for field in data.dtype.names])\n",
    "\n",
    "print(data_2d)\n",
    "print(data_2d.shape)  # Should be (number_of_rows, 12)"
   ]
  },
  {
   "cell_type": "code",
   "execution_count": 5,
   "id": "718c6018",
   "metadata": {},
   "outputs": [
    {
     "name": "stdout",
     "output_type": "stream",
     "text": [
      "array shape: (5303,)\n"
     ]
    },
    {
     "data": {
      "text/plain": [
       "'1970/01/06 05:35:51.80'"
      ]
     },
     "execution_count": 5,
     "metadata": {},
     "output_type": "execute_result"
    }
   ],
   "source": [
    "print(f'array shape: {data.shape}')\n",
    "data[0][0]"
   ]
  },
  {
   "cell_type": "code",
   "execution_count": 8,
   "id": "a3e1f242",
   "metadata": {},
   "outputs": [
    {
     "data": {
      "text/plain": [
       "array([['1', '1', '1', '1', '1'],\n",
       "       ['178.568', '6.1', 'Mb', '59', '1970010840'],\n",
       "       ['126.736999999999', '6.1', 'Mb', '91', '1970011040'],\n",
       "       ['-152.66', '6.0', 'ML', '0', '-1'],\n",
       "       ['-177.348999999999', '6.5', 'Mb', '175', '1970012040'],\n",
       "       ['142.966', '6.4', 'Ms', '199', '1970012040'],\n",
       "       ['-104.298', '6.6', 'Ms', '140', '1970012140'],\n",
       "       ['166.37', '6.4', 'Ms', '91', '1970012640'],\n",
       "       ['-99.4839999999999', '6.5', 'Ms', '100', '1970020440'],\n",
       "       ['122.117', '6.6', 'Ms', '94', '1970020540'],\n",
       "       ['100.775', '6.1', 'Ms', '57', '1970020640'],\n",
       "       ['103.031', '6.0', 'Ms', '94', '1970022440'],\n",
       "       ['-179.5898', '6.0', 'ML', '0', '-1'],\n",
       "       ['-175.039999999999', '6.1', 'ML', '0', '-1'],\n",
       "       ['143.706999999999', '6.2', 'Ms', '82', '1970030440'],\n",
       "       ['168.603', '6.5', 'Ms', '61', '1970030940'],\n",
       "       ['148.87', '6.0', 'Mb', '65', '1970031040'],\n",
       "       ['-153.97', '6.5', 'ML', '0', '-1'],\n",
       "       ['-69.4989999999999', '6.0', 'Mb', '118', '1970031540'],\n",
       "       ['173.75', '6.5', 'ML', '0', '-1']], dtype='<U32')"
      ]
     },
     "execution_count": 8,
     "metadata": {},
     "output_type": "execute_result"
    }
   ],
   "source": [
    "data = np.load('./results/earthquake_results1_8.npy')\n",
    "data"
   ]
  },
  {
   "cell_type": "code",
   "execution_count": 9,
   "id": "f880e0af",
   "metadata": {},
   "outputs": [
    {
     "data": {
      "text/plain": [
       "array(['1970/01/06 05:35:51.80', '-9.628', '151.458', '8.0', '6.2', 'Ms',\n",
       "       '85', '-1', '-1', '0.0', 'NEI', '1970010640'], dtype='<U32')"
      ]
     },
     "execution_count": 9,
     "metadata": {},
     "output_type": "execute_result"
    }
   ],
   "source": [
    "data_2d[0]"
   ]
  },
  {
   "cell_type": "code",
   "execution_count": null,
   "id": "0f3bb926",
   "metadata": {},
   "outputs": [],
   "source": []
  }
 ],
 "metadata": {
  "kernelspec": {
   "display_name": "Python 3 (ipykernel)",
   "language": "python",
   "name": "python3"
  },
  "language_info": {
   "codemirror_mode": {
    "name": "ipython",
    "version": 3
   },
   "file_extension": ".py",
   "mimetype": "text/x-python",
   "name": "python",
   "nbconvert_exporter": "python",
   "pygments_lexer": "ipython3",
   "version": "3.10.9"
  }
 },
 "nbformat": 4,
 "nbformat_minor": 5
}
