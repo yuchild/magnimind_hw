{
 "cells": [
  {
   "cell_type": "code",
   "execution_count": 1,
   "id": "376086bf",
   "metadata": {},
   "outputs": [],
   "source": [
    "import numpy as np"
   ]
  },
  {
   "cell_type": "code",
   "execution_count": 2,
   "id": "4608f9ac",
   "metadata": {},
   "outputs": [
    {
     "data": {
      "text/plain": [
       "array([('1970/01/06 05:35:51.80',  -9.628 , 151.458 ,   8.  , 6.2, 'Ms', 85, -1, -1, 0.  , 'NEI', 1970010640),\n",
       "       ('1970/01/08 17:12:39.10', -34.741 , 178.568 , 179.  , 6.1, 'Mb', 59, -1, -1, 0.  , 'NEI', 1970010840),\n",
       "       ('1970/01/10 12:07:08.60',   6.825 , 126.737 ,  73.  , 6.1, 'Mb', 91, -1, -1, 0.  , 'NEI', 1970011040),\n",
       "       ...,\n",
       "       ('2013/12/17 23:38:08.10',  20.7635, 146.7599,  16.06, 6.2, 'Mw', -1, 14,  4, 0.74, 'us', 2013121720),\n",
       "       ('2014/01/01 16:03:28.89', -13.8779, 167.2434, 187.  , 6.5, 'Mw', -1, 14,  4, 0.67, 'us', 2014010120),\n",
       "       ('2014/01/13 04:01:04.69',  19.0014, -66.8478,  28.  , 6.4, 'Mw', -1, 21,  1, 1.42, 'us', 2014011320)],\n",
       "      dtype=[('19700104_17004020', '<U22'), ('24138999999999900', '<f8'), ('102503000000000000', '<f8'), ('3100', '<f8'), ('750', '<f8'), ('Ms', '<U3'), ('90', '<i8'), ('f0', '<i8'), ('f1', '<i8'), ('0000000000000000', '<f8'), ('NEI', '<U3'), ('1970010440', '<i8')])"
      ]
     },
     "execution_count": 2,
     "metadata": {},
     "output_type": "execute_result"
    }
   ],
   "source": [
    "earthquakes_csv_file_path = './data/earthquakes1970-2014.csv'\n",
    "data = np.genfromtxt(earthquakes_csv_file_path, delimiter=',', dtype=None, names=True, skip_header=1, encoding='utf-8')\n",
    "data"
   ]
  },
  {
   "cell_type": "code",
   "execution_count": 5,
   "id": "f82d09cd",
   "metadata": {},
   "outputs": [
    {
     "name": "stdout",
     "output_type": "stream",
     "text": [
      "array shape: (5303,)\n"
     ]
    },
    {
     "data": {
      "text/plain": [
       "'1970/01/06 05:35:51.80'"
      ]
     },
     "execution_count": 5,
     "metadata": {},
     "output_type": "execute_result"
    }
   ],
   "source": [
    "print(f'array shape: {data.shape}')\n",
    "data[0][0]"
   ]
  },
  {
   "cell_type": "code",
   "execution_count": null,
   "id": "00a4e2b6",
   "metadata": {},
   "outputs": [],
   "source": []
  }
 ],
 "metadata": {
  "kernelspec": {
   "display_name": "Python 3 (ipykernel)",
   "language": "python",
   "name": "python3"
  },
  "language_info": {
   "codemirror_mode": {
    "name": "ipython",
    "version": 3
   },
   "file_extension": ".py",
   "mimetype": "text/x-python",
   "name": "python",
   "nbconvert_exporter": "python",
   "pygments_lexer": "ipython3",
   "version": "3.10.9"
  }
 },
 "nbformat": 4,
 "nbformat_minor": 5
}
