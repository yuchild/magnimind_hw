{
 "cells": [
  {
   "cell_type": "code",
   "execution_count": 1,
   "id": "673d3100",
   "metadata": {},
   "outputs": [],
   "source": [
    "items = [\n",
    "    ('Laptop', 1200, 4.5),\n",
    "    ('Smartphone', 800, 4.7),\n",
    "    ('Tablet', 400, 4.3),\n",
    "    ('Headphones', 150, 4.8)\n",
    "]"
   ]
  },
  {
   "cell_type": "code",
   "execution_count": 2,
   "id": "64c3ce59",
   "metadata": {},
   "outputs": [],
   "source": [
    "def get_rating(i):\n",
    "    return i[2]\n",
    "\n",
    "\n",
    "def get_price(i):\n",
    "    return i[1]\n",
    "\n",
    "\n",
    "# Find the item with the highest rating with the function max"
   ]
  },
  {
   "cell_type": "code",
   "execution_count": 3,
   "id": "205ceb72",
   "metadata": {},
   "outputs": [
    {
     "data": {
      "text/plain": [
       "('Headphones', 150, 4.8)"
      ]
     },
     "execution_count": 3,
     "metadata": {},
     "output_type": "execute_result"
    }
   ],
   "source": [
    "best_rated_item = max(items, key=get_rating) # key argument can get max without loops, x is an element of items\n",
    "best_rated_item"
   ]
  },
  {
   "cell_type": "code",
   "execution_count": 4,
   "id": "16ec7735",
   "metadata": {},
   "outputs": [
    {
     "data": {
      "text/plain": [
       "('Headphones', 150, 4.8)"
      ]
     },
     "execution_count": 4,
     "metadata": {},
     "output_type": "execute_result"
    }
   ],
   "source": [
    "best_rated_item = max(items, key=lambda x:x[2]) # key argument can use lambda function, x is an element of items\n",
    "best_rated_item"
   ]
  },
  {
   "cell_type": "code",
   "execution_count": 5,
   "id": "7edd97b2",
   "metadata": {},
   "outputs": [
    {
     "name": "stdout",
     "output_type": "stream",
     "text": [
      "[1, 4, 9, 16, 25]\n"
     ]
    }
   ],
   "source": [
    "# map using lambda functions\n",
    "numbers = [1, 2, 3, 4, 5]\n",
    "squared = map(lambda x: x ** 2, numbers) # can use lambda functions inside map()\n",
    "print(list(squared))  # Output: [1, 4, 9, 16, 25]"
   ]
  },
  {
   "cell_type": "code",
   "execution_count": 6,
   "id": "e124bcaf",
   "metadata": {},
   "outputs": [
    {
     "name": "stdout",
     "output_type": "stream",
     "text": [
      "[2, 4]\n"
     ]
    }
   ],
   "source": [
    "# filters using lambda functions\n",
    "numbers = [1, 2, 3, 4, 5]\n",
    "even_numbers = filter(lambda x: x % 2 == 0, numbers)\n",
    "print(list(even_numbers)) "
   ]
  },
  {
   "cell_type": "code",
   "execution_count": 7,
   "id": "54f16289",
   "metadata": {},
   "outputs": [
    {
     "name": "stdout",
     "output_type": "stream",
     "text": [
      "[(5, -1), (4, 1), (1, 2), (3, 3)]\n"
     ]
    }
   ],
   "source": [
    "# sorted using lambda functions\n",
    "points = [(1, 2), (4, 1), (5, -1), (3, 3)]\n",
    "sorted_points = sorted(points, key=lambda point: point[1])\n",
    "print(sorted_points)"
   ]
  },
  {
   "cell_type": "code",
   "execution_count": 8,
   "id": "f8efbd16",
   "metadata": {},
   "outputs": [
    {
     "data": {
      "text/plain": [
       "8"
      ]
     },
     "execution_count": 8,
     "metadata": {},
     "output_type": "execute_result"
    }
   ],
   "source": [
    "add_lambda = lambda x, y: x + y # can use this, but write it out inside other functions\n",
    "add_lambda(3,5)"
   ]
  },
  {
   "cell_type": "code",
   "execution_count": 9,
   "id": "a47cc48c",
   "metadata": {},
   "outputs": [
    {
     "data": {
      "text/plain": [
       "[('Laptop', 1200, 4.5),\n",
       " ('Smartphone', 800, 4.7),\n",
       " ('Tablet', 400, 4.3),\n",
       " ('Headphones', 150, 4.8)]"
      ]
     },
     "execution_count": 9,
     "metadata": {},
     "output_type": "execute_result"
    }
   ],
   "source": [
    "# Sort the items by price in ascending order by using function sorted()\n",
    "sorted_items = sorted(items, key=get_price, reverse=True)\n",
    "sorted_items"
   ]
  },
  {
   "cell_type": "code",
   "execution_count": 10,
   "id": "cb97e818",
   "metadata": {},
   "outputs": [
    {
     "name": "stdout",
     "output_type": "stream",
     "text": [
      "Default area (5x10): 50\n",
      "Custom width area (7x10): 70\n",
      "Custom area (8x3): 24\n"
     ]
    }
   ],
   "source": [
    "def calculate_area(width=5, height=10):\n",
    "    \n",
    "    return width * height\n",
    "\n",
    "# Examples of calling the function with different parameters\n",
    "# Call with no arguments, using default parameters\n",
    "default_area = calculate_area()\n",
    "print(f\"Default area (5x10): {default_area}\")\n",
    "\n",
    "# Call with one argument, overriding the width\n",
    "custom_width_area = calculate_area(width=7)\n",
    "print(f\"Custom width area (7x10): {custom_width_area}\")\n",
    "\n",
    "# Call with both arguments, overriding both width and height\n",
    "custom_area = calculate_area(width=8, height=3)\n",
    "print(f\"Custom area (8x3): {custom_area}\")"
   ]
  },
  {
   "cell_type": "code",
   "execution_count": 11,
   "id": "fbe15253",
   "metadata": {},
   "outputs": [
    {
     "data": {
      "text/plain": [
       "21"
      ]
     },
     "execution_count": 11,
     "metadata": {},
     "output_type": "execute_result"
    }
   ],
   "source": [
    "calculate_area(3,7)"
   ]
  },
  {
   "cell_type": "code",
   "execution_count": 12,
   "id": "480c169a",
   "metadata": {},
   "outputs": [
    {
     "data": {
      "text/plain": [
       "33"
      ]
     },
     "execution_count": 12,
     "metadata": {},
     "output_type": "execute_result"
    }
   ],
   "source": [
    "calculate_area(3, height=11)"
   ]
  },
  {
   "cell_type": "code",
   "execution_count": 13,
   "id": "a5b3420a",
   "metadata": {},
   "outputs": [
    {
     "name": "stdout",
     "output_type": "stream",
     "text": [
      "Hello, Guest!\n",
      "Hello, Alice!\n",
      "Hi, Guest.\n",
      "Good morning, Bob!\n"
     ]
    }
   ],
   "source": [
    "def format_greeting(**kwargs):\n",
    "    \"\"\"\n",
    "    Format a greeting message using keyword arguments.\n",
    "\n",
    "    Keyword Arguments:\n",
    "    name (str): The name to greet.\n",
    "    greeting (str): The greeting to use.\n",
    "    punctuation (str): The punctuation mark to end the greeting.\n",
    "\n",
    "    Returns:\n",
    "    str: The formatted greeting message.\n",
    "    \"\"\"\n",
    "    # Set default values\n",
    "    name = kwargs.get('name', 'Guest')\n",
    "    greeting = kwargs.get('greeting', 'Hello')\n",
    "    punctuation = kwargs.get('punctuation', '!')\n",
    "    \n",
    "    return f\"{greeting}, {name}{punctuation}\"\n",
    "\n",
    "# Examples of calling the function with different keyword arguments\n",
    "# Call with no arguments, using default parameters\n",
    "default_greeting = format_greeting()\n",
    "print(default_greeting)\n",
    "\n",
    "# Call with one keyword argument, overriding the name\n",
    "custom_name_greeting = format_greeting(name=\"Alice\")\n",
    "print(custom_name_greeting)\n",
    "\n",
    "# Call with two keyword arguments, overriding the greeting and punctuation\n",
    "custom_greeting_and_punctuation = format_greeting(greeting=\"Hi\", punctuation=\".\")\n",
    "print(custom_greeting_and_punctuation)\n",
    "\n",
    "# Call with all keyword arguments, overriding all defaults\n",
    "custom_all = format_greeting(name=\"Bob\", greeting=\"Good morning\", punctuation=\"!\")\n",
    "print(custom_all)"
   ]
  },
  {
   "cell_type": "code",
   "execution_count": null,
   "id": "4b059cc8",
   "metadata": {},
   "outputs": [],
   "source": []
  },
  {
   "cell_type": "code",
   "execution_count": null,
   "id": "5e98df99",
   "metadata": {},
   "outputs": [],
   "source": []
  },
  {
   "cell_type": "code",
   "execution_count": null,
   "id": "74e20339",
   "metadata": {},
   "outputs": [],
   "source": []
  }
 ],
 "metadata": {
  "kernelspec": {
   "display_name": "Python 3 (ipykernel)",
   "language": "python",
   "name": "python3"
  },
  "language_info": {
   "codemirror_mode": {
    "name": "ipython",
    "version": 3
   },
   "file_extension": ".py",
   "mimetype": "text/x-python",
   "name": "python",
   "nbconvert_exporter": "python",
   "pygments_lexer": "ipython3",
   "version": "3.10.9"
  }
 },
 "nbformat": 4,
 "nbformat_minor": 5
}
