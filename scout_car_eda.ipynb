{
 "cells": [
  {
   "cell_type": "markdown",
   "id": "7767f8aa-aee6-45f1-8110-bea9e498c7db",
   "metadata": {},
   "source": [
    "## **Scout Car EDA/Modeling**"
   ]
  },
  {
   "cell_type": "code",
   "execution_count": 1,
   "id": "778ea321-c299-48b8-98b4-c1e6fc9b9b1b",
   "metadata": {},
   "outputs": [
    {
     "name": "stdout",
     "output_type": "stream",
     "text": [
      "Python 3.10.14\n"
     ]
    }
   ],
   "source": [
    "!python3 --version"
   ]
  },
  {
   "cell_type": "code",
   "execution_count": 2,
   "id": "03b8f965-785d-4324-8a68-bacad6fac365",
   "metadata": {
    "scrolled": true
   },
   "outputs": [],
   "source": [
    "import pandas as pd\n",
    "import numpy as np\n",
    "import seaborn as sns\n",
    "import matplotlib.pyplot as plt\n",
    "from pycaret.regression import setup, compare_models, create_model, evaluate_model, tune_model, finalize_model, predict_model\n",
    "# !pip3 install pycaret\n",
    "\n",
    "import warnings\n",
    "warnings.filterwarnings(\"ignore\")"
   ]
  },
  {
   "cell_type": "code",
   "execution_count": null,
   "id": "7d146f79-f7d6-41d9-b93f-1cf934987f5b",
   "metadata": {},
   "outputs": [],
   "source": []
  },
  {
   "cell_type": "markdown",
   "id": "76642adc-6d1b-4388-8999-6ce2d32798eb",
   "metadata": {
    "jp-MarkdownHeadingCollapsed": true
   },
   "source": [
    "## Load Data"
   ]
  },
  {
   "cell_type": "code",
   "execution_count": null,
   "id": "e8e3c443-330e-4d4a-ac30-cf4b427e2991",
   "metadata": {},
   "outputs": [],
   "source": [
    "df_org = pd.read_csv('./data/cleaned_scout_car.csv')\n",
    "df = df_org.copy()"
   ]
  },
  {
   "cell_type": "markdown",
   "id": "bfba6be9-4dce-43bb-a9bd-4356ff0a8e24",
   "metadata": {},
   "source": [
    "## Fill NaN with np.nan"
   ]
  },
  {
   "cell_type": "code",
   "execution_count": null,
   "id": "3acae539-ab1f-42e7-9ff6-3177d44a121d",
   "metadata": {},
   "outputs": [],
   "source": [
    "df.fillna(np.nan,inplace=True)"
   ]
  },
  {
   "cell_type": "markdown",
   "id": "4f5a68fc-7850-4a91-892c-e081cf818a6b",
   "metadata": {},
   "source": [
    "## Change Data Types of Categorical and Quantitive Columns"
   ]
  },
  {
   "cell_type": "code",
   "execution_count": null,
   "id": "7d5b0a24-7c11-4593-971a-744c5be35adf",
   "metadata": {},
   "outputs": [],
   "source": [
    "df['gears'].value_counts(dropna=False)"
   ]
  },
  {
   "cell_type": "code",
   "execution_count": null,
   "id": "46adb504-ceeb-4292-912c-6a7294f0698a",
   "metadata": {},
   "outputs": [],
   "source": [
    "cols_cat = ['make_model', 'body_type', 'vat', 'registration', 'prev_owner', \n",
    "            'type', 'next_inspection', 'inspection_new', 'body_color', 'paint_type', \n",
    "            'body_color_original', 'upholstery', 'model_code', 'gearing_type', 'drive_chain',\n",
    "            'fuel', 'co2_emissiong_co2km', 'emission_class', 'comfort_convenience', 'entertainment_media', \n",
    "            'extras', 'safety_security', 'gears', 'country_version', 'upholstery_material', \n",
    "            'upholstery_color', 'consumption_combined', 'consumption_city', 'consumption_country']\n",
    "cols_quant = ['price', 'km', 'hp', 'displacement', 'warrantymonths', \n",
    "              'weight', 'nr_of_doors', 'nr_of_seats', 'cylinders']\n",
    "\n",
    "# lower strings and change ' ' to '_'\n",
    "for col in cols_cat:\n",
    "    df[col] = df[col].astype(str)\n",
    "    df[col] = df[col].str.lower().str.replace(' ', '_')\n",
    "\n",
    "# assign column types\n",
    "df[cols_cat] = df[cols_cat].astype('category')\n",
    "df[cols_quant] = df[cols_quant].apply(pd.to_numeric, errors='coerce')\n",
    "\n",
    "df.info()"
   ]
  },
  {
   "cell_type": "markdown",
   "id": "fed92368-1b44-4478-9f33-6d2b61ecbb9e",
   "metadata": {},
   "source": [
    "## Make Plots of Categorical Variables"
   ]
  },
  {
   "cell_type": "code",
   "execution_count": null,
   "id": "9f610d03-3743-4697-b201-916cc569ef13",
   "metadata": {},
   "outputs": [],
   "source": [
    "# Assuming 'df' is your DataFrame and 'cols_cat' is defined as given\n",
    "cols_cat = ['make_model', 'body_type', 'vat', 'registration', 'prev_owner', \n",
    "            'type', 'next_inspection', 'inspection_new', 'body_color', 'paint_type', \n",
    "            'body_color_original', 'upholstery', 'model_code', 'gearing_type', 'drive_chain',\n",
    "            'fuel', 'co2_emissiong_co2km', 'emission_class', 'comfort_convenience', 'entertainment_media', \n",
    "            'extras', 'safety_security', 'gears', 'country_version', 'upholstery_material', \n",
    "            'upholstery_color', 'consumption_combined', 'consumption_city', 'consumption_country']\n",
    "\n",
    "# Calculate the number of rows and columns needed for the subplots grid\n",
    "n_cols = 2  # You can adjust this based on how many plots you want per row\n",
    "n_rows = -(-len(cols_cat) // n_cols)  # Ceiling division to get the number of rows\n",
    "\n",
    "# Set up the figure and subplots\n",
    "fig, axes = plt.subplots(n_rows, n_cols, figsize=(20, 40))\n",
    "axes = axes.flatten()  # Flatten the 2D array of axes for easy iteration\n",
    "\n",
    "# Loop over the categorical columns and create a bar plot for each\n",
    "for i, col in enumerate(cols_cat[:10]):\n",
    "    sns.countplot(y=df[col], ax=axes[i], palette=\"Set2\", order=df[col].value_counts(dropna=False).index)\n",
    "    axes[i].set_title(f'Frequency of {col}')\n",
    "    axes[i].set_xlabel('Count')\n",
    "    axes[i].set_ylabel(col)\n",
    "\n",
    "# Remove any empty subplots if the number of columns isn't a perfect grid\n",
    "for j in range(i + 1, len(axes)):\n",
    "    fig.delaxes(axes[j])\n",
    "\n",
    "# Adjust layout and show the plots\n",
    "plt.tight_layout()\n",
    "plt.show()"
   ]
  },
  {
   "cell_type": "markdown",
   "id": "2cd97431-1301-44e5-84fd-3bd4d8d5da0a",
   "metadata": {},
   "source": [
    "## Make Historgrams of Numerical Variables"
   ]
  },
  {
   "cell_type": "code",
   "execution_count": null,
   "id": "10a9fc3f-e617-4b0d-9dfc-99a225a419a1",
   "metadata": {},
   "outputs": [],
   "source": [
    "# List of numerical columns\n",
    "cols_quant = ['price', 'km', 'hp', 'displacement', 'warrantymonths', \n",
    "              'weight', 'nr_of_doors', 'nr_of_seats', 'cylinders']\n",
    "\n",
    "# Calculate the number of rows and columns needed for the subplots grid\n",
    "n_cols = 3  # Number of plots per row\n",
    "n_rows = -(-len(cols_quant) // n_cols)  # Ceiling division to get the number of rows\n",
    "\n",
    "# Set up the figure and subplots\n",
    "fig, axes = plt.subplots(n_rows, n_cols, figsize=(20, 15))\n",
    "axes = axes.flatten()  # Flatten the 2D array of axes for easy iteration\n",
    "\n",
    "# Loop over the numerical columns and create a histogram for each\n",
    "for i, col in enumerate(cols_quant):\n",
    "    sns.histplot(df[col], bins=30, ax=axes[i], kde=False, color='skyblue')\n",
    "    axes[i].set_title(f'Histogram of {col}')\n",
    "    axes[i].set_xlabel(col)\n",
    "    axes[i].set_ylabel('Frequency')\n",
    "\n",
    "# Remove any empty subplots if the number of columns isn't a perfect grid\n",
    "for j in range(i + 1, len(axes)):\n",
    "    fig.delaxes(axes[j])\n",
    "\n",
    "# Adjust layout and show the plots\n",
    "plt.tight_layout()\n",
    "plt.show()"
   ]
  },
  {
   "cell_type": "markdown",
   "id": "757e444d-db63-45b9-8372-34c67d8388f1",
   "metadata": {},
   "source": [
    "## PyCaret to identify best regression model"
   ]
  },
  {
   "cell_type": "code",
   "execution_count": null,
   "id": "109834cf-9adb-4be2-ac7c-2a6d4f14ede8",
   "metadata": {},
   "outputs": [],
   "source": [
    "# # Load your DataFrame (replace this with your actual data loading code)\n",
    "# df = pd.read_csv('your_data.csv')\n",
    "\n",
    "# # Convert categorical columns to 'category' dtype\n",
    "# categorical_columns = ['make_model', 'body_type', 'vat', 'registration', 'prev_owner', 'type', \n",
    "#                         'next_inspection', 'inspection_new', 'body_color', 'paint_type', \n",
    "#                         'body_color_original', 'upholstery', 'model_code', 'gearing_type', \n",
    "#                         'drive_chain', 'fuel', 'co2_emissiong_co2km', 'emission_class', \n",
    "#                         'comfort_convenience', 'entertainment_media', 'extras', \n",
    "#                         'safety_security', 'gears', 'country_version', 'upholstery_material', \n",
    "#                         'upholstery_color', 'consumption_combined', 'consumption_city', \n",
    "#                         'consumption_country']\n",
    "\n",
    "# for col in categorical_columns:\n",
    "#     df[col] = df[col].astype('category')\n",
    "\n",
    "# Handle missing values (you might choose a different strategy)\n",
    "df.fillna(df.median(), inplace=True)\n",
    "\n",
    "# Initialize the PyCaret setup\n",
    "regression_setup = setup(data=df, target='price', session_id=123)\n",
    "\n",
    "# Compare different regression models\n",
    "best_model = compare_models()\n",
    "\n",
    "# Create a specific model (e.g., Random Forest Regressor)\n",
    "rf_model = create_model('rf')\n",
    "\n",
    "# Evaluate the model\n",
    "evaluate_model(rf_model)\n",
    "\n",
    "# Tune the model\n",
    "tuned_rf_model = tune_model(rf_model)\n",
    "\n",
    "# Finalize the model\n",
    "final_model = finalize_model(tuned_rf_model)\n",
    "\n",
    "# Make predictions on new data (replace 'new_data' with your actual new data DataFrame)\n",
    "# predictions = predict_model(final_model, data=new_data)\n"
   ]
  },
  {
   "cell_type": "code",
   "execution_count": null,
   "id": "41225580-d1cb-419d-a223-838a2e8b3afd",
   "metadata": {},
   "outputs": [],
   "source": []
  },
  {
   "cell_type": "code",
   "execution_count": null,
   "id": "0de1e561-4002-4807-b52d-d7777d879401",
   "metadata": {},
   "outputs": [],
   "source": []
  },
  {
   "cell_type": "code",
   "execution_count": null,
   "id": "e854b50a-f8a7-4b36-86d3-e44240c4a6aa",
   "metadata": {},
   "outputs": [],
   "source": []
  },
  {
   "cell_type": "code",
   "execution_count": null,
   "id": "d1df4146-fd08-41f7-b528-f3c7f76b8b5f",
   "metadata": {},
   "outputs": [],
   "source": []
  },
  {
   "cell_type": "code",
   "execution_count": null,
   "id": "330c8a60-0d12-48a6-83fe-723d5d8003da",
   "metadata": {},
   "outputs": [],
   "source": []
  },
  {
   "cell_type": "code",
   "execution_count": null,
   "id": "c3f6a765-69e9-4d5f-b335-c639c2055f6b",
   "metadata": {},
   "outputs": [],
   "source": []
  },
  {
   "cell_type": "code",
   "execution_count": null,
   "id": "3e7e197a-2041-4d18-b144-cf58909514ff",
   "metadata": {},
   "outputs": [],
   "source": []
  },
  {
   "cell_type": "code",
   "execution_count": null,
   "id": "5a6878ba-32a2-463b-8054-9ac78de7ed68",
   "metadata": {},
   "outputs": [],
   "source": []
  }
 ],
 "metadata": {
  "kernelspec": {
   "display_name": "Python 3 (ipykernel)",
   "language": "python",
   "name": "python3"
  },
  "language_info": {
   "codemirror_mode": {
    "name": "ipython",
    "version": 3
   },
   "file_extension": ".py",
   "mimetype": "text/x-python",
   "name": "python",
   "nbconvert_exporter": "python",
   "pygments_lexer": "ipython3",
   "version": "3.10.14"
  }
 },
 "nbformat": 4,
 "nbformat_minor": 5
}
