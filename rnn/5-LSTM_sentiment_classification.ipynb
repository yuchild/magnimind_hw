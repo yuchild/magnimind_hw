{
 "cells": [
  {
   "cell_type": "code",
   "execution_count": 1,
   "metadata": {
    "colab": {
     "base_uri": "https://localhost:8080/",
     "height": 34
    },
    "colab_type": "code",
    "id": "gxe7ZnfzWgkf",
    "outputId": "af50403d-1ce8-4032-d932-3c5881e86717"
   },
   "outputs": [
    {
     "name": "stderr",
     "output_type": "stream",
     "text": [
      "Using TensorFlow backend.\n"
     ]
    }
   ],
   "source": [
    "#import relevant packages\n",
    "from keras.layers import Dense, Activation\n",
    "from keras.layers.recurrent import SimpleRNN\n",
    "from keras.models import Sequential\n",
    "from keras.utils import to_categorical\n",
    "from keras.layers.embeddings import Embedding\n",
    "from sklearn.model_selection import train_test_split\n",
    "import numpy as np\n",
    "import nltk\n",
    "from nltk.corpus import stopwords\n",
    "import re\n",
    "import pandas as pd"
   ]
  },
  {
   "cell_type": "code",
   "execution_count": 2,
   "metadata": {
    "colab": {
     "base_uri": "https://localhost:8080/",
     "height": 204
    },
    "colab_type": "code",
    "id": "WY4zhjQpWgkr",
    "outputId": "23e34735-df00-4749-d980-a9489a98cb94"
   },
   "outputs": [
    {
     "data": {
      "text/html": [
       "<div>\n",
       "<style scoped>\n",
       "    .dataframe tbody tr th:only-of-type {\n",
       "        vertical-align: middle;\n",
       "    }\n",
       "\n",
       "    .dataframe tbody tr th {\n",
       "        vertical-align: top;\n",
       "    }\n",
       "\n",
       "    .dataframe thead th {\n",
       "        text-align: right;\n",
       "    }\n",
       "</style>\n",
       "<table border=\"1\" class=\"dataframe\">\n",
       "  <thead>\n",
       "    <tr style=\"text-align: right;\">\n",
       "      <th></th>\n",
       "      <th>airline_sentiment</th>\n",
       "      <th>text</th>\n",
       "    </tr>\n",
       "  </thead>\n",
       "  <tbody>\n",
       "    <tr>\n",
       "      <th>0</th>\n",
       "      <td>1</td>\n",
       "      <td>@VirginAmerica plus you've added commercials t...</td>\n",
       "    </tr>\n",
       "    <tr>\n",
       "      <th>1</th>\n",
       "      <td>0</td>\n",
       "      <td>@VirginAmerica it's really aggressive to blast...</td>\n",
       "    </tr>\n",
       "    <tr>\n",
       "      <th>2</th>\n",
       "      <td>0</td>\n",
       "      <td>@VirginAmerica and it's a really big bad thing...</td>\n",
       "    </tr>\n",
       "    <tr>\n",
       "      <th>3</th>\n",
       "      <td>0</td>\n",
       "      <td>@VirginAmerica seriously would pay $30 a fligh...</td>\n",
       "    </tr>\n",
       "    <tr>\n",
       "      <th>4</th>\n",
       "      <td>1</td>\n",
       "      <td>@VirginAmerica yes, nearly every time I fly VX...</td>\n",
       "    </tr>\n",
       "  </tbody>\n",
       "</table>\n",
       "</div>"
      ],
      "text/plain": [
       "   airline_sentiment                                               text\n",
       "0                  1  @VirginAmerica plus you've added commercials t...\n",
       "1                  0  @VirginAmerica it's really aggressive to blast...\n",
       "2                  0  @VirginAmerica and it's a really big bad thing...\n",
       "3                  0  @VirginAmerica seriously would pay $30 a fligh...\n",
       "4                  1  @VirginAmerica yes, nearly every time I fly VX..."
      ]
     },
     "execution_count": 2,
     "metadata": {},
     "output_type": "execute_result"
    }
   ],
   "source": [
    "t=pd.read_csv('airline_sentiment.csv')\n",
    "t.head()"
   ]
  },
  {
   "cell_type": "code",
   "execution_count": 3,
   "metadata": {
    "colab": {
     "base_uri": "https://localhost:8080/",
     "height": 51
    },
    "colab_type": "code",
    "id": "L3MHa68uWgkz",
    "outputId": "955de000-daa2-4d4c-d3d1-84e8b2229a45"
   },
   "outputs": [
    {
     "name": "stderr",
     "output_type": "stream",
     "text": [
      "[nltk_data] Downloading package stopwords to\n",
      "[nltk_data]     /Users/gceran/nltk_data...\n",
      "[nltk_data]   Package stopwords is already up-to-date!\n"
     ]
    }
   ],
   "source": [
    "import nltk\n",
    "nltk.download('stopwords')\n",
    "stop = nltk.corpus.stopwords.words('english')"
   ]
  },
  {
   "cell_type": "code",
   "execution_count": 4,
   "metadata": {
    "colab": {},
    "colab_type": "code",
    "id": "9Wb3M6jIWgk2"
   },
   "outputs": [],
   "source": [
    "def preprocess(text):\n",
    "    text=text.lower()\n",
    "    text=re.sub('[^0-9a-zA-Z]+',' ',text)\n",
    "    words = text.split()\n",
    "    words2=[w for w in words if (w not in stop)]\n",
    "    #words3=[ps.stem(w) for w in words]\n",
    "    words4=' '.join(words2)\n",
    "    return(words4)"
   ]
  },
  {
   "cell_type": "code",
   "execution_count": 5,
   "metadata": {
    "colab": {},
    "colab_type": "code",
    "id": "t2gXWeDTWgk4"
   },
   "outputs": [],
   "source": [
    "t['text'] = t['text'].apply(preprocess)"
   ]
  },
  {
   "cell_type": "code",
   "execution_count": 6,
   "metadata": {
    "colab": {},
    "colab_type": "code",
    "id": "Jq2mz7dMWgk6"
   },
   "outputs": [],
   "source": [
    "from collections import Counter\n",
    "counts = Counter()\n",
    "for i,review in enumerate(t['text']):\n",
    "    counts.update(review.split())"
   ]
  },
  {
   "cell_type": "code",
   "execution_count": 7,
   "metadata": {
    "colab": {
     "base_uri": "https://localhost:8080/",
     "height": 187
    },
    "colab_type": "code",
    "id": "vUoKXQksWgk9",
    "outputId": "2e7c84d1-7bed-4d16-eb77-ab618cba8dee"
   },
   "outputs": [
    {
     "data": {
      "text/plain": [
       "['united',\n",
       " 'flight',\n",
       " 'usairways',\n",
       " 'americanair',\n",
       " 'southwestair',\n",
       " 'jetblue',\n",
       " 'get',\n",
       " 'cancelled',\n",
       " 'thanks',\n",
       " 'service']"
      ]
     },
     "execution_count": 7,
     "metadata": {},
     "output_type": "execute_result"
    }
   ],
   "source": [
    "words = sorted(counts, key=counts.get, reverse=True)\n",
    "words[0:10]"
   ]
  },
  {
   "cell_type": "code",
   "execution_count": 8,
   "metadata": {
    "colab": {
     "base_uri": "https://localhost:8080/",
     "height": 34
    },
    "colab_type": "code",
    "id": "003q10B4WglA",
    "outputId": "c30f2623-e3f2-456c-d840-d717bb715acf"
   },
   "outputs": [
    {
     "data": {
      "text/plain": [
       "12532"
      ]
     },
     "execution_count": 8,
     "metadata": {},
     "output_type": "execute_result"
    }
   ],
   "source": [
    "chars = words\n",
    "nb_chars = len(words)\n",
    "nb_chars"
   ]
  },
  {
   "cell_type": "code",
   "execution_count": 9,
   "metadata": {
    "colab": {},
    "colab_type": "code",
    "id": "LobcZ4HEWglE"
   },
   "outputs": [],
   "source": [
    "word_to_int = {word: i for i, word in enumerate(words, 1)}\n",
    "int_to_word = {i: word for i, word in enumerate(words, 1)}"
   ]
  },
  {
   "cell_type": "code",
   "execution_count": null,
   "metadata": {
    "colab": {},
    "colab_type": "code",
    "id": "SewigN-_l0FF"
   },
   "outputs": [],
   "source": [
    "int_to_word"
   ]
  },
  {
   "cell_type": "code",
   "execution_count": 11,
   "metadata": {
    "colab": {},
    "colab_type": "code",
    "id": "5hM8Ka3IWglP"
   },
   "outputs": [],
   "source": [
    "mapped_reviews = []\n",
    "for review in t['text']:\n",
    "    mapped_reviews.append([word_to_int[word] for word in review.split()])"
   ]
  },
  {
   "cell_type": "code",
   "execution_count": 12,
   "metadata": {
    "colab": {
     "base_uri": "https://localhost:8080/",
     "height": 51
    },
    "colab_type": "code",
    "id": "ZMVkpTt2mIRq",
    "outputId": "3ae5b554-4ecb-4760-88b2-3fad7f19629c"
   },
   "outputs": [
    {
     "name": "stdout",
     "output_type": "stream",
     "text": [
      "Original text: virginamerica plus added commercials experience tacky\n",
      "Mapped text: [44, 450, 1142, 2233, 100, 5429]\n"
     ]
    }
   ],
   "source": [
    "print('Original text:',t.loc[0]['text'])\n",
    "print('Mapped text:',mapped_reviews[0])"
   ]
  },
  {
   "cell_type": "code",
   "execution_count": 13,
   "metadata": {
    "colab": {
     "base_uri": "https://localhost:8080/",
     "height": 68
    },
    "colab_type": "code",
    "id": "bewMIqLVWglT",
    "outputId": "b6c8e37a-74bc-4abc-8504-ebe2cd7eef7c"
   },
   "outputs": [
    {
     "data": {
      "text/plain": [
       "0    virginamerica plus added commercials experienc...\n",
       "1    virginamerica really aggressive blast obnoxiou...\n",
       "Name: text, dtype: object"
      ]
     },
     "execution_count": 13,
     "metadata": {},
     "output_type": "execute_result"
    }
   ],
   "source": [
    "t.loc[0:1]['text']"
   ]
  },
  {
   "cell_type": "code",
   "execution_count": 14,
   "metadata": {
    "colab": {
     "base_uri": "https://localhost:8080/",
     "height": 51
    },
    "colab_type": "code",
    "id": "Zn_nkiQWWglX",
    "outputId": "0a6675c3-3f0d-41a4-e045-23f097da3b41"
   },
   "outputs": [
    {
     "data": {
      "text/plain": [
       "[[44, 450, 1142, 2233, 100, 5429],\n",
       " [44, 57, 3036, 3845, 3846, 815, 3037, 3847, 19, 366, 2234]]"
      ]
     },
     "execution_count": 14,
     "metadata": {},
     "output_type": "execute_result"
    }
   ],
   "source": [
    "mapped_reviews[0:2]"
   ]
  },
  {
   "cell_type": "code",
   "execution_count": 15,
   "metadata": {
    "colab": {
     "base_uri": "https://localhost:8080/",
     "height": 34
    },
    "colab_type": "code",
    "id": "3Cd32eGeCz9K",
    "outputId": "213951ae-8c75-43a5-cde1-0fac36c94c6a"
   },
   "outputs": [
    {
     "data": {
      "text/plain": [
       "26"
      ]
     },
     "execution_count": 15,
     "metadata": {},
     "output_type": "execute_result"
    }
   ],
   "source": [
    "length_sent = []\n",
    "for i in range(len(mapped_reviews)):\n",
    "  length_sent.append(len(mapped_reviews[i]))\n",
    "max(length_sent)"
   ]
  },
  {
   "cell_type": "code",
   "execution_count": 16,
   "metadata": {
    "colab": {},
    "colab_type": "code",
    "id": "hHCBcPejWglb"
   },
   "outputs": [],
   "source": [
    "sequence_length = max(length_sent)\n",
    "from keras.preprocessing.sequence import pad_sequences\n",
    "X = pad_sequences(maxlen=sequence_length, sequences=mapped_reviews, padding=\"post\", value=0)"
   ]
  },
  {
   "cell_type": "code",
   "execution_count": 17,
   "metadata": {
    "colab": {
     "base_uri": "https://localhost:8080/",
     "height": 34
    },
    "colab_type": "code",
    "id": "EpDc9SCaWgld",
    "outputId": "82e98523-fd7a-45d1-8eca-ac83c53f996b"
   },
   "outputs": [
    {
     "data": {
      "text/plain": [
       "(11541, 26)"
      ]
     },
     "execution_count": 17,
     "metadata": {},
     "output_type": "execute_result"
    }
   ],
   "source": [
    "X.shape"
   ]
  },
  {
   "cell_type": "code",
   "execution_count": 18,
   "metadata": {
    "colab": {},
    "colab_type": "code",
    "id": "rZXXQr5OWglh"
   },
   "outputs": [],
   "source": [
    "y=t['airline_sentiment'].values"
   ]
  },
  {
   "cell_type": "code",
   "execution_count": 19,
   "metadata": {
    "colab": {},
    "colab_type": "code",
    "id": "NZVO0ey8Wglj"
   },
   "outputs": [],
   "source": [
    "X_train, X_test, y_train, y_test = train_test_split(X, y, test_size=0.30,random_state=10)\n",
    "y_train2 = to_categorical(y_train)\n",
    "y_test2 = to_categorical(y_test)"
   ]
  },
  {
   "cell_type": "markdown",
   "metadata": {
    "colab_type": "text",
    "id": "3q4DmF3S4Yt_"
   },
   "source": [
    "# Sentiment classification using LSTM"
   ]
  },
  {
   "cell_type": "code",
   "execution_count": 20,
   "metadata": {
    "colab": {},
    "colab_type": "code",
    "id": "x6WQWjDWUHXG"
   },
   "outputs": [],
   "source": [
    "from keras.layers import LSTM"
   ]
  },
  {
   "cell_type": "code",
   "execution_count": 21,
   "metadata": {
    "colab": {
     "base_uri": "https://localhost:8080/",
     "height": 272
    },
    "colab_type": "code",
    "id": "InBmUQ_7UHa5",
    "outputId": "73cd4c7d-1699-4cc0-e1c4-84b61ec35a96"
   },
   "outputs": [
    {
     "name": "stdout",
     "output_type": "stream",
     "text": [
      "Model: \"sequential_1\"\n",
      "_________________________________________________________________\n",
      "Layer (type)                 Output Shape              Param #   \n",
      "=================================================================\n",
      "embedding_1 (Embedding)      (None, 26, 32)            401056    \n",
      "_________________________________________________________________\n",
      "lstm_1 (LSTM)                (None, 40)                11680     \n",
      "_________________________________________________________________\n",
      "dense_1 (Dense)              (None, 2)                 82        \n",
      "=================================================================\n",
      "Total params: 412,818\n",
      "Trainable params: 412,818\n",
      "Non-trainable params: 0\n",
      "_________________________________________________________________\n",
      "None\n"
     ]
    }
   ],
   "source": [
    "embedding_vecor_length=32\n",
    "max_review_length=26\n",
    "model = Sequential()\n",
    "model.add(Embedding(input_dim=12533, output_dim=32, input_length = 26))\n",
    "model.add(LSTM(40, return_sequences=False))\n",
    "model.add(Dense(2, activation='softmax'))\n",
    "model.compile(loss='categorical_crossentropy', optimizer='adam', metrics=['accuracy'])\n",
    "print(model.summary())"
   ]
  },
  {
   "cell_type": "code",
   "execution_count": 22,
   "metadata": {
    "colab": {
     "base_uri": "https://localhost:8080/",
     "height": 34
    },
    "colab_type": "code",
    "id": "2O-MJwWZUHd6",
    "outputId": "7e603600-aeae-4478-df58-572698577c70"
   },
   "outputs": [
    {
     "name": "stdout",
     "output_type": "stream",
     "text": [
      "(32, 160) (40, 160) (160,)\n"
     ]
    }
   ],
   "source": [
    "W = model.layers[1].get_weights()[0]\n",
    "U = model.layers[1].get_weights()[1]\n",
    "b = model.layers[1].get_weights()[2]\n",
    "print(W.shape,U.shape,b.shape)"
   ]
  },
  {
   "cell_type": "code",
   "execution_count": 23,
   "metadata": {
    "colab": {},
    "colab_type": "code",
    "id": "2SyoKOB8c_8-"
   },
   "outputs": [],
   "source": [
    "units = 40\n",
    "W_i = W[:, :units]\n",
    "W_f = W[:, units: units * 2]\n",
    "W_c = W[:, units * 2: units * 3]\n",
    "W_o = W[:, units * 3:]\n",
    "\n",
    "U_i = U[:, :units]\n",
    "U_f = U[:, units: units * 2]\n",
    "U_c = U[:, units * 2: units * 3]\n",
    "U_o = U[:, units * 3:]\n",
    "\n",
    "b_i = b[:units]\n",
    "b_f = b[units: units * 2]\n",
    "b_c = b[units * 2: units * 3]\n",
    "b_o = b[units * 3:]"
   ]
  },
  {
   "cell_type": "code",
   "execution_count": 24,
   "metadata": {
    "colab": {
     "base_uri": "https://localhost:8080/",
     "height": 34
    },
    "colab_type": "code",
    "id": "lZRG6VMbdITu",
    "outputId": "ae7afbc1-5e14-4258-abbd-7b5e59a76304"
   },
   "outputs": [
    {
     "data": {
      "text/plain": [
       "(32, 160)"
      ]
     },
     "execution_count": 24,
     "metadata": {},
     "output_type": "execute_result"
    }
   ],
   "source": [
    "W.shape"
   ]
  },
  {
   "cell_type": "code",
   "execution_count": 25,
   "metadata": {
    "colab": {
     "base_uri": "https://localhost:8080/",
     "height": 34
    },
    "colab_type": "code",
    "id": "E9yZtdGqWnpQ",
    "outputId": "3b763e31-3d85-4b34-a655-9ac071ad8cb7"
   },
   "outputs": [
    {
     "data": {
      "text/plain": [
       "11680"
      ]
     },
     "execution_count": 25,
     "metadata": {},
     "output_type": "execute_result"
    }
   ],
   "source": [
    "73*160"
   ]
  },
  {
   "cell_type": "code",
   "execution_count": 26,
   "metadata": {
    "colab": {
     "base_uri": "https://localhost:8080/",
     "height": 374
    },
    "colab_type": "code",
    "id": "hVD0t2Y5V7Cz",
    "outputId": "2483a9a4-779f-4ede-c85f-af9f286b7ffd"
   },
   "outputs": [
    {
     "name": "stderr",
     "output_type": "stream",
     "text": [
      "/Users/gceran/opt/anaconda3/envs/tensorflow_env/lib/python3.6/site-packages/tensorflow_core/python/framework/indexed_slices.py:424: UserWarning: Converting sparse IndexedSlices to a dense Tensor of unknown shape. This may consume a large amount of memory.\n",
      "  \"Converting sparse IndexedSlices to a dense Tensor of unknown shape. \"\n"
     ]
    },
    {
     "name": "stdout",
     "output_type": "stream",
     "text": [
      "Train on 8078 samples, validate on 3463 samples\n",
      "Epoch 1/10\n",
      "8078/8078 [==============================] - 25s 3ms/step - loss: 0.3662 - accuracy: 0.8517 - val_loss: 0.2327 - val_accuracy: 0.9105\n",
      "Epoch 2/10\n",
      "8078/8078 [==============================] - 21s 3ms/step - loss: 0.1465 - accuracy: 0.9448 - val_loss: 0.2120 - val_accuracy: 0.9215\n",
      "Epoch 3/10\n",
      "8078/8078 [==============================] - 20s 3ms/step - loss: 0.0780 - accuracy: 0.9764 - val_loss: 0.2317 - val_accuracy: 0.9096\n",
      "Epoch 4/10\n",
      "8078/8078 [==============================] - 21s 3ms/step - loss: 0.0495 - accuracy: 0.9853 - val_loss: 0.3185 - val_accuracy: 0.9076\n",
      "Epoch 5/10\n",
      "8078/8078 [==============================] - 20s 3ms/step - loss: 0.0328 - accuracy: 0.9910 - val_loss: 0.3666 - val_accuracy: 0.9102\n",
      "Epoch 6/10\n",
      "8078/8078 [==============================] - 20s 3ms/step - loss: 0.0223 - accuracy: 0.9939 - val_loss: 0.3856 - val_accuracy: 0.9059\n",
      "Epoch 7/10\n",
      "8078/8078 [==============================] - 20s 2ms/step - loss: 0.0168 - accuracy: 0.9959 - val_loss: 0.4106 - val_accuracy: 0.9070\n",
      "Epoch 8/10\n",
      "8078/8078 [==============================] - 20s 2ms/step - loss: 0.0159 - accuracy: 0.9954 - val_loss: 0.4415 - val_accuracy: 0.9041\n",
      "Epoch 9/10\n",
      "8078/8078 [==============================] - 20s 2ms/step - loss: 0.0131 - accuracy: 0.9963 - val_loss: 0.4165 - val_accuracy: 0.9047\n",
      "Epoch 10/10\n",
      "8078/8078 [==============================] - 20s 2ms/step - loss: 0.0136 - accuracy: 0.9964 - val_loss: 0.5085 - val_accuracy: 0.9010\n"
     ]
    }
   ],
   "source": [
    "history = model.fit(X_train, y_train2, validation_data=(X_test, y_test2), epochs=10, batch_size=32)"
   ]
  },
  {
   "cell_type": "code",
   "execution_count": 27,
   "metadata": {
    "colab": {
     "base_uri": "https://localhost:8080/",
     "height": 388
    },
    "colab_type": "code",
    "id": "a3di0orBd8_9",
    "outputId": "533a99c5-e8eb-4441-9d41-3f1fb66b9bf9"
   },
   "outputs": [
    {
     "data": {
      "image/png": "[encoded data removed]",
      "text/plain": [
       "<Figure size 432x288 with 1 Axes>"
      ]
     },
     "metadata": {
      "needs_background": "light"
     },
     "output_type": "display_data"
    },
    {
     "data": {
      "image/png": "[encoded data removed]",
      "text/plain": [
       "<Figure size 432x288 with 1 Axes>"
      ]
     },
     "metadata": {
      "needs_background": "light"
     },
     "output_type": "display_data"
    }
   ],
   "source": [
    "import matplotlib.pyplot as plt\n",
    "%matplotlib inline\n",
    "history_dict = history.history\n",
    "loss_values = history_dict['loss']\n",
    "val_loss_values = history_dict['val_loss']\n",
    "acc_values = history_dict['accuracy']\n",
    "val_acc_values = history_dict['val_accuracy']\n",
    "epochs = range(1, len(val_loss_values) + 1)\n",
    "import matplotlib.ticker as mtick\n",
    "plt.subplot(211)\n",
    "plt.plot(epochs, history.history['loss'], 'bo', label='Training loss')\n",
    "plt.plot(epochs, val_loss_values, 'r', label='Test loss')\n",
    "plt.title('Training and test loss')\n",
    "plt.xlabel('Epochs')\n",
    "plt.ylabel('Loss')\n",
    "plt.legend()\n",
    "plt.grid(False)\n",
    "plt.show()\n",
    "plt.subplot(212)\n",
    "plt.plot(epochs, history.history['accuracy'], 'bo', label='Training accuracy')\n",
    "plt.plot(epochs, val_acc_values, 'r', label='Test accuracy')\n",
    "plt.title('Training and test accuracy')\n",
    "plt.xlabel('Epochs')\n",
    "plt.ylabel('Accuracy')\n",
    "plt.gca().set_yticklabels(['{:.0f}%'.format(x*100) for x in plt.gca().get_yticks()]) \n",
    "plt.legend()\n",
    "plt.grid(False)\n",
    "plt.show()"
   ]
  },
  {
   "cell_type": "code",
   "execution_count": null,
   "metadata": {},
   "outputs": [],
   "source": []
  }
 ],
 "metadata": {
  "colab": {
   "collapsed_sections": [],
   "name": "RNN_and_LSTM_sentiment_classification.ipynb",
   "provenance": []
  },
  "kernelspec": {
   "display_name": "Python 3 (ipykernel)",
   "language": "python",
   "name": "python3"
  },
  "language_info": {
   "codemirror_mode": {
    "name": "ipython",
    "version": 3
   },
   "file_extension": ".py",
   "mimetype": "text/x-python",
   "name": "python",
   "nbconvert_exporter": "python",
   "pygments_lexer": "ipython3",
   "version": "3.8.5"
  }
 },
 "nbformat": 4,
 "nbformat_minor": 4
}
