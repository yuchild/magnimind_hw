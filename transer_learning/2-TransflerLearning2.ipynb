{
 "cells": [
  {
   "cell_type": "markdown",
   "metadata": {
    "id": "DyJ8aamvDumB"
   },
   "source": [
    "### Using the VGG16 Network to Train a Deep Learning Network to Identify Images"
   ]
  },
  {
   "cell_type": "code",
   "execution_count": 1,
   "metadata": {
    "colab": {
     "base_uri": "https://localhost:8080/"
    },
    "executionInfo": {
     "elapsed": 32986,
     "status": "ok",
     "timestamp": 1632390581996,
     "user": {
      "displayName": "yasin ceran",
      "photoUrl": "https://lh3.googleusercontent.com/a-/AOh14Ghbmysom3cjssqhOTBvkuQb5HbiIfoeVL9OoEBiYA=s64",
      "userId": "13329137419290567799"
     },
     "user_tz": 420
    },
    "id": "ktNvn3KRDv7v",
    "outputId": "a3df79bc-85fa-4afc-c8d2-357f1aecd014"
   },
   "outputs": [
    {
     "name": "stdout",
     "output_type": "stream",
     "text": [
      "Mounted at /content/drive\n"
     ]
    }
   ],
   "source": [
    "from google.colab import drive\n",
    "drive.mount('/content/drive')"
   ]
  },
  {
   "cell_type": "markdown",
   "metadata": {
    "id": "mzkfZnezDumC"
   },
   "source": [
    "#### 1 Import the libraries:"
   ]
  },
  {
   "cell_type": "code",
   "execution_count": 2,
   "metadata": {
    "executionInfo": {
     "elapsed": 2518,
     "status": "ok",
     "timestamp": 1632390586187,
     "user": {
      "displayName": "yasin ceran",
      "photoUrl": "https://lh3.googleusercontent.com/a-/AOh14Ghbmysom3cjssqhOTBvkuQb5HbiIfoeVL9OoEBiYA=s64",
      "userId": "13329137419290567799"
     },
     "user_tz": 420
    },
    "id": "59uebM0UDumD"
   },
   "outputs": [],
   "source": [
    "import numpy as np\n",
    "from keras.applications.vgg16 import VGG16\n",
    "from keras.preprocessing import image\n",
    "from keras.applications.vgg16 import preprocess_input"
   ]
  },
  {
   "cell_type": "markdown",
   "metadata": {
    "id": "MlzsGzwhDumE"
   },
   "source": [
    "#### 2 Initiate the model:"
   ]
  },
  {
   "cell_type": "code",
   "execution_count": 3,
   "metadata": {
    "colab": {
     "base_uri": "https://localhost:8080/"
    },
    "executionInfo": {
     "elapsed": 8491,
     "status": "ok",
     "timestamp": 1632390595971,
     "user": {
      "displayName": "yasin ceran",
      "photoUrl": "https://lh3.googleusercontent.com/a-/AOh14Ghbmysom3cjssqhOTBvkuQb5HbiIfoeVL9OoEBiYA=s64",
      "userId": "13329137419290567799"
     },
     "user_tz": 420
    },
    "id": "LfK_3ry1DumF",
    "outputId": "a1e8f45f-4868-4b2e-bba5-913802234773"
   },
   "outputs": [
    {
     "name": "stdout",
     "output_type": "stream",
     "text": [
      "Downloading data from https://storage.googleapis.com/tensorflow/keras-applications/vgg16/vgg16_weights_tf_dim_ordering_tf_kernels.h5\n",
      "553467904/553467096 [==============================] - 6s 0us/step\n",
      "553476096/553467096 [==============================] - 6s 0us/step\n",
      "Model: \"vgg16\"\n",
      "_________________________________________________________________\n",
      "Layer (type)                 Output Shape              Param #   \n",
      "=================================================================\n",
      "input_1 (InputLayer)         [(None, 224, 224, 3)]     0         \n",
      "_________________________________________________________________\n",
      "block1_conv1 (Conv2D)        (None, 224, 224, 64)      1792      \n",
      "_________________________________________________________________\n",
      "block1_conv2 (Conv2D)        (None, 224, 224, 64)      36928     \n",
      "_________________________________________________________________\n",
      "block1_pool (MaxPooling2D)   (None, 112, 112, 64)      0         \n",
      "_________________________________________________________________\n",
      "block2_conv1 (Conv2D)        (None, 112, 112, 128)     73856     \n",
      "_________________________________________________________________\n",
      "block2_conv2 (Conv2D)        (None, 112, 112, 128)     147584    \n",
      "_________________________________________________________________\n",
      "block2_pool (MaxPooling2D)   (None, 56, 56, 128)       0         \n",
      "_________________________________________________________________\n",
      "block3_conv1 (Conv2D)        (None, 56, 56, 256)       295168    \n",
      "_________________________________________________________________\n",
      "block3_conv2 (Conv2D)        (None, 56, 56, 256)       590080    \n",
      "_________________________________________________________________\n",
      "block3_conv3 (Conv2D)        (None, 56, 56, 256)       590080    \n",
      "_________________________________________________________________\n",
      "block3_pool (MaxPooling2D)   (None, 28, 28, 256)       0         \n",
      "_________________________________________________________________\n",
      "block4_conv1 (Conv2D)        (None, 28, 28, 512)       1180160   \n",
      "_________________________________________________________________\n",
      "block4_conv2 (Conv2D)        (None, 28, 28, 512)       2359808   \n",
      "_________________________________________________________________\n",
      "block4_conv3 (Conv2D)        (None, 28, 28, 512)       2359808   \n",
      "_________________________________________________________________\n",
      "block4_pool (MaxPooling2D)   (None, 14, 14, 512)       0         \n",
      "_________________________________________________________________\n",
      "block5_conv1 (Conv2D)        (None, 14, 14, 512)       2359808   \n",
      "_________________________________________________________________\n",
      "block5_conv2 (Conv2D)        (None, 14, 14, 512)       2359808   \n",
      "_________________________________________________________________\n",
      "block5_conv3 (Conv2D)        (None, 14, 14, 512)       2359808   \n",
      "_________________________________________________________________\n",
      "block5_pool (MaxPooling2D)   (None, 7, 7, 512)         0         \n",
      "_________________________________________________________________\n",
      "flatten (Flatten)            (None, 25088)             0         \n",
      "_________________________________________________________________\n",
      "fc1 (Dense)                  (None, 4096)              102764544 \n",
      "_________________________________________________________________\n",
      "fc2 (Dense)                  (None, 4096)              16781312  \n",
      "_________________________________________________________________\n",
      "predictions (Dense)          (None, 1000)              4097000   \n",
      "=================================================================\n",
      "Total params: 138,357,544\n",
      "Trainable params: 138,357,544\n",
      "Non-trainable params: 0\n",
      "_________________________________________________________________\n",
      "None\n"
     ]
    }
   ],
   "source": [
    "classifier = VGG16()\n",
    "print(classifier.summary())"
   ]
  },
  {
   "cell_type": "markdown",
   "metadata": {
    "id": "jtucvNeUDumF"
   },
   "source": [
    "#### 3 Load the image."
   ]
  },
  {
   "cell_type": "code",
   "execution_count": 4,
   "metadata": {
    "colab": {
     "base_uri": "https://localhost:8080/",
     "height": 292
    },
    "executionInfo": {
     "elapsed": 3508,
     "status": "ok",
     "timestamp": 1632390628434,
     "user": {
      "displayName": "yasin ceran",
      "photoUrl": "https://lh3.googleusercontent.com/a-/AOh14Ghbmysom3cjssqhOTBvkuQb5HbiIfoeVL9OoEBiYA=s64",
      "userId": "13329137419290567799"
     },
     "user_tz": 420
    },
    "id": "GBqK6XcODumG",
    "outputId": "8590f9c3-6bd3-4646-b3b8-b1452fb035ca"
   },
   "outputs": [
    {
     "name": "stderr",
     "output_type": "stream",
     "text": [
      "/usr/local/lib/python3.7/dist-packages/ipykernel_launcher.py:7: DeprecationWarning: PILLOW_VERSION is deprecated and will be removed in a future release. Use __version__ instead.\n",
      "  import sys\n"
     ]
    },
    {
     "name": "stdout",
     "output_type": "stream",
     "text": [
      "7.1.2\n"
     ]
    },
    {
     "data": {
      "image/png": "[encoded data removed]",
      "text/plain": [
       "<PIL.Image.Image image mode=RGB size=224x224 at 0x7FD428B08FD0>"
      ]
     },
     "execution_count": 4,
     "metadata": {},
     "output_type": "execute_result"
    }
   ],
   "source": [
    "import os\n",
    "\n",
    "#!pip install -U pillow\n",
    "#\n",
    "# import PIL\n",
    "import PIL\n",
    "print(PIL.PILLOW_VERSION)\n",
    "# this should print 8.3.2 If it doesn't, then restart your runtime:\n",
    "# Menu > Runtime > Restart Runtime\n",
    "\n",
    "mypath='drive/MyDrive/Courses/MagniMind/Mentorship Program/DL-MentorProgram/DL_Mentor_Week2/Class 2/Week2-Class2-St'\n",
    "pathimage1=os.path.join(mypath, 'Prediction/')\n",
    "\n",
    "new_image= image.load_img(pathimage1+'stick_insect.jpg', target_size=(224, 224))\n",
    "\n",
    "new_image"
   ]
  },
  {
   "cell_type": "code",
   "execution_count": 5,
   "metadata": {
    "colab": {
     "base_uri": "https://localhost:8080/"
    },
    "executionInfo": {
     "elapsed": 349,
     "status": "ok",
     "timestamp": 1632390638162,
     "user": {
      "displayName": "yasin ceran",
      "photoUrl": "https://lh3.googleusercontent.com/a-/AOh14Ghbmysom3cjssqhOTBvkuQb5HbiIfoeVL9OoEBiYA=s64",
      "userId": "13329137419290567799"
     },
     "user_tz": 420
    },
    "id": "ja7F3NmhDumH",
    "outputId": "be597898-56f9-45f1-e11a-d62ed1fe408a",
    "scrolled": true
   },
   "outputs": [
    {
     "data": {
      "text/plain": [
       "(224, 224)"
      ]
     },
     "execution_count": 5,
     "metadata": {},
     "output_type": "execute_result"
    }
   ],
   "source": [
    "new_image.size"
   ]
  },
  {
   "cell_type": "markdown",
   "metadata": {
    "id": "VCrj__43DumH"
   },
   "source": [
    "#### 4 Change the image to an array by using the img_to_array function\n",
    "Next, we can convert the pixels to a NumPy array so that we can work with it in Keras. We can use the img_to_array() function for this."
   ]
  },
  {
   "cell_type": "code",
   "execution_count": 6,
   "metadata": {
    "colab": {
     "base_uri": "https://localhost:8080/"
    },
    "executionInfo": {
     "elapsed": 257,
     "status": "ok",
     "timestamp": 1632390642910,
     "user": {
      "displayName": "yasin ceran",
      "photoUrl": "https://lh3.googleusercontent.com/a-/AOh14Ghbmysom3cjssqhOTBvkuQb5HbiIfoeVL9OoEBiYA=s64",
      "userId": "13329137419290567799"
     },
     "user_tz": 420
    },
    "id": "B_rlONP7DumH",
    "outputId": "08ddd5f4-9765-4fd8-bd65-2382b5e40c15"
   },
   "outputs": [
    {
     "data": {
      "text/plain": [
       "(224, 224, 3)"
      ]
     },
     "execution_count": 6,
     "metadata": {},
     "output_type": "execute_result"
    }
   ],
   "source": [
    "transformed_image = image.img_to_array(new_image)\n",
    "\n",
    "transformed_image.shape"
   ]
  },
  {
   "cell_type": "markdown",
   "metadata": {
    "id": "LQFwuL5iDumI"
   },
   "source": [
    "#### 5 Change the image into four-dimensional form\n",
    "\n",
    "The network expects one or more images as input; that means the input array will need to be 4-dimensional: samples, rows, columns, and channels.\n",
    "\n",
    "We only have one sample (one image). We can reshape the array by calling reshape() and adding the extra dimension.\n"
   ]
  },
  {
   "cell_type": "code",
   "execution_count": 7,
   "metadata": {
    "executionInfo": {
     "elapsed": 228,
     "status": "ok",
     "timestamp": 1632390645385,
     "user": {
      "displayName": "yasin ceran",
      "photoUrl": "https://lh3.googleusercontent.com/a-/AOh14Ghbmysom3cjssqhOTBvkuQb5HbiIfoeVL9OoEBiYA=s64",
      "userId": "13329137419290567799"
     },
     "user_tz": 420
    },
    "id": "4doeQwmwDumI"
   },
   "outputs": [],
   "source": [
    "# reshape data for the model\n",
    "transformed_image = transformed_image.reshape((1, transformed_image.shape[0], transformed_image.shape[1], transformed_image.shape[2]))"
   ]
  },
  {
   "cell_type": "markdown",
   "metadata": {
    "id": "nLHi_J4gDumJ"
   },
   "source": [
    "You an also do the same thing as follows:"
   ]
  },
  {
   "cell_type": "code",
   "execution_count": 8,
   "metadata": {
    "colab": {
     "base_uri": "https://localhost:8080/"
    },
    "executionInfo": {
     "elapsed": 4,
     "status": "ok",
     "timestamp": 1632390647531,
     "user": {
      "displayName": "yasin ceran",
      "photoUrl": "https://lh3.googleusercontent.com/a-/AOh14Ghbmysom3cjssqhOTBvkuQb5HbiIfoeVL9OoEBiYA=s64",
      "userId": "13329137419290567799"
     },
     "user_tz": 420
    },
    "id": "Zcw0ooesDumJ",
    "outputId": "8b1bfa60-238e-4a45-fa53-a52ad519dc64"
   },
   "outputs": [
    {
     "data": {
      "text/plain": [
       "(1, 224, 224, 3)"
      ]
     },
     "execution_count": 8,
     "metadata": {},
     "output_type": "execute_result"
    }
   ],
   "source": [
    "#transformed_image = np.expand_dims(transformed_image, axis=0)\n",
    "\n",
    "transformed_image.shape"
   ]
  },
  {
   "cell_type": "code",
   "execution_count": 9,
   "metadata": {
    "colab": {
     "base_uri": "https://localhost:8080/"
    },
    "executionInfo": {
     "elapsed": 221,
     "status": "ok",
     "timestamp": 1632390649555,
     "user": {
      "displayName": "yasin ceran",
      "photoUrl": "https://lh3.googleusercontent.com/a-/AOh14Ghbmysom3cjssqhOTBvkuQb5HbiIfoeVL9OoEBiYA=s64",
      "userId": "13329137419290567799"
     },
     "user_tz": 420
    },
    "id": "VJCD_JBXDumJ",
    "outputId": "3e07187e-4266-487c-9d67-d95f1af003bf"
   },
   "outputs": [
    {
     "data": {
      "text/plain": [
       "array([[[[167., 133.,  96.],\n",
       "         [175., 141., 106.],\n",
       "         [180., 149., 120.],\n",
       "         ...,\n",
       "         [164., 138., 111.],\n",
       "         [158., 133., 102.],\n",
       "         [155., 131.,  97.]],\n",
       "\n",
       "        [[184., 150., 113.],\n",
       "         [173., 139., 104.],\n",
       "         [178., 148., 112.],\n",
       "         ...,\n",
       "         [153., 128.,  97.],\n",
       "         [156., 131., 101.],\n",
       "         [163., 137., 110.]],\n",
       "\n",
       "        [[189., 154., 114.],\n",
       "         [181., 145., 113.],\n",
       "         [170., 135., 103.],\n",
       "         ...,\n",
       "         [153., 126.,  97.],\n",
       "         [154., 128.,  95.],\n",
       "         [165., 139., 104.]],\n",
       "\n",
       "        ...,\n",
       "\n",
       "        [[157., 124.,  83.],\n",
       "         [150., 114.,  90.],\n",
       "         [154., 122.,  99.],\n",
       "         ...,\n",
       "         [156., 129., 102.],\n",
       "         [145., 117.,  93.],\n",
       "         [134., 105.,  91.]],\n",
       "\n",
       "        [[158., 125.,  92.],\n",
       "         [143., 116.,  87.],\n",
       "         [141., 111.,  85.],\n",
       "         ...,\n",
       "         [143., 116.,  89.],\n",
       "         [167., 141., 116.],\n",
       "         [136., 108.,  86.]],\n",
       "\n",
       "        [[188., 153., 121.],\n",
       "         [172., 141., 112.],\n",
       "         [157., 124.,  93.],\n",
       "         ...,\n",
       "         [150., 119.,  91.],\n",
       "         [142., 113.,  83.],\n",
       "         [146., 125., 104.]]]], dtype=float32)"
      ]
     },
     "execution_count": 9,
     "metadata": {},
     "output_type": "execute_result"
    }
   ],
   "source": [
    "transformed_image"
   ]
  },
  {
   "cell_type": "markdown",
   "metadata": {
    "id": "RU8RdxSDDumK"
   },
   "source": [
    "#### 6 Preprocess the image\n",
    "Next, the image pixels need to be prepared in the same way as the ImageNet training data was prepared. Specifically, from the original paper:\n",
    "\n",
    "`The only preprocessing we do is subtracting the mean RGB value, computed on the training set, from each pixel.\n",
    "Preprocess the image using the preprocess_input function`"
   ]
  },
  {
   "cell_type": "code",
   "execution_count": 10,
   "metadata": {
    "colab": {
     "base_uri": "https://localhost:8080/"
    },
    "executionInfo": {
     "elapsed": 222,
     "status": "ok",
     "timestamp": 1632390652375,
     "user": {
      "displayName": "yasin ceran",
      "photoUrl": "https://lh3.googleusercontent.com/a-/AOh14Ghbmysom3cjssqhOTBvkuQb5HbiIfoeVL9OoEBiYA=s64",
      "userId": "13329137419290567799"
     },
     "user_tz": 420
    },
    "id": "J2o62GukDumK",
    "outputId": "507bf959-5856-457b-90ac-0b2ee37c439d"
   },
   "outputs": [
    {
     "data": {
      "text/plain": [
       "array([[[[-7.9390030e+00,  1.6221001e+01,  4.3320000e+01],\n",
       "         [ 2.0609970e+00,  2.4221001e+01,  5.1320000e+01],\n",
       "         [ 1.6060997e+01,  3.2221001e+01,  5.6320000e+01],\n",
       "         ...,\n",
       "         [ 7.0609970e+00,  2.1221001e+01,  4.0320000e+01],\n",
       "         [-1.9390030e+00,  1.6221001e+01,  3.4320000e+01],\n",
       "         [-6.9390030e+00,  1.4221001e+01,  3.1320000e+01]],\n",
       "\n",
       "        [[ 9.0609970e+00,  3.3221001e+01,  6.0320000e+01],\n",
       "         [ 6.0997009e-02,  2.2221001e+01,  4.9320000e+01],\n",
       "         [ 8.0609970e+00,  3.1221001e+01,  5.4320000e+01],\n",
       "         ...,\n",
       "         [-6.9390030e+00,  1.1221001e+01,  2.9320000e+01],\n",
       "         [-2.9390030e+00,  1.4221001e+01,  3.2320000e+01],\n",
       "         [ 6.0609970e+00,  2.0221001e+01,  3.9320000e+01]],\n",
       "\n",
       "        [[ 1.0060997e+01,  3.7221001e+01,  6.5320000e+01],\n",
       "         [ 9.0609970e+00,  2.8221001e+01,  5.7320000e+01],\n",
       "         [-9.3900299e-01,  1.8221001e+01,  4.6320000e+01],\n",
       "         ...,\n",
       "         [-6.9390030e+00,  9.2210007e+00,  2.9320000e+01],\n",
       "         [-8.9390030e+00,  1.1221001e+01,  3.0320000e+01],\n",
       "         [ 6.0997009e-02,  2.2221001e+01,  4.1320000e+01]],\n",
       "\n",
       "        ...,\n",
       "\n",
       "        [[-2.0939003e+01,  7.2210007e+00,  3.3320000e+01],\n",
       "         [-1.3939003e+01, -2.7789993e+00,  2.6320000e+01],\n",
       "         [-4.9390030e+00,  5.2210007e+00,  3.0320000e+01],\n",
       "         ...,\n",
       "         [-1.9390030e+00,  1.2221001e+01,  3.2320000e+01],\n",
       "         [-1.0939003e+01,  2.2100067e-01,  2.1320000e+01],\n",
       "         [-1.2939003e+01, -1.1778999e+01,  1.0320000e+01]],\n",
       "\n",
       "        [[-1.1939003e+01,  8.2210007e+00,  3.4320000e+01],\n",
       "         [-1.6939003e+01, -7.7899933e-01,  1.9320000e+01],\n",
       "         [-1.8939003e+01, -5.7789993e+00,  1.7320000e+01],\n",
       "         ...,\n",
       "         [-1.4939003e+01, -7.7899933e-01,  1.9320000e+01],\n",
       "         [ 1.2060997e+01,  2.4221001e+01,  4.3320000e+01],\n",
       "         [-1.7939003e+01, -8.7789993e+00,  1.2320000e+01]],\n",
       "\n",
       "        [[ 1.7060997e+01,  3.6221001e+01,  6.4320000e+01],\n",
       "         [ 8.0609970e+00,  2.4221001e+01,  4.8320000e+01],\n",
       "         [-1.0939003e+01,  7.2210007e+00,  3.3320000e+01],\n",
       "         ...,\n",
       "         [-1.2939003e+01,  2.2210007e+00,  2.6320000e+01],\n",
       "         [-2.0939003e+01, -3.7789993e+00,  1.8320000e+01],\n",
       "         [ 6.0997009e-02,  8.2210007e+00,  2.2320000e+01]]]],\n",
       "      dtype=float32)"
      ]
     },
     "execution_count": 10,
     "metadata": {},
     "output_type": "execute_result"
    }
   ],
   "source": [
    "transformed_image = preprocess_input(transformed_image)\n",
    "\n",
    "transformed_image"
   ]
  },
  {
   "cell_type": "markdown",
   "metadata": {
    "id": "GgTRt1TADumL"
   },
   "source": [
    "#### 7 Create the `predictor` variable:\n",
    "We can call the `predict()` function on the model in order to get a prediction of the probability of the image belonging to each of the 1000 known object types."
   ]
  },
  {
   "cell_type": "code",
   "execution_count": 11,
   "metadata": {
    "colab": {
     "base_uri": "https://localhost:8080/"
    },
    "executionInfo": {
     "elapsed": 1446,
     "status": "ok",
     "timestamp": 1632390656927,
     "user": {
      "displayName": "yasin ceran",
      "photoUrl": "https://lh3.googleusercontent.com/a-/AOh14Ghbmysom3cjssqhOTBvkuQb5HbiIfoeVL9OoEBiYA=s64",
      "userId": "13329137419290567799"
     },
     "user_tz": 420
    },
    "id": "3s2c09UJDumL",
    "outputId": "b51cd045-2c0c-4ae1-c636-309a4db6fff4"
   },
   "outputs": [
    {
     "data": {
      "text/plain": [
       "array([[4.21830066e-07, 1.85480485e-06, 1.72294108e-06, 6.76564582e-07,\n",
       "        2.89053787e-05, 1.41853125e-05, 1.71890460e-05, 2.24749442e-06,\n",
       "        3.92589527e-06, 3.78674349e-06, 2.06268342e-05, 7.51030484e-06,\n",
       "        1.40643479e-05, 3.43732900e-05, 1.98462840e-05, 8.18991157e-06,\n",
       "        1.08288232e-05, 1.76717949e-05, 1.64576668e-05, 3.33322605e-05,\n",
       "        2.74088525e-05, 3.04659261e-06, 5.54779490e-06, 4.73525370e-06,\n",
       "        3.29870454e-06, 1.77044116e-04, 1.83029595e-04, 5.83823654e-04,\n",
       "        5.24099858e-04, 1.54459792e-06, 5.06804681e-05, 1.18027834e-04,\n",
       "        2.67617899e-04, 1.81688829e-05, 3.93874507e-05, 4.16620678e-05,\n",
       "        1.94424792e-05, 3.64137195e-05, 4.32395784e-04, 1.50895476e-05,\n",
       "        6.48876419e-04, 8.92810291e-04, 4.67032223e-04, 1.95193570e-05,\n",
       "        1.00129517e-03, 1.36421746e-04, 4.56671783e-04, 4.72387146e-05,\n",
       "        5.16185082e-06, 2.23003972e-05, 1.38761889e-05, 3.23492327e-06,\n",
       "        3.17189289e-04, 1.60120457e-04, 1.34436341e-04, 1.18729522e-05,\n",
       "        1.03274040e-04, 1.06102947e-04, 9.10378149e-05, 3.55899101e-05,\n",
       "        3.40783998e-04, 3.49663387e-05, 1.47626206e-05, 5.18944717e-06,\n",
       "        2.36639899e-05, 2.91944980e-05, 1.46813501e-04, 8.76611593e-05,\n",
       "        1.58484880e-04, 3.20515013e-04, 6.66522533e-02, 1.62668456e-03,\n",
       "        5.70138742e-04, 3.67029570e-02, 4.12856322e-03, 1.79513805e-02,\n",
       "        4.74475138e-03, 2.60356784e-01, 3.72020458e-03, 1.19797075e-02,\n",
       "        1.38302335e-06, 9.69984285e-06, 1.89697585e-05, 1.63109075e-06,\n",
       "        2.50307107e-06, 7.78198137e-06, 4.09929453e-06, 4.58318391e-06,\n",
       "        5.18825436e-06, 1.28452837e-06, 2.37400627e-06, 5.61925890e-06,\n",
       "        1.54661873e-04, 4.35697757e-06, 1.95745724e-05, 8.62735851e-06,\n",
       "        2.05392575e-06, 1.31254569e-06, 1.58881664e-06, 1.53296651e-06,\n",
       "        7.01596264e-07, 1.65089205e-06, 2.37409786e-05, 6.67196628e-06,\n",
       "        2.57332613e-05, 1.29535283e-06, 8.23492155e-06, 9.10768051e-07,\n",
       "        3.72346972e-06, 1.02771378e-06, 2.42406804e-06, 9.23998741e-05,\n",
       "        5.22842529e-05, 4.20715020e-04, 6.62717677e-04, 8.45041484e-07,\n",
       "        8.35734681e-06, 3.86041029e-06, 3.42792046e-05, 8.60452055e-05,\n",
       "        8.35118815e-04, 1.79710860e-05, 3.64537809e-05, 9.71815316e-05,\n",
       "        3.72413051e-04, 2.29842393e-04, 7.11897330e-04, 8.04930914e-06,\n",
       "        2.08385554e-05, 4.81672714e-06, 5.74698834e-06, 2.04065018e-05,\n",
       "        9.14213706e-06, 8.15197836e-06, 8.68080588e-06, 7.53047289e-06,\n",
       "        7.02205170e-06, 1.31241613e-05, 7.51243988e-06, 2.49247441e-05,\n",
       "        5.20300309e-05, 7.38824019e-05, 5.14391650e-05, 9.34046966e-06,\n",
       "        7.15481519e-06, 1.16090303e-06, 1.83412249e-06, 1.09728705e-06,\n",
       "        3.45642718e-07, 7.38948756e-07, 5.07293817e-06, 2.11269835e-05,\n",
       "        6.54067605e-07, 4.78363381e-06, 7.48035427e-06, 1.08693603e-05,\n",
       "        1.75378009e-05, 6.16941861e-06, 1.32062105e-05, 1.18298558e-05,\n",
       "        1.66245707e-06, 9.30130500e-06, 6.84159613e-06, 7.92125957e-06,\n",
       "        4.16440525e-06, 4.77787535e-06, 4.10600887e-06, 1.61667901e-06,\n",
       "        5.94461198e-05, 2.35059906e-06, 9.59677982e-06, 3.19622159e-05,\n",
       "        7.34902460e-06, 3.24321400e-06, 1.91669897e-05, 1.15806563e-06,\n",
       "        3.69178861e-06, 2.76664150e-06, 3.11160511e-05, 8.79613435e-06,\n",
       "        8.32542355e-06, 3.20414574e-06, 2.05599245e-05, 2.77498361e-06,\n",
       "        2.21837108e-05, 9.72009002e-05, 3.85640160e-05, 2.24310170e-05,\n",
       "        2.67418113e-06, 8.63934656e-06, 1.84700980e-06, 9.45127613e-06,\n",
       "        3.71648275e-05, 5.51638823e-06, 1.11225518e-06, 1.48739646e-05,\n",
       "        1.63179793e-05, 4.79936716e-06, 3.18145544e-06, 7.58984606e-06,\n",
       "        3.31827005e-06, 2.12995092e-05, 1.78258106e-05, 1.63040731e-05,\n",
       "        1.31226225e-05, 2.25235453e-06, 1.49732398e-06, 1.43656844e-05,\n",
       "        2.89050477e-05, 7.16528666e-05, 1.28468337e-05, 1.44485612e-05,\n",
       "        2.61556420e-06, 9.46656655e-06, 1.67369933e-06, 9.45655847e-06,\n",
       "        1.96078759e-06, 3.95060079e-06, 1.26507030e-05, 5.27638440e-06,\n",
       "        1.86322779e-06, 1.80239067e-06, 4.11193378e-06, 9.36242668e-06,\n",
       "        5.48936077e-06, 5.79336074e-06, 4.20580182e-06, 4.44508532e-06,\n",
       "        2.32351067e-06, 4.20384913e-06, 2.98716782e-06, 3.69196118e-06,\n",
       "        5.58015245e-06, 1.08515292e-06, 5.04093487e-06, 3.21898210e-06,\n",
       "        7.98692054e-06, 1.09685343e-05, 1.79175629e-06, 1.54964982e-06,\n",
       "        4.21677805e-06, 2.91139054e-06, 8.87160149e-06, 1.20201948e-05,\n",
       "        7.91047512e-07, 1.98629095e-05, 5.21728543e-06, 2.72515945e-06,\n",
       "        8.86526686e-06, 1.38970609e-05, 1.13667711e-05, 9.76398405e-06,\n",
       "        3.34379479e-06, 1.53845358e-05, 1.72001146e-05, 1.70031888e-06,\n",
       "        2.70236910e-06, 3.60091758e-06, 7.47041668e-06, 7.24002348e-06,\n",
       "        7.23748326e-06, 5.14722115e-06, 7.66168341e-06, 1.96150668e-05,\n",
       "        1.35273958e-05, 8.98095459e-06, 1.20476125e-05, 2.87254761e-06,\n",
       "        6.37075891e-06, 3.16866522e-06, 2.51217011e-06, 5.95788379e-06,\n",
       "        2.32696239e-05, 1.04359497e-05, 5.31231353e-06, 6.85465102e-06,\n",
       "        6.45031969e-06, 1.88308422e-05, 2.32489274e-05, 1.27377816e-05,\n",
       "        8.46926559e-06, 2.07520079e-05, 1.35846285e-05, 7.97759549e-06,\n",
       "        2.59106873e-05, 1.40908096e-05, 2.75301700e-05, 4.94828328e-06,\n",
       "        4.25681537e-06, 2.51976189e-06, 2.78002153e-06, 3.62005494e-06,\n",
       "        2.90720118e-06, 6.66682035e-06, 1.27144131e-06, 2.24106270e-06,\n",
       "        6.99389773e-07, 1.55557393e-06, 6.60069418e-05, 4.38073257e-05,\n",
       "        1.06156543e-02, 3.63921950e-04, 2.89754570e-03, 5.16971853e-03,\n",
       "        2.04209180e-04, 2.09899200e-03, 2.52544938e-04, 1.26846437e-03,\n",
       "        1.89263269e-03, 1.40674674e-04, 2.14015618e-02, 1.90762314e-03,\n",
       "        7.09398231e-03, 3.05245191e-01, 3.20408051e-03, 6.19668467e-03,\n",
       "        5.32561913e-04, 2.38543769e-04, 1.10487023e-03, 1.28598725e-02,\n",
       "        4.71447269e-03, 1.41937096e-04, 1.02644844e-04, 1.39868343e-05,\n",
       "        6.33233503e-05, 1.11742876e-04, 5.43911374e-05, 1.23832913e-04,\n",
       "        1.53096655e-04, 1.92682569e-06, 3.47128953e-05, 1.46096636e-05,\n",
       "        7.00013334e-06, 2.73925198e-05, 1.26241275e-05, 1.03421526e-05,\n",
       "        1.75032965e-05, 3.67898647e-05, 1.00372163e-05, 2.36625101e-06,\n",
       "        2.76050832e-06, 4.54549445e-05, 5.94904350e-06, 9.73892111e-06,\n",
       "        5.30574152e-06, 1.14122922e-05, 7.07762547e-06, 1.60570960e-06,\n",
       "        3.27725661e-06, 1.92144471e-05, 9.22528761e-06, 6.76128911e-06,\n",
       "        8.18357967e-06, 1.22959673e-05, 2.98365885e-05, 2.54306315e-06,\n",
       "        1.61229094e-04, 2.09780017e-04, 3.67515349e-05, 3.78437362e-05,\n",
       "        8.59574902e-06, 1.67827784e-05, 1.89176899e-05, 4.22354969e-05,\n",
       "        2.93812286e-06, 3.04197079e-06, 4.04379716e-06, 4.37935614e-06,\n",
       "        4.04088269e-06, 1.32071352e-06, 9.95673236e-06, 4.80905692e-06,\n",
       "        1.73697026e-05, 4.03047779e-05, 4.46527774e-05, 9.92843297e-07,\n",
       "        2.22054259e-05, 2.12460327e-05, 1.22117681e-05, 2.85405577e-06,\n",
       "        1.18427697e-05, 2.96667872e-06, 2.52255704e-05, 8.30238241e-06,\n",
       "        4.89277954e-06, 1.69315790e-05, 6.58874796e-06, 6.03306205e-07,\n",
       "        5.49351626e-07, 1.31560353e-06, 8.44728493e-06, 3.67179564e-06,\n",
       "        4.09858131e-07, 5.83628548e-07, 3.70477483e-06, 1.97325771e-05,\n",
       "        2.30960563e-06, 1.01585738e-05, 2.90390799e-05, 2.37477161e-06,\n",
       "        1.16512570e-06, 4.67562040e-06, 2.32687798e-05, 3.87669716e-05,\n",
       "        9.04285571e-07, 1.48006393e-05, 1.21812818e-05, 1.17024149e-06,\n",
       "        8.61328829e-07, 2.24340241e-04, 1.03408711e-04, 8.71676002e-06,\n",
       "        3.61857601e-05, 1.83049560e-05, 4.60878073e-06, 5.47489481e-06,\n",
       "        1.82829917e-05, 1.03667946e-06, 2.13114065e-04, 1.77645547e-04,\n",
       "        4.62551543e-05, 4.53774155e-05, 9.78710432e-06, 1.81965663e-06,\n",
       "        2.55346436e-06, 1.45003814e-05, 7.43421697e-05, 6.15553436e-05,\n",
       "        7.13296595e-06, 8.98310900e-05, 1.73010430e-05, 1.43686077e-06,\n",
       "        7.82541683e-05, 1.08357644e-05, 4.69457427e-06, 9.23283005e-06,\n",
       "        6.19269940e-07, 1.16739393e-05, 3.49255970e-06, 9.23361767e-07,\n",
       "        1.41361415e-05, 7.06249511e-06, 1.67913258e-05, 1.75095329e-06,\n",
       "        9.64423089e-06, 1.23641321e-05, 6.06638714e-05, 1.59041683e-05,\n",
       "        2.02588722e-04, 6.60598698e-06, 8.08692675e-06, 1.15199415e-04,\n",
       "        2.34181698e-06, 1.11660584e-05, 1.82069812e-06, 8.84185793e-05,\n",
       "        4.97296453e-04, 5.54563667e-06, 1.28438460e-05, 4.54812016e-06,\n",
       "        6.04317393e-05, 5.71874489e-06, 5.86306342e-05, 6.21930576e-06,\n",
       "        1.42889970e-04, 2.46304967e-06, 5.23198139e-07, 1.35384107e-06,\n",
       "        2.65605422e-06, 4.50605194e-06, 8.61318586e-06, 4.96380972e-06,\n",
       "        7.91179264e-06, 7.30485635e-06, 8.55100006e-06, 1.82291501e-06,\n",
       "        1.55864052e-06, 1.92786520e-05, 7.60024413e-05, 1.10151234e-06,\n",
       "        1.81667076e-06, 3.84194936e-05, 9.31736486e-06, 2.89914988e-06,\n",
       "        2.67491077e-06, 8.28562952e-06, 2.69470420e-05, 1.09171897e-05,\n",
       "        1.28758606e-04, 4.86949793e-05, 2.83726536e-06, 2.84394446e-05,\n",
       "        7.04116304e-04, 7.07642757e-05, 1.27480453e-04, 9.41750841e-06,\n",
       "        6.24460017e-06, 5.23201879e-06, 8.28115844e-06, 1.99057267e-05,\n",
       "        7.76833404e-05, 2.22205813e-06, 2.29852794e-05, 4.24155451e-06,\n",
       "        6.26996189e-06, 1.18807902e-05, 3.29106733e-05, 3.72916475e-05,\n",
       "        7.20501248e-06, 1.48108393e-06, 1.66057623e-06, 1.00765828e-06,\n",
       "        5.56631458e-05, 1.78883420e-05, 2.93944431e-05, 2.82604360e-05,\n",
       "        1.10249457e-05, 1.78470727e-05, 3.62380251e-06, 2.28170468e-03,\n",
       "        2.05433321e-06, 1.28763145e-06, 2.47348089e-05, 7.57620364e-05,\n",
       "        7.55773999e-06, 4.52334534e-05, 1.66339669e-05, 1.60323680e-06,\n",
       "        2.38194593e-06, 1.76399453e-06, 7.09402302e-05, 1.56678288e-05,\n",
       "        1.13264039e-04, 2.90958633e-06, 6.56225893e-06, 1.15715548e-05,\n",
       "        1.53845940e-05, 1.29642249e-05, 6.18370223e-06, 2.82931996e-05,\n",
       "        6.99124712e-06, 9.16005883e-05, 3.61417362e-04, 9.73011083e-06,\n",
       "        5.84949430e-06, 7.24760184e-06, 3.57802696e-06, 2.35147809e-06,\n",
       "        5.94615676e-06, 5.48143871e-05, 6.09536471e-07, 1.26487357e-05,\n",
       "        4.73199208e-07, 9.71690170e-05, 1.10686176e-06, 1.65824997e-06,\n",
       "        1.63121586e-05, 5.07369259e-06, 1.18394892e-04, 4.87809193e-05,\n",
       "        1.56209728e-06, 3.13441160e-06, 1.61118496e-05, 1.33572379e-04,\n",
       "        3.74437241e-06, 7.37997607e-06, 1.68929328e-05, 3.17325566e-06,\n",
       "        8.70781150e-06, 1.68278837e-06, 9.52219671e-06, 1.17319701e-06,\n",
       "        3.98802331e-06, 1.78698849e-06, 2.00851482e-05, 2.92857067e-07,\n",
       "        2.35329753e-06, 3.40107908e-05, 7.23545043e-07, 2.93022345e-06,\n",
       "        4.28278645e-06, 4.95184963e-07, 4.19645858e-06, 1.19611550e-05,\n",
       "        1.31507302e-04, 1.31327442e-06, 4.53152916e-06, 5.02145500e-04,\n",
       "        7.94935113e-06, 2.73998739e-06, 1.60330262e-06, 2.35023927e-05,\n",
       "        3.27345811e-06, 2.93787780e-05, 1.98942453e-05, 3.92572292e-06,\n",
       "        2.58072483e-04, 6.90534989e-06, 3.42157955e-06, 1.09576351e-04,\n",
       "        9.87404026e-04, 1.58272360e-06, 3.19096798e-05, 6.26433166e-06,\n",
       "        1.71805405e-05, 2.68290096e-05, 1.76890953e-05, 4.07356993e-06,\n",
       "        2.20061647e-05, 1.15342527e-06, 7.87365934e-06, 1.68373645e-05,\n",
       "        3.33952107e-06, 1.81659016e-05, 3.67434222e-06, 9.38072208e-06,\n",
       "        4.11858608e-04, 1.70924136e-06, 5.28430828e-05, 2.76744231e-05,\n",
       "        3.94609378e-06, 4.26477163e-06, 5.62365785e-05, 1.94830267e-04,\n",
       "        3.01115074e-06, 3.46631214e-06, 1.13246650e-04, 2.51962121e-07,\n",
       "        7.96451241e-06, 2.50677476e-05, 1.37043869e-04, 5.35007393e-06,\n",
       "        1.34197062e-05, 4.97083274e-05, 1.23970036e-04, 2.59597837e-05,\n",
       "        7.48417915e-06, 1.57108752e-05, 6.39513792e-06, 4.09771974e-06,\n",
       "        1.20410759e-05, 1.45276499e-05, 4.68511716e-05, 5.27694065e-05,\n",
       "        2.32404168e-03, 8.15386329e-07, 8.48289856e-05, 1.41181827e-05,\n",
       "        2.75315888e-05, 2.92445293e-06, 4.18485106e-05, 2.69717611e-06,\n",
       "        8.72087548e-06, 3.83102224e-06, 4.69315268e-07, 1.37528232e-05,\n",
       "        4.20242401e-07, 1.78809751e-05, 3.39233920e-05, 1.02005997e-05,\n",
       "        2.80413792e-06, 8.86761313e-07, 1.28173906e-05, 7.15656188e-06,\n",
       "        2.48590686e-06, 2.23725533e-06, 5.72588033e-05, 1.02856638e-05,\n",
       "        9.54735242e-07, 3.92180527e-06, 1.52796895e-06, 2.02015217e-05,\n",
       "        8.64092908e-06, 1.09186376e-05, 3.39135737e-03, 3.15856283e-07,\n",
       "        2.37241966e-06, 1.43231690e-01, 1.18265336e-06, 1.21425372e-04,\n",
       "        2.65559561e-06, 6.52151357e-06, 1.67978840e-06, 9.44198255e-05,\n",
       "        3.69097033e-05, 1.39652752e-06, 8.31541342e-07, 1.31760562e-05,\n",
       "        7.54781468e-06, 5.20907406e-07, 3.74067486e-06, 2.29637726e-06,\n",
       "        4.05429819e-05, 2.79918295e-05, 7.74499858e-06, 1.69647523e-04,\n",
       "        1.19609394e-04, 1.28926320e-06, 8.13184784e-07, 5.76136654e-06,\n",
       "        3.22892702e-05, 1.36777835e-05, 4.84271150e-05, 4.74974058e-06,\n",
       "        3.26249574e-05, 1.12772648e-06, 3.40818451e-06, 4.45552996e-06,\n",
       "        1.60234879e-06, 2.48955712e-05, 4.24978025e-05, 2.52477857e-05,\n",
       "        3.62782594e-05, 2.33776450e-06, 8.78275168e-05, 1.27349631e-05,\n",
       "        1.25381239e-05, 4.96063137e-07, 2.78306579e-05, 7.57589623e-06,\n",
       "        7.31843966e-06, 1.24836943e-05, 7.06544961e-05, 1.44520618e-05,\n",
       "        1.54374320e-05, 8.99622228e-06, 2.69314594e-04, 3.07728874e-06,\n",
       "        5.21891297e-06, 1.27806015e-05, 1.77601742e-05, 2.72098514e-05,\n",
       "        6.83403141e-06, 5.59124048e-04, 5.12379358e-07, 3.44082355e-06,\n",
       "        1.13543229e-05, 6.51942401e-06, 3.98445191e-05, 7.18686761e-06,\n",
       "        1.14225782e-04, 1.02409140e-05, 2.46943773e-06, 1.12808311e-05,\n",
       "        8.87254100e-06, 1.16276112e-06, 1.20920617e-04, 5.36264997e-06,\n",
       "        6.72217948e-06, 5.87897317e-04, 7.38210929e-06, 3.51748713e-05,\n",
       "        4.56359812e-05, 1.50479163e-05, 8.25083953e-06, 3.65467054e-06,\n",
       "        2.56167687e-06, 4.77325284e-06, 5.46947522e-05, 9.32485000e-06,\n",
       "        1.16615556e-05, 5.98186944e-06, 2.00769614e-06, 2.56468229e-05,\n",
       "        1.06176281e-04, 1.18771877e-05, 2.02593819e-05, 1.67241174e-04,\n",
       "        3.40166753e-06, 3.00846552e-03, 1.38347505e-05, 3.77496031e-06,\n",
       "        5.04150230e-04, 1.62985998e-05, 9.55450305e-05, 7.95780352e-07,\n",
       "        2.59777389e-05, 6.01755382e-05, 8.58504882e-06, 1.71590818e-06,\n",
       "        2.83474074e-05, 2.26615020e-06, 1.47716958e-06, 5.63202566e-03,\n",
       "        1.72806706e-03, 2.55273250e-07, 1.14242603e-05, 6.81493257e-05,\n",
       "        4.20848619e-06, 2.64482005e-05, 3.13688770e-06, 1.02302847e-05,\n",
       "        2.65984017e-05, 2.82546534e-06, 4.44024681e-06, 3.55610420e-04,\n",
       "        1.68149309e-05, 3.70812222e-06, 1.96181736e-05, 1.83188058e-05,\n",
       "        4.12931684e-07, 1.02850117e-06, 9.88767056e-07, 1.74156060e-06,\n",
       "        5.07914410e-06, 2.39156161e-05, 1.71558986e-05, 4.71272779e-06,\n",
       "        2.38690191e-05, 5.17384660e-06, 4.57621763e-06, 3.82629378e-06,\n",
       "        1.07958167e-05, 5.48957869e-05, 4.10055372e-06, 2.86627037e-04,\n",
       "        1.75405861e-04, 3.39205400e-07, 1.06453226e-05, 5.39040548e-06,\n",
       "        1.49010737e-06, 2.48306128e-06, 1.37305833e-05, 7.84969779e-06,\n",
       "        9.02755232e-07, 2.16290282e-05, 5.17279332e-05, 5.63409094e-06,\n",
       "        2.15598320e-05, 1.20758177e-05, 1.13517999e-05, 6.41949464e-06,\n",
       "        2.06882123e-06, 8.32168080e-05, 1.62548731e-05, 2.14239422e-04,\n",
       "        2.03869713e-05, 1.53373512e-05, 3.23010477e-06, 3.60228455e-06,\n",
       "        9.82208949e-05, 1.68814349e-05, 1.31398037e-05, 1.33620342e-05,\n",
       "        8.46661278e-05, 1.60513935e-03, 9.35015760e-06, 5.31211072e-06,\n",
       "        1.64263365e-05, 4.85166765e-06, 2.47151220e-05, 4.21922368e-06,\n",
       "        8.67745039e-05, 6.99576558e-05, 1.15270459e-05, 2.31744940e-04,\n",
       "        3.24273492e-06, 1.19504875e-06, 9.99420536e-06, 2.50925514e-05,\n",
       "        4.89176318e-06, 2.96873645e-06, 1.38309451e-06, 1.21778558e-05,\n",
       "        1.27380792e-06, 9.29904729e-07, 2.12910095e-06, 3.12395173e-06,\n",
       "        1.42003701e-04, 1.07203768e-05, 1.80269399e-05, 3.86890224e-06,\n",
       "        2.88125186e-04, 8.57438772e-06, 3.12397560e-06, 2.61237965e-05,\n",
       "        8.39570748e-06, 9.64895116e-06, 1.72725311e-06, 2.75853599e-05,\n",
       "        5.57022831e-05, 1.88381327e-05, 6.06734420e-06, 1.02652812e-05,\n",
       "        1.89315877e-04, 1.02317872e-05, 2.79322535e-07, 2.40475219e-06,\n",
       "        1.27169835e-06, 3.59915794e-05, 2.68231252e-05, 2.58405930e-06,\n",
       "        1.03467260e-03, 1.99852566e-05, 2.04024735e-04, 2.09626924e-05,\n",
       "        5.68218502e-06, 3.65429401e-06, 1.02378190e-05, 4.96371513e-06,\n",
       "        1.12345588e-05, 1.50637175e-06, 1.75531786e-05, 7.00420060e-06,\n",
       "        8.47876581e-05, 6.62713819e-06, 5.23416475e-06, 2.31852700e-05,\n",
       "        1.26479517e-05, 2.00229806e-06, 2.13589985e-04, 2.66857260e-05,\n",
       "        2.38179709e-05, 6.90492525e-05, 6.00556268e-06, 3.21110815e-06,\n",
       "        2.69878433e-06, 3.19575975e-06, 1.41691016e-05, 2.57456795e-05,\n",
       "        1.35581731e-05, 1.40636239e-05, 6.22237303e-06, 7.03267369e-06,\n",
       "        3.54339363e-06, 1.93955429e-06, 9.27226779e-07, 5.97861299e-06,\n",
       "        3.11491681e-06, 4.12757072e-06, 4.00138197e-05, 1.20352106e-05,\n",
       "        1.29409400e-05, 1.36377639e-06, 4.66514030e-06, 5.57128305e-06,\n",
       "        1.76220556e-06, 3.05932781e-06, 2.39696988e-06, 1.65362198e-05,\n",
       "        2.09566169e-05, 2.50300054e-05, 5.92382494e-05, 2.30911355e-05,\n",
       "        1.81135874e-05, 4.43696172e-06, 1.11029831e-05, 4.58409486e-05,\n",
       "        1.62063545e-04, 4.39788028e-06, 1.69624800e-05, 4.79966457e-06,\n",
       "        1.25250262e-05, 2.50754711e-05, 8.60109503e-06, 1.12443274e-06,\n",
       "        1.13760980e-05, 3.36963967e-05, 8.29845230e-05, 5.57226031e-06,\n",
       "        5.58767670e-06, 6.83287508e-05, 5.99750410e-06, 1.51566710e-05,\n",
       "        4.11688379e-05, 4.49349545e-06, 1.03180464e-05, 6.75805950e-06,\n",
       "        8.73443514e-06, 2.91474112e-06, 1.45015711e-05, 6.88943146e-06,\n",
       "        2.01459698e-04, 9.05511854e-07, 4.37400104e-06, 6.46954732e-06,\n",
       "        7.49625133e-06, 1.33973794e-04, 8.14213781e-05, 8.66817743e-07,\n",
       "        1.47387959e-06, 2.09265581e-05, 3.80990127e-06, 1.07674111e-06,\n",
       "        1.81786399e-05, 1.97454719e-05, 3.41154373e-06, 1.34432876e-05,\n",
       "        6.14176621e-04, 2.95571190e-05, 5.27392694e-05, 2.07396824e-05,\n",
       "        1.09792309e-05, 7.14920816e-06, 1.83698012e-05, 9.45022621e-05,\n",
       "        5.50660916e-05, 6.54342730e-05, 2.04967091e-05, 6.85422629e-06]],\n",
       "      dtype=float32)"
      ]
     },
     "execution_count": 11,
     "metadata": {},
     "output_type": "execute_result"
    }
   ],
   "source": [
    "y_pred = classifier.predict(transformed_image)\n",
    "\n",
    "y_pred"
   ]
  },
  {
   "cell_type": "markdown",
   "metadata": {
    "id": "Aqs8-_6aDumL"
   },
   "source": [
    "#### 8 Check the shape of the image. \n",
    "It should be (1,1000). It's 1000 because the ImageNet database has 1000 categories of images. The predictor variable shows the probability of our image being one of those images:\n"
   ]
  },
  {
   "cell_type": "code",
   "execution_count": 12,
   "metadata": {
    "colab": {
     "base_uri": "https://localhost:8080/"
    },
    "executionInfo": {
     "elapsed": 220,
     "status": "ok",
     "timestamp": 1632390658937,
     "user": {
      "displayName": "yasin ceran",
      "photoUrl": "https://lh3.googleusercontent.com/a-/AOh14Ghbmysom3cjssqhOTBvkuQb5HbiIfoeVL9OoEBiYA=s64",
      "userId": "13329137419290567799"
     },
     "user_tz": 420
    },
    "id": "f94GImSzDumM",
    "outputId": "0cf2b4a8-6d87-49e1-a732-5bdfa9ad7a58"
   },
   "outputs": [
    {
     "data": {
      "text/plain": [
       "(1, 1000)"
      ]
     },
     "execution_count": 12,
     "metadata": {},
     "output_type": "execute_result"
    }
   ],
   "source": [
    "y_pred.shape"
   ]
  },
  {
   "cell_type": "markdown",
   "metadata": {
    "id": "dD3sZMtMDumM"
   },
   "source": [
    "#### 9 Print the top five probabilities of what our image is\n",
    "Use the `decode_predictions` function and pass the function of the predictor variable, `y_pred`, and the number of predictions and corresponding labels to output:"
   ]
  },
  {
   "cell_type": "code",
   "execution_count": 13,
   "metadata": {
    "colab": {
     "base_uri": "https://localhost:8080/"
    },
    "executionInfo": {
     "elapsed": 4,
     "status": "ok",
     "timestamp": 1632390660338,
     "user": {
      "displayName": "yasin ceran",
      "photoUrl": "https://lh3.googleusercontent.com/a-/AOh14Ghbmysom3cjssqhOTBvkuQb5HbiIfoeVL9OoEBiYA=s64",
      "userId": "13329137419290567799"
     },
     "user_tz": 420
    },
    "id": "8mdcLd1GDumM",
    "outputId": "0fed3e7a-596c-41a8-dc8f-24319ec66627"
   },
   "outputs": [
    {
     "name": "stdout",
     "output_type": "stream",
     "text": [
      "Downloading data from https://storage.googleapis.com/download.tensorflow.org/data/imagenet_class_index.json\n",
      "40960/35363 [==================================] - 0s 0us/step\n",
      "49152/35363 [=========================================] - 0s 0us/step\n"
     ]
    },
    {
     "data": {
      "text/plain": [
       "[[('n02231487', 'walking_stick', 0.3052452),\n",
       "  ('n01775062', 'wolf_spider', 0.26035678),\n",
       "  ('n03804744', 'nail', 0.14323169),\n",
       "  ('n01770081', 'harvestman', 0.06665225),\n",
       "  ('n01773549', 'barn_spider', 0.036702957)]]"
      ]
     },
     "execution_count": 13,
     "metadata": {},
     "output_type": "execute_result"
    }
   ],
   "source": [
    "from keras.applications.vgg16 import decode_predictions\n",
    "\n",
    "decode_predictions(y_pred,top=5)"
   ]
  },
  {
   "cell_type": "markdown",
   "metadata": {
    "id": "HVEsqSxQDumN"
   },
   "source": [
    "#### 2.10 Put the predictions in a human-readable form. \n",
    "Print the most probable label from the output from the result of the `decode_predictions` function:\n"
   ]
  },
  {
   "cell_type": "code",
   "execution_count": 14,
   "metadata": {
    "colab": {
     "base_uri": "https://localhost:8080/"
    },
    "executionInfo": {
     "elapsed": 4,
     "status": "ok",
     "timestamp": 1632390663526,
     "user": {
      "displayName": "yasin ceran",
      "photoUrl": "https://lh3.googleusercontent.com/a-/AOh14Ghbmysom3cjssqhOTBvkuQb5HbiIfoeVL9OoEBiYA=s64",
      "userId": "13329137419290567799"
     },
     "user_tz": 420
    },
    "id": "3GtepeD6DumN",
    "outputId": "1e8a0e24-65d4-4812-f345-6477874f6b91"
   },
   "outputs": [
    {
     "name": "stdout",
     "output_type": "stream",
     "text": [
      "walking_stick (30.52%)\n"
     ]
    }
   ],
   "source": [
    "label = decode_predictions(y_pred)\n",
    "\n",
    "# Most likely result is retrieved, for example, the highest probability\n",
    "\n",
    "decoded_label = label[0][0]\n",
    "\n",
    "# The classification is printed\n",
    "\n",
    "print('%s (%.2f%%)' % (decoded_label[1], decoded_label[2]*100 ))"
   ]
  }
 ],
 "metadata": {
  "colab": {
   "name": "2-TransflerLearning2.ipynb",
   "provenance": []
  },
  "kernelspec": {
   "display_name": "Python 3 (ipykernel)",
   "language": "python",
   "name": "python3"
  },
  "language_info": {
   "codemirror_mode": {
    "name": "ipython",
    "version": 3
   },
   "file_extension": ".py",
   "mimetype": "text/x-python",
   "name": "python",
   "nbconvert_exporter": "python",
   "pygments_lexer": "ipython3",
   "version": "3.7.10"
  }
 },
 "nbformat": 4,
 "nbformat_minor": 4
}
