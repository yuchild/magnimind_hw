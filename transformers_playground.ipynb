{
 "cells": [
  {
   "cell_type": "code",
   "execution_count": 29,
   "id": "5b787fe4",
   "metadata": {
    "scrolled": true
   },
   "outputs": [
    {
     "name": "stdout",
     "output_type": "stream",
     "text": [
      "Requirement already satisfied: ipykernel==6.29.5 in ./magenv/lib/python3.12/site-packages (from -r requirements.txt (line 1)) (6.29.5)\n",
      "Requirement already satisfied: nltk==3.9.1 in ./magenv/lib/python3.12/site-packages (from -r requirements.txt (line 2)) (3.9.1)\n",
      "Requirement already satisfied: numpy==2.1.2 in ./magenv/lib/python3.12/site-packages (from -r requirements.txt (line 3)) (2.1.2)\n",
      "Requirement already satisfied: pandas==2.2.3 in ./magenv/lib/python3.12/site-packages (from -r requirements.txt (line 4)) (2.2.3)\n",
      "Requirement already satisfied: setuptools==75.3.0 in ./magenv/lib/python3.12/site-packages (from -r requirements.txt (line 5)) (75.3.0)\n",
      "Requirement already satisfied: spacy==3.8.2 in ./magenv/lib/python3.12/site-packages (from -r requirements.txt (line 6)) (3.8.2)\n",
      "Requirement already satisfied: scikit-learn==1.5.2 in ./magenv/lib/python3.12/site-packages (from -r requirements.txt (line 7)) (1.5.2)\n",
      "Requirement already satisfied: tensorflow==2.18.0 in ./magenv/lib/python3.12/site-packages (from -r requirements.txt (line 9)) (2.18.0)\n",
      "Requirement already satisfied: transformers==4.46.1 in ./magenv/lib/python3.12/site-packages (from -r requirements.txt (line 10)) (4.46.1)\n",
      "Requirement already satisfied: torch==2.5.1 in ./magenv/lib/python3.12/site-packages (from -r requirements.txt (line 11)) (2.5.1)\n",
      "Requirement already satisfied: vaderSentiment==3.3.2 in ./magenv/lib/python3.12/site-packages (from -r requirements.txt (line 12)) (3.3.2)\n",
      "Requirement already satisfied: comm>=0.1.1 in ./magenv/lib/python3.12/site-packages (from ipykernel==6.29.5->-r requirements.txt (line 1)) (0.2.2)\n",
      "Requirement already satisfied: debugpy>=1.6.5 in ./magenv/lib/python3.12/site-packages (from ipykernel==6.29.5->-r requirements.txt (line 1)) (1.8.7)\n",
      "Requirement already satisfied: ipython>=7.23.1 in ./magenv/lib/python3.12/site-packages (from ipykernel==6.29.5->-r requirements.txt (line 1)) (8.29.0)\n",
      "Requirement already satisfied: jupyter-client>=6.1.12 in ./magenv/lib/python3.12/site-packages (from ipykernel==6.29.5->-r requirements.txt (line 1)) (8.6.3)\n",
      "Requirement already satisfied: jupyter-core!=5.0.*,>=4.12 in ./magenv/lib/python3.12/site-packages (from ipykernel==6.29.5->-r requirements.txt (line 1)) (5.7.2)\n",
      "Requirement already satisfied: matplotlib-inline>=0.1 in ./magenv/lib/python3.12/site-packages (from ipykernel==6.29.5->-r requirements.txt (line 1)) (0.1.7)\n",
      "Requirement already satisfied: nest-asyncio in ./magenv/lib/python3.12/site-packages (from ipykernel==6.29.5->-r requirements.txt (line 1)) (1.6.0)\n",
      "Requirement already satisfied: packaging in ./magenv/lib/python3.12/site-packages (from ipykernel==6.29.5->-r requirements.txt (line 1)) (24.1)\n",
      "Requirement already satisfied: psutil in ./magenv/lib/python3.12/site-packages (from ipykernel==6.29.5->-r requirements.txt (line 1)) (6.1.0)\n",
      "Requirement already satisfied: pyzmq>=24 in ./magenv/lib/python3.12/site-packages (from ipykernel==6.29.5->-r requirements.txt (line 1)) (26.2.0)\n",
      "Requirement already satisfied: tornado>=6.1 in ./magenv/lib/python3.12/site-packages (from ipykernel==6.29.5->-r requirements.txt (line 1)) (6.4.1)\n",
      "Requirement already satisfied: traitlets>=5.4.0 in ./magenv/lib/python3.12/site-packages (from ipykernel==6.29.5->-r requirements.txt (line 1)) (5.14.3)\n",
      "Requirement already satisfied: click in ./magenv/lib/python3.12/site-packages (from nltk==3.9.1->-r requirements.txt (line 2)) (8.1.7)\n",
      "Requirement already satisfied: joblib in ./magenv/lib/python3.12/site-packages (from nltk==3.9.1->-r requirements.txt (line 2)) (1.4.2)\n",
      "Requirement already satisfied: regex>=2021.8.3 in ./magenv/lib/python3.12/site-packages (from nltk==3.9.1->-r requirements.txt (line 2)) (2024.9.11)\n",
      "Requirement already satisfied: tqdm in ./magenv/lib/python3.12/site-packages (from nltk==3.9.1->-r requirements.txt (line 2)) (4.66.6)\n",
      "Requirement already satisfied: python-dateutil>=2.8.2 in ./magenv/lib/python3.12/site-packages (from pandas==2.2.3->-r requirements.txt (line 4)) (2.9.0.post0)\n",
      "Requirement already satisfied: pytz>=2020.1 in ./magenv/lib/python3.12/site-packages (from pandas==2.2.3->-r requirements.txt (line 4)) (2024.2)\n",
      "Requirement already satisfied: tzdata>=2022.7 in ./magenv/lib/python3.12/site-packages (from pandas==2.2.3->-r requirements.txt (line 4)) (2024.2)\n",
      "Requirement already satisfied: spacy-legacy<3.1.0,>=3.0.11 in ./magenv/lib/python3.12/site-packages (from spacy==3.8.2->-r requirements.txt (line 6)) (3.0.12)\n",
      "Requirement already satisfied: spacy-loggers<2.0.0,>=1.0.0 in ./magenv/lib/python3.12/site-packages (from spacy==3.8.2->-r requirements.txt (line 6)) (1.0.5)\n",
      "Requirement already satisfied: murmurhash<1.1.0,>=0.28.0 in ./magenv/lib/python3.12/site-packages (from spacy==3.8.2->-r requirements.txt (line 6)) (1.0.10)\n",
      "Requirement already satisfied: cymem<2.1.0,>=2.0.2 in ./magenv/lib/python3.12/site-packages (from spacy==3.8.2->-r requirements.txt (line 6)) (2.0.8)\n",
      "Requirement already satisfied: preshed<3.1.0,>=3.0.2 in ./magenv/lib/python3.12/site-packages (from spacy==3.8.2->-r requirements.txt (line 6)) (3.0.9)\n",
      "Requirement already satisfied: thinc<8.4.0,>=8.3.0 in ./magenv/lib/python3.12/site-packages (from spacy==3.8.2->-r requirements.txt (line 6)) (8.3.2)\n",
      "Requirement already satisfied: wasabi<1.2.0,>=0.9.1 in ./magenv/lib/python3.12/site-packages (from spacy==3.8.2->-r requirements.txt (line 6)) (1.1.3)\n",
      "Requirement already satisfied: srsly<3.0.0,>=2.4.3 in ./magenv/lib/python3.12/site-packages (from spacy==3.8.2->-r requirements.txt (line 6)) (2.4.8)\n",
      "Requirement already satisfied: catalogue<2.1.0,>=2.0.6 in ./magenv/lib/python3.12/site-packages (from spacy==3.8.2->-r requirements.txt (line 6)) (2.0.10)\n",
      "Requirement already satisfied: weasel<0.5.0,>=0.1.0 in ./magenv/lib/python3.12/site-packages (from spacy==3.8.2->-r requirements.txt (line 6)) (0.4.1)\n",
      "Requirement already satisfied: typer<1.0.0,>=0.3.0 in ./magenv/lib/python3.12/site-packages (from spacy==3.8.2->-r requirements.txt (line 6)) (0.12.5)\n",
      "Requirement already satisfied: requests<3.0.0,>=2.13.0 in ./magenv/lib/python3.12/site-packages (from spacy==3.8.2->-r requirements.txt (line 6)) (2.32.3)\n",
      "Requirement already satisfied: pydantic!=1.8,!=1.8.1,<3.0.0,>=1.7.4 in ./magenv/lib/python3.12/site-packages (from spacy==3.8.2->-r requirements.txt (line 6)) (2.9.2)\n",
      "Requirement already satisfied: jinja2 in ./magenv/lib/python3.12/site-packages (from spacy==3.8.2->-r requirements.txt (line 6)) (3.1.4)\n",
      "Requirement already satisfied: langcodes<4.0.0,>=3.2.0 in ./magenv/lib/python3.12/site-packages (from spacy==3.8.2->-r requirements.txt (line 6)) (3.4.1)\n",
      "Requirement already satisfied: scipy>=1.6.0 in ./magenv/lib/python3.12/site-packages (from scikit-learn==1.5.2->-r requirements.txt (line 7)) (1.14.1)\n",
      "Requirement already satisfied: threadpoolctl>=3.1.0 in ./magenv/lib/python3.12/site-packages (from scikit-learn==1.5.2->-r requirements.txt (line 7)) (3.5.0)\n",
      "Requirement already satisfied: absl-py>=1.0.0 in ./magenv/lib/python3.12/site-packages (from tensorflow==2.18.0->-r requirements.txt (line 9)) (2.1.0)\n",
      "Requirement already satisfied: astunparse>=1.6.0 in ./magenv/lib/python3.12/site-packages (from tensorflow==2.18.0->-r requirements.txt (line 9)) (1.6.3)\n",
      "Requirement already satisfied: flatbuffers>=24.3.25 in ./magenv/lib/python3.12/site-packages (from tensorflow==2.18.0->-r requirements.txt (line 9)) (24.3.25)\n",
      "Requirement already satisfied: gast!=0.5.0,!=0.5.1,!=0.5.2,>=0.2.1 in ./magenv/lib/python3.12/site-packages (from tensorflow==2.18.0->-r requirements.txt (line 9)) (0.6.0)\n",
      "Requirement already satisfied: google-pasta>=0.1.1 in ./magenv/lib/python3.12/site-packages (from tensorflow==2.18.0->-r requirements.txt (line 9)) (0.2.0)\n",
      "Requirement already satisfied: libclang>=13.0.0 in ./magenv/lib/python3.12/site-packages (from tensorflow==2.18.0->-r requirements.txt (line 9)) (18.1.1)\n",
      "Requirement already satisfied: opt-einsum>=2.3.2 in ./magenv/lib/python3.12/site-packages (from tensorflow==2.18.0->-r requirements.txt (line 9)) (3.4.0)\n",
      "Requirement already satisfied: protobuf!=4.21.0,!=4.21.1,!=4.21.2,!=4.21.3,!=4.21.4,!=4.21.5,<6.0.0dev,>=3.20.3 in ./magenv/lib/python3.12/site-packages (from tensorflow==2.18.0->-r requirements.txt (line 9)) (5.28.3)\n"
     ]
    },
    {
     "name": "stdout",
     "output_type": "stream",
     "text": [
      "Requirement already satisfied: six>=1.12.0 in ./magenv/lib/python3.12/site-packages (from tensorflow==2.18.0->-r requirements.txt (line 9)) (1.16.0)\n",
      "Requirement already satisfied: termcolor>=1.1.0 in ./magenv/lib/python3.12/site-packages (from tensorflow==2.18.0->-r requirements.txt (line 9)) (2.5.0)\n",
      "Requirement already satisfied: typing-extensions>=3.6.6 in ./magenv/lib/python3.12/site-packages (from tensorflow==2.18.0->-r requirements.txt (line 9)) (4.12.2)\n",
      "Requirement already satisfied: wrapt>=1.11.0 in ./magenv/lib/python3.12/site-packages (from tensorflow==2.18.0->-r requirements.txt (line 9)) (1.16.0)\n",
      "Requirement already satisfied: grpcio<2.0,>=1.24.3 in ./magenv/lib/python3.12/site-packages (from tensorflow==2.18.0->-r requirements.txt (line 9)) (1.67.1)\n",
      "Requirement already satisfied: tensorboard<2.19,>=2.18 in ./magenv/lib/python3.12/site-packages (from tensorflow==2.18.0->-r requirements.txt (line 9)) (2.18.0)\n",
      "Requirement already satisfied: keras>=3.5.0 in ./magenv/lib/python3.12/site-packages (from tensorflow==2.18.0->-r requirements.txt (line 9)) (3.6.0)\n",
      "Requirement already satisfied: h5py>=3.11.0 in ./magenv/lib/python3.12/site-packages (from tensorflow==2.18.0->-r requirements.txt (line 9)) (3.12.1)\n",
      "Requirement already satisfied: ml-dtypes<0.5.0,>=0.4.0 in ./magenv/lib/python3.12/site-packages (from tensorflow==2.18.0->-r requirements.txt (line 9)) (0.4.1)\n",
      "Requirement already satisfied: filelock in ./magenv/lib/python3.12/site-packages (from transformers==4.46.1->-r requirements.txt (line 10)) (3.16.1)\n",
      "Requirement already satisfied: huggingface-hub<1.0,>=0.23.2 in ./magenv/lib/python3.12/site-packages (from transformers==4.46.1->-r requirements.txt (line 10)) (0.26.2)\n",
      "Requirement already satisfied: pyyaml>=5.1 in ./magenv/lib/python3.12/site-packages (from transformers==4.46.1->-r requirements.txt (line 10)) (6.0.2)\n",
      "Requirement already satisfied: safetensors>=0.4.1 in ./magenv/lib/python3.12/site-packages (from transformers==4.46.1->-r requirements.txt (line 10)) (0.4.5)\n",
      "Requirement already satisfied: tokenizers<0.21,>=0.20 in ./magenv/lib/python3.12/site-packages (from transformers==4.46.1->-r requirements.txt (line 10)) (0.20.1)\n",
      "Requirement already satisfied: networkx in ./magenv/lib/python3.12/site-packages (from torch==2.5.1->-r requirements.txt (line 11)) (3.4.2)\n",
      "Requirement already satisfied: fsspec in ./magenv/lib/python3.12/site-packages (from torch==2.5.1->-r requirements.txt (line 11)) (2024.10.0)\n",
      "Requirement already satisfied: nvidia-cuda-nvrtc-cu12==12.4.127; platform_system == \"Linux\" and platform_machine == \"x86_64\" in ./magenv/lib/python3.12/site-packages (from torch==2.5.1->-r requirements.txt (line 11)) (12.4.127)\n",
      "Requirement already satisfied: nvidia-cuda-runtime-cu12==12.4.127; platform_system == \"Linux\" and platform_machine == \"x86_64\" in ./magenv/lib/python3.12/site-packages (from torch==2.5.1->-r requirements.txt (line 11)) (12.4.127)\n",
      "Requirement already satisfied: nvidia-cuda-cupti-cu12==12.4.127; platform_system == \"Linux\" and platform_machine == \"x86_64\" in ./magenv/lib/python3.12/site-packages (from torch==2.5.1->-r requirements.txt (line 11)) (12.4.127)\n",
      "Requirement already satisfied: nvidia-cudnn-cu12==9.1.0.70; platform_system == \"Linux\" and platform_machine == \"x86_64\" in ./magenv/lib/python3.12/site-packages (from torch==2.5.1->-r requirements.txt (line 11)) (9.1.0.70)\n",
      "Requirement already satisfied: nvidia-cublas-cu12==12.4.5.8; platform_system == \"Linux\" and platform_machine == \"x86_64\" in ./magenv/lib/python3.12/site-packages (from torch==2.5.1->-r requirements.txt (line 11)) (12.4.5.8)\n",
      "Requirement already satisfied: nvidia-cufft-cu12==11.2.1.3; platform_system == \"Linux\" and platform_machine == \"x86_64\" in ./magenv/lib/python3.12/site-packages (from torch==2.5.1->-r requirements.txt (line 11)) (11.2.1.3)\n",
      "Requirement already satisfied: nvidia-curand-cu12==10.3.5.147; platform_system == \"Linux\" and platform_machine == \"x86_64\" in ./magenv/lib/python3.12/site-packages (from torch==2.5.1->-r requirements.txt (line 11)) (10.3.5.147)\n",
      "Requirement already satisfied: nvidia-cusolver-cu12==11.6.1.9; platform_system == \"Linux\" and platform_machine == \"x86_64\" in ./magenv/lib/python3.12/site-packages (from torch==2.5.1->-r requirements.txt (line 11)) (11.6.1.9)\n",
      "Requirement already satisfied: nvidia-cusparse-cu12==12.3.1.170; platform_system == \"Linux\" and platform_machine == \"x86_64\" in ./magenv/lib/python3.12/site-packages (from torch==2.5.1->-r requirements.txt (line 11)) (12.3.1.170)\n",
      "Requirement already satisfied: nvidia-nccl-cu12==2.21.5; platform_system == \"Linux\" and platform_machine == \"x86_64\" in ./magenv/lib/python3.12/site-packages (from torch==2.5.1->-r requirements.txt (line 11)) (2.21.5)\n",
      "Requirement already satisfied: nvidia-nvtx-cu12==12.4.127; platform_system == \"Linux\" and platform_machine == \"x86_64\" in ./magenv/lib/python3.12/site-packages (from torch==2.5.1->-r requirements.txt (line 11)) (12.4.127)\n",
      "Requirement already satisfied: nvidia-nvjitlink-cu12==12.4.127; platform_system == \"Linux\" and platform_machine == \"x86_64\" in ./magenv/lib/python3.12/site-packages (from torch==2.5.1->-r requirements.txt (line 11)) (12.4.127)\n",
      "Requirement already satisfied: triton==3.1.0; platform_system == \"Linux\" and platform_machine == \"x86_64\" and python_version < \"3.13\" in ./magenv/lib/python3.12/site-packages (from torch==2.5.1->-r requirements.txt (line 11)) (3.1.0)\n",
      "Requirement already satisfied: sympy==1.13.1; python_version >= \"3.9\" in ./magenv/lib/python3.12/site-packages (from torch==2.5.1->-r requirements.txt (line 11)) (1.13.1)\n",
      "Requirement already satisfied: decorator in ./magenv/lib/python3.12/site-packages (from ipython>=7.23.1->ipykernel==6.29.5->-r requirements.txt (line 1)) (5.1.1)\n",
      "Requirement already satisfied: jedi>=0.16 in ./magenv/lib/python3.12/site-packages (from ipython>=7.23.1->ipykernel==6.29.5->-r requirements.txt (line 1)) (0.19.1)\n",
      "Requirement already satisfied: prompt-toolkit<3.1.0,>=3.0.41 in ./magenv/lib/python3.12/site-packages (from ipython>=7.23.1->ipykernel==6.29.5->-r requirements.txt (line 1)) (3.0.48)\n",
      "Requirement already satisfied: pygments>=2.4.0 in ./magenv/lib/python3.12/site-packages (from ipython>=7.23.1->ipykernel==6.29.5->-r requirements.txt (line 1)) (2.18.0)\n",
      "Requirement already satisfied: stack-data in ./magenv/lib/python3.12/site-packages (from ipython>=7.23.1->ipykernel==6.29.5->-r requirements.txt (line 1)) (0.6.3)\n",
      "Requirement already satisfied: pexpect>4.3; sys_platform != \"win32\" and sys_platform != \"emscripten\" in ./magenv/lib/python3.12/site-packages (from ipython>=7.23.1->ipykernel==6.29.5->-r requirements.txt (line 1)) (4.9.0)\n",
      "Requirement already satisfied: platformdirs>=2.5 in ./magenv/lib/python3.12/site-packages (from jupyter-core!=5.0.*,>=4.12->ipykernel==6.29.5->-r requirements.txt (line 1)) (4.3.6)\n",
      "Requirement already satisfied: blis<1.1.0,>=1.0.0 in ./magenv/lib/python3.12/site-packages (from thinc<8.4.0,>=8.3.0->spacy==3.8.2->-r requirements.txt (line 6)) (1.0.1)\n",
      "Requirement already satisfied: confection<1.0.0,>=0.0.1 in ./magenv/lib/python3.12/site-packages (from thinc<8.4.0,>=8.3.0->spacy==3.8.2->-r requirements.txt (line 6)) (0.1.5)\n",
      "Requirement already satisfied: cloudpathlib<1.0.0,>=0.7.0 in ./magenv/lib/python3.12/site-packages (from weasel<0.5.0,>=0.1.0->spacy==3.8.2->-r requirements.txt (line 6)) (0.20.0)\n",
      "Requirement already satisfied: smart-open<8.0.0,>=5.2.1 in ./magenv/lib/python3.12/site-packages (from weasel<0.5.0,>=0.1.0->spacy==3.8.2->-r requirements.txt (line 6)) (7.0.5)\n",
      "Requirement already satisfied: shellingham>=1.3.0 in ./magenv/lib/python3.12/site-packages (from typer<1.0.0,>=0.3.0->spacy==3.8.2->-r requirements.txt (line 6)) (1.5.4)\n",
      "Requirement already satisfied: rich>=10.11.0 in ./magenv/lib/python3.12/site-packages (from typer<1.0.0,>=0.3.0->spacy==3.8.2->-r requirements.txt (line 6)) (13.9.3)\n",
      "Requirement already satisfied: charset-normalizer<4,>=2 in ./magenv/lib/python3.12/site-packages (from requests<3.0.0,>=2.13.0->spacy==3.8.2->-r requirements.txt (line 6)) (3.4.0)\n",
      "Requirement already satisfied: idna<4,>=2.5 in ./magenv/lib/python3.12/site-packages (from requests<3.0.0,>=2.13.0->spacy==3.8.2->-r requirements.txt (line 6)) (3.10)\n"
     ]
    },
    {
     "name": "stdout",
     "output_type": "stream",
     "text": [
      "Requirement already satisfied: urllib3<3,>=1.21.1 in ./magenv/lib/python3.12/site-packages (from requests<3.0.0,>=2.13.0->spacy==3.8.2->-r requirements.txt (line 6)) (2.2.3)\n",
      "Requirement already satisfied: certifi>=2017.4.17 in ./magenv/lib/python3.12/site-packages (from requests<3.0.0,>=2.13.0->spacy==3.8.2->-r requirements.txt (line 6)) (2024.8.30)\n",
      "Requirement already satisfied: annotated-types>=0.6.0 in ./magenv/lib/python3.12/site-packages (from pydantic!=1.8,!=1.8.1,<3.0.0,>=1.7.4->spacy==3.8.2->-r requirements.txt (line 6)) (0.7.0)\n",
      "Requirement already satisfied: pydantic-core==2.23.4 in ./magenv/lib/python3.12/site-packages (from pydantic!=1.8,!=1.8.1,<3.0.0,>=1.7.4->spacy==3.8.2->-r requirements.txt (line 6)) (2.23.4)\n",
      "Requirement already satisfied: MarkupSafe>=2.0 in ./magenv/lib/python3.12/site-packages (from jinja2->spacy==3.8.2->-r requirements.txt (line 6)) (3.0.2)\n",
      "Requirement already satisfied: language-data>=1.2 in ./magenv/lib/python3.12/site-packages (from langcodes<4.0.0,>=3.2.0->spacy==3.8.2->-r requirements.txt (line 6)) (1.2.0)\n",
      "Requirement already satisfied: wheel<1.0,>=0.23.0 in ./magenv/lib/python3.12/site-packages (from astunparse>=1.6.0->tensorflow==2.18.0->-r requirements.txt (line 9)) (0.44.0)\n",
      "Requirement already satisfied: markdown>=2.6.8 in ./magenv/lib/python3.12/site-packages (from tensorboard<2.19,>=2.18->tensorflow==2.18.0->-r requirements.txt (line 9)) (3.7)\n",
      "Requirement already satisfied: tensorboard-data-server<0.8.0,>=0.7.0 in ./magenv/lib/python3.12/site-packages (from tensorboard<2.19,>=2.18->tensorflow==2.18.0->-r requirements.txt (line 9)) (0.7.2)\n",
      "Requirement already satisfied: werkzeug>=1.0.1 in ./magenv/lib/python3.12/site-packages (from tensorboard<2.19,>=2.18->tensorflow==2.18.0->-r requirements.txt (line 9)) (3.1.0)\n",
      "Requirement already satisfied: namex in ./magenv/lib/python3.12/site-packages (from keras>=3.5.0->tensorflow==2.18.0->-r requirements.txt (line 9)) (0.0.8)\n",
      "Requirement already satisfied: optree in ./magenv/lib/python3.12/site-packages (from keras>=3.5.0->tensorflow==2.18.0->-r requirements.txt (line 9)) (0.13.0)\n",
      "Requirement already satisfied: mpmath<1.4,>=1.1.0 in ./magenv/lib/python3.12/site-packages (from sympy==1.13.1; python_version >= \"3.9\"->torch==2.5.1->-r requirements.txt (line 11)) (1.3.0)\n",
      "Requirement already satisfied: parso<0.9.0,>=0.8.3 in ./magenv/lib/python3.12/site-packages (from jedi>=0.16->ipython>=7.23.1->ipykernel==6.29.5->-r requirements.txt (line 1)) (0.8.4)\n",
      "Requirement already satisfied: wcwidth in ./magenv/lib/python3.12/site-packages (from prompt-toolkit<3.1.0,>=3.0.41->ipython>=7.23.1->ipykernel==6.29.5->-r requirements.txt (line 1)) (0.2.13)\n",
      "Requirement already satisfied: executing>=1.2.0 in ./magenv/lib/python3.12/site-packages (from stack-data->ipython>=7.23.1->ipykernel==6.29.5->-r requirements.txt (line 1)) (2.1.0)\n",
      "Requirement already satisfied: asttokens>=2.1.0 in ./magenv/lib/python3.12/site-packages (from stack-data->ipython>=7.23.1->ipykernel==6.29.5->-r requirements.txt (line 1)) (2.4.1)\n",
      "Requirement already satisfied: pure-eval in ./magenv/lib/python3.12/site-packages (from stack-data->ipython>=7.23.1->ipykernel==6.29.5->-r requirements.txt (line 1)) (0.2.3)\n",
      "Requirement already satisfied: ptyprocess>=0.5 in ./magenv/lib/python3.12/site-packages (from pexpect>4.3; sys_platform != \"win32\" and sys_platform != \"emscripten\"->ipython>=7.23.1->ipykernel==6.29.5->-r requirements.txt (line 1)) (0.7.0)\n",
      "Requirement already satisfied: markdown-it-py>=2.2.0 in ./magenv/lib/python3.12/site-packages (from rich>=10.11.0->typer<1.0.0,>=0.3.0->spacy==3.8.2->-r requirements.txt (line 6)) (3.0.0)\n",
      "Requirement already satisfied: marisa-trie>=0.7.7 in ./magenv/lib/python3.12/site-packages (from language-data>=1.2->langcodes<4.0.0,>=3.2.0->spacy==3.8.2->-r requirements.txt (line 6)) (1.2.1)\n",
      "Requirement already satisfied: mdurl~=0.1 in ./magenv/lib/python3.12/site-packages (from markdown-it-py>=2.2.0->rich>=10.11.0->typer<1.0.0,>=0.3.0->spacy==3.8.2->-r requirements.txt (line 6)) (0.1.2)\n"
     ]
    }
   ],
   "source": [
    "!pip3 install -r requirements.txt --use-deprecated=legacy-resolver"
   ]
  },
  {
   "cell_type": "code",
   "execution_count": 30,
   "id": "69a09387",
   "metadata": {},
   "outputs": [
    {
     "ename": "ModuleNotFoundError",
     "evalue": "No module named 'distutils'",
     "output_type": "error",
     "traceback": [
      "\u001b[0;31m---------------------------------------------------------------------------\u001b[0m",
      "\u001b[0;31mModuleNotFoundError\u001b[0m                       Traceback (most recent call last)",
      "Cell \u001b[0;32mIn[30], line 1\u001b[0m\n\u001b[0;32m----> 1\u001b[0m \u001b[38;5;28;01mimport\u001b[39;00m \u001b[38;5;21;01mtensorflow\u001b[39;00m\n\u001b[1;32m      2\u001b[0m tensorflow\u001b[38;5;241m.\u001b[39m__version__\n",
      "File \u001b[0;32m~/Documents/github/magnimind_hw/magenv/lib/python3.12/site-packages/tensorflow/__init__.py:30\u001b[0m\n\u001b[1;32m     15\u001b[0m \u001b[38;5;124;03m\"\"\"\u001b[39;00m\n\u001b[1;32m     16\u001b[0m \u001b[38;5;124;03mTop-level module of TensorFlow. By convention, we refer to this module as\u001b[39;00m\n\u001b[1;32m     17\u001b[0m \u001b[38;5;124;03m`tf` instead of `tensorflow`, following the common practice of importing\u001b[39;00m\n\u001b[0;32m   (...)\u001b[0m\n\u001b[1;32m     26\u001b[0m \u001b[38;5;124;03mthis file with a file generated from [`api_template.__init__.py`](https://www.github.com/tensorflow/tensorflow/blob/master/tensorflow/api_template.__init__.py)\u001b[39;00m\n\u001b[1;32m     27\u001b[0m \u001b[38;5;124;03m\"\"\"\u001b[39;00m\n\u001b[1;32m     28\u001b[0m \u001b[38;5;66;03m# pylint: disable=g-bad-import-order,protected-access,g-import-not-at-top\u001b[39;00m\n\u001b[0;32m---> 30\u001b[0m \u001b[38;5;28;01mimport\u001b[39;00m \u001b[38;5;21;01mdistutils\u001b[39;00m \u001b[38;5;28;01mas\u001b[39;00m \u001b[38;5;21;01m_distutils\u001b[39;00m\n\u001b[1;32m     31\u001b[0m \u001b[38;5;28;01mimport\u001b[39;00m \u001b[38;5;21;01mimportlib\u001b[39;00m\n\u001b[1;32m     32\u001b[0m \u001b[38;5;28;01mimport\u001b[39;00m \u001b[38;5;21;01minspect\u001b[39;00m \u001b[38;5;28;01mas\u001b[39;00m \u001b[38;5;21;01m_inspect\u001b[39;00m\n",
      "\u001b[0;31mModuleNotFoundError\u001b[0m: No module named 'distutils'"
     ]
    }
   ],
   "source": [
    "import tensorflow\n",
    "tensorflow.__version__"
   ]
  },
  {
   "cell_type": "code",
   "execution_count": 21,
   "id": "015ae142",
   "metadata": {},
   "outputs": [
    {
     "ename": "RuntimeError",
     "evalue": "At least one of TensorFlow 2.0 or PyTorch should be installed. To install TensorFlow 2.0, read the instructions at https://www.tensorflow.org/install/ To install PyTorch, read the instructions at https://pytorch.org/.",
     "output_type": "error",
     "traceback": [
      "\u001b[0;31m---------------------------------------------------------------------------\u001b[0m",
      "\u001b[0;31mRuntimeError\u001b[0m                              Traceback (most recent call last)",
      "Cell \u001b[0;32mIn[21], line 3\u001b[0m\n\u001b[1;32m      1\u001b[0m \u001b[38;5;28;01mfrom\u001b[39;00m \u001b[38;5;21;01mtransformers\u001b[39;00m \u001b[38;5;28;01mimport\u001b[39;00m pipeline\n\u001b[0;32m----> 3\u001b[0m summarizer \u001b[38;5;241m=\u001b[39m \u001b[43mpipeline\u001b[49m\u001b[43m(\u001b[49m\u001b[38;5;124;43m\"\u001b[39;49m\u001b[38;5;124;43msummarization\u001b[39;49m\u001b[38;5;124;43m\"\u001b[39;49m\u001b[43m,\u001b[49m\u001b[43m \u001b[49m\u001b[43mmodel\u001b[49m\u001b[38;5;241;43m=\u001b[39;49m\u001b[38;5;124;43m\"\u001b[39;49m\u001b[38;5;124;43mfacebook/bart-large-cnn\u001b[39;49m\u001b[38;5;124;43m\"\u001b[39;49m\u001b[43m)\u001b[49m\n\u001b[1;32m      5\u001b[0m ARTICLE \u001b[38;5;241m=\u001b[39m \u001b[38;5;124m\"\"\"\u001b[39m\u001b[38;5;124m New York (CNN)When Liana Barrientos was 23 years old, she got married in Westchester County, New York.\u001b[39m\n\u001b[1;32m      6\u001b[0m \u001b[38;5;124mA year later, she got married again in Westchester County, but to a different man and without divorcing her first husband.\u001b[39m\n\u001b[1;32m      7\u001b[0m \u001b[38;5;124mOnly 18 days after that marriage, she got hitched yet again. Then, Barrientos declared \u001b[39m\u001b[38;5;124m\"\u001b[39m\u001b[38;5;124mI do\u001b[39m\u001b[38;5;124m\"\u001b[39m\u001b[38;5;124m five more times, sometimes only within two weeks of each other.\u001b[39m\n\u001b[0;32m   (...)\u001b[0m\n\u001b[1;32m     21\u001b[0m \u001b[38;5;124mIf convicted, Barrientos faces up to four years in prison.  Her next court appearance is scheduled for May 18.\u001b[39m\n\u001b[1;32m     22\u001b[0m \u001b[38;5;124m\"\"\"\u001b[39m\n\u001b[1;32m     23\u001b[0m \u001b[38;5;28mprint\u001b[39m(summarizer(ARTICLE, max_length\u001b[38;5;241m=\u001b[39m\u001b[38;5;241m130\u001b[39m, min_length\u001b[38;5;241m=\u001b[39m\u001b[38;5;241m30\u001b[39m, do_sample\u001b[38;5;241m=\u001b[39m\u001b[38;5;28;01mFalse\u001b[39;00m))\n",
      "File \u001b[0;32m~/Documents/github/magnimind_hw/magenv/lib/python3.12/site-packages/transformers/pipelines/__init__.py:926\u001b[0m, in \u001b[0;36mpipeline\u001b[0;34m(task, model, config, tokenizer, feature_extractor, image_processor, processor, framework, revision, use_fast, token, device, device_map, torch_dtype, trust_remote_code, model_kwargs, pipeline_class, **kwargs)\u001b[0m\n\u001b[1;32m    924\u001b[0m \u001b[38;5;28;01mif\u001b[39;00m \u001b[38;5;28misinstance\u001b[39m(model, \u001b[38;5;28mstr\u001b[39m) \u001b[38;5;129;01mor\u001b[39;00m framework \u001b[38;5;129;01mis\u001b[39;00m \u001b[38;5;28;01mNone\u001b[39;00m:\n\u001b[1;32m    925\u001b[0m     model_classes \u001b[38;5;241m=\u001b[39m {\u001b[38;5;124m\"\u001b[39m\u001b[38;5;124mtf\u001b[39m\u001b[38;5;124m\"\u001b[39m: targeted_task[\u001b[38;5;124m\"\u001b[39m\u001b[38;5;124mtf\u001b[39m\u001b[38;5;124m\"\u001b[39m], \u001b[38;5;124m\"\u001b[39m\u001b[38;5;124mpt\u001b[39m\u001b[38;5;124m\"\u001b[39m: targeted_task[\u001b[38;5;124m\"\u001b[39m\u001b[38;5;124mpt\u001b[39m\u001b[38;5;124m\"\u001b[39m]}\n\u001b[0;32m--> 926\u001b[0m     framework, model \u001b[38;5;241m=\u001b[39m \u001b[43minfer_framework_load_model\u001b[49m\u001b[43m(\u001b[49m\n\u001b[1;32m    927\u001b[0m \u001b[43m        \u001b[49m\u001b[43mmodel\u001b[49m\u001b[43m,\u001b[49m\n\u001b[1;32m    928\u001b[0m \u001b[43m        \u001b[49m\u001b[43mmodel_classes\u001b[49m\u001b[38;5;241;43m=\u001b[39;49m\u001b[43mmodel_classes\u001b[49m\u001b[43m,\u001b[49m\n\u001b[1;32m    929\u001b[0m \u001b[43m        \u001b[49m\u001b[43mconfig\u001b[49m\u001b[38;5;241;43m=\u001b[39;49m\u001b[43mconfig\u001b[49m\u001b[43m,\u001b[49m\n\u001b[1;32m    930\u001b[0m \u001b[43m        \u001b[49m\u001b[43mframework\u001b[49m\u001b[38;5;241;43m=\u001b[39;49m\u001b[43mframework\u001b[49m\u001b[43m,\u001b[49m\n\u001b[1;32m    931\u001b[0m \u001b[43m        \u001b[49m\u001b[43mtask\u001b[49m\u001b[38;5;241;43m=\u001b[39;49m\u001b[43mtask\u001b[49m\u001b[43m,\u001b[49m\n\u001b[1;32m    932\u001b[0m \u001b[43m        \u001b[49m\u001b[38;5;241;43m*\u001b[39;49m\u001b[38;5;241;43m*\u001b[39;49m\u001b[43mhub_kwargs\u001b[49m\u001b[43m,\u001b[49m\n\u001b[1;32m    933\u001b[0m \u001b[43m        \u001b[49m\u001b[38;5;241;43m*\u001b[39;49m\u001b[38;5;241;43m*\u001b[39;49m\u001b[43mmodel_kwargs\u001b[49m\u001b[43m,\u001b[49m\n\u001b[1;32m    934\u001b[0m \u001b[43m    \u001b[49m\u001b[43m)\u001b[49m\n\u001b[1;32m    936\u001b[0m model_config \u001b[38;5;241m=\u001b[39m model\u001b[38;5;241m.\u001b[39mconfig\n\u001b[1;32m    937\u001b[0m hub_kwargs[\u001b[38;5;124m\"\u001b[39m\u001b[38;5;124m_commit_hash\u001b[39m\u001b[38;5;124m\"\u001b[39m] \u001b[38;5;241m=\u001b[39m model\u001b[38;5;241m.\u001b[39mconfig\u001b[38;5;241m.\u001b[39m_commit_hash\n",
      "File \u001b[0;32m~/Documents/github/magnimind_hw/magenv/lib/python3.12/site-packages/transformers/pipelines/base.py:240\u001b[0m, in \u001b[0;36minfer_framework_load_model\u001b[0;34m(model, config, model_classes, task, framework, **model_kwargs)\u001b[0m\n\u001b[1;32m    214\u001b[0m \u001b[38;5;250m\u001b[39m\u001b[38;5;124;03m\"\"\"\u001b[39;00m\n\u001b[1;32m    215\u001b[0m \u001b[38;5;124;03mSelect framework (TensorFlow or PyTorch) to use from the `model` passed. Returns a tuple (framework, model).\u001b[39;00m\n\u001b[1;32m    216\u001b[0m \n\u001b[0;32m   (...)\u001b[0m\n\u001b[1;32m    237\u001b[0m \u001b[38;5;124;03m    `Tuple`: A tuple framework, model.\u001b[39;00m\n\u001b[1;32m    238\u001b[0m \u001b[38;5;124;03m\"\"\"\u001b[39;00m\n\u001b[1;32m    239\u001b[0m \u001b[38;5;28;01mif\u001b[39;00m \u001b[38;5;129;01mnot\u001b[39;00m is_tf_available() \u001b[38;5;129;01mand\u001b[39;00m \u001b[38;5;129;01mnot\u001b[39;00m is_torch_available():\n\u001b[0;32m--> 240\u001b[0m     \u001b[38;5;28;01mraise\u001b[39;00m \u001b[38;5;167;01mRuntimeError\u001b[39;00m(\n\u001b[1;32m    241\u001b[0m         \u001b[38;5;124m\"\u001b[39m\u001b[38;5;124mAt least one of TensorFlow 2.0 or PyTorch should be installed. \u001b[39m\u001b[38;5;124m\"\u001b[39m\n\u001b[1;32m    242\u001b[0m         \u001b[38;5;124m\"\u001b[39m\u001b[38;5;124mTo install TensorFlow 2.0, read the instructions at https://www.tensorflow.org/install/ \u001b[39m\u001b[38;5;124m\"\u001b[39m\n\u001b[1;32m    243\u001b[0m         \u001b[38;5;124m\"\u001b[39m\u001b[38;5;124mTo install PyTorch, read the instructions at https://pytorch.org/.\u001b[39m\u001b[38;5;124m\"\u001b[39m\n\u001b[1;32m    244\u001b[0m     )\n\u001b[1;32m    245\u001b[0m \u001b[38;5;28;01mif\u001b[39;00m \u001b[38;5;28misinstance\u001b[39m(model, \u001b[38;5;28mstr\u001b[39m):\n\u001b[1;32m    246\u001b[0m     model_kwargs[\u001b[38;5;124m\"\u001b[39m\u001b[38;5;124m_from_pipeline\u001b[39m\u001b[38;5;124m\"\u001b[39m] \u001b[38;5;241m=\u001b[39m task\n",
      "\u001b[0;31mRuntimeError\u001b[0m: At least one of TensorFlow 2.0 or PyTorch should be installed. To install TensorFlow 2.0, read the instructions at https://www.tensorflow.org/install/ To install PyTorch, read the instructions at https://pytorch.org/."
     ]
    }
   ],
   "source": [
    "from transformers import pipeline\n",
    "\n",
    "summarizer = pipeline(\"summarization\", model=\"facebook/bart-large-cnn\")\n",
    "\n",
    "ARTICLE = \"\"\" New York (CNN)When Liana Barrientos was 23 years old, she got married in Westchester County, New York.\n",
    "A year later, she got married again in Westchester County, but to a different man and without divorcing her first husband.\n",
    "Only 18 days after that marriage, she got hitched yet again. Then, Barrientos declared \"I do\" five more times, sometimes only within two weeks of each other.\n",
    "In 2010, she married once more, this time in the Bronx. In an application for a marriage license, she stated it was her \"first and only\" marriage.\n",
    "Barrientos, now 39, is facing two criminal counts of \"offering a false instrument for filing in the first degree,\" referring to her false statements on the\n",
    "2010 marriage license application, according to court documents.\n",
    "Prosecutors said the marriages were part of an immigration scam.\n",
    "On Friday, she pleaded not guilty at State Supreme Court in the Bronx, according to her attorney, Christopher Wright, who declined to comment further.\n",
    "After leaving court, Barrientos was arrested and charged with theft of service and criminal trespass for allegedly sneaking into the New York subway through an emergency exit, said Detective\n",
    "Annette Markowski, a police spokeswoman. In total, Barrientos has been married 10 times, with nine of her marriages occurring between 1999 and 2002.\n",
    "All occurred either in Westchester County, Long Island, New Jersey or the Bronx. She is believed to still be married to four men, and at one time, she was married to eight men at once, prosecutors say.\n",
    "Prosecutors said the immigration scam involved some of her husbands, who filed for permanent residence status shortly after the marriages.\n",
    "Any divorces happened only after such filings were approved. It was unclear whether any of the men will be prosecuted.\n",
    "The case was referred to the Bronx District Attorney\\'s Office by Immigration and Customs Enforcement and the Department of Homeland Security\\'s\n",
    "Investigation Division. Seven of the men are from so-called \"red-flagged\" countries, including Egypt, Turkey, Georgia, Pakistan and Mali.\n",
    "Her eighth husband, Rashid Rajput, was deported in 2006 to his native Pakistan after an investigation by the Joint Terrorism Task Force.\n",
    "If convicted, Barrientos faces up to four years in prison.  Her next court appearance is scheduled for May 18.\n",
    "\"\"\"\n",
    "print(summarizer(ARTICLE, max_length=130, min_length=30, do_sample=False))"
   ]
  },
  {
   "cell_type": "code",
   "execution_count": null,
   "id": "fee22fdb",
   "metadata": {},
   "outputs": [],
   "source": []
  }
 ],
 "metadata": {
  "kernelspec": {
   "display_name": "Python (magenv)",
   "language": "python",
   "name": "magenv"
  },
  "language_info": {
   "codemirror_mode": {
    "name": "ipython",
    "version": 3
   },
   "file_extension": ".py",
   "mimetype": "text/x-python",
   "name": "python",
   "nbconvert_exporter": "python",
   "pygments_lexer": "ipython3",
   "version": "3.12.3"
  }
 },
 "nbformat": 4,
 "nbformat_minor": 5
}
