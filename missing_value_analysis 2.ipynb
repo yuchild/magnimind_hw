{
 "cells": [
  {
   "cell_type": "markdown",
   "id": "38de712a",
   "metadata": {},
   "source": [
    "# Phase-2 Handling Missing Values"
   ]
  },
  {
   "cell_type": "code",
   "execution_count": 1,
   "id": "d45ee2a3",
   "metadata": {},
   "outputs": [],
   "source": [
    "import matplotlib.pyplot as plt\n",
    "%matplotlib inline\n",
    "import numpy as np\n",
    "import pandas as pd\n",
    "import seaborn as sns\n",
    "import warnings;\n",
    "warnings.filterwarnings(\"ignore\")\n",
    "import re\n",
    "#pd.set_option(\"display.max_columns\",None)\n",
    "#pd.set_option(\"display.max_rows\",None)"
   ]
  },
  {
   "cell_type": "code",
   "execution_count": 2,
   "id": "73594e85",
   "metadata": {},
   "outputs": [],
   "source": [
    "df=pd.read_csv(\"./data/scout_cleaned_2.csv\")"
   ]
  },
  {
   "cell_type": "markdown",
   "id": "54c29a9e",
   "metadata": {},
   "source": [
    "### 1) Body Type"
   ]
  },
  {
   "cell_type": "code",
   "execution_count": 3,
   "id": "7b163870",
   "metadata": {},
   "outputs": [
    {
     "data": {
      "text/plain": [
       "body_type\n",
       "Sedans           7902\n",
       "Station wagon    3552\n",
       "Compact          3152\n",
       "Van               783\n",
       "Other             289\n",
       "Transporter        88\n",
       "NaN                60\n",
       "Off-Road           56\n",
       "Coupe              25\n",
       "Convertible         8\n",
       "Name: count, dtype: int64"
      ]
     },
     "execution_count": 3,
     "metadata": {},
     "output_type": "execute_result"
    }
   ],
   "source": [
    "df[\"body_type\"].value_counts(dropna=False)"
   ]
  },
  {
   "cell_type": "code",
   "execution_count": 4,
   "id": "d8a7a9aa",
   "metadata": {},
   "outputs": [
    {
     "data": {
      "text/html": [
       "<div>\n",
       "<style scoped>\n",
       "    .dataframe tbody tr th:only-of-type {\n",
       "        vertical-align: middle;\n",
       "    }\n",
       "\n",
       "    .dataframe tbody tr th {\n",
       "        vertical-align: top;\n",
       "    }\n",
       "\n",
       "    .dataframe thead th {\n",
       "        text-align: right;\n",
       "    }\n",
       "</style>\n",
       "<table border=\"1\" class=\"dataframe\">\n",
       "  <thead>\n",
       "    <tr style=\"text-align: right;\">\n",
       "      <th></th>\n",
       "      <th>make_model</th>\n",
       "      <th>body_type</th>\n",
       "      <th>price</th>\n",
       "      <th>vat</th>\n",
       "      <th>km</th>\n",
       "      <th>prev_owner</th>\n",
       "      <th>hp</th>\n",
       "      <th>inspection_new</th>\n",
       "      <th>warranty</th>\n",
       "      <th>body_color</th>\n",
       "      <th>...</th>\n",
       "      <th>gears</th>\n",
       "      <th>electricity_consumption</th>\n",
       "      <th>year</th>\n",
       "      <th>new_used</th>\n",
       "      <th>fuel_type</th>\n",
       "      <th>next_inspection_date</th>\n",
       "      <th>upholstery_material</th>\n",
       "      <th>consumption_comb</th>\n",
       "      <th>consumption_city</th>\n",
       "      <th>consumption_country</th>\n",
       "    </tr>\n",
       "  </thead>\n",
       "  <tbody>\n",
       "  </tbody>\n",
       "</table>\n",
       "<p>0 rows × 34 columns</p>\n",
       "</div>"
      ],
      "text/plain": [
       "Empty DataFrame\n",
       "Columns: [make_model, body_type, price, vat, km, prev_owner, hp, inspection_new, warranty, body_color, paint_type, nr_of_doors, nr_of_seats, gearing_type, displacement, cylinders, weight, drive_chain, co2_emission, emission_class, comfort_convenience, entertainment_media, extras, safety_security, gears, electricity_consumption, year, new_used, fuel_type, next_inspection_date, upholstery_material, consumption_comb, consumption_city, consumption_country]\n",
       "Index: []\n",
       "\n",
       "[0 rows x 34 columns]"
      ]
     },
     "execution_count": 4,
     "metadata": {},
     "output_type": "execute_result"
    }
   ],
   "source": [
    "df[df[\"body_type\"] == np.nan]"
   ]
  },
  {
   "cell_type": "code",
   "execution_count": 5,
   "id": "b240ac18",
   "metadata": {},
   "outputs": [
    {
     "data": {
      "text/plain": [
       "0        Sedans\n",
       "1        Sedans\n",
       "2        Sedans\n",
       "3        Sedans\n",
       "4        Sedans\n",
       "          ...  \n",
       "15910       Van\n",
       "15911       Van\n",
       "15912       Van\n",
       "15913       Van\n",
       "15914       Van\n",
       "Name: body_type, Length: 15915, dtype: object"
      ]
     },
     "execution_count": 5,
     "metadata": {},
     "output_type": "execute_result"
    }
   ],
   "source": [
    "df.groupby('make_model')['body_type'].transform(lambda x: x.mode()[0])"
   ]
  },
  {
   "cell_type": "code",
   "execution_count": 6,
   "id": "59768bba",
   "metadata": {},
   "outputs": [],
   "source": [
    "df[\"body_type\"].fillna(df.groupby('make_model')['body_type'].transform(lambda x: x.mode()[0]), inplace=True)"
   ]
  },
  {
   "cell_type": "markdown",
   "id": "451df96a",
   "metadata": {},
   "source": [
    "### 2) Registration"
   ]
  },
  {
   "cell_type": "code",
   "execution_count": 7,
   "id": "94aaee20",
   "metadata": {},
   "outputs": [
    {
     "data": {
      "text/plain": [
       "122     NaN\n",
       "710     NaN\n",
       "734     NaN\n",
       "741     NaN\n",
       "743     NaN\n",
       "         ..\n",
       "15888   NaN\n",
       "15898   NaN\n",
       "15903   NaN\n",
       "15908   NaN\n",
       "15910   NaN\n",
       "Name: year, Length: 1547, dtype: float64"
      ]
     },
     "execution_count": 7,
     "metadata": {},
     "output_type": "execute_result"
    }
   ],
   "source": [
    "df.loc[((df['new_used' # was 'Type'\n",
    "         ] == 'New') & df.year.isnull() # was df.registration.isnull()\n",
    "       ), 'year' # was 'registration'\n",
    "] "
   ]
  },
  {
   "cell_type": "code",
   "execution_count": 8,
   "id": "e10c0b37",
   "metadata": {},
   "outputs": [],
   "source": [
    "# df.loc[((df['Type'] == 'New') & df.registration.isnull()), 'registration'] = 2019 \n",
    "df.loc[((df['new_used'] == 'New') & df.year.isnull()), 'year'] = 2019 "
   ]
  },
  {
   "cell_type": "code",
   "execution_count": 9,
   "id": "a7eecf07",
   "metadata": {},
   "outputs": [
    {
     "data": {
      "text/plain": [
       "year\n",
       "2016.0    77442.520958\n",
       "2017.0    41754.940709\n",
       "2018.0    18042.018295\n",
       "2019.0     1654.068774\n",
       "Name: km, dtype: float64"
      ]
     },
     "execution_count": 9,
     "metadata": {},
     "output_type": "execute_result"
    }
   ],
   "source": [
    "# df.groupby('registration').km.mean()\n",
    "df.groupby('year').km.mean()"
   ]
  },
  {
   "cell_type": "markdown",
   "id": "ef756b77",
   "metadata": {},
   "source": [
    "* Since the registration of all new cars is 2019, null values of year column of new cars filled with 2019."
   ]
  },
  {
   "cell_type": "code",
   "execution_count": 10,
   "id": "fd56fb5c",
   "metadata": {},
   "outputs": [],
   "source": [
    "# df.loc[(df['registration'].isnull()) & (df.km <= 5000),'registration'] =2019\n",
    "# df.loc[(df['registration'].isnull()) & (df.km > 50000),'registration'] =2016\n",
    "# df.loc[(df['registration'].isnull()) & (df.km < 19000),'registration'] =2018\n",
    "# df.loc[(df['registration'].isnull()) & (df.km < 40000),'registration'] =2017\n",
    "\n",
    "df.loc[(df['year'].isnull()) & (df.km <= 5000),'year'] =2019\n",
    "df.loc[(df['year'].isnull()) & (df.km > 50000),'year'] =2016\n",
    "df.loc[(df['year'].isnull()) & (df.km < 19000),'year'] =2018\n",
    "df.loc[(df['year'].isnull()) & (df.km < 40000),'year'] =2017"
   ]
  },
  {
   "cell_type": "markdown",
   "id": "42945b05",
   "metadata": {},
   "source": [
    "* Rest of the null values were filled according to km of autos."
   ]
  },
  {
   "cell_type": "code",
   "execution_count": 11,
   "id": "68f3c039",
   "metadata": {},
   "outputs": [
    {
     "data": {
      "text/plain": [
       "year\n",
       "2016.0    16702.052388\n",
       "2017.0    19970.030631\n",
       "2018.0    22544.715092\n",
       "2019.0    24859.973913\n",
       "Name: price, dtype: float64"
      ]
     },
     "execution_count": 11,
     "metadata": {},
     "output_type": "execute_result"
    }
   ],
   "source": [
    "# df[(df['make_model'] == 'Audi A3') & (df['body_type'] == 'Sedans')].groupby('registration').price.mean()\n",
    "df[(df['make_model'] == 'Audi A3') & (df['body_type'] == 'Sedans')].groupby('year').price.mean()"
   ]
  },
  {
   "cell_type": "code",
   "execution_count": 12,
   "id": "89dc4c68",
   "metadata": {},
   "outputs": [
    {
     "data": {
      "text/plain": [
       "year\n",
       "2016.0    13606.709507\n",
       "2017.0    16995.140917\n",
       "2018.0    21390.167750\n",
       "2019.0    32103.197015\n",
       "Name: price, dtype: float64"
      ]
     },
     "execution_count": 12,
     "metadata": {},
     "output_type": "execute_result"
    }
   ],
   "source": [
    "# df[(df['make_model'] == 'Opel Insignia')].groupby('registration').price.mean()\n",
    "df[(df['make_model'] == 'Opel Insignia')].groupby('year').price.mean()"
   ]
  },
  {
   "cell_type": "code",
   "execution_count": 13,
   "id": "6f50b724",
   "metadata": {},
   "outputs": [
    {
     "data": {
      "text/html": [
       "<div>\n",
       "<style scoped>\n",
       "    .dataframe tbody tr th:only-of-type {\n",
       "        vertical-align: middle;\n",
       "    }\n",
       "\n",
       "    .dataframe tbody tr th {\n",
       "        vertical-align: top;\n",
       "    }\n",
       "\n",
       "    .dataframe thead th {\n",
       "        text-align: right;\n",
       "    }\n",
       "</style>\n",
       "<table border=\"1\" class=\"dataframe\">\n",
       "  <thead>\n",
       "    <tr style=\"text-align: right;\">\n",
       "      <th></th>\n",
       "      <th>make_model</th>\n",
       "      <th>body_type</th>\n",
       "      <th>price</th>\n",
       "      <th>vat</th>\n",
       "      <th>km</th>\n",
       "      <th>prev_owner</th>\n",
       "      <th>hp</th>\n",
       "      <th>inspection_new</th>\n",
       "      <th>warranty</th>\n",
       "      <th>body_color</th>\n",
       "      <th>...</th>\n",
       "      <th>gears</th>\n",
       "      <th>electricity_consumption</th>\n",
       "      <th>year</th>\n",
       "      <th>new_used</th>\n",
       "      <th>fuel_type</th>\n",
       "      <th>next_inspection_date</th>\n",
       "      <th>upholstery_material</th>\n",
       "      <th>consumption_comb</th>\n",
       "      <th>consumption_city</th>\n",
       "      <th>consumption_country</th>\n",
       "    </tr>\n",
       "  </thead>\n",
       "  <tbody>\n",
       "    <tr>\n",
       "      <th>5237</th>\n",
       "      <td>Audi A3</td>\n",
       "      <td>Sedans</td>\n",
       "      <td>25400</td>\n",
       "      <td>NaN</td>\n",
       "      <td>NaN</td>\n",
       "      <td>NaN</td>\n",
       "      <td>85.0</td>\n",
       "      <td>NaN</td>\n",
       "      <td>NaN</td>\n",
       "      <td>Grey</td>\n",
       "      <td>...</td>\n",
       "      <td>7.0</td>\n",
       "      <td>0</td>\n",
       "      <td>NaN</td>\n",
       "      <td>NaN</td>\n",
       "      <td>NaN</td>\n",
       "      <td>NaN</td>\n",
       "      <td>Cloth</td>\n",
       "      <td>3.9</td>\n",
       "      <td>4.1</td>\n",
       "      <td>3.7</td>\n",
       "    </tr>\n",
       "    <tr>\n",
       "      <th>5329</th>\n",
       "      <td>Audi A3</td>\n",
       "      <td>Sedans</td>\n",
       "      <td>24900</td>\n",
       "      <td>NaN</td>\n",
       "      <td>NaN</td>\n",
       "      <td>NaN</td>\n",
       "      <td>85.0</td>\n",
       "      <td>NaN</td>\n",
       "      <td>24.0</td>\n",
       "      <td>White</td>\n",
       "      <td>...</td>\n",
       "      <td>7.0</td>\n",
       "      <td>0</td>\n",
       "      <td>NaN</td>\n",
       "      <td>Pre-registered</td>\n",
       "      <td>diesel</td>\n",
       "      <td>NaN</td>\n",
       "      <td>Cloth</td>\n",
       "      <td>3.9</td>\n",
       "      <td>4.1</td>\n",
       "      <td>3.7</td>\n",
       "    </tr>\n",
       "    <tr>\n",
       "      <th>12546</th>\n",
       "      <td>Opel Insignia</td>\n",
       "      <td>Sedans</td>\n",
       "      <td>33800</td>\n",
       "      <td>NaN</td>\n",
       "      <td>NaN</td>\n",
       "      <td>NaN</td>\n",
       "      <td>100.0</td>\n",
       "      <td>NaN</td>\n",
       "      <td>24.0</td>\n",
       "      <td>White</td>\n",
       "      <td>...</td>\n",
       "      <td>6.0</td>\n",
       "      <td>0</td>\n",
       "      <td>NaN</td>\n",
       "      <td>Employee's car</td>\n",
       "      <td>diesel</td>\n",
       "      <td>NaN</td>\n",
       "      <td>Part leather</td>\n",
       "      <td>5.4</td>\n",
       "      <td>7.0</td>\n",
       "      <td>4.6</td>\n",
       "    </tr>\n",
       "    <tr>\n",
       "      <th>12878</th>\n",
       "      <td>Opel Insignia</td>\n",
       "      <td>Station wagon</td>\n",
       "      <td>31318</td>\n",
       "      <td>VAT deductible</td>\n",
       "      <td>NaN</td>\n",
       "      <td>NaN</td>\n",
       "      <td>100.0</td>\n",
       "      <td>NaN</td>\n",
       "      <td>24.0</td>\n",
       "      <td>Grey</td>\n",
       "      <td>...</td>\n",
       "      <td>6.0</td>\n",
       "      <td>0</td>\n",
       "      <td>NaN</td>\n",
       "      <td>Used</td>\n",
       "      <td>diesel</td>\n",
       "      <td>NaN</td>\n",
       "      <td>Full leather</td>\n",
       "      <td>4.3</td>\n",
       "      <td>NaN</td>\n",
       "      <td>NaN</td>\n",
       "    </tr>\n",
       "  </tbody>\n",
       "</table>\n",
       "<p>4 rows × 34 columns</p>\n",
       "</div>"
      ],
      "text/plain": [
       "          make_model      body_type  price             vat  km  prev_owner  \\\n",
       "5237         Audi A3         Sedans  25400             NaN NaN         NaN   \n",
       "5329         Audi A3         Sedans  24900             NaN NaN         NaN   \n",
       "12546  Opel Insignia         Sedans  33800             NaN NaN         NaN   \n",
       "12878  Opel Insignia  Station wagon  31318  VAT deductible NaN         NaN   \n",
       "\n",
       "          hp inspection_new  warranty body_color  ... gears  \\\n",
       "5237    85.0            NaN       NaN       Grey  ...   7.0   \n",
       "5329    85.0            NaN      24.0      White  ...   7.0   \n",
       "12546  100.0            NaN      24.0      White  ...   6.0   \n",
       "12878  100.0            NaN      24.0       Grey  ...   6.0   \n",
       "\n",
       "       electricity_consumption  year        new_used  fuel_type  \\\n",
       "5237                         0   NaN             NaN        NaN   \n",
       "5329                         0   NaN  Pre-registered     diesel   \n",
       "12546                        0   NaN  Employee's car     diesel   \n",
       "12878                        0   NaN            Used     diesel   \n",
       "\n",
       "       next_inspection_date  upholstery_material consumption_comb  \\\n",
       "5237                    NaN                Cloth              3.9   \n",
       "5329                    NaN                Cloth              3.9   \n",
       "12546                   NaN         Part leather              5.4   \n",
       "12878                   NaN         Full leather              4.3   \n",
       "\n",
       "       consumption_city consumption_country  \n",
       "5237                4.1                 3.7  \n",
       "5329                4.1                 3.7  \n",
       "12546               7.0                 4.6  \n",
       "12878               NaN                 NaN  \n",
       "\n",
       "[4 rows x 34 columns]"
      ]
     },
     "execution_count": 13,
     "metadata": {},
     "output_type": "execute_result"
    }
   ],
   "source": [
    "# df.loc[(df['registration'].isnull())]\n",
    "df.loc[(df['year'].isnull())]"
   ]
  },
  {
   "cell_type": "code",
   "execution_count": 14,
   "id": "7ad6c2e5",
   "metadata": {},
   "outputs": [],
   "source": [
    "# df['registration']=df['registration'].fillna(2019)\n",
    "df['year']=df['year'].fillna(2019)"
   ]
  },
  {
   "cell_type": "code",
   "execution_count": 15,
   "id": "12cf1047",
   "metadata": {},
   "outputs": [],
   "source": [
    "# df['registration'] = 2019 - df['registration']\n",
    "df['year'] = 2019 - df['year']\n",
    "\n",
    "# df = df.rename(columns = {'registration': 'age'})\n",
    "df = df.rename(columns = {'year': 'age'})"
   ]
  },
  {
   "cell_type": "markdown",
   "id": "19da5933",
   "metadata": {},
   "source": [
    "* year column converted to age column"
   ]
  },
  {
   "cell_type": "markdown",
   "id": "e6ed6a0e",
   "metadata": {},
   "source": [
    "### 3) VAT"
   ]
  },
  {
   "cell_type": "code",
   "execution_count": 16,
   "id": "8c2c83c1",
   "metadata": {},
   "outputs": [
    {
     "data": {
      "text/plain": [
       "vat\n",
       "VAT deductible      10980\n",
       "NaN                  4509\n",
       "Price negotiable      426\n",
       "Name: count, dtype: int64"
      ]
     },
     "execution_count": 16,
     "metadata": {},
     "output_type": "execute_result"
    }
   ],
   "source": [
    "df.vat.value_counts(dropna=False)"
   ]
  },
  {
   "cell_type": "code",
   "execution_count": 17,
   "id": "2e5b01a7",
   "metadata": {},
   "outputs": [],
   "source": [
    "df['vat'] = df['vat'].fillna('VAT undeductible') "
   ]
  },
  {
   "cell_type": "markdown",
   "id": "627e35d3",
   "metadata": {},
   "source": [
    "* All null values of vat column assigned as 'VAT undeductible'"
   ]
  },
  {
   "cell_type": "markdown",
   "id": "f8e1a99b",
   "metadata": {},
   "source": [
    "### 4) KM"
   ]
  },
  {
   "cell_type": "code",
   "execution_count": 18,
   "id": "2528f9c7",
   "metadata": {},
   "outputs": [],
   "source": [
    "median_group_km = df.groupby(['make_model','body_type','age']).km.transform(lambda x: x.median())"
   ]
  },
  {
   "cell_type": "code",
   "execution_count": 19,
   "id": "24acafe0",
   "metadata": {},
   "outputs": [],
   "source": [
    "df[\"km\"].fillna(median_group_km, inplace=True)"
   ]
  },
  {
   "cell_type": "code",
   "execution_count": 20,
   "id": "686397ff",
   "metadata": {},
   "outputs": [],
   "source": [
    "df[\"km\"].fillna(df.groupby(['make_model','age']).km.transform(lambda x: x.median()), inplace=True)"
   ]
  },
  {
   "cell_type": "markdown",
   "id": "10e62c9c",
   "metadata": {},
   "source": [
    "* km column filled with groups age, make_model and body_type"
   ]
  },
  {
   "cell_type": "markdown",
   "id": "81125f71",
   "metadata": {},
   "source": [
    "### 5) Previous Owner"
   ]
  },
  {
   "cell_type": "code",
   "execution_count": 21,
   "id": "a2152971",
   "metadata": {},
   "outputs": [],
   "source": [
    "index=df[df[\"km\"]<10].index"
   ]
  },
  {
   "cell_type": "code",
   "execution_count": 22,
   "id": "0fd87d5f",
   "metadata": {},
   "outputs": [],
   "source": [
    "df.loc[index,\"prev_owner\"]=0.0"
   ]
  },
  {
   "cell_type": "code",
   "execution_count": 23,
   "id": "4b82bfcc",
   "metadata": {},
   "outputs": [],
   "source": [
    "# df.loc[(df[\"Type\"]==\"New\") & (df[\"prev_owner\"].isnull()),\"prev_owner\"]=1.0\n",
    "df.loc[(df[\"new_used\"]==\"New\") & (df[\"prev_owner\"].isnull()),\"prev_owner\"]=1.0"
   ]
  },
  {
   "cell_type": "code",
   "execution_count": 24,
   "id": "d9fd255a",
   "metadata": {},
   "outputs": [],
   "source": [
    "df.loc[((df[\"age\"]==2019) | (df[\"km\"]<5000)) & (df[\"prev_owner\"].isnull()),\"prev_owner\"]=1.0"
   ]
  },
  {
   "cell_type": "code",
   "execution_count": 25,
   "id": "3fe92cff",
   "metadata": {},
   "outputs": [],
   "source": [
    "mode_group_po = df.groupby(['age'])['prev_owner'].transform(lambda x: x.mode()[0] if list(x.mode()) != [] else np.nan)"
   ]
  },
  {
   "cell_type": "code",
   "execution_count": 26,
   "id": "bc989b28",
   "metadata": {},
   "outputs": [],
   "source": [
    "df[\"prev_owner\"].fillna(mode_group_po, inplace=True)"
   ]
  },
  {
   "cell_type": "markdown",
   "id": "af63c404",
   "metadata": {},
   "source": [
    "### hp "
   ]
  },
  {
   "cell_type": "code",
   "execution_count": 27,
   "id": "6011692b",
   "metadata": {},
   "outputs": [],
   "source": [
    "# mode_hp = df[~(df['Displacement'].isnull())]\\\n",
    "#               .groupby(['make_model','body_type','Displacement'])['hp']\\\n",
    "#               .transform(lambda x: x.mode()[0] if list(x.mode()) != [] else np.nan)\n",
    "\n",
    "mode_hp = df[~(df['displacement'].isnull())]\\\n",
    "              .groupby(['make_model','body_type','displacement'])['hp']\\\n",
    "              .transform(lambda x: x.mode()[0] if list(x.mode()) != [] else np.nan)"
   ]
  },
  {
   "cell_type": "code",
   "execution_count": 28,
   "id": "ac5bee52",
   "metadata": {},
   "outputs": [],
   "source": [
    "# df.loc[~(df['Displacement'].isnull()),\"hp\"] = df.loc[~(df['Displacement'].isnull()),\"hp\"].fillna(mode_hp)\n",
    "df.loc[~(df['displacement'].isnull()),\"hp\"] = df.loc[~(df['displacement'].isnull()),\"hp\"].fillna(mode_hp)"
   ]
  },
  {
   "cell_type": "code",
   "execution_count": 29,
   "id": "6d8855d7",
   "metadata": {},
   "outputs": [],
   "source": [
    "# mode_hp1 = df[~(df['Cylinders'].isnull())]\\\n",
    "#               .groupby(['make_model','body_type','Cylinders'])['hp']\\\n",
    "#               .transform(lambda x: x.mode()[0] if list(x.mode()) != [] else np.nan)\n",
    "\n",
    "mode_hp1 = df[~(df['cylinders'].isnull())]\\\n",
    "              .groupby(['make_model','body_type','cylinders'])['hp']\\\n",
    "              .transform(lambda x: x.mode()[0] if list(x.mode()) != [] else np.nan)"
   ]
  },
  {
   "cell_type": "code",
   "execution_count": 30,
   "id": "fec9b081",
   "metadata": {},
   "outputs": [],
   "source": [
    "# df.loc[~(df['Cylinders'].isnull()),\"hp\"] = df.loc[~(df['Cylinders'].isnull()),\"hp\"].fillna(mode_hp1)\n",
    "\n",
    "df.loc[~(df['cylinders'].isnull()),\"hp\"] = df.loc[~(df['cylinders'].isnull()),\"hp\"].fillna(mode_hp1)"
   ]
  },
  {
   "cell_type": "code",
   "execution_count": 31,
   "id": "3bd46760",
   "metadata": {},
   "outputs": [],
   "source": [
    "mode_hp2 = df.groupby(['make_model','body_type'])['hp']\\\n",
    "              .transform(lambda x: x.mode()[0] if list(x.mode()) != [] else np.nan)"
   ]
  },
  {
   "cell_type": "code",
   "execution_count": 32,
   "id": "2689deb5",
   "metadata": {},
   "outputs": [],
   "source": [
    "df['hp'] = df['hp'].fillna(mode_hp2)"
   ]
  },
  {
   "cell_type": "markdown",
   "id": "5cb49fda",
   "metadata": {},
   "source": [
    " ### 7) Type"
   ]
  },
  {
   "cell_type": "code",
   "execution_count": 33,
   "id": "c2a2cf98",
   "metadata": {},
   "outputs": [],
   "source": [
    "# df['Type'] = df['Type'].fillna('Used')\n",
    "df['new_used'] = df['new_used'].fillna('Used')"
   ]
  },
  {
   "cell_type": "markdown",
   "id": "ab093dc5",
   "metadata": {},
   "source": [
    "### 8) Next Inspection"
   ]
  },
  {
   "cell_type": "code",
   "execution_count": 34,
   "id": "273697f1",
   "metadata": {},
   "outputs": [],
   "source": [
    "# df.drop([\"Next Inspection\"],axis=1,inplace=True)\n",
    "df.drop([\"next_inspection_date\"],axis=1,inplace=True)"
   ]
  },
  {
   "cell_type": "markdown",
   "id": "e2f5b8dc",
   "metadata": {},
   "source": [
    "### 9) Inspection New"
   ]
  },
  {
   "cell_type": "code",
   "execution_count": 35,
   "id": "772da5d5",
   "metadata": {},
   "outputs": [
    {
     "data": {
      "text/plain": [
       "inspection_new\n",
       "NaN    11983\n",
       "Yes     3932\n",
       "Name: count, dtype: int64"
      ]
     },
     "execution_count": 35,
     "metadata": {},
     "output_type": "execute_result"
    }
   ],
   "source": [
    "# df['Inspection new'].value_counts(dropna=False)\n",
    "df['inspection_new'].value_counts(dropna=False)"
   ]
  },
  {
   "cell_type": "code",
   "execution_count": 36,
   "id": "394446d1",
   "metadata": {},
   "outputs": [],
   "source": [
    "# df['Inspection new'] = df['Inspection new'].fillna('No')\n",
    "df['inspection_new'] = df['inspection_new'].fillna('No')"
   ]
  },
  {
   "cell_type": "markdown",
   "id": "1a82e0fb",
   "metadata": {},
   "source": [
    "### 10) Warranty(months)"
   ]
  },
  {
   "cell_type": "code",
   "execution_count": 37,
   "id": "1b5d44e6",
   "metadata": {},
   "outputs": [],
   "source": [
    "# df['Warranty(months)'] = df['Warranty(months)'].fillna(0.0)\n",
    "df['warranty'] = df['warranty'].fillna(0.0)"
   ]
  },
  {
   "cell_type": "markdown",
   "id": "599a7a43",
   "metadata": {},
   "source": [
    "* warranty column was filled with 0's"
   ]
  },
  {
   "cell_type": "markdown",
   "id": "30ef08c7",
   "metadata": {},
   "source": [
    "### 11) Body Color"
   ]
  },
  {
   "cell_type": "code",
   "execution_count": 38,
   "id": "3119796d",
   "metadata": {},
   "outputs": [],
   "source": [
    "# mode_color = df.groupby(['make_model','body_type'])['Body Color']\\\n",
    "#               .transform(lambda x: x.mode()[0] if list(x.mode()) != [] else np.nan)\n",
    "\n",
    "mode_color = df.groupby(['make_model','body_type'])['body_color']\\\n",
    "              .transform(lambda x: x.mode()[0] if list(x.mode()) != [] else np.nan)"
   ]
  },
  {
   "cell_type": "code",
   "execution_count": 39,
   "id": "777e745d",
   "metadata": {},
   "outputs": [],
   "source": [
    "# df['Body Color'] = df['Body Color'].fillna(mode_color)\n",
    "\n",
    "df['body_color'] = df['body_color'].fillna(mode_color)"
   ]
  },
  {
   "cell_type": "code",
   "execution_count": 40,
   "id": "fe3bba42",
   "metadata": {},
   "outputs": [],
   "source": [
    "# mode_color1 = df.groupby(['make_model'])['Body Color']\\\n",
    "#               .transform(lambda x: x.mode()[0] if list(x.mode()) != [] else np.nan)\n",
    "\n",
    "mode_color1 = df.groupby(['make_model'])['body_color']\\\n",
    "              .transform(lambda x: x.mode()[0] if list(x.mode()) != [] else np.nan)"
   ]
  },
  {
   "cell_type": "code",
   "execution_count": 41,
   "id": "da3f590a",
   "metadata": {},
   "outputs": [],
   "source": [
    "# df['Body Color'] = df['Body Color'].fillna(mode_color1)\n",
    "df['body_color'] = df['body_color'].fillna(mode_color1)"
   ]
  },
  {
   "cell_type": "markdown",
   "id": "0782ec12",
   "metadata": {},
   "source": [
    "* body_color column was filled according to groups make_model, body_type"
   ]
  },
  {
   "cell_type": "markdown",
   "id": "12b7367d",
   "metadata": {},
   "source": [
    "### 11) Paint Type"
   ]
  },
  {
   "cell_type": "code",
   "execution_count": 42,
   "id": "74649097",
   "metadata": {},
   "outputs": [],
   "source": [
    "# mode_paint = df.groupby(['make_model','body_type'])['Paint Type']\\\n",
    "#               .transform(lambda x: x.mode()[0] if list(x.mode()) != [] else np.nan)\n",
    "mode_paint = df.groupby(['make_model','body_type'])['paint_type']\\\n",
    "              .transform(lambda x: x.mode()[0] if list(x.mode()) != [] else np.nan)"
   ]
  },
  {
   "cell_type": "code",
   "execution_count": 43,
   "id": "7e126825",
   "metadata": {},
   "outputs": [],
   "source": [
    "# df['Paint Type'] = df['Paint Type'].fillna(mode_paint)\n",
    "df['paint_type'] = df['paint_type'].fillna(mode_paint)"
   ]
  },
  {
   "cell_type": "code",
   "execution_count": 44,
   "id": "387d9e82",
   "metadata": {},
   "outputs": [],
   "source": [
    "# mode_paint1 = df.groupby(['make_model'])['Paint Type']\\\n",
    "#               .transform(lambda x: x.mode()[0] if list(x.mode()) != [] else np.nan)\n",
    "\n",
    "mode_paint1 = df.groupby(['make_model'])['paint_type']\\\n",
    "              .transform(lambda x: x.mode()[0] if list(x.mode()) != [] else np.nan)"
   ]
  },
  {
   "cell_type": "code",
   "execution_count": 45,
   "id": "953ed4e5",
   "metadata": {},
   "outputs": [],
   "source": [
    "# df['Paint Type'] = df['Paint Type'].fillna(mode_paint1)\n",
    "df['paint_type'] = df['paint_type'].fillna(mode_paint1)"
   ]
  },
  {
   "cell_type": "markdown",
   "id": "b6419b0d",
   "metadata": {},
   "source": [
    "* paint_type column was filled according to groups make_model, body_type"
   ]
  },
  {
   "cell_type": "markdown",
   "id": "8b3a3a54",
   "metadata": {},
   "source": [
    "### 12) Body Color Original"
   ]
  },
  {
   "cell_type": "code",
   "execution_count": 46,
   "id": "54b4a48b",
   "metadata": {},
   "outputs": [],
   "source": [
    "# df.drop([\"Body Color Original\"],axis=1,inplace=True)"
   ]
  },
  {
   "cell_type": "markdown",
   "id": "8103f123",
   "metadata": {},
   "source": [
    "### 13) Nr. of Doors"
   ]
  },
  {
   "cell_type": "code",
   "execution_count": 47,
   "id": "49808302",
   "metadata": {},
   "outputs": [],
   "source": [
    "# mode_nr_doors = df.groupby(['make_model','body_type'])['Nr. of Doors']\\\n",
    "#               .transform(lambda x: x.mode()[0] if list(x.mode()) != [] else np.nan)\n",
    "mode_nr_doors = df.groupby(['make_model','body_type'])['nr_of_doors']\\\n",
    "              .transform(lambda x: x.mode()[0] if list(x.mode()) != [] else np.nan)"
   ]
  },
  {
   "cell_type": "code",
   "execution_count": 48,
   "id": "5bea64eb",
   "metadata": {},
   "outputs": [],
   "source": [
    "# df['Nr. of Doors'] = df['Nr. of Doors'].fillna(mode_nr_doors)\n",
    "df['nr_of_doors'] = df['nr_of_doors'].fillna(mode_nr_doors)"
   ]
  },
  {
   "cell_type": "code",
   "execution_count": 49,
   "id": "5ad8416f",
   "metadata": {},
   "outputs": [],
   "source": [
    "# mode_nr_doors1 = df.groupby(['make_model'])['Nr. of Doors']\\\n",
    "#               .transform(lambda x: x.mode()[0] if list(x.mode()) != [] else np.nan)\n",
    "\n",
    "mode_nr_doors1 = df.groupby(['make_model'])['nr_of_doors']\\\n",
    "              .transform(lambda x: x.mode()[0] if list(x.mode()) != [] else np.nan)"
   ]
  },
  {
   "cell_type": "code",
   "execution_count": 50,
   "id": "a65c0037",
   "metadata": {},
   "outputs": [],
   "source": [
    "# df['Nr. of Doors'] = df['Nr. of Doors'].fillna(mode_nr_doors1)\n",
    "df['nr_of_doors'] = df['nr_of_doors'].fillna(mode_nr_doors1)"
   ]
  },
  {
   "cell_type": "markdown",
   "id": "2f926338",
   "metadata": {},
   "source": [
    "* nr. of seats column was filled according to groups make_model, body_type"
   ]
  },
  {
   "cell_type": "markdown",
   "id": "f85c991f",
   "metadata": {},
   "source": [
    "### 14) Nr. of Seats"
   ]
  },
  {
   "cell_type": "code",
   "execution_count": 51,
   "id": "a441a282",
   "metadata": {},
   "outputs": [],
   "source": [
    "# mode_nr_seats = df.groupby(['make_model','body_type'])['Nr. of Seats']\\\n",
    "#               .transform(lambda x: x.mode()[0] if list(x.mode()) != [] else np.nan)\n",
    "mode_nr_seats = df.groupby(['make_model','body_type'])['nr_of_seats']\\\n",
    "              .transform(lambda x: x.mode()[0] if list(x.mode()) != [] else np.nan)"
   ]
  },
  {
   "cell_type": "code",
   "execution_count": 52,
   "id": "bee33d15",
   "metadata": {},
   "outputs": [],
   "source": [
    "# df['Nr. of Seats'] = df['Nr. of Seats'].fillna(mode_nr_seats)\n",
    "df['nr_of_seats'] = df['nr_of_seats'].fillna(mode_nr_seats)"
   ]
  },
  {
   "cell_type": "code",
   "execution_count": 53,
   "id": "293b95c2",
   "metadata": {},
   "outputs": [],
   "source": [
    "# mode_nr_seats1 = df.groupby(['make_model'])['Nr. of Seats']\\\n",
    "#               .transform(lambda x: x.mode()[0] if list(x.mode()) != [] else np.nan)\n",
    "mode_nr_seats1 = df.groupby(['make_model'])['nr_of_seats']\\\n",
    "              .transform(lambda x: x.mode()[0] if list(x.mode()) != [] else np.nan)"
   ]
  },
  {
   "cell_type": "code",
   "execution_count": 54,
   "id": "80f91ea7",
   "metadata": {},
   "outputs": [],
   "source": [
    "# df['Nr. of Seats'] = df['Nr. of Seats'].fillna(mode_nr_seats1)\n",
    "df['nr_of_seats'] = df['nr_of_seats'].fillna(mode_nr_seats1)"
   ]
  },
  {
   "cell_type": "markdown",
   "id": "9df5ca3a",
   "metadata": {},
   "source": [
    "* nr_of_seats column was filled according to groups make_model, body_type"
   ]
  },
  {
   "cell_type": "markdown",
   "id": "2a18408b",
   "metadata": {},
   "source": [
    "### Model Code"
   ]
  },
  {
   "cell_type": "code",
   "execution_count": 55,
   "id": "ec46c2fd",
   "metadata": {},
   "outputs": [],
   "source": [
    "# df.drop(['Model Code'],axis=1,inplace=True)"
   ]
  },
  {
   "cell_type": "markdown",
   "id": "acebdf31",
   "metadata": {},
   "source": [
    "### 15) Gearing Type"
   ]
  },
  {
   "cell_type": "code",
   "execution_count": 56,
   "id": "31f9417c",
   "metadata": {},
   "outputs": [
    {
     "data": {
      "text/plain": [
       "gearing_type\n",
       "Manual            8149\n",
       "Automatic         7297\n",
       "Semi-automatic     469\n",
       "Name: count, dtype: int64"
      ]
     },
     "execution_count": 56,
     "metadata": {},
     "output_type": "execute_result"
    }
   ],
   "source": [
    "# df['Gearing Type'].value_counts(dropna=False)\n",
    "df['gearing_type'].value_counts(dropna=False)"
   ]
  },
  {
   "cell_type": "markdown",
   "id": "083d5122",
   "metadata": {},
   "source": [
    "### 16) Displacement"
   ]
  },
  {
   "cell_type": "code",
   "execution_count": 57,
   "id": "ee233bf7",
   "metadata": {},
   "outputs": [],
   "source": [
    "# mode_displacement = df.groupby(['make_model','body_type','hp'])['Displacement']\\\n",
    "#               .transform(lambda x: x.mode()[0] if list(x.mode()) != [] else np.nan)\n",
    "\n",
    "mode_displacement = df.groupby(['make_model','body_type','hp'])['displacement']\\\n",
    "              .transform(lambda x: x.mode()[0] if list(x.mode()) != [] else np.nan)"
   ]
  },
  {
   "cell_type": "code",
   "execution_count": 58,
   "id": "c0f74b13",
   "metadata": {},
   "outputs": [],
   "source": [
    "# df['Displacement'] = df['Displacement'].fillna(mode_displacement)\n",
    "\n",
    "df['displacement'] = df['displacement'].fillna(mode_displacement)"
   ]
  },
  {
   "cell_type": "code",
   "execution_count": 59,
   "id": "37895609",
   "metadata": {},
   "outputs": [],
   "source": [
    "# mode_displacement1 = df.groupby(['make_model','body_type'])['Displacement']\\\n",
    "#               .transform(lambda x: x.mode()[0] if list(x.mode()) != [] else np.nan)\n",
    "\n",
    "mode_displacement1 = df.groupby(['make_model','body_type'])['displacement']\\\n",
    "              .transform(lambda x: x.mode()[0] if list(x.mode()) != [] else np.nan)"
   ]
  },
  {
   "cell_type": "code",
   "execution_count": 60,
   "id": "d4936e2e",
   "metadata": {},
   "outputs": [],
   "source": [
    "# df['Displacement'] = df['Displacement'].fillna(mode_displacement1)\n",
    "\n",
    "df['displacement'] = df['displacement'].fillna(mode_displacement1)"
   ]
  },
  {
   "cell_type": "code",
   "execution_count": 61,
   "id": "04938700",
   "metadata": {},
   "outputs": [],
   "source": [
    "# mode_displacement2 = df.groupby(['make_model'])['Displacement']\\\n",
    "#               .transform(lambda x: x.mode()[0] if list(x.mode()) != [] else np.nan)\n",
    "\n",
    "mode_displacement2 = df.groupby(['make_model'])['displacement']\\\n",
    "              .transform(lambda x: x.mode()[0] if list(x.mode()) != [] else np.nan)"
   ]
  },
  {
   "cell_type": "code",
   "execution_count": 62,
   "id": "ef1822d6",
   "metadata": {},
   "outputs": [],
   "source": [
    "# df['Displacement'] = df['Displacement'].fillna(mode_displacement2)\n",
    "\n",
    "df['displacement'] = df['displacement'].fillna(mode_displacement2)"
   ]
  },
  {
   "cell_type": "markdown",
   "id": "37857a50",
   "metadata": {},
   "source": [
    "* Displacement column was filled according to groups hp, make_model, body_type"
   ]
  },
  {
   "cell_type": "markdown",
   "id": "6207b3bd",
   "metadata": {},
   "source": [
    "### 16) Weight"
   ]
  },
  {
   "cell_type": "code",
   "execution_count": 63,
   "id": "3450c61e",
   "metadata": {},
   "outputs": [],
   "source": [
    "# mode_weight = df.groupby(['make_model', 'Displacement'])['Weight']\\\n",
    "#               .transform(lambda x: x.mode()[0] if list(x.mode()) != [] else np.nan)\n",
    "\n",
    "mode_weight = df.groupby(['make_model', 'displacement'])['weight']\\\n",
    "              .transform(lambda x: x.mode()[0] if list(x.mode()) != [] else np.nan)"
   ]
  },
  {
   "cell_type": "code",
   "execution_count": 64,
   "id": "7c5f1255",
   "metadata": {},
   "outputs": [],
   "source": [
    "# df['Weight'] = df['Weight'].fillna(mode_weight)\n",
    "\n",
    "df['weight'] = df['weight'].fillna(mode_weight)"
   ]
  },
  {
   "cell_type": "code",
   "execution_count": 65,
   "id": "36f6165a",
   "metadata": {},
   "outputs": [],
   "source": [
    "# mode_weight1 = df.groupby(['make_model'])['Weight']\\\n",
    "#               .transform(lambda x: x.mode()[0] if list(x.mode()) != [] else np.nan)\n",
    "\n",
    "mode_weight1 = df.groupby(['make_model'])['weight']\\\n",
    "              .transform(lambda x: x.mode()[0] if list(x.mode()) != [] else np.nan)"
   ]
  },
  {
   "cell_type": "code",
   "execution_count": 66,
   "id": "689e2d6d",
   "metadata": {},
   "outputs": [],
   "source": [
    "# df['Weight'] = df['Weight'].fillna(mode_weight1)\n",
    "\n",
    "df['weight'] = df['weight'].fillna(mode_weight1)"
   ]
  },
  {
   "cell_type": "code",
   "execution_count": 67,
   "id": "2a2fe472",
   "metadata": {},
   "outputs": [],
   "source": [
    "# mode_weight2 = df.groupby(['make_model', 'hp'])['Weight']\\\n",
    "#               .transform(lambda x: x.mode()[0] if list(x.mode()) != [] else np.nan)\n",
    "\n",
    "mode_weight2 = df.groupby(['make_model', 'hp'])['weight']\\\n",
    "              .transform(lambda x: x.mode()[0] if list(x.mode()) != [] else np.nan)"
   ]
  },
  {
   "cell_type": "code",
   "execution_count": 68,
   "id": "12b6db98",
   "metadata": {},
   "outputs": [],
   "source": [
    "# df['Weight'] = df['Weight'].fillna(mode_weight2)\n",
    "\n",
    "df['weight'] = df['weight'].fillna(mode_weight2)"
   ]
  },
  {
   "cell_type": "code",
   "execution_count": 69,
   "id": "1d118706",
   "metadata": {},
   "outputs": [],
   "source": [
    "# mode_weight3 = df.groupby(['body_type'])['Weight']\\\n",
    "#               .transform(lambda x: x.mode()[0] if list(x.mode()) != [] else np.nan)\n",
    "\n",
    "mode_weight3 = df.groupby(['body_type'])['weight']\\\n",
    "              .transform(lambda x: x.mode()[0] if list(x.mode()) != [] else np.nan)"
   ]
  },
  {
   "cell_type": "code",
   "execution_count": 70,
   "id": "9da2c89b",
   "metadata": {},
   "outputs": [],
   "source": [
    "# df['Weight'] = df['Weight'].fillna(mode_weight3)\n",
    "\n",
    "df['Weight'] = df['weight'].fillna(mode_weight3)"
   ]
  },
  {
   "cell_type": "markdown",
   "id": "28544371",
   "metadata": {},
   "source": [
    "* weight column was filled according to groups hp, make_model, body_type"
   ]
  },
  {
   "cell_type": "markdown",
   "id": "50949a75",
   "metadata": {},
   "source": [
    "### 17) Cylinders"
   ]
  },
  {
   "cell_type": "code",
   "execution_count": 71,
   "id": "c9bd8a9f",
   "metadata": {},
   "outputs": [],
   "source": [
    "# mode_cylinders = df.groupby(['make_model', 'Displacement'])['Cylinders']\\\n",
    "#               .transform(lambda x: x.mode()[0] if list(x.mode()) != [] else np.nan)\n",
    "\n",
    "mode_cylinders = df.groupby(['make_model', 'displacement'])['cylinders']\\\n",
    "              .transform(lambda x: x.mode()[0] if list(x.mode()) != [] else np.nan)"
   ]
  },
  {
   "cell_type": "code",
   "execution_count": 72,
   "id": "54b7db60",
   "metadata": {},
   "outputs": [],
   "source": [
    "# df['Cylinders'] = df['Cylinders'].fillna(mode_cylinders)\n",
    "\n",
    "df['cylinders'] = df['cylinders'].fillna(mode_cylinders)"
   ]
  },
  {
   "cell_type": "code",
   "execution_count": 73,
   "id": "53ef7684",
   "metadata": {},
   "outputs": [],
   "source": [
    "# mode_cylinders1 = df.groupby(['make_model', 'Weight'])['Cylinders']\\\n",
    "#               .transform(lambda x: x.mode()[0] if list(x.mode()) != [] else np.nan)\n",
    "\n",
    "mode_cylinders1 = df.groupby(['make_model', 'weight'])['cylinders']\\\n",
    "              .transform(lambda x: x.mode()[0] if list(x.mode()) != [] else np.nan)"
   ]
  },
  {
   "cell_type": "code",
   "execution_count": 74,
   "id": "f76dad28",
   "metadata": {},
   "outputs": [],
   "source": [
    "# df['Cylinders'] = df['Cylinders'].fillna(mode_cylinders1)\n",
    "\n",
    "df['cylinders'] = df['cylinders'].fillna(mode_cylinders1)"
   ]
  },
  {
   "cell_type": "code",
   "execution_count": 75,
   "id": "13ac4bee",
   "metadata": {},
   "outputs": [],
   "source": [
    "# mode_cylinders2 = df.groupby(['make_model'])['Cylinders']\\\n",
    "#               .transform(lambda x: x.mode()[0] if list(x.mode()) != [] else np.nan)\n",
    "\n",
    "mode_cylinders2 = df.groupby(['make_model'])['cylinders']\\\n",
    "              .transform(lambda x: x.mode()[0] if list(x.mode()) != [] else np.nan)"
   ]
  },
  {
   "cell_type": "code",
   "execution_count": 76,
   "id": "0a951e41",
   "metadata": {},
   "outputs": [],
   "source": [
    "# df['Cylinders'] = df['Cylinders'].fillna(mode_cylinders2)\n",
    "\n",
    "df['cylinders'] = df['cylinders'].fillna(mode_cylinders2)"
   ]
  },
  {
   "cell_type": "code",
   "execution_count": 77,
   "id": "652361d0",
   "metadata": {},
   "outputs": [],
   "source": [
    "# df['Cylinders'] = df['Cylinders'].fillna(4.0)\n",
    "\n",
    "df['cylinders'] = df['cylinders'].fillna(4.0)"
   ]
  },
  {
   "cell_type": "markdown",
   "id": "c124f965",
   "metadata": {},
   "source": [
    "* cylinders column was filled according to groups displacement, weight, make_mode"
   ]
  },
  {
   "cell_type": "markdown",
   "id": "60def4d3",
   "metadata": {},
   "source": [
    "### 18) Drive Chain"
   ]
  },
  {
   "cell_type": "code",
   "execution_count": 78,
   "id": "17d3ef12",
   "metadata": {},
   "outputs": [],
   "source": [
    "# mode_drive_chain = df.groupby(['make_model', 'body_type'])['Drive chain']\\\n",
    "#               .transform(lambda x: x.mode()[0] if list(x.mode()) != [] else np.nan)\n",
    "\n",
    "mode_drive_chain = df.groupby(['make_model', 'body_type'])['drive_chain']\\\n",
    "              .transform(lambda x: x.mode()[0] if list(x.mode()) != [] else np.nan)"
   ]
  },
  {
   "cell_type": "code",
   "execution_count": 79,
   "id": "8328417e",
   "metadata": {},
   "outputs": [],
   "source": [
    "# df['Drive chain'] = df['Drive chain'].fillna(mode_drive_chain)\n",
    "\n",
    "df['drive_chain'] = df['drive_chain'].fillna(mode_drive_chain)"
   ]
  },
  {
   "cell_type": "code",
   "execution_count": 80,
   "id": "f06643e6",
   "metadata": {},
   "outputs": [],
   "source": [
    "# mode_drive_chain1 = df.groupby(['make_model'])['Drive chain']\\\n",
    "#               .transform(lambda x: x.mode()[0] if list(x.mode()) != [] else np.nan)\n",
    "\n",
    "mode_drive_chain1 = df.groupby(['make_model'])['drive_chain']\\\n",
    "              .transform(lambda x: x.mode()[0] if list(x.mode()) != [] else np.nan)"
   ]
  },
  {
   "cell_type": "code",
   "execution_count": 81,
   "id": "c95d79f1",
   "metadata": {},
   "outputs": [],
   "source": [
    "# df['Drive chain'] = df['Drive chain'].fillna(mode_drive_chain1)\n",
    "\n",
    "df['drive_chain'] = df['drive_chain'].fillna(mode_drive_chain1)"
   ]
  },
  {
   "cell_type": "markdown",
   "id": "9e7242c7",
   "metadata": {},
   "source": [
    "* drive_chain column was filled according to groups make_model and body type"
   ]
  },
  {
   "cell_type": "markdown",
   "id": "f5926eb5",
   "metadata": {},
   "source": [
    "### 19) Fuel"
   ]
  },
  {
   "cell_type": "code",
   "execution_count": 82,
   "id": "fc76ca70",
   "metadata": {},
   "outputs": [
    {
     "data": {
      "text/plain": [
       "fuel_type\n",
       "benzine    8546\n",
       "diesel     7296\n",
       "gas          64\n",
       "others        7\n",
       "NaN           2\n",
       "Name: count, dtype: int64"
      ]
     },
     "execution_count": 82,
     "metadata": {},
     "output_type": "execute_result"
    }
   ],
   "source": [
    "# df['Fuel'].value_counts(dropna=False)\n",
    "df['fuel_type'].value_counts(dropna=False)"
   ]
  },
  {
   "cell_type": "code",
   "execution_count": 83,
   "id": "626de936-18c2-4e90-aed4-0fadcb17da2f",
   "metadata": {},
   "outputs": [],
   "source": [
    "# not sure what to do about the NaN?"
   ]
  },
  {
   "cell_type": "markdown",
   "id": "74762565",
   "metadata": {},
   "source": [
    "### 20) CO2 Emission(g CO2/km)"
   ]
  },
  {
   "cell_type": "code",
   "execution_count": 84,
   "id": "862c7dee",
   "metadata": {},
   "outputs": [],
   "source": [
    "# mode_CO2 = df.groupby(['make_model','Displacement'])['CO2 Emission(g CO2/km)']\\\n",
    "#               .transform(lambda x: x.mode()[0] if list(x.mode()) != [] else np.nan)\n",
    "\n",
    "mode_CO2 = df.groupby(['make_model','displacement'])['co2_emission']\\\n",
    "              .transform(lambda x: x.mode()[0] if list(x.mode()) != [] else np.nan)"
   ]
  },
  {
   "cell_type": "code",
   "execution_count": 85,
   "id": "0b43c550",
   "metadata": {},
   "outputs": [],
   "source": [
    "# df['CO2 Emission(g CO2/km)'] = df['CO2 Emission(g CO2/km)'].fillna(mode_CO2)\n",
    "\n",
    "df['co2_emission'] = df['co2_emission'].fillna(mode_CO2)"
   ]
  },
  {
   "cell_type": "code",
   "execution_count": 86,
   "id": "13226103",
   "metadata": {},
   "outputs": [],
   "source": [
    "# mode_CO2_1 = df.groupby(['make_model'])['CO2 Emission(g CO2/km)']\\\n",
    "#               .transform(lambda x: x.mode()[0] if list(x.mode()) != [] else np.nan)\n",
    "\n",
    "mode_CO2_1 = df.groupby(['make_model'])['co2_emission']\\\n",
    "              .transform(lambda x: x.mode()[0] if list(x.mode()) != [] else np.nan)"
   ]
  },
  {
   "cell_type": "code",
   "execution_count": 87,
   "id": "ebfc442f",
   "metadata": {},
   "outputs": [],
   "source": [
    "# df['CO2 Emission(g CO2/km)'] = df['CO2 Emission(g CO2/km)'].fillna(mode_CO2_1)\n",
    "\n",
    "df['co2_emission'] = df['co2_emission'].fillna(mode_CO2_1)"
   ]
  },
  {
   "cell_type": "code",
   "execution_count": 88,
   "id": "fb84ff2c",
   "metadata": {},
   "outputs": [],
   "source": [
    "# mode_CO2_2 = df.groupby(['body_type'])['CO2 Emission(g CO2/km)']\\\n",
    "#               .transform(lambda x: x.mode()[0] if list(x.mode()) != [] else np.nan)\n",
    "\n",
    "mode_CO2_2 = df.groupby(['body_type'])['co2_emission']\\\n",
    "              .transform(lambda x: x.mode()[0] if list(x.mode()) != [] else np.nan)"
   ]
  },
  {
   "cell_type": "code",
   "execution_count": 89,
   "id": "b3b34e86",
   "metadata": {},
   "outputs": [],
   "source": [
    "# df['CO2 Emission(g CO2/km)'] = df['CO2 Emission(g CO2/km)'].fillna(mode_CO2_2)\n",
    "\n",
    "df['co2_emission'] = df['co2_emission'].fillna(mode_CO2_2)"
   ]
  },
  {
   "cell_type": "markdown",
   "id": "8b2df25e",
   "metadata": {},
   "source": [
    "* 'CO2 Emission(g CO2/km)' column was filled according to groups make_model,displacement and body type"
   ]
  },
  {
   "cell_type": "markdown",
   "id": "74da753a",
   "metadata": {},
   "source": [
    "### 21) Emission Class"
   ]
  },
  {
   "cell_type": "code",
   "execution_count": 90,
   "id": "dae2a93c",
   "metadata": {},
   "outputs": [],
   "source": [
    "# mode_Emision_C= df.groupby(['CO2 Emission(g CO2/km)'])['Emission Class']\\\n",
    "#               .transform(lambda x: x.mode()[0] if list(x.mode()) != [] else np.nan)\n",
    "\n",
    "mode_Emision_C= df.groupby(['co2_emission'])['emission_class']\\\n",
    "              .transform(lambda x: x.mode()[0] if list(x.mode()) != [] else np.nan)"
   ]
  },
  {
   "cell_type": "code",
   "execution_count": 91,
   "id": "4bf26ee6",
   "metadata": {},
   "outputs": [],
   "source": [
    "# df['Emission Class'] = df['Emission Class'].fillna(mode_Emision_C)\n",
    "\n",
    "df['emission_class'] = df['emission_class'].fillna(mode_Emision_C)"
   ]
  },
  {
   "cell_type": "code",
   "execution_count": 92,
   "id": "feb6bb71",
   "metadata": {},
   "outputs": [],
   "source": [
    "# mode_Emision_C1= df.groupby(['age'])['Emission Class']\\\n",
    "#               .transform(lambda x: x.mode()[0] if list(x.mode()) != [] else np.nan)\n",
    "\n",
    "mode_Emision_C1= df.groupby(['age'])['emission_class']\\\n",
    "              .transform(lambda x: x.mode()[0] if list(x.mode()) != [] else np.nan)"
   ]
  },
  {
   "cell_type": "code",
   "execution_count": 93,
   "id": "1b0ef5fc",
   "metadata": {},
   "outputs": [],
   "source": [
    "# df['Emission Class'] = df['Emission Class'].fillna(mode_Emision_C1)\n",
    "\n",
    "df['emission_class'] = df['emission_class'].fillna(mode_Emision_C1)"
   ]
  },
  {
   "cell_type": "markdown",
   "id": "45dd89c8",
   "metadata": {},
   "source": [
    "* emission class column was filled according to groups co2 emission and age"
   ]
  },
  {
   "cell_type": "markdown",
   "id": "87f0155f",
   "metadata": {},
   "source": [
    "### 22) Gears"
   ]
  },
  {
   "cell_type": "code",
   "execution_count": 94,
   "id": "3619c797",
   "metadata": {},
   "outputs": [],
   "source": [
    "# mode_Gears= df.groupby(['make_model','Gearing Type'])['Gears']\\\n",
    "#               .transform(lambda x: x.mode()[0] if list(x.mode()) != [] else np.nan)\n",
    "\n",
    "mode_Gears= df.groupby(['make_model','gearing_type'])['gears']\\\n",
    "              .transform(lambda x: x.mode()[0] if list(x.mode()) != [] else np.nan)"
   ]
  },
  {
   "cell_type": "code",
   "execution_count": 95,
   "id": "e636f05c",
   "metadata": {},
   "outputs": [],
   "source": [
    "# df['Gears'] = df['Gears'].fillna(mode_Gears)\n",
    "\n",
    "df['gears'] = df['gears'].fillna(mode_Gears)"
   ]
  },
  {
   "cell_type": "code",
   "execution_count": 96,
   "id": "23419a42",
   "metadata": {},
   "outputs": [],
   "source": [
    "# mode_Gears1= df.groupby(['Gearing Type'])['Gears']\\\n",
    "#               .transform(lambda x: x.mode()[0] if list(x.mode()) != [] else np.nan)\n",
    "\n",
    "mode_Gears1= df.groupby(['gearing_type'])['gears']\\\n",
    "              .transform(lambda x: x.mode()[0] if list(x.mode()) != [] else np.nan)"
   ]
  },
  {
   "cell_type": "code",
   "execution_count": 97,
   "id": "aa199d26",
   "metadata": {},
   "outputs": [],
   "source": [
    "# df['Gears'] = df['Gears'].fillna(mode_Gears1)\n",
    "\n",
    "df['gears'] = df['gears'].fillna(mode_Gears1)"
   ]
  },
  {
   "cell_type": "markdown",
   "id": "ed42e591",
   "metadata": {},
   "source": [
    "* gears column was filled according to groups make model and gear type"
   ]
  },
  {
   "cell_type": "markdown",
   "id": "9e7ac991",
   "metadata": {},
   "source": [
    "### 23) Country version"
   ]
  },
  {
   "cell_type": "code",
   "execution_count": 98,
   "id": "b026d02f",
   "metadata": {},
   "outputs": [],
   "source": [
    "# df.drop(['Country version'], axis=1, inplace=True)"
   ]
  },
  {
   "cell_type": "markdown",
   "id": "fee221dc",
   "metadata": {},
   "source": [
    "### 24) Upholstery Material"
   ]
  },
  {
   "cell_type": "code",
   "execution_count": 99,
   "id": "2f068a3b",
   "metadata": {},
   "outputs": [
    {
     "data": {
      "text/plain": [
       "upholstery_material\n",
       "Cloth           8421\n",
       "NaN             4501\n",
       "Part leather    1499\n",
       "Full leather    1009\n",
       "Other            368\n",
       "Velour            60\n",
       "alcantara         57\n",
       "Name: count, dtype: int64"
      ]
     },
     "execution_count": 99,
     "metadata": {},
     "output_type": "execute_result"
    }
   ],
   "source": [
    "df['upholstery_material'].value_counts(dropna=False)"
   ]
  },
  {
   "cell_type": "markdown",
   "id": "dbcab2f6",
   "metadata": {},
   "source": [
    "### 25) Upholstrey Color"
   ]
  },
  {
   "cell_type": "code",
   "execution_count": 100,
   "id": "ac0efbb5",
   "metadata": {},
   "outputs": [],
   "source": [
    "# df.drop(['upholstery_color'], axis=1, inplace=True)"
   ]
  },
  {
   "cell_type": "markdown",
   "id": "5c91e884",
   "metadata": {},
   "source": [
    "### 26) Consumption Combined"
   ]
  },
  {
   "cell_type": "code",
   "execution_count": 101,
   "id": "71ae8008",
   "metadata": {},
   "outputs": [],
   "source": [
    "# coms = ((df['Consumption_city']+df['Consumption_country'])/2)\n",
    "\n",
    "coms = ((df['consumption_city']+df['consumption_country'])/2)"
   ]
  },
  {
   "cell_type": "code",
   "execution_count": 102,
   "id": "5095fdd5",
   "metadata": {},
   "outputs": [],
   "source": [
    "# df['Consumption_combined'] = df['Consumption_combined'].fillna(coms)\n",
    "\n",
    "df['consumption_comb'] = df['consumption_comb'].fillna(coms)"
   ]
  },
  {
   "cell_type": "code",
   "execution_count": 103,
   "id": "e2f73dd7",
   "metadata": {},
   "outputs": [],
   "source": [
    "# mode_Cons= df.groupby(['CO2 Emission(g CO2/km)'])['Consumption_combined']\\\n",
    "#               .transform(lambda x: x.mode()[0] if list(x.mode()) != [] else np.nan)\n",
    "\n",
    "mode_Cons= df.groupby(['co2_emission'])['consumption_comb']\\\n",
    "              .transform(lambda x: x.mode()[0] if list(x.mode()) != [] else np.nan)"
   ]
  },
  {
   "cell_type": "code",
   "execution_count": 104,
   "id": "760c1685",
   "metadata": {},
   "outputs": [],
   "source": [
    "# df['Consumption_combined'] = df['Consumption_combined'].fillna(mode_Cons)\n",
    "\n",
    "df['consumption_comb'] = df['consumption_comb'].fillna(mode_Cons)"
   ]
  },
  {
   "cell_type": "code",
   "execution_count": 105,
   "id": "1f54deec",
   "metadata": {},
   "outputs": [],
   "source": [
    "# mode_Cons1= df.groupby(['Displacement'])['Consumption_combined']\\\n",
    "#               .transform(lambda x: x.mode()[0] if list(x.mode()) != [] else np.nan)\n",
    "\n",
    "mode_Cons1= df.groupby(['displacement'])['consumption_comb']\\\n",
    "              .transform(lambda x: x.mode()[0] if list(x.mode()) != [] else np.nan)"
   ]
  },
  {
   "cell_type": "code",
   "execution_count": 106,
   "id": "63c57667",
   "metadata": {},
   "outputs": [],
   "source": [
    "# df['Consumption_combined'] = df['Consumption_combined'].fillna(mode_Cons1)\n",
    "\n",
    "df['consumption_comb'] = df['consumption_comb'].fillna(mode_Cons1)"
   ]
  },
  {
   "cell_type": "code",
   "execution_count": 107,
   "id": "d40e9d49",
   "metadata": {},
   "outputs": [],
   "source": [
    "# mode_Cons2= df.groupby(['make_model'])['Consumption_combined']\\\n",
    "#               .transform(lambda x: x.mode()[0] if list(x.mode()) != [] else np.nan)\n",
    "\n",
    "mode_Cons2= df.groupby(['make_model'])['consumption_comb']\\\n",
    "              .transform(lambda x: x.mode()[0] if list(x.mode()) != [] else np.nan)"
   ]
  },
  {
   "cell_type": "code",
   "execution_count": 108,
   "id": "e3e53d68",
   "metadata": {},
   "outputs": [],
   "source": [
    "# df['Consumption_combined'] = df['Consumption_combined'].fillna(mode_Cons2)\n",
    "\n",
    "df['consumption_comb'] = df['consumption_comb'].fillna(mode_Cons2)"
   ]
  },
  {
   "cell_type": "markdown",
   "id": "a8451e7d",
   "metadata": {},
   "source": [
    "* comsumption column first was filled with the mean of 'consumption_city','consumption_country' columns. Then was filled according to the column make_model."
   ]
  },
  {
   "cell_type": "markdown",
   "id": "af65deee",
   "metadata": {},
   "source": [
    "## Filled data was saved to a csv file called \"missings_filled_step2.csv\""
   ]
  },
  {
   "cell_type": "code",
   "execution_count": 109,
   "id": "850ae787",
   "metadata": {},
   "outputs": [],
   "source": [
    "df.to_csv(\"./data/scout_missings_filled_2.csv\", index=False)"
   ]
  },
  {
   "cell_type": "code",
   "execution_count": null,
   "id": "462afe26",
   "metadata": {},
   "outputs": [],
   "source": []
  }
 ],
 "metadata": {
  "kernelspec": {
   "display_name": "Python 3 (ipykernel)",
   "language": "python",
   "name": "python3"
  },
  "language_info": {
   "codemirror_mode": {
    "name": "ipython",
    "version": 3
   },
   "file_extension": ".py",
   "mimetype": "text/x-python",
   "name": "python",
   "nbconvert_exporter": "python",
   "pygments_lexer": "ipython3",
   "version": "3.10.14"
  }
 },
 "nbformat": 4,
 "nbformat_minor": 5
}
