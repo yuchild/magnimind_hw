{
 "cells": [
  {
   "cell_type": "markdown",
   "metadata": {},
   "source": [
    "# Phase-2 Handling Missing Values"
   ]
  },
  {
   "cell_type": "code",
   "execution_count": 1,
   "metadata": {},
   "outputs": [
    {
     "name": "stderr",
     "output_type": "stream",
     "text": [
      "c:\\Users\\Necip\\anaconda3\\Lib\\site-packages\\pandas\\core\\arrays\\masked.py:60: UserWarning: Pandas requires version '1.3.6' or newer of 'bottleneck' (version '1.3.5' currently installed).\n",
      "  from pandas.core import (\n"
     ]
    }
   ],
   "source": [
    "import matplotlib.pyplot as plt\n",
    "%matplotlib inline\n",
    "import numpy as np\n",
    "import pandas as pd\n",
    "import seaborn as sns\n",
    "import warnings;\n",
    "warnings.filterwarnings(\"ignore\")\n",
    "import re\n",
    "#pd.set_option(\"display.max_columns\",None)\n",
    "#pd.set_option(\"display.max_rows\",None)"
   ]
  },
  {
   "cell_type": "code",
   "execution_count": 2,
   "metadata": {},
   "outputs": [],
   "source": [
    "df=pd.read_csv(\"Capstone_new.csv\")"
   ]
  },
  {
   "cell_type": "markdown",
   "metadata": {},
   "source": [
    "### 1) Body Type"
   ]
  },
  {
   "cell_type": "code",
   "execution_count": 6,
   "id": "7b163870",
   "metadata": {},
   "outputs": [
    {
     "data": {
      "text/plain": [
       "body_type\n",
       "Sedans           7903\n",
       "Station wagon    3553\n",
       "Compact          3153\n",
       "Van               783\n",
       "Other             290\n",
       "Transporter        88\n",
       "NaN                60\n",
       "Off-Road           56\n",
       "Coupe              25\n",
       "Convertible         8\n",
       "Name: count, dtype: int64"
      ]
     },
     "execution_count": 6,
     "metadata": {},
     "output_type": "execute_result"
    }
   ],
   "source": [
    "df[\"body_type\"].value_counts(dropna=False)"
   ]
  },
  {
   "cell_type": "code",
   "execution_count": 7,
   "metadata": {},
   "outputs": [
    {
     "data": {
      "text/html": [
       "<div>\n",
       "<style scoped>\n",
       "    .dataframe tbody tr th:only-of-type {\n",
       "        vertical-align: middle;\n",
       "    }\n",
       "\n",
       "    .dataframe tbody tr th {\n",
       "        vertical-align: top;\n",
       "    }\n",
       "\n",
       "    .dataframe thead th {\n",
       "        text-align: right;\n",
       "    }\n",
       "</style>\n",
       "<table border=\"1\" class=\"dataframe\">\n",
       "  <thead>\n",
       "    <tr style=\"text-align: right;\">\n",
       "      <th></th>\n",
       "      <th>make_model</th>\n",
       "      <th>body_type</th>\n",
       "      <th>price</th>\n",
       "      <th>vat</th>\n",
       "      <th>km</th>\n",
       "      <th>registration</th>\n",
       "      <th>prev_owner</th>\n",
       "      <th>hp</th>\n",
       "      <th>Type</th>\n",
       "      <th>Next Inspection</th>\n",
       "      <th>...</th>\n",
       "      <th>\\nEntertainment &amp; Media\\n</th>\n",
       "      <th>\\nExtras\\n</th>\n",
       "      <th>\\nSafety &amp; Security\\n</th>\n",
       "      <th>Gears</th>\n",
       "      <th>Country version</th>\n",
       "      <th>upholstery_material</th>\n",
       "      <th>upholstery_color</th>\n",
       "      <th>Consumption_combined</th>\n",
       "      <th>Consumption_city</th>\n",
       "      <th>Consumption_country</th>\n",
       "    </tr>\n",
       "  </thead>\n",
       "  <tbody>\n",
       "  </tbody>\n",
       "</table>\n",
       "<p>0 rows × 38 columns</p>\n",
       "</div>"
      ],
      "text/plain": [
       "Empty DataFrame\n",
       "Columns: [make_model, body_type, price, vat, km, registration, prev_owner, hp, Type, Next Inspection, Inspection new, Warranty(months), Body Color, Paint Type, Body Color Original, Upholstery, Nr. of Doors, Nr. of Seats, Model Code, Gearing Type, Displacement, Cylinders, Weight, Drive chain, Fuel, CO2 Emission(g CO2/km), Emission Class, \n",
       "Comfort & Convenience\n",
       ", \n",
       "Entertainment & Media\n",
       ", \n",
       "Extras\n",
       ", \n",
       "Safety & Security\n",
       ", Gears, Country version, upholstery_material, upholstery_color, Consumption_combined, Consumption_city, Consumption_country]\n",
       "Index: []\n",
       "\n",
       "[0 rows x 38 columns]"
      ]
     },
     "execution_count": 7,
     "metadata": {},
     "output_type": "execute_result"
    }
   ],
   "source": [
    "df[df[\"body_type\"] == np.nan]"
   ]
  },
  {
   "cell_type": "code",
   "execution_count": 9,
   "id": "b240ac18",
   "metadata": {},
   "outputs": [
    {
     "data": {
      "text/plain": [
       "0        Sedans\n",
       "1        Sedans\n",
       "2        Sedans\n",
       "3        Sedans\n",
       "4        Sedans\n",
       "          ...  \n",
       "15914       Van\n",
       "15915       Van\n",
       "15916       Van\n",
       "15917       Van\n",
       "15918       Van\n",
       "Name: body_type, Length: 15919, dtype: object"
      ]
     },
     "execution_count": 9,
     "metadata": {},
     "output_type": "execute_result"
    }
   ],
   "source": [
    "df.groupby('make_model')['body_type'].transform(lambda x: x.mode()[0])"
   ]
  },
  {
   "cell_type": "code",
   "execution_count": 10,
   "metadata": {},
   "outputs": [],
   "source": [
    "df[\"body_type\"].fillna(df.groupby('make_model')['body_type'].transform(lambda x: x.mode()[0]), inplace=True)"
   ]
  },
  {
   "cell_type": "markdown",
   "metadata": {},
   "source": [
    "### 2) Registration"
   ]
  },
  {
   "cell_type": "code",
   "execution_count": 12,
   "id": "94aaee20",
   "metadata": {},
   "outputs": [
    {
     "data": {
      "text/plain": [
       "122     NaN\n",
       "710     NaN\n",
       "734     NaN\n",
       "741     NaN\n",
       "743     NaN\n",
       "         ..\n",
       "15892   NaN\n",
       "15902   NaN\n",
       "15907   NaN\n",
       "15912   NaN\n",
       "15914   NaN\n",
       "Name: registration, Length: 1547, dtype: float64"
      ]
     },
     "execution_count": 12,
     "metadata": {},
     "output_type": "execute_result"
    }
   ],
   "source": [
    "df.loc[((df['Type'] == 'New') & df.registration.isnull()), 'registration'] "
   ]
  },
  {
   "cell_type": "code",
   "execution_count": 13,
   "metadata": {},
   "outputs": [],
   "source": [
    "df.loc[((df['Type'] == 'New') & df.registration.isnull()), 'registration'] = 2019 "
   ]
  },
  {
   "cell_type": "code",
   "execution_count": 14,
   "id": "a7eecf07",
   "metadata": {},
   "outputs": [
    {
     "data": {
      "text/plain": [
       "registration\n",
       "2016.0    77442.520958\n",
       "2017.0    41754.940709\n",
       "2018.0    18035.239072\n",
       "2019.0     1653.107634\n",
       "Name: km, dtype: float64"
      ]
     },
     "execution_count": 14,
     "metadata": {},
     "output_type": "execute_result"
    }
   ],
   "source": [
    "df.groupby('registration').km.mean()"
   ]
  },
  {
   "cell_type": "markdown",
   "metadata": {},
   "source": [
    "* Since the registration of all new cars is 2019, null values of year column of new cars filled with 2019."
   ]
  },
  {
   "cell_type": "code",
   "execution_count": 15,
   "metadata": {},
   "outputs": [],
   "source": [
    "df.loc[(df['registration'].isnull()) & (df.km <= 5000),'registration'] =2019"
   ]
  },
  {
   "cell_type": "code",
   "execution_count": 16,
   "metadata": {},
   "outputs": [],
   "source": [
    "df.loc[(df['registration'].isnull()) & (df.km > 50000),'registration'] =2016"
   ]
  },
  {
   "cell_type": "code",
   "execution_count": 17,
   "metadata": {},
   "outputs": [],
   "source": [
    "df.loc[(df['registration'].isnull()) & (df.km < 19000),'registration'] =2018"
   ]
  },
  {
   "cell_type": "code",
   "execution_count": 18,
   "metadata": {},
   "outputs": [],
   "source": [
    "df.loc[(df['registration'].isnull()) & (df.km < 40000),'registration'] =2017"
   ]
  },
  {
   "cell_type": "markdown",
   "metadata": {},
   "source": [
    "* Rest of the null values were filled according to km of autos."
   ]
  },
  {
   "cell_type": "code",
   "execution_count": 19,
   "metadata": {},
   "outputs": [
    {
     "data": {
      "text/plain": [
       "registration\n",
       "2016.0    16702.052388\n",
       "2017.0    19970.030631\n",
       "2018.0    22544.715092\n",
       "2019.0    24859.973913\n",
       "Name: price, dtype: float64"
      ]
     },
     "execution_count": 19,
     "metadata": {},
     "output_type": "execute_result"
    }
   ],
   "source": [
    "df[(df['make_model'] == 'Audi A3') & (df['body_type'] == 'Sedans')].groupby('registration').price.mean()"
   ]
  },
  {
   "cell_type": "code",
   "execution_count": 20,
   "metadata": {},
   "outputs": [
    {
     "data": {
      "text/plain": [
       "registration\n",
       "2016.0    13606.709507\n",
       "2017.0    16995.140917\n",
       "2018.0    21390.167750\n",
       "2019.0    32103.197015\n",
       "Name: price, dtype: float64"
      ]
     },
     "execution_count": 20,
     "metadata": {},
     "output_type": "execute_result"
    }
   ],
   "source": [
    "df[(df['make_model'] == 'Opel Insignia')].groupby('registration').price.mean()"
   ]
  },
  {
   "cell_type": "code",
   "execution_count": 21,
   "metadata": {},
   "outputs": [
    {
     "data": {
      "text/html": [
       "<div>\n",
       "<style scoped>\n",
       "    .dataframe tbody tr th:only-of-type {\n",
       "        vertical-align: middle;\n",
       "    }\n",
       "\n",
       "    .dataframe tbody tr th {\n",
       "        vertical-align: top;\n",
       "    }\n",
       "\n",
       "    .dataframe thead th {\n",
       "        text-align: right;\n",
       "    }\n",
       "</style>\n",
       "<table border=\"1\" class=\"dataframe\">\n",
       "  <thead>\n",
       "    <tr style=\"text-align: right;\">\n",
       "      <th></th>\n",
       "      <th>make_model</th>\n",
       "      <th>body_type</th>\n",
       "      <th>price</th>\n",
       "      <th>vat</th>\n",
       "      <th>km</th>\n",
       "      <th>registration</th>\n",
       "      <th>prev_owner</th>\n",
       "      <th>hp</th>\n",
       "      <th>Type</th>\n",
       "      <th>Next Inspection</th>\n",
       "      <th>...</th>\n",
       "      <th>\\nEntertainment &amp; Media\\n</th>\n",
       "      <th>\\nExtras\\n</th>\n",
       "      <th>\\nSafety &amp; Security\\n</th>\n",
       "      <th>Gears</th>\n",
       "      <th>Country version</th>\n",
       "      <th>upholstery_material</th>\n",
       "      <th>upholstery_color</th>\n",
       "      <th>Consumption_combined</th>\n",
       "      <th>Consumption_city</th>\n",
       "      <th>Consumption_country</th>\n",
       "    </tr>\n",
       "  </thead>\n",
       "  <tbody>\n",
       "    <tr>\n",
       "      <th>5237</th>\n",
       "      <td>Audi A3</td>\n",
       "      <td>Sedans</td>\n",
       "      <td>25400</td>\n",
       "      <td>NaN</td>\n",
       "      <td>NaN</td>\n",
       "      <td>NaN</td>\n",
       "      <td>NaN</td>\n",
       "      <td>85.0</td>\n",
       "      <td>NaN</td>\n",
       "      <td>NaN</td>\n",
       "      <td>...</td>\n",
       "      <td>['Bluetooth', 'Hands-free equipment']</td>\n",
       "      <td>['Alloy wheels']</td>\n",
       "      <td>['ABS', 'Central door lock', 'Driver-side airb...</td>\n",
       "      <td>7.0</td>\n",
       "      <td>NaN</td>\n",
       "      <td>Cloth</td>\n",
       "      <td>NaN</td>\n",
       "      <td>3.9</td>\n",
       "      <td>4.1</td>\n",
       "      <td>3.7</td>\n",
       "    </tr>\n",
       "    <tr>\n",
       "      <th>5329</th>\n",
       "      <td>Audi A3</td>\n",
       "      <td>Sedans</td>\n",
       "      <td>24900</td>\n",
       "      <td>NaN</td>\n",
       "      <td>NaN</td>\n",
       "      <td>NaN</td>\n",
       "      <td>NaN</td>\n",
       "      <td>85.0</td>\n",
       "      <td>Pre-registered</td>\n",
       "      <td>NaN</td>\n",
       "      <td>...</td>\n",
       "      <td>['Bluetooth', 'Hands-free equipment']</td>\n",
       "      <td>['Alloy wheels']</td>\n",
       "      <td>['ABS', 'Central door lock', 'Driver-side airb...</td>\n",
       "      <td>7.0</td>\n",
       "      <td>NaN</td>\n",
       "      <td>Cloth</td>\n",
       "      <td>NaN</td>\n",
       "      <td>3.9</td>\n",
       "      <td>4.1</td>\n",
       "      <td>3.7</td>\n",
       "    </tr>\n",
       "    <tr>\n",
       "      <th>12550</th>\n",
       "      <td>Opel Insignia</td>\n",
       "      <td>Sedans</td>\n",
       "      <td>33800</td>\n",
       "      <td>NaN</td>\n",
       "      <td>NaN</td>\n",
       "      <td>NaN</td>\n",
       "      <td>NaN</td>\n",
       "      <td>100.0</td>\n",
       "      <td>Employee's car</td>\n",
       "      <td>NaN</td>\n",
       "      <td>...</td>\n",
       "      <td>['Bluetooth', 'Hands-free equipment', 'MP3', '...</td>\n",
       "      <td>['Alloy wheels', 'Sport package', 'Touch scree...</td>\n",
       "      <td>['ABS', 'Blind spot monitor', 'Central door lo...</td>\n",
       "      <td>6.0</td>\n",
       "      <td>NaN</td>\n",
       "      <td>Part leather</td>\n",
       "      <td>Black</td>\n",
       "      <td>5.4</td>\n",
       "      <td>7.0</td>\n",
       "      <td>4.6</td>\n",
       "    </tr>\n",
       "    <tr>\n",
       "      <th>12882</th>\n",
       "      <td>Opel Insignia</td>\n",
       "      <td>Station wagon</td>\n",
       "      <td>31318</td>\n",
       "      <td>VAT deductible</td>\n",
       "      <td>NaN</td>\n",
       "      <td>NaN</td>\n",
       "      <td>NaN</td>\n",
       "      <td>100.0</td>\n",
       "      <td>Used</td>\n",
       "      <td>NaN</td>\n",
       "      <td>...</td>\n",
       "      <td>['Bluetooth', 'On-board computer']</td>\n",
       "      <td>['Alloy wheels', 'Sport seats']</td>\n",
       "      <td>['ABS', 'Central door lock', 'Driver-side airb...</td>\n",
       "      <td>6.0</td>\n",
       "      <td>NaN</td>\n",
       "      <td>Full leather</td>\n",
       "      <td>Black</td>\n",
       "      <td>4.3</td>\n",
       "      <td>NaN</td>\n",
       "      <td>NaN</td>\n",
       "    </tr>\n",
       "  </tbody>\n",
       "</table>\n",
       "<p>4 rows × 38 columns</p>\n",
       "</div>"
      ],
      "text/plain": [
       "          make_model      body_type  price             vat  km  registration  \\\n",
       "5237         Audi A3         Sedans  25400             NaN NaN           NaN   \n",
       "5329         Audi A3         Sedans  24900             NaN NaN           NaN   \n",
       "12550  Opel Insignia         Sedans  33800             NaN NaN           NaN   \n",
       "12882  Opel Insignia  Station wagon  31318  VAT deductible NaN           NaN   \n",
       "\n",
       "       prev_owner     hp            Type Next Inspection  ...  \\\n",
       "5237          NaN   85.0             NaN             NaN  ...   \n",
       "5329          NaN   85.0  Pre-registered             NaN  ...   \n",
       "12550         NaN  100.0  Employee's car             NaN  ...   \n",
       "12882         NaN  100.0            Used             NaN  ...   \n",
       "\n",
       "                               \\nEntertainment & Media\\n  \\\n",
       "5237               ['Bluetooth', 'Hands-free equipment']   \n",
       "5329               ['Bluetooth', 'Hands-free equipment']   \n",
       "12550  ['Bluetooth', 'Hands-free equipment', 'MP3', '...   \n",
       "12882                 ['Bluetooth', 'On-board computer']   \n",
       "\n",
       "                                              \\nExtras\\n  \\\n",
       "5237                                    ['Alloy wheels']   \n",
       "5329                                    ['Alloy wheels']   \n",
       "12550  ['Alloy wheels', 'Sport package', 'Touch scree...   \n",
       "12882                    ['Alloy wheels', 'Sport seats']   \n",
       "\n",
       "                                   \\nSafety & Security\\n Gears  \\\n",
       "5237   ['ABS', 'Central door lock', 'Driver-side airb...   7.0   \n",
       "5329   ['ABS', 'Central door lock', 'Driver-side airb...   7.0   \n",
       "12550  ['ABS', 'Blind spot monitor', 'Central door lo...   6.0   \n",
       "12882  ['ABS', 'Central door lock', 'Driver-side airb...   6.0   \n",
       "\n",
       "      Country version upholstery_material  upholstery_color  \\\n",
       "5237              NaN               Cloth               NaN   \n",
       "5329              NaN               Cloth               NaN   \n",
       "12550             NaN        Part leather             Black   \n",
       "12882             NaN        Full leather             Black   \n",
       "\n",
       "       Consumption_combined Consumption_city Consumption_country  \n",
       "5237                    3.9              4.1                 3.7  \n",
       "5329                    3.9              4.1                 3.7  \n",
       "12550                   5.4              7.0                 4.6  \n",
       "12882                   4.3              NaN                 NaN  \n",
       "\n",
       "[4 rows x 38 columns]"
      ]
     },
     "execution_count": 21,
     "metadata": {},
     "output_type": "execute_result"
    }
   ],
   "source": [
    "df.loc[(df['registration'].isnull())]"
   ]
  },
  {
   "cell_type": "code",
   "execution_count": 22,
   "metadata": {},
   "outputs": [],
   "source": [
    "df['registration']=df['registration'].fillna(2019)"
   ]
  },
  {
   "cell_type": "code",
   "execution_count": 23,
   "metadata": {},
   "outputs": [],
   "source": [
    "df['registration'] = 2019 - df['registration']\n",
    "\n",
    "df = df.rename(columns = {'registration': 'age'})"
   ]
  },
  {
   "cell_type": "markdown",
   "metadata": {},
   "source": [
    "* year column converted to age column"
   ]
  },
  {
   "cell_type": "markdown",
   "metadata": {},
   "source": [
    "### 3) VAT"
   ]
  },
  {
   "cell_type": "code",
   "execution_count": 15,
   "metadata": {},
   "outputs": [
    {
     "data": {
      "text/plain": [
       "VAT deductible      10980\n",
       "NaN                  4513\n",
       "Price negotiable      426\n",
       "Name: vat, dtype: int64"
      ]
     },
     "execution_count": 15,
     "metadata": {},
     "output_type": "execute_result"
    }
   ],
   "source": [
    "df.vat.value_counts(dropna=False)"
   ]
  },
  {
   "cell_type": "code",
   "execution_count": 16,
   "metadata": {},
   "outputs": [],
   "source": [
    "df['vat'] = df['vat'].fillna('VAT undeductible') "
   ]
  },
  {
   "cell_type": "markdown",
   "metadata": {},
   "source": [
    "* All null values of vat column assigned as 'VAT undeductible'"
   ]
  },
  {
   "cell_type": "markdown",
   "metadata": {},
   "source": [
    "### 4) KM"
   ]
  },
  {
   "cell_type": "code",
   "execution_count": 24,
   "metadata": {},
   "outputs": [],
   "source": [
    "median_group_km = df.groupby(['make_model','body_type','age']).km.transform(lambda x: x.median())"
   ]
  },
  {
   "cell_type": "code",
   "execution_count": 25,
   "metadata": {},
   "outputs": [],
   "source": [
    "df[\"km\"].fillna(median_group_km, inplace=True)"
   ]
  },
  {
   "cell_type": "code",
   "execution_count": 26,
   "metadata": {},
   "outputs": [],
   "source": [
    "df[\"km\"].fillna(df.groupby(['make_model','age']).km.transform(lambda x: x.median()), inplace=True)"
   ]
  },
  {
   "cell_type": "markdown",
   "metadata": {},
   "source": [
    "* km column filled with groups age, make_model and body_type"
   ]
  },
  {
   "cell_type": "markdown",
   "metadata": {},
   "source": [
    "### 5) Previous Owner"
   ]
  },
  {
   "cell_type": "code",
   "execution_count": 29,
   "metadata": {},
   "outputs": [],
   "source": [
    "index=df[df[\"km\"]<10].index"
   ]
  },
  {
   "cell_type": "code",
   "execution_count": 30,
   "metadata": {},
   "outputs": [],
   "source": [
    "df.loc[index,\"prev_owner\"]=0.0"
   ]
  },
  {
   "cell_type": "code",
   "execution_count": 31,
   "metadata": {},
   "outputs": [],
   "source": [
    "df.loc[(df[\"Type\"]==\"New\") & (df[\"prev_owner\"].isnull()),\"prev_owner\"]=1.0"
   ]
  },
  {
   "cell_type": "code",
   "execution_count": 32,
   "metadata": {},
   "outputs": [],
   "source": [
    "df.loc[((df[\"age\"]==2019) | (df[\"km\"]<5000)) & (df[\"prev_owner\"].isnull()),\"prev_owner\"]=1.0"
   ]
  },
  {
   "cell_type": "code",
   "execution_count": 33,
   "metadata": {},
   "outputs": [],
   "source": [
    "mode_group_po = df.groupby(['age'])['prev_owner'].transform(lambda x: x.mode()[0] if list(x.mode()) != [] else np.nan)"
   ]
  },
  {
   "cell_type": "code",
   "execution_count": 34,
   "metadata": {},
   "outputs": [],
   "source": [
    "df[\"prev_owner\"].fillna(mode_group_po, inplace=True)"
   ]
  },
  {
   "cell_type": "markdown",
   "metadata": {},
   "source": [
    "### hp "
   ]
  },
  {
   "cell_type": "code",
   "execution_count": 35,
   "metadata": {},
   "outputs": [],
   "source": [
    "mode_hp = df[~(df['Displacement'].isnull())]\\\n",
    "              .groupby(['make_model','body_type','Displacement'])['hp']\\\n",
    "              .transform(lambda x: x.mode()[0] if list(x.mode()) != [] else np.nan)"
   ]
  },
  {
   "cell_type": "code",
   "execution_count": 36,
   "metadata": {},
   "outputs": [],
   "source": [
    "df.loc[~(df['Displacement'].isnull()),\"hp\"] = df.loc[~(df['Displacement'].isnull()),\"hp\"].fillna(mode_hp)"
   ]
  },
  {
   "cell_type": "code",
   "execution_count": 37,
   "metadata": {},
   "outputs": [],
   "source": [
    "mode_hp1 = df[~(df['Cylinders'].isnull())]\\\n",
    "              .groupby(['make_model','body_type','Cylinders'])['hp']\\\n",
    "              .transform(lambda x: x.mode()[0] if list(x.mode()) != [] else np.nan)"
   ]
  },
  {
   "cell_type": "code",
   "execution_count": 38,
   "metadata": {},
   "outputs": [],
   "source": [
    "df.loc[~(df['Cylinders'].isnull()),\"hp\"] = df.loc[~(df['Cylinders'].isnull()),\"hp\"].fillna(mode_hp1)"
   ]
  },
  {
   "cell_type": "code",
   "execution_count": 39,
   "metadata": {},
   "outputs": [],
   "source": [
    "mode_hp2 = df.groupby(['make_model','body_type'])['hp']\\\n",
    "              .transform(lambda x: x.mode()[0] if list(x.mode()) != [] else np.nan)"
   ]
  },
  {
   "cell_type": "code",
   "execution_count": 40,
   "metadata": {},
   "outputs": [],
   "source": [
    "df['hp'] = df['hp'].fillna(mode_hp2)"
   ]
  },
  {
   "cell_type": "markdown",
   "metadata": {},
   "source": [
    " ### 7) Type"
   ]
  },
  {
   "cell_type": "code",
   "execution_count": 41,
   "metadata": {},
   "outputs": [],
   "source": [
    "df['Type'] = df['Type'].fillna('Used')"
   ]
  },
  {
   "cell_type": "markdown",
   "metadata": {},
   "source": [
    "### 8) Next Inspection"
   ]
  },
  {
   "cell_type": "code",
   "execution_count": 33,
   "metadata": {},
   "outputs": [],
   "source": [
    "df.drop([\"Next Inspection\"],axis=1,inplace=True)"
   ]
  },
  {
   "cell_type": "markdown",
   "metadata": {},
   "source": [
    "### 9) Inspection New"
   ]
  },
  {
   "cell_type": "code",
   "execution_count": 34,
   "metadata": {},
   "outputs": [
    {
     "data": {
      "text/plain": [
       "NaN    11987\n",
       "Yes     3932\n",
       "Name: Inspection new, dtype: int64"
      ]
     },
     "execution_count": 34,
     "metadata": {},
     "output_type": "execute_result"
    }
   ],
   "source": [
    "df['Inspection new'].value_counts(dropna=False)"
   ]
  },
  {
   "cell_type": "code",
   "execution_count": 35,
   "metadata": {},
   "outputs": [],
   "source": [
    "df['Inspection new'] = df['Inspection new'].fillna('No')"
   ]
  },
  {
   "cell_type": "markdown",
   "metadata": {},
   "source": [
    "### 10) Warranty(months)"
   ]
  },
  {
   "cell_type": "code",
   "execution_count": 36,
   "metadata": {},
   "outputs": [],
   "source": [
    "df['Warranty(months)'] = df['Warranty(months)'].fillna(0.0)"
   ]
  },
  {
   "cell_type": "markdown",
   "metadata": {},
   "source": [
    "* warranty column was filled with 0's"
   ]
  },
  {
   "cell_type": "markdown",
   "metadata": {},
   "source": [
    "### 11) Body Color"
   ]
  },
  {
   "cell_type": "code",
   "execution_count": 37,
   "metadata": {},
   "outputs": [],
   "source": [
    "mode_color = df.groupby(['make_model','body_type'])['Body Color']\\\n",
    "              .transform(lambda x: x.mode()[0] if list(x.mode()) != [] else np.nan)"
   ]
  },
  {
   "cell_type": "code",
   "execution_count": 38,
   "metadata": {},
   "outputs": [],
   "source": [
    "df['Body Color'] = df['Body Color'].fillna(mode_color)"
   ]
  },
  {
   "cell_type": "code",
   "execution_count": 39,
   "metadata": {},
   "outputs": [],
   "source": [
    "mode_color1 = df.groupby(['make_model'])['Body Color']\\\n",
    "              .transform(lambda x: x.mode()[0] if list(x.mode()) != [] else np.nan)"
   ]
  },
  {
   "cell_type": "code",
   "execution_count": 40,
   "metadata": {},
   "outputs": [],
   "source": [
    "df['Body Color'] = df['Body Color'].fillna(mode_color1)"
   ]
  },
  {
   "cell_type": "markdown",
   "metadata": {},
   "source": [
    "* body_color column was filled according to groups make_model, body_type"
   ]
  },
  {
   "cell_type": "markdown",
   "metadata": {},
   "source": [
    "### 11) Paint Type"
   ]
  },
  {
   "cell_type": "code",
   "execution_count": 41,
   "metadata": {},
   "outputs": [],
   "source": [
    "mode_paint = df.groupby(['make_model','body_type'])['Paint Type']\\\n",
    "              .transform(lambda x: x.mode()[0] if list(x.mode()) != [] else np.nan)"
   ]
  },
  {
   "cell_type": "code",
   "execution_count": 42,
   "metadata": {},
   "outputs": [],
   "source": [
    "df['Paint Type'] = df['Paint Type'].fillna(mode_paint)"
   ]
  },
  {
   "cell_type": "code",
   "execution_count": 43,
   "metadata": {},
   "outputs": [],
   "source": [
    "mode_paint1 = df.groupby(['make_model'])['Paint Type']\\\n",
    "              .transform(lambda x: x.mode()[0] if list(x.mode()) != [] else np.nan)"
   ]
  },
  {
   "cell_type": "code",
   "execution_count": 44,
   "metadata": {},
   "outputs": [],
   "source": [
    "df['Paint Type'] = df['Paint Type'].fillna(mode_paint1)"
   ]
  },
  {
   "cell_type": "markdown",
   "metadata": {},
   "source": [
    "* paint_type column was filled according to groups make_model, body_type"
   ]
  },
  {
   "cell_type": "markdown",
   "metadata": {},
   "source": [
    "### 12) Body Color Original"
   ]
  },
  {
   "cell_type": "code",
   "execution_count": 45,
   "metadata": {},
   "outputs": [],
   "source": [
    "df.drop([\"Body Color Original\"],axis=1,inplace=True)"
   ]
  },
  {
   "cell_type": "markdown",
   "metadata": {},
   "source": [
    "### 13) Nr. of Doors"
   ]
  },
  {
   "cell_type": "code",
   "execution_count": 46,
   "metadata": {},
   "outputs": [],
   "source": [
    "mode_nr_doors = df.groupby(['make_model','body_type'])['Nr. of Doors']\\\n",
    "              .transform(lambda x: x.mode()[0] if list(x.mode()) != [] else np.nan)"
   ]
  },
  {
   "cell_type": "code",
   "execution_count": 47,
   "metadata": {},
   "outputs": [],
   "source": [
    "df['Nr. of Doors'] = df['Nr. of Doors'].fillna(mode_nr_doors)"
   ]
  },
  {
   "cell_type": "code",
   "execution_count": 48,
   "metadata": {},
   "outputs": [],
   "source": [
    "mode_nr_doors1 = df.groupby(['make_model'])['Nr. of Doors']\\\n",
    "              .transform(lambda x: x.mode()[0] if list(x.mode()) != [] else np.nan)"
   ]
  },
  {
   "cell_type": "code",
   "execution_count": 49,
   "metadata": {},
   "outputs": [],
   "source": [
    "df['Nr. of Doors'] = df['Nr. of Doors'].fillna(mode_nr_doors1)"
   ]
  },
  {
   "cell_type": "markdown",
   "metadata": {},
   "source": [
    "* nr. of seats column was filled according to groups make_model, body_type"
   ]
  },
  {
   "cell_type": "markdown",
   "metadata": {},
   "source": [
    "### 14) Nr. of Seats"
   ]
  },
  {
   "cell_type": "code",
   "execution_count": 50,
   "metadata": {},
   "outputs": [],
   "source": [
    "mode_nr_seats = df.groupby(['make_model','body_type'])['Nr. of Seats']\\\n",
    "              .transform(lambda x: x.mode()[0] if list(x.mode()) != [] else np.nan)"
   ]
  },
  {
   "cell_type": "code",
   "execution_count": 51,
   "metadata": {},
   "outputs": [],
   "source": [
    "df['Nr. of Seats'] = df['Nr. of Seats'].fillna(mode_nr_seats)"
   ]
  },
  {
   "cell_type": "code",
   "execution_count": 52,
   "metadata": {},
   "outputs": [],
   "source": [
    "mode_nr_seats1 = df.groupby(['make_model'])['Nr. of Seats']\\\n",
    "              .transform(lambda x: x.mode()[0] if list(x.mode()) != [] else np.nan)"
   ]
  },
  {
   "cell_type": "code",
   "execution_count": 53,
   "metadata": {},
   "outputs": [],
   "source": [
    "df['Nr. of Seats'] = df['Nr. of Seats'].fillna(mode_nr_seats1)"
   ]
  },
  {
   "cell_type": "markdown",
   "metadata": {},
   "source": [
    "* nr_of_seats column was filled according to groups make_model, body_type"
   ]
  },
  {
   "cell_type": "markdown",
   "metadata": {},
   "source": [
    "### Model Code"
   ]
  },
  {
   "cell_type": "code",
   "execution_count": 54,
   "metadata": {},
   "outputs": [],
   "source": [
    "df.drop(['Model Code'],axis=1,inplace=True)"
   ]
  },
  {
   "cell_type": "markdown",
   "metadata": {},
   "source": [
    "### 15) Gearing Type"
   ]
  },
  {
   "cell_type": "code",
   "execution_count": 55,
   "metadata": {},
   "outputs": [
    {
     "data": {
      "text/plain": [
       "Manual            8153\n",
       "Automatic         7297\n",
       "Semi-automatic     469\n",
       "Name: Gearing Type, dtype: int64"
      ]
     },
     "execution_count": 55,
     "metadata": {},
     "output_type": "execute_result"
    }
   ],
   "source": [
    "df['Gearing Type'].value_counts(dropna=False)"
   ]
  },
  {
   "cell_type": "markdown",
   "metadata": {},
   "source": [
    "### 16) Displacement"
   ]
  },
  {
   "cell_type": "code",
   "execution_count": 56,
   "metadata": {},
   "outputs": [],
   "source": [
    "mode_displacement = df.groupby(['make_model','body_type','hp'])['Displacement']\\\n",
    "              .transform(lambda x: x.mode()[0] if list(x.mode()) != [] else np.nan)"
   ]
  },
  {
   "cell_type": "code",
   "execution_count": 57,
   "metadata": {},
   "outputs": [],
   "source": [
    "df['Displacement'] = df['Displacement'].fillna(mode_displacement)"
   ]
  },
  {
   "cell_type": "code",
   "execution_count": 58,
   "metadata": {},
   "outputs": [],
   "source": [
    "mode_displacement1 = df.groupby(['make_model','body_type'])['Displacement']\\\n",
    "              .transform(lambda x: x.mode()[0] if list(x.mode()) != [] else np.nan)"
   ]
  },
  {
   "cell_type": "code",
   "execution_count": 59,
   "metadata": {},
   "outputs": [],
   "source": [
    "df['Displacement'] = df['Displacement'].fillna(mode_displacement1)"
   ]
  },
  {
   "cell_type": "code",
   "execution_count": 60,
   "metadata": {},
   "outputs": [],
   "source": [
    "mode_displacement2 = df.groupby(['make_model'])['Displacement']\\\n",
    "              .transform(lambda x: x.mode()[0] if list(x.mode()) != [] else np.nan)"
   ]
  },
  {
   "cell_type": "code",
   "execution_count": 61,
   "metadata": {},
   "outputs": [],
   "source": [
    "df['Displacement'] = df['Displacement'].fillna(mode_displacement2)"
   ]
  },
  {
   "cell_type": "markdown",
   "metadata": {},
   "source": [
    "* Displacement column was filled according to groups hp, make_model, body_type"
   ]
  },
  {
   "cell_type": "markdown",
   "metadata": {},
   "source": [
    "### 16) Weight"
   ]
  },
  {
   "cell_type": "code",
   "execution_count": 62,
   "metadata": {},
   "outputs": [],
   "source": [
    "mode_weight = df.groupby(['make_model', 'Displacement'])['Weight']\\\n",
    "              .transform(lambda x: x.mode()[0] if list(x.mode()) != [] else np.nan)"
   ]
  },
  {
   "cell_type": "code",
   "execution_count": 63,
   "metadata": {},
   "outputs": [],
   "source": [
    "df['Weight'] = df['Weight'].fillna(mode_weight)"
   ]
  },
  {
   "cell_type": "code",
   "execution_count": 64,
   "metadata": {},
   "outputs": [],
   "source": [
    "mode_weight1 = df.groupby(['make_model'])['Weight']\\\n",
    "              .transform(lambda x: x.mode()[0] if list(x.mode()) != [] else np.nan)"
   ]
  },
  {
   "cell_type": "code",
   "execution_count": 65,
   "metadata": {},
   "outputs": [],
   "source": [
    "df['Weight'] = df['Weight'].fillna(mode_weight1)"
   ]
  },
  {
   "cell_type": "code",
   "execution_count": 66,
   "metadata": {},
   "outputs": [],
   "source": [
    "mode_weight2 = df.groupby(['make_model', 'hp'])['Weight']\\\n",
    "              .transform(lambda x: x.mode()[0] if list(x.mode()) != [] else np.nan)"
   ]
  },
  {
   "cell_type": "code",
   "execution_count": 67,
   "metadata": {},
   "outputs": [],
   "source": [
    "df['Weight'] = df['Weight'].fillna(mode_weight2)"
   ]
  },
  {
   "cell_type": "code",
   "execution_count": 68,
   "metadata": {},
   "outputs": [],
   "source": [
    "mode_weight3 = df.groupby(['body_type'])['Weight']\\\n",
    "              .transform(lambda x: x.mode()[0] if list(x.mode()) != [] else np.nan)"
   ]
  },
  {
   "cell_type": "code",
   "execution_count": 69,
   "metadata": {},
   "outputs": [],
   "source": [
    "df['Weight'] = df['Weight'].fillna(mode_weight3)"
   ]
  },
  {
   "cell_type": "markdown",
   "metadata": {},
   "source": [
    "* weight column was filled according to groups hp, make_model, body_type"
   ]
  },
  {
   "cell_type": "markdown",
   "metadata": {},
   "source": [
    "### 17) Cylinders"
   ]
  },
  {
   "cell_type": "code",
   "execution_count": 70,
   "metadata": {},
   "outputs": [],
   "source": [
    "mode_cylinders = df.groupby(['make_model', 'Displacement'])['Cylinders']\\\n",
    "              .transform(lambda x: x.mode()[0] if list(x.mode()) != [] else np.nan)"
   ]
  },
  {
   "cell_type": "code",
   "execution_count": 71,
   "metadata": {},
   "outputs": [],
   "source": [
    "df['Cylinders'] = df['Cylinders'].fillna(mode_cylinders)"
   ]
  },
  {
   "cell_type": "code",
   "execution_count": 72,
   "metadata": {},
   "outputs": [],
   "source": [
    "mode_cylinders1 = df.groupby(['make_model', 'Weight'])['Cylinders']\\\n",
    "              .transform(lambda x: x.mode()[0] if list(x.mode()) != [] else np.nan)"
   ]
  },
  {
   "cell_type": "code",
   "execution_count": 73,
   "metadata": {},
   "outputs": [],
   "source": [
    "df['Cylinders'] = df['Cylinders'].fillna(mode_cylinders1)"
   ]
  },
  {
   "cell_type": "code",
   "execution_count": 74,
   "metadata": {},
   "outputs": [],
   "source": [
    "mode_cylinders2 = df.groupby(['make_model'])['Cylinders']\\\n",
    "              .transform(lambda x: x.mode()[0] if list(x.mode()) != [] else np.nan)"
   ]
  },
  {
   "cell_type": "code",
   "execution_count": 75,
   "metadata": {},
   "outputs": [],
   "source": [
    "df['Cylinders'] = df['Cylinders'].fillna(mode_cylinders2)"
   ]
  },
  {
   "cell_type": "code",
   "execution_count": 76,
   "metadata": {},
   "outputs": [],
   "source": [
    "df['Cylinders'] = df['Cylinders'].fillna(4.0)"
   ]
  },
  {
   "cell_type": "markdown",
   "metadata": {},
   "source": [
    "* cylinders column was filled according to groups displacement, weight, make_mode"
   ]
  },
  {
   "cell_type": "markdown",
   "metadata": {},
   "source": [
    "### 18) Drive Chain"
   ]
  },
  {
   "cell_type": "code",
   "execution_count": 77,
   "metadata": {},
   "outputs": [],
   "source": [
    "mode_drive_chain = df.groupby(['make_model', 'body_type'])['Drive chain']\\\n",
    "              .transform(lambda x: x.mode()[0] if list(x.mode()) != [] else np.nan)"
   ]
  },
  {
   "cell_type": "code",
   "execution_count": 78,
   "metadata": {},
   "outputs": [],
   "source": [
    "df['Drive chain'] = df['Drive chain'].fillna(mode_drive_chain)"
   ]
  },
  {
   "cell_type": "code",
   "execution_count": 79,
   "metadata": {},
   "outputs": [],
   "source": [
    "mode_drive_chain1 = df.groupby(['make_model'])['Drive chain']\\\n",
    "              .transform(lambda x: x.mode()[0] if list(x.mode()) != [] else np.nan)"
   ]
  },
  {
   "cell_type": "code",
   "execution_count": 80,
   "metadata": {},
   "outputs": [],
   "source": [
    "df['Drive chain'] = df['Drive chain'].fillna(mode_drive_chain1)"
   ]
  },
  {
   "cell_type": "markdown",
   "metadata": {},
   "source": [
    "* drive_chain column was filled according to groups make_model and body type"
   ]
  },
  {
   "cell_type": "markdown",
   "metadata": {},
   "source": [
    "### 19) Fuel"
   ]
  },
  {
   "cell_type": "code",
   "execution_count": 81,
   "metadata": {},
   "outputs": [
    {
     "data": {
      "text/plain": [
       "Benzine    8549\n",
       "Diesel     7299\n",
       "Gas          64\n",
       "Others        7\n",
       "Name: Fuel, dtype: int64"
      ]
     },
     "execution_count": 81,
     "metadata": {},
     "output_type": "execute_result"
    }
   ],
   "source": [
    "df['Fuel'].value_counts(dropna=False)"
   ]
  },
  {
   "cell_type": "markdown",
   "metadata": {},
   "source": [
    "### 20) CO2 Emission(g CO2/km)"
   ]
  },
  {
   "cell_type": "code",
   "execution_count": 82,
   "metadata": {},
   "outputs": [],
   "source": [
    "mode_CO2 = df.groupby(['make_model','Displacement'])['CO2 Emission(g CO2/km)']\\\n",
    "              .transform(lambda x: x.mode()[0] if list(x.mode()) != [] else np.nan)"
   ]
  },
  {
   "cell_type": "code",
   "execution_count": 83,
   "metadata": {},
   "outputs": [],
   "source": [
    "df['CO2 Emission(g CO2/km)'] = df['CO2 Emission(g CO2/km)'].fillna(mode_CO2)"
   ]
  },
  {
   "cell_type": "code",
   "execution_count": 84,
   "metadata": {},
   "outputs": [],
   "source": [
    "mode_CO2_1 = df.groupby(['make_model'])['CO2 Emission(g CO2/km)']\\\n",
    "              .transform(lambda x: x.mode()[0] if list(x.mode()) != [] else np.nan)"
   ]
  },
  {
   "cell_type": "code",
   "execution_count": 85,
   "metadata": {},
   "outputs": [],
   "source": [
    "df['CO2 Emission(g CO2/km)'] = df['CO2 Emission(g CO2/km)'].fillna(mode_CO2_1)"
   ]
  },
  {
   "cell_type": "code",
   "execution_count": 86,
   "metadata": {},
   "outputs": [],
   "source": [
    "mode_CO2_2 = df.groupby(['body_type'])['CO2 Emission(g CO2/km)']\\\n",
    "              .transform(lambda x: x.mode()[0] if list(x.mode()) != [] else np.nan)"
   ]
  },
  {
   "cell_type": "code",
   "execution_count": 87,
   "metadata": {},
   "outputs": [],
   "source": [
    "df['CO2 Emission(g CO2/km)'] = df['CO2 Emission(g CO2/km)'].fillna(mode_CO2_2)"
   ]
  },
  {
   "cell_type": "markdown",
   "metadata": {},
   "source": [
    "* 'CO2 Emission(g CO2/km)' column was filled according to groups make_model,displacement and body type"
   ]
  },
  {
   "cell_type": "markdown",
   "metadata": {},
   "source": [
    "### 21) Emission Class"
   ]
  },
  {
   "cell_type": "code",
   "execution_count": 88,
   "metadata": {},
   "outputs": [],
   "source": [
    "mode_Emision_C= df.groupby(['CO2 Emission(g CO2/km)'])['Emission Class']\\\n",
    "              .transform(lambda x: x.mode()[0] if list(x.mode()) != [] else np.nan)"
   ]
  },
  {
   "cell_type": "code",
   "execution_count": 89,
   "metadata": {},
   "outputs": [],
   "source": [
    "df['Emission Class'] = df['Emission Class'].fillna(mode_Emision_C)"
   ]
  },
  {
   "cell_type": "code",
   "execution_count": 90,
   "metadata": {},
   "outputs": [],
   "source": [
    "mode_Emision_C1= df.groupby(['age'])['Emission Class']\\\n",
    "              .transform(lambda x: x.mode()[0] if list(x.mode()) != [] else np.nan)"
   ]
  },
  {
   "cell_type": "code",
   "execution_count": 91,
   "metadata": {},
   "outputs": [],
   "source": [
    "df['Emission Class'] = df['Emission Class'].fillna(mode_Emision_C1)"
   ]
  },
  {
   "cell_type": "markdown",
   "metadata": {},
   "source": [
    "* emission class column was filled according to groups co2 emission and age"
   ]
  },
  {
   "cell_type": "markdown",
   "metadata": {},
   "source": [
    "### 22) Gears"
   ]
  },
  {
   "cell_type": "code",
   "execution_count": 92,
   "metadata": {},
   "outputs": [],
   "source": [
    "mode_Gears= df.groupby(['make_model','Gearing Type'])['Gears']\\\n",
    "              .transform(lambda x: x.mode()[0] if list(x.mode()) != [] else np.nan)"
   ]
  },
  {
   "cell_type": "code",
   "execution_count": 93,
   "metadata": {},
   "outputs": [],
   "source": [
    "df['Gears'] = df['Gears'].fillna(mode_Gears)"
   ]
  },
  {
   "cell_type": "code",
   "execution_count": 94,
   "metadata": {},
   "outputs": [],
   "source": [
    "mode_Gears1= df.groupby(['Gearing Type'])['Gears']\\\n",
    "              .transform(lambda x: x.mode()[0] if list(x.mode()) != [] else np.nan)"
   ]
  },
  {
   "cell_type": "code",
   "execution_count": 95,
   "metadata": {},
   "outputs": [],
   "source": [
    "df['Gears'] = df['Gears'].fillna(mode_Gears1)"
   ]
  },
  {
   "cell_type": "markdown",
   "metadata": {},
   "source": [
    "* gears column was filled according to groups make model and gear type"
   ]
  },
  {
   "cell_type": "markdown",
   "metadata": {},
   "source": [
    "### 23) Country version"
   ]
  },
  {
   "cell_type": "code",
   "execution_count": 96,
   "metadata": {},
   "outputs": [],
   "source": [
    "df.drop(['Country version'], axis=1, inplace=True)"
   ]
  },
  {
   "cell_type": "markdown",
   "metadata": {},
   "source": [
    "### 24) Upholstery Material"
   ]
  },
  {
   "cell_type": "code",
   "execution_count": 97,
   "metadata": {},
   "outputs": [
    {
     "data": {
      "text/plain": [
       "Cloth           8423\n",
       "NaN             4503\n",
       "Part leather    1499\n",
       "Full leather    1009\n",
       "Other            368\n",
       "Velour            60\n",
       "alcantara         57\n",
       "Name: upholstery_material, dtype: int64"
      ]
     },
     "execution_count": 97,
     "metadata": {},
     "output_type": "execute_result"
    }
   ],
   "source": [
    "df['upholstery_material'].value_counts(dropna=False)"
   ]
  },
  {
   "cell_type": "markdown",
   "metadata": {},
   "source": [
    "### 25) Upholstrey Color"
   ]
  },
  {
   "cell_type": "code",
   "execution_count": 98,
   "metadata": {},
   "outputs": [],
   "source": [
    "df.drop(['upholstery_color'], axis=1, inplace=True)"
   ]
  },
  {
   "cell_type": "markdown",
   "metadata": {},
   "source": [
    "### 26) Consumption Combined"
   ]
  },
  {
   "cell_type": "code",
   "execution_count": 99,
   "metadata": {},
   "outputs": [],
   "source": [
    "coms = ((df['Consumption_city']+df['Consumption_country'])/2)"
   ]
  },
  {
   "cell_type": "code",
   "execution_count": 100,
   "metadata": {},
   "outputs": [],
   "source": [
    "df['Consumption_combined'] = df['Consumption_combined'].fillna(coms)"
   ]
  },
  {
   "cell_type": "code",
   "execution_count": 101,
   "metadata": {},
   "outputs": [],
   "source": [
    "mode_Cons= df.groupby(['CO2 Emission(g CO2/km)'])['Consumption_combined']\\\n",
    "              .transform(lambda x: x.mode()[0] if list(x.mode()) != [] else np.nan)"
   ]
  },
  {
   "cell_type": "code",
   "execution_count": 102,
   "metadata": {},
   "outputs": [],
   "source": [
    "df['Consumption_combined'] = df['Consumption_combined'].fillna(mode_Cons)"
   ]
  },
  {
   "cell_type": "code",
   "execution_count": 103,
   "metadata": {},
   "outputs": [],
   "source": [
    "mode_Cons1= df.groupby(['Displacement'])['Consumption_combined']\\\n",
    "              .transform(lambda x: x.mode()[0] if list(x.mode()) != [] else np.nan)"
   ]
  },
  {
   "cell_type": "code",
   "execution_count": 104,
   "metadata": {},
   "outputs": [],
   "source": [
    "df['Consumption_combined'] = df['Consumption_combined'].fillna(mode_Cons1)"
   ]
  },
  {
   "cell_type": "code",
   "execution_count": 105,
   "metadata": {},
   "outputs": [],
   "source": [
    "mode_Cons2= df.groupby(['make_model'])['Consumption_combined']\\\n",
    "              .transform(lambda x: x.mode()[0] if list(x.mode()) != [] else np.nan)"
   ]
  },
  {
   "cell_type": "code",
   "execution_count": 106,
   "metadata": {},
   "outputs": [],
   "source": [
    "df['Consumption_combined'] = df['Consumption_combined'].fillna(mode_Cons2)"
   ]
  },
  {
   "cell_type": "markdown",
   "metadata": {},
   "source": [
    "* comsumption column first was filled with the mean of 'consumption_city','consumption_country' columns. Then was filled according to the column make_model."
   ]
  },
  {
   "cell_type": "markdown",
   "metadata": {},
   "source": [
    "## Filled data was saved to a csv file called \"missings_filled_step2.csv\""
   ]
  },
  {
   "cell_type": "code",
   "execution_count": 107,
   "metadata": {},
   "outputs": [],
   "source": [
    "df.to_csv(\"missings_filled_step2.csv\", index=False)"
   ]
  },
  {
   "cell_type": "code",
   "execution_count": null,
   "metadata": {},
   "outputs": [],
   "source": []
  }
 ],
 "metadata": {
  "kernelspec": {
   "display_name": "Python 3",
   "language": "python",
   "name": "python3"
  },
  "language_info": {
   "codemirror_mode": {
    "name": "ipython",
    "version": 3
   },
   "file_extension": ".py",
   "mimetype": "text/x-python",
   "name": "python",
   "nbconvert_exporter": "python",
   "pygments_lexer": "ipython3",
   "version": "3.11.5"
  }
 },
 "nbformat": 4,
 "nbformat_minor": 5
}
