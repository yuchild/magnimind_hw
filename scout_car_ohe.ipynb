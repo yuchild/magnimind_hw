{
 "cells": [
  {
   "cell_type": "code",
   "execution_count": 1,
   "id": "a3ad62c3-9247-4870-bf5d-94d009656762",
   "metadata": {},
   "outputs": [],
   "source": [
    "import pandas as pd\n",
    "import numpy as np\n",
    "\n",
    "import warnings\n",
    "\n",
    "warnings.filterwarnings('ignore')"
   ]
  },
  {
   "cell_type": "code",
   "execution_count": 2,
   "id": "9f27090b-0983-4b5e-a5cb-af63f77c28b0",
   "metadata": {},
   "outputs": [],
   "source": [
    "df_org = pd.read_csv(\"./data/scout_missings_filled_2.csv\")\n",
    "df = df_org.copy()"
   ]
  },
  {
   "cell_type": "code",
   "execution_count": 3,
   "id": "56f1feb0-1fbb-4d51-9c2f-3b25327d2ecd",
   "metadata": {},
   "outputs": [
    {
     "name": "stdout",
     "output_type": "stream",
     "text": [
      "<class 'pandas.core.frame.DataFrame'>\n",
      "RangeIndex: 15915 entries, 0 to 15914\n",
      "Data columns (total 34 columns):\n",
      " #   Column                   Non-Null Count  Dtype  \n",
      "---  ------                   --------------  -----  \n",
      " 0   make_model               15915 non-null  object \n",
      " 1   body_type                15915 non-null  object \n",
      " 2   price                    15915 non-null  int64  \n",
      " 3   vat                      15915 non-null  object \n",
      " 4   km                       15915 non-null  float64\n",
      " 5   prev_owner               15915 non-null  float64\n",
      " 6   hp                       15915 non-null  float64\n",
      " 7   inspection_new           15915 non-null  object \n",
      " 8   warranty                 15915 non-null  float64\n",
      " 9   body_color               15915 non-null  object \n",
      " 10  paint_type               15915 non-null  object \n",
      " 11  nr_of_doors              15915 non-null  float64\n",
      " 12  nr_of_seats              15915 non-null  float64\n",
      " 13  gearing_type             15915 non-null  object \n",
      " 14  displacement             15915 non-null  float64\n",
      " 15  cylinders                15915 non-null  float64\n",
      " 16  weight                   15880 non-null  float64\n",
      " 17  drive_chain              15915 non-null  object \n",
      " 18  co2_emission             15915 non-null  float64\n",
      " 19  emission_class           15915 non-null  object \n",
      " 20  comfort_convenience      14995 non-null  object \n",
      " 21  entertainment_media      14541 non-null  object \n",
      " 22  extras                   12953 non-null  object \n",
      " 23  safety_security          14933 non-null  object \n",
      " 24  gears                    15915 non-null  float64\n",
      " 25  electricity_consumption  15915 non-null  int64  \n",
      " 26  age                      15915 non-null  float64\n",
      " 27  new_used                 15915 non-null  object \n",
      " 28  fuel_type                15913 non-null  object \n",
      " 29  upholstery_material      11414 non-null  object \n",
      " 30  consumption_comb         15915 non-null  float64\n",
      " 31  consumption_city         13480 non-null  float64\n",
      " 32  consumption_country      13540 non-null  float64\n",
      " 33  Weight                   15915 non-null  float64\n",
      "dtypes: float64(16), int64(2), object(16)\n",
      "memory usage: 4.1+ MB\n"
     ]
    }
   ],
   "source": [
    "df.info()"
   ]
  },
  {
   "cell_type": "code",
   "execution_count": 4,
   "id": "be61dd3e-8d15-42aa-b097-beb7e12d1dd0",
   "metadata": {},
   "outputs": [
    {
     "data": {
      "text/plain": [
       "warranty\n",
       "0.0     11062\n",
       "12.0     2594\n",
       "24.0     1118\n",
       "60.0      401\n",
       "36.0      279\n",
       "48.0      149\n",
       "6.0       125\n",
       "72.0       59\n",
       "3.0        33\n",
       "23.0       11\n",
       "18.0       10\n",
       "20.0        7\n",
       "25.0        6\n",
       "2.0         5\n",
       "50.0        4\n",
       "26.0        4\n",
       "16.0        4\n",
       "4.0         3\n",
       "1.0         3\n",
       "19.0        3\n",
       "34.0        3\n",
       "13.0        3\n",
       "28.0        2\n",
       "22.0        2\n",
       "14.0        2\n",
       "11.0        2\n",
       "46.0        2\n",
       "21.0        2\n",
       "9.0         2\n",
       "17.0        2\n",
       "45.0        2\n",
       "33.0        1\n",
       "40.0        1\n",
       "65.0        1\n",
       "10.0        1\n",
       "15.0        1\n",
       "7.0         1\n",
       "8.0         1\n",
       "56.0        1\n",
       "49.0        1\n",
       "47.0        1\n",
       "30.0        1\n",
       "Name: count, dtype: int64"
      ]
     },
     "execution_count": 4,
     "metadata": {},
     "output_type": "execute_result"
    }
   ],
   "source": [
    "df.warranty.value_counts(dropna=False)"
   ]
  },
  {
   "cell_type": "code",
   "execution_count": null,
   "id": "3efbebc0-56d8-468b-b6a4-55c0f19e53f2",
   "metadata": {},
   "outputs": [],
   "source": []
  }
 ],
 "metadata": {
  "kernelspec": {
   "display_name": "Python 3 (ipykernel)",
   "language": "python",
   "name": "python3"
  },
  "language_info": {
   "codemirror_mode": {
    "name": "ipython",
    "version": 3
   },
   "file_extension": ".py",
   "mimetype": "text/x-python",
   "name": "python",
   "nbconvert_exporter": "python",
   "pygments_lexer": "ipython3",
   "version": "3.10.14"
  }
 },
 "nbformat": 4,
 "nbformat_minor": 5
}
