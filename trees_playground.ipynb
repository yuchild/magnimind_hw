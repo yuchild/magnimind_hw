{
 "cells": [
  {
   "cell_type": "code",
   "execution_count": 1,
   "id": "bfc2eafb",
   "metadata": {},
   "outputs": [],
   "source": [
    "# Problem: give an algorithm for finding the sum of the all elements in a binary tree\n",
    "#\n",
    "#      15\n",
    "#    /   \\\n",
    "#   10   20\n",
    "#  / \\   / \\\n",
    "# 8  12 16 25\n",
    "# \n",
    "# which the sum = 106\n",
    "# See src.sum_binary.py"
   ]
  },
  {
   "cell_type": "code",
   "execution_count": 2,
   "id": "d7333c95",
   "metadata": {},
   "outputs": [],
   "source": [
    "from src import sum_binary as s\n",
    "\n",
    "%load_ext autoreload\n",
    "%autoreload 2"
   ]
  },
  {
   "cell_type": "code",
   "execution_count": 6,
   "id": "3c84ed14",
   "metadata": {},
   "outputs": [
    {
     "name": "stdout",
     "output_type": "stream",
     "text": [
      "Suma of all nodes is: 36\r\n",
      "Suma of all right nodes is: 24\r\n",
      "Suma of all left nodes is: 11\r\n"
     ]
    }
   ],
   "source": [
    "!python3 ./src/sum_binary.py"
   ]
  },
  {
   "cell_type": "code",
   "execution_count": null,
   "id": "97bcad46",
   "metadata": {},
   "outputs": [],
   "source": []
  }
 ],
 "metadata": {
  "kernelspec": {
   "display_name": "Python (magenv)",
   "language": "python",
   "name": "magenv"
  },
  "language_info": {
   "codemirror_mode": {
    "name": "ipython",
    "version": 3
   },
   "file_extension": ".py",
   "mimetype": "text/x-python",
   "name": "python",
   "nbconvert_exporter": "python",
   "pygments_lexer": "ipython3",
   "version": "3.12.3"
  }
 },
 "nbformat": 4,
 "nbformat_minor": 5
}
