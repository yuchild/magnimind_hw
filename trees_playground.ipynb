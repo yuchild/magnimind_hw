{
 "cells": [
  {
   "cell_type": "code",
   "execution_count": 1,
   "id": "bfc2eafb",
   "metadata": {},
   "outputs": [],
   "source": [
    "# Problem: give an algorithm for finding the sum of the all elements in a binary tree\n",
    "#\n",
    "#      15\n",
    "#    /   \\\n",
    "#   10   20\n",
    "#  / \\   / \\\n",
    "# 8  12 16 25\n",
    "# \n",
    "# which the sum = 106\n",
    "# See src.sum_binary.py"
   ]
  },
  {
   "cell_type": "code",
   "execution_count": 2,
   "id": "d7333c95",
   "metadata": {},
   "outputs": [],
   "source": [
    "from src import sum_binary as s\n",
    "\n",
    "%load_ext autoreload\n",
    "%autoreload 2"
   ]
  },
  {
   "cell_type": "code",
   "execution_count": 3,
   "id": "3c84ed14",
   "metadata": {},
   "outputs": [
    {
     "name": "stdout",
     "output_type": "stream",
     "text": [
      "Suma of all nodes is: 36\r\n",
      "Suma of all right nodes is: 24\r\n",
      "Suma of all left nodes is: 11\r\n"
     ]
    }
   ],
   "source": [
    "!python3 ./src/sum_binary.py"
   ]
  },
  {
   "cell_type": "code",
   "execution_count": 4,
   "id": "97bcad46",
   "metadata": {},
   "outputs": [],
   "source": [
    "class node:\n",
    "    def __init__(self, key):\n",
    "        self.key=key\n",
    "        self.left=None\n",
    "        self.right=None\n",
    "        \n",
    "def addTree(root):\n",
    "    if (root==None):\n",
    "        return 0\n",
    "    else:\n",
    "        return root.key + addTree(root.left) + addTree(root.right)"
   ]
  },
  {
   "cell_type": "code",
   "execution_count": 5,
   "id": "7c2637da",
   "metadata": {},
   "outputs": [
    {
     "name": "stdout",
     "output_type": "stream",
     "text": [
      "45\n"
     ]
    }
   ],
   "source": [
    "root = node(1)\n",
    "root.left = node(2)\n",
    "root.right = node(3)\n",
    "root.left.left = node(4)\n",
    "root.left.right = node(5)\n",
    "root.right.left = node(6)\n",
    "root.right.right = node(7)\n",
    "root.right.left.left = node(8)\n",
    "root.right.left.right = node(9)\n",
    "\n",
    "print(addTree(root))"
   ]
  },
  {
   "cell_type": "code",
   "execution_count": null,
   "id": "bd700a7c",
   "metadata": {},
   "outputs": [],
   "source": []
  }
 ],
 "metadata": {
  "kernelspec": {
   "display_name": "Python (magenv)",
   "language": "python",
   "name": "magenv"
  },
  "language_info": {
   "codemirror_mode": {
    "name": "ipython",
    "version": 3
   },
   "file_extension": ".py",
   "mimetype": "text/x-python",
   "name": "python",
   "nbconvert_exporter": "python",
   "pygments_lexer": "ipython3",
   "version": "3.12.3"
  }
 },
 "nbformat": 4,
 "nbformat_minor": 5
}
