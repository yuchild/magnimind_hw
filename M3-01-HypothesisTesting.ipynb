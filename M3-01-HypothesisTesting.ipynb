{
 "cells": [
  {
   "cell_type": "markdown",
   "metadata": {},
   "source": [
    "*** \"From Statistical Methods for Machine Learning\" by Jason Brownlee ***"
   ]
  },
  {
   "cell_type": "markdown",
   "metadata": {},
   "source": [
    "## 1. Statistical Hypothesis Testing\n",
    "In statistics, a hypothesis test calculates some quantity under a given assumption. The result of the test allows us to interpret whether the assumption holds or whether the assumption has been violated. Two concrete examples that we will use a lot in machine learning are:\n",
    "\n",
    " - A test that assumes that data has a normal distribution.\n",
    " - A test that assumes that two samples were drawn from the same underlying population distribution.\n",
    " \n",
    "The assumption of a statistical test is called the null hypothesis, or hypothesis zero (**H0** for short). It is often called the default assumption, or the assumption that nothing has changed. A violation of the test’s assumption is often called the first hypothesis, hypothesis one or **H1** for short. H1 is really a short hand for some other hypothesis, as all we know is that the evidence suggests that the H0 can be rejected.\n",
    "\n",
    "- Hypothesis 0 (H0): Assumption of the test fails to be rejected.\n",
    "- Hypothesis 1 (H1): Assumption of the test does not hold and is rejected at some level of significance."
   ]
  },
  {
   "cell_type": "code",
   "execution_count": null,
   "metadata": {},
   "outputs": [],
   "source": [
    "s_1, s_2, s_3, ... Central Limit Theorem--> regardless of the underlying distribution, the distribution of sample means follow a normal distribution..\n",
    "\n",
    "H0--> Null Hypothesis, for example, everyone is innocent until proven otherwise\n",
    "H1--> alternative hypothesis, a person is guilty\n",
    "\n",
    "If the prosecutor shows the evidence that the the person is guilty, then, we will reject H0\n",
    "If the prosecutor cannot provide a credible evidence, then we will fail to reject the null hypothesis."
   ]
  },
  {
   "cell_type": "markdown",
   "metadata": {},
   "source": [
    "The purpose of the hypothesis test is to decide between two explanations:\n",
    " 1. The difference between the sample and the population can be explained by sampling error (there does not appear to be a treatment effect)\n",
    " 2. The difference between the sample and the population is too large to be  explained by sampling error (there does appear to be a treatment effect).\n",
    "\n",
    "<img src=\"Figures/Hypothesis_testing1.JPG\" alt=\"Drawing\" style=\"width: 400px;\"/>"
   ]
  },
  {
   "cell_type": "markdown",
   "metadata": {},
   "source": [
    "***Step 1***: State the hypotheses and select an $\\alpha$ level. The null hypothesis, H0, always states that the treatment has no effect (no change, no difference). According to the null hypothesis, the population mean after treatment is the same is it was before treatment. The $\\alpha$ level establishes a criterion, or \"cut-off\", for making a decision about the null hypothesis. \n",
    "\n",
    "<img src=\"Figures/Hypothesis_testing2.JPG\" alt=\"Drawing\" style=\"width: 400px;\"/>"
   ]
  },
  {
   "cell_type": "markdown",
   "metadata": {},
   "source": [
    "***Step 2***: Locate the critical region. The critical region consists of outcomes that are very unlikely to occur if the null hypothesis is true. That is, the critical region is defined by sample means that are almost impossible to obtain if the treatment has no effect. The phrase “almost impossible” means that these samples have a  probability (p) that is less than the alpha level.\n",
    "\n",
    "<img src=\"Figures/Hypothesis_testing3.JPG\" alt=\"Drawing\" style=\"width: 400px;\"/>"
   ]
  },
  {
   "cell_type": "markdown",
   "metadata": {},
   "source": [
    "***Step 3***: Compute the test statistic.  \n",
    "\n",
    "***Step 4***: A large value for the test statistic shows that the obtained mean difference is more than would be expected if there is no treatment effect. If it is large enough to be in the critical region, we conclude that the difference is significant or that the treatment has a significant effect. In this case we reject the null hypothesis."
   ]
  },
  {
   "cell_type": "markdown",
   "metadata": {},
   "source": [
    "### 1.1 Interpret the p-value\n",
    "We describe a finding as statistically significant by interpreting the p-value. For example, we may perform a Student’s t-test on two data samples and find that it is unlikely that the samples have the same mean. We reject the null hypothesis that the samples have the same mean at a chosen level of statistical significance (or confidence). A statistical hypothesis test may return a value called p or the p-value. This is a quantity that we can use to interpret or quantify the result of the test and either reject or fail to reject the null hypothesis. This is done by comparing the p-value to a threshold value chosen beforehand called the significance level.\n",
    "\n",
    "The significance level is often referred to by the Greek lower case letter alpha ($\\alpha$). A common value used for alpha is $5\\%$ or $0.05$. A smaller alpha value suggests a more robust interpretation of the result, such as $1\\%$ or $0.01\\%$. The p-value is compared to the pre-chosen alpha value. A result is statistically significant when the p-value is less than or equal to alpha. This signifies a change was detected: that the default or null hypothesis can be rejected.\n",
    "\n",
    "- p-value ≤ alpha: significant result, reject null hypothesis (H1).\n",
    "- p-value > alpha: not significant result, fail to reject the null hypothesis (H0).\n",
    "\n",
    "The significance level can be inverted by subtracting it from 1 to give a confidence level of the hypothesis given the observed sample data.\n",
    "\n",
    "confidence level = 1 − significance level"
   ]
  },
  {
   "cell_type": "markdown",
   "metadata": {},
   "source": [
    "### 1.2 Errors in Statistical Tests\n",
    "The interpretation of a statistical hypothesis test is probabilistic. That means that the evidence of the test may suggest an outcome and be mistaken. For example, if alpha was $5\\%$, it suggests that (at most) 1 time in 20 that the null hypothesis would be mistakenly rejected because of the statistical noise in the data sample. Given a small p-value (reject the null hypothesis) either means that the null hypothesis false (we got it right) or it is true and some rare and unlikely event has been observed (we made a mistake). If this type of error is made, it is called a false positive. We falsely believe the rejection of the null hypothesis.\n",
    "\n",
    "Alternately, given a large p-value (fail to reject the null hypothesis), it may mean that the null hypothesis is true (we got it right) or that the null hypothesis is false and some unlikely event occurred (we made a mistake). If this type of error is made, it is called a false negative. We falsely believe the null hypothesis or assumption of the statistical test.\n",
    "Each of these two types of error has a specific name.\n",
    "\n",
    "- Type I Error: The incorrect rejection of a true null hypothesis, called a false positive.\n",
    "- Type II Error: The incorrect failure of rejecting a false null hypothesis, called a false negative.\n",
    "\n",
    "<img src=\"Figures/Hypothesis_testing4.JPG\" alt=\"Drawing\" style=\"width: 400px;\"/>\n"
   ]
  },
  {
   "cell_type": "markdown",
   "metadata": {},
   "source": [
    "## 2. Statistical Distributions\n",
    "Many data conform to well-known and well-understood mathematical functions, such as the Gaussian distribution. A function can fit the data with a modification of the parameters of the function, such as the mean and standard deviation in the case of the Gaussian. Once a distribution function is known, it can be used as a shorthand for describing and calculating related quantities, such as likelihoods of observations, and plotting the relationship between observations in the domain."
   ]
  },
  {
   "cell_type": "markdown",
   "metadata": {},
   "source": [
    "### 2.1 Gaussian Distribution\n",
    "We can work with the Gaussian distribution via the `norm` SciPy module. The `norm.pdf()` function can be used to create a Gaussian probability density function with a given sample space, mean, and standard deviation."
   ]
  },
  {
   "cell_type": "code",
   "execution_count": 35,
   "metadata": {},
   "outputs": [
    {
     "data": {
      "image/png": "[encoded data removed]",
      "text/plain": [
       "<Figure size 432x288 with 1 Axes>"
      ]
     },
     "metadata": {
      "needs_background": "light"
     },
     "output_type": "display_data"
    }
   ],
   "source": [
    "# plot the gaussian pdf\n",
    "from numpy import arange\n",
    "from matplotlib import pyplot\n",
    "from scipy.stats import norm\n",
    "# define the distribution parameters\n",
    "sample_space = arange(-5, 5, 0.001)\n",
    "mean = 0.0\n",
    "stdev = 1.0\n",
    "# calculate the pdf\n",
    "pdf = norm.pdf(sample_space, mean, stdev)\n",
    "# plot\n",
    "pyplot.plot(sample_space, pdf)\n",
    "pyplot.show()"
   ]
  },
  {
   "cell_type": "code",
   "execution_count": 36,
   "metadata": {},
   "outputs": [
    {
     "data": {
      "image/png": "[encoded data removed]",
      "text/plain": [
       "<Figure size 432x288 with 1 Axes>"
      ]
     },
     "metadata": {
      "needs_background": "light"
     },
     "output_type": "display_data"
    }
   ],
   "source": [
    "# plot the gaussian cdf\n",
    "from numpy import arange\n",
    "from matplotlib import pyplot\n",
    "from scipy.stats import norm\n",
    "# define the distribution parameters\n",
    "sample_space = arange(-5, 5, 0.001)\n",
    "# calculate the cdf\n",
    "cdf = norm.cdf(sample_space)\n",
    "# plot\n",
    "pyplot.plot(sample_space, cdf)\n",
    "pyplot.show()"
   ]
  },
  {
   "cell_type": "code",
   "execution_count": null,
   "metadata": {},
   "outputs": [],
   "source": [
    "P(X<=4)=F(X=4)\n",
    "P(X>4)=1-P(X<=4)=1-F(4)"
   ]
  },
  {
   "cell_type": "code",
   "execution_count": null,
   "metadata": {},
   "outputs": [],
   "source": []
  },
  {
   "cell_type": "markdown",
   "metadata": {},
   "source": [
    "### 2.2 Student’s t-Distribution\n",
    "The Student’s t-distribution, or just t-distribution for short, is named for the pseudonym Student by William Sealy Gosset. It is a distribution that arises when attempting to estimate the mean of a normal distribution with different sized samples. As such, it is a helpful shortcut when describing uncertainty or error related to estimating population statistics for data drawn from Gaussian distributions when the size of the sample must be taken into account.\n",
    "\n",
    "Although you may not use the Student’s t-distribution directly, you may estimate values from the distribution required as parameters in other statistical methods, such as statistical significance tests. The distribution can be described using a single parameter:\n",
    "\n",
    "- number of degrees of freedom: denoted with the lowercase Greek letter nu ($\\nu$), denotes the number degrees of freedom.\n",
    "\n",
    "The number of degrees of freedom describes the number of pieces of information used to describe a population quantity. For example, the mean has n degrees of freedom as all n observations in the sample are used to calculate the estimate of the population mean. A statistical quantity that makes use of another statistical quantity in its calculation must subtract 1 from the degrees of freedom, such as the use of the mean in the calculation of the sample variance."
   ]
  },
  {
   "cell_type": "code",
   "execution_count": 37,
   "metadata": {},
   "outputs": [
    {
     "data": {
      "image/png": "[encoded data removed]",
      "text/plain": [
       "<Figure size 432x288 with 1 Axes>"
      ]
     },
     "metadata": {
      "needs_background": "light"
     },
     "output_type": "display_data"
    }
   ],
   "source": [
    "# plot the t-distribution pdf\n",
    "from numpy import arange\n",
    "from matplotlib import pyplot\n",
    "from scipy.stats import t\n",
    "# define the distribution parameters\n",
    "sample_space = arange(-5, 5, 0.001)\n",
    "dof = len(sample_space) - 1\n",
    "# calculate the pdf\n",
    "pdf = t.pdf(sample_space, dof)\n",
    "# plot\n",
    "pyplot.plot(sample_space, pdf)\n",
    "pyplot.show()"
   ]
  },
  {
   "cell_type": "code",
   "execution_count": 38,
   "metadata": {},
   "outputs": [
    {
     "data": {
      "image/png": "[encoded data removed]",
      "text/plain": [
       "<Figure size 432x288 with 1 Axes>"
      ]
     },
     "metadata": {
      "needs_background": "light"
     },
     "output_type": "display_data"
    }
   ],
   "source": [
    "# plot the t-distribution cdf\n",
    "from numpy import arange\n",
    "from matplotlib import pyplot\n",
    "from scipy.stats import t\n",
    "# define the distribution parameters\n",
    "sample_space = arange(-5, 5, 0.001)\n",
    "dof = len(sample_space) - 1\n",
    "# calculate the cdf\n",
    "cdf = t.cdf(sample_space, dof)\n",
    "# plot\n",
    "pyplot.plot(sample_space, cdf)\n",
    "pyplot.show()"
   ]
  },
  {
   "cell_type": "markdown",
   "metadata": {},
   "source": [
    "### 2.3 Chi-Squared Distribution\n",
    "The Chi-Squared distribution is denoted as the lowercase Greek letter chi ($\\chi$) pronounced \"ki\" as in “kite”, raised to the second power (χ2). It is easier to write Chi-Squared. Like the Student’s t-distribution, the Chi-Squared distribution is also used in statistical methods on data drawn from a Gaussian distribution to quantify the uncertainty. For example, the Chi-Squared distribution is used in the Chi-Squared statistical tests for independence. In fact, the Chi-Squared distribution is used in the derivation of the Student’s t-distribution. The Chi-Squared distribution has one parameter:\n",
    "- degrees of freedom, denoted k.\n",
    "- $chi=\\sum_{i=1}^kx_i^2$"
   ]
  },
  {
   "cell_type": "code",
   "execution_count": 39,
   "metadata": {},
   "outputs": [
    {
     "data": {
      "image/png": "[encoded data removed]",
      "text/plain": [
       "<Figure size 432x288 with 1 Axes>"
      ]
     },
     "metadata": {
      "needs_background": "light"
     },
     "output_type": "display_data"
    }
   ],
   "source": [
    "# plot the chi-squared pdf\n",
    "from numpy import arange\n",
    "from matplotlib import pyplot\n",
    "from scipy.stats import chi2\n",
    "# define the distribution parameters\n",
    "sample_space = arange(0, 50, 0.01)\n",
    "dof = 20\n",
    "# calculate the pdf\n",
    "pdf = chi2.pdf(sample_space, dof)\n",
    "# plot\n",
    "pyplot.plot(sample_space, pdf)\n",
    "pyplot.show()"
   ]
  },
  {
   "cell_type": "code",
   "execution_count": 40,
   "metadata": {},
   "outputs": [
    {
     "data": {
      "image/png": "[encoded data removed]",
      "text/plain": [
       "<Figure size 432x288 with 1 Axes>"
      ]
     },
     "metadata": {
      "needs_background": "light"
     },
     "output_type": "display_data"
    }
   ],
   "source": [
    "# plot the chi-squared cdf\n",
    "from numpy import arange\n",
    "from matplotlib import pyplot\n",
    "from scipy.stats import chi2\n",
    "# define the distribution parameters\n",
    "sample_space = arange(0, 50, 0.01)\n",
    "dof = 20\n",
    "# calculate the cdf\n",
    "cdf = chi2.cdf(sample_space, dof)\n",
    "# plot\n",
    "pyplot.plot(sample_space, cdf)\n",
    "pyplot.show()"
   ]
  },
  {
   "cell_type": "markdown",
   "metadata": {},
   "source": [
    "## 3. Critical Values\n",
    "Many statistical hypothesis tests return a p-value that is used to interpret the outcome of the test. Some tests do not return a p-value, requiring an alternative method for interpreting the calculated test statistic directly. A statistic calculated by a statistical hypothesis test can be interpreted using critical values from the distribution of the test statistic. Some examples of statistical hypothesis tests and their distributions from which critical values can be calculated\n",
    "are as follows:\n",
    "- Z-Test: Gaussian distribution.\n",
    "- Student’s t-Test: Student’s t-distribution.\n",
    "- Chi-Squared Test: Chi-Squared distribution. \n",
    "- ANOVA: F-distribution."
   ]
  },
  {
   "cell_type": "markdown",
   "metadata": {},
   "source": [
    "A critical value is defined in the context of the population distribution and a probability. An observation from the population with a value equal to or lesser than a critical value with the given probability. We can express this mathematically as follows:\n",
    "\n",
    "$$Pr[X\\leq critical\\ value]= probability$$\n",
    "\n",
    "Where $Pr$ is the calculation of probability, $X$ are observations from the population, $critical\\ value$ is the calculated critical value, and $probability$ is the chosen probability."
   ]
  },
  {
   "cell_type": "markdown",
   "metadata": {},
   "source": [
    "### 3.1 How to Calculate Critical Values\n",
    "\n",
    "In order to calculate a critical value, we require a function that, given a probability (or significance), will return the observation value from the distribution. Specifically, we require the inverse of the cumulative density function, where given a probability, we are given the observation value that is less than or equal to the probability. This is called the percent point function (PPF), or more generally the quantile function.\n",
    "\n",
    "- Percent Point Function (PPF): Returns the observation value for the provided proba- bility that is less than or equal to the provided probability from the distribution.\n"
   ]
  },
  {
   "cell_type": "code",
   "execution_count": 41,
   "metadata": {},
   "outputs": [
    {
     "name": "stdout",
     "output_type": "stream",
     "text": [
      "1.6448536269514722\n",
      "0.95\n"
     ]
    }
   ],
   "source": [
    "# gaussian percent point function\n",
    "from scipy.stats import norm\n",
    "# define probability\n",
    "p = 0.95\n",
    "# retrieve value <= probability\n",
    "value = norm.ppf(p)\n",
    "print(value)\n",
    "# confirm with cdf\n",
    "p = norm.cdf(value)\n",
    "print(p)"
   ]
  },
  {
   "cell_type": "code",
   "execution_count": 42,
   "metadata": {},
   "outputs": [
    {
     "name": "stdout",
     "output_type": "stream",
     "text": [
      "1.8124611228107335\n",
      "0.949999999999923\n"
     ]
    }
   ],
   "source": [
    "# student t-distribution percent point function\n",
    "from scipy.stats import t\n",
    "# define probability\n",
    "p = 0.95\n",
    "df = 10\n",
    "# retrieve value <= probability\n",
    "value = t.ppf(p, df)\n",
    "print(value)\n",
    "# confirm with cdf\n",
    "p = t.cdf(value, df)\n",
    "print(p)"
   ]
  },
  {
   "cell_type": "code",
   "execution_count": 43,
   "metadata": {},
   "outputs": [
    {
     "name": "stdout",
     "output_type": "stream",
     "text": [
      "18.307038053275146\n",
      "0.95\n"
     ]
    }
   ],
   "source": [
    "# chi-squared percent point function\n",
    "from scipy.stats import chi2\n",
    "# define probability\n",
    "p = 0.95\n",
    "df = 10\n",
    "# retrieve value <= probability\n",
    "value = chi2.ppf(p, df)\n",
    "print(value)\n",
    "# confirm with cdf\n",
    "p = chi2.cdf(value, df)\n",
    "print(p)"
   ]
  },
  {
   "cell_type": "markdown",
   "metadata": {},
   "source": [
    "### 3.2 One-tailed Test\n",
    "A one-tailed test has a single critical value, such as on the left or the right of the distribution. Often, a one-tailed test has a critical value on the right of the distribution for non-symmetrical distributions (such as the Chi-Squared distribution). The statistic is compared to the calculated critical value. If the calculated statistic is less than or equal to the critical value, the null hypothesis of the statistical test has failed to be rejected. We can summarize this interpretation as follows:\n",
    "- Test Statistic ≤ Critical Value: not significant result, fail to reject null hypothesis (H0).\n",
    "- Test Statistic > Critical Value: significant result, reject null hypothesis (H0)."
   ]
  },
  {
   "cell_type": "markdown",
   "metadata": {},
   "source": [
    "### Case 1---z-test for population means\n",
    "A z-test is a hypothesis test in which the z-statistic follows a normal distribution. The z-test for a population mean can be used to determine whether the population mean is the same as the hypothesized mean $\\mu_0$ , assuming that the population standard deviation $\\sigma$ is known. When performing a hypothesis test involving the mean of a single population with a known population standard deviation, the distribution of the z-test statistic $\\left( \\frac{\\bar x -\\mu_0}{\\frac{\\sigma}{\\sqrt(n)}} \\right)$ is assumed to be $N(0,1)$.\n",
    "\n"
   ]
  },
  {
   "cell_type": "markdown",
   "metadata": {},
   "source": [
    "***Example***: A popular electronics website wants to determine whether a smartphone has an 7.8 hour battery life as claimed by the manufacturer in response to user complaints of poor battery life. The website sampled 10 smartphones with a mean battery life of 7.6 hours. The population standard deviation of the battery life is $\\sigma=0.57$ hours. Does sufficient evidence exist that the battery life of the smartphone is actually lower than the manufacturer's claim at a significance level of $\\alpha=0.05$?"
   ]
  },
  {
   "cell_type": "markdown",
   "metadata": {},
   "source": [
    "***Solution***: The null hypothesis is that the smartphone's mean battery life is $\\mu_0=7.8$ hours. Because customers believe that the mean battery life is lower, the hypothesis test is left-tailed. That is, the alternative hypothesis is that the smartphone's mean battery life is less than 7.8 hours. Mathematically,\n",
    "\n",
    "$$\\begin{array} {lcl} H_0 & : & \\mu=7.8 \\\\\n",
    "H_a& : & \\mu<7.8 \\end{array}$$\n",
    "\n",
    "Since $\\bar x =7.6$, $n=10$, and $\\sigma=0.57$, the test statistic is\n",
    "\n",
    "$$z=\\frac{7.6-7.8}{\\frac{0.57}{\\sqrt 10}}\\approxeq -1.110$$\n",
    "\n",
    "The $p$-value is\n",
    "\n",
    "$$p_{value}=P(z\\leq -1.110)\\approxeq 0.133$$\n",
    "\n",
    "<img src=\"Figures/Hypothesis_testing5.JPeG\" alt=\"Drawing\" style=\"width: 400px;\"/>\n",
    "\n",
    "Since the p-value is greater than the significance level $\\alpha = 0.05$, insufficient evidence exists to support the hypothesis that the mean battery life of the smartphone is less than the manufacturer's claim.\n",
    "\n",
    "Although the mean battery life of the 10 sampled smartphones is less than the manufacturer's claim, the lower mean could have occurred due to chance. However, the probability that the sample mean battery life is at most 7.6 hours is , which is 13.3% much higher than the probability of incorrectly rejecting the manufacturer's claim that the smartphone has a mean battery life of 7.8 hours. Thus, the lower sample mean can be most likely be attributed to chance."
   ]
  },
  {
   "cell_type": "code",
   "execution_count": 4,
   "metadata": {},
   "outputs": [
    {
     "name": "stdout",
     "output_type": "stream",
     "text": [
      "0.1335919433425996\n",
      "Failed to reject the Null Hypothesis\n"
     ]
    }
   ],
   "source": [
    "# gaussian percent point function\n",
    "from scipy.stats import norm\n",
    "xbar=7.6\n",
    "mu=7.8\n",
    "sigma=0.57\n",
    "n=10\n",
    "alpha=0.05\n",
    "value=(xbar-mu)/(sigma/n**(1/2))\n",
    "p = norm.cdf(value)\n",
    "print(p)\n",
    "\n",
    "if p<alpha:\n",
    "    print(\"Reject the Null Hypothesis\")\n",
    "else:\n",
    "    print(\"Failed to reject the Null Hypothesis\")\n"
   ]
  },
  {
   "cell_type": "markdown",
   "metadata": {},
   "source": [
    "***Python ztest function*** The `ztest(x1, value)` function is used to perform a one-sample z-test for means. The function requires the `statsmodels.stats.weightstats` library to be imported, and takes two inputs. The first input x1 is an array and the second input value is the hypothesized value of the population mean. The function returns the z-score and the two-tailed -value."
   ]
  },
  {
   "cell_type": "code",
   "execution_count": 8,
   "metadata": {},
   "outputs": [
    {
     "name": "stdout",
     "output_type": "stream",
     "text": [
      "(-2.5113146627890988, 0.012028242796839027)\n"
     ]
    }
   ],
   "source": [
    "from statsmodels.stats.weightstats import ztest\n",
    "import pandas as pd\n",
    "scores = pd.read_csv('ExamScores.csv')\n",
    "print(ztest(x1 = scores['Exam1'],  value = 86))"
   ]
  },
  {
   "cell_type": "code",
   "execution_count": 13,
   "metadata": {},
   "outputs": [
    {
     "data": {
      "text/plain": [
       "50"
      ]
     },
     "execution_count": 13,
     "metadata": {},
     "output_type": "execute_result"
    }
   ],
   "source": [
    "len(scores['Exam1'])"
   ]
  },
  {
   "cell_type": "code",
   "execution_count": null,
   "metadata": {},
   "outputs": [],
   "source": []
  },
  {
   "cell_type": "code",
   "execution_count": 15,
   "metadata": {},
   "outputs": [
    {
     "name": "stdout",
     "output_type": "stream",
     "text": [
      "-2.5113146627890988\n",
      "0.006014121398419513\n"
     ]
    }
   ],
   "source": [
    "from scipy.stats import norm\n",
    "xbar=scores['Exam1'].mean()\n",
    "mu=86\n",
    "sigma=scores['Exam1'].std()\n",
    "n= len(scores['Exam1'])\n",
    "alpha=0.05\n",
    "value=(xbar-mu)/(sigma/n**(1/2))\n",
    "p = norm.cdf(value)\n",
    "print(value)\n",
    "print(p)"
   ]
  },
  {
   "cell_type": "markdown",
   "metadata": {},
   "source": [
    "The graph for the two-tailed z-test corresponding to the output above is shown below.\n",
    "\n",
    "<img src=\"Figures/Hypothesis_testing6.JPG\" alt=\"Drawing\" style=\"width: 400px;\"/>\n",
    "\n",
    "The one-sided p-value is the two-sided p-value divided by 2. The graph for the corresponding left-tailed p-test is shown below.\n",
    "<img src=\"Figures/Hypothesis_testing7.JPG\" alt=\"Drawing\" style=\"width: 400px;\"/>\n",
    "\n",
    "The graph for the corresponding right-tailed p-test is shown below.\n",
    "\n",
    "<img src=\"Figures/Hypothesis_testing8.JPG\" alt=\"Drawing\" style=\"width: 400px;\"/>\n"
   ]
  },
  {
   "cell_type": "code",
   "execution_count": null,
   "metadata": {},
   "outputs": [],
   "source": []
  },
  {
   "cell_type": "markdown",
   "metadata": {},
   "source": [
    "### Case 2---Student's t-test\n",
    "If the variance $\\sigma^2$ is unknown, hypotheses about the mean $\\mu$ of a normal random\n",
    "variable $X ∼ N(\\mu, \\sigma^2)$ can be tested in a similar way to the z-test. The difference is that the unknown variance is estimated from the sample.\n",
    "Because the population standard deviation is rarely known, the t-test is commonly used to compare the observed sample mean to a hypothesized mean.\n"
   ]
  },
  {
   "cell_type": "markdown",
   "metadata": {},
   "source": [
    "#### Example:  T-test One Sample\n",
    "Run it when sample size is small (less than 30) and/or the popiulation standard deviation ($\\sigma^2$) is unknown\n",
    "\n",
    " You are experiencing hair loss and skin discoloration and think it might be because of selenium toxicity. You decide to measure the selenium levels in  your tap water once a day for one week. your results are g iven below. the EPA maximum contaminant level for safe drinking water is $0.05mg/L$. Does the selenium level in your tap water exceed the legal limit (assume $\\alpha=0.05$)?"
   ]
  },
  {
   "cell_type": "markdown",
   "metadata": {},
   "source": [
    "| Day      | Selenium (mg/L) |\n",
    "| :---        |    :----:   |  \n",
    "| 1   | 0.051| \n",
    "| 2   | 0.0505| \n",
    "| 3 | 0.049| \n",
    "| 4  | 0.0516|\n",
    "| 5 | 0.052| \n",
    "| 6 | 0.0508|\n",
    "| 7  | 0.0506|\n"
   ]
  },
  {
   "cell_type": "markdown",
   "metadata": {},
   "source": [
    "Let us set up our hypotheses. Remember, we only had seven samples from our tap water, based on this sample set, we are trying to hypothesize about the true slenium level in our tap water ($\\mu$). there is no way we can measure our entire volume of tap water:)\n",
    "\n",
    "- $H_o$: We will assume that the selenium level in our tap water is $0.05$. That is, $\\mu= 0.05$\n",
    "- $H_a$: Our alternative hypothesis, which is not the desired level, is that the selenium in our tap water exceeds the legal limit of $0.05$. That is $\\mu>0.05$. "
   ]
  },
  {
   "cell_type": "code",
   "execution_count": 16,
   "metadata": {},
   "outputs": [
    {
     "data": {
      "image/png": "[encoded data removed]",
      "text/plain": [
       "<Figure size 432x288 with 1 Axes>"
      ]
     },
     "metadata": {
      "needs_background": "light"
     },
     "output_type": "display_data"
    }
   ],
   "source": [
    "import numpy as np\n",
    "import matplotlib.pyplot as plt\n",
    "%matplotlib inline\n",
    "\n",
    "np.random.seed(123)\n",
    "sample = np.array([0.051,0.0505,0.049,0.0516,0.052,0.0508,0.0506])\n",
    "plt.hist(sample)\n",
    "plt.show()\n"
   ]
  },
  {
   "cell_type": "code",
   "execution_count": 28,
   "metadata": {},
   "outputs": [
    {
     "name": "stdout",
     "output_type": "stream",
     "text": [
      "t-statistic:2.173499949434694\n",
      "p-value:0.036355\n"
     ]
    }
   ],
   "source": [
    "from scipy import stats\n",
    "import numpy as np\n",
    "import matplotlib.pyplot as plt\n",
    "%matplotlib inline\n",
    "\n",
    "# T-Test\n",
    "t,p = stats.ttest_1samp(sample, 0.05)\n",
    "# ttest_1samp is 2-tailed, so half the resulting p-value to get a 1-tailed p-value\n",
    "p1 = '%f' % (p/2)\n",
    "print (\"t-statistic:\" + str(t))\n",
    "print(\"p-value:\" + str(p1))"
   ]
  },
  {
   "cell_type": "code",
   "execution_count": 19,
   "metadata": {},
   "outputs": [
    {
     "data": {
      "text/plain": [
       "0.05078571428571429"
      ]
     },
     "execution_count": 19,
     "metadata": {},
     "output_type": "execute_result"
    }
   ],
   "source": [
    "sample_bar=sample.mean()\n",
    "sample_bar"
   ]
  },
  {
   "cell_type": "code",
   "execution_count": 20,
   "metadata": {},
   "outputs": [
    {
     "data": {
      "text/plain": [
       "0.0009564318610135812"
      ]
     },
     "execution_count": 20,
     "metadata": {},
     "output_type": "execute_result"
    }
   ],
   "source": [
    "sample_std=math.sqrt(sum((sample-sample_bar)**2)/(len(sample)-1))\n",
    "sample_std"
   ]
  },
  {
   "cell_type": "code",
   "execution_count": 25,
   "metadata": {},
   "outputs": [
    {
     "name": "stdout",
     "output_type": "stream",
     "text": [
      "2.173499949434694\n"
     ]
    }
   ],
   "source": [
    "mu=0.05\n",
    "tvalue=(sample_bar-mu)/(sample_std/math.sqrt(len(sample)))\n",
    "print(tvalue)"
   ]
  },
  {
   "cell_type": "code",
   "execution_count": 30,
   "metadata": {},
   "outputs": [
    {
     "name": "stdout",
     "output_type": "stream",
     "text": [
      "0.9636449406601787\n",
      "0.036355059339821305\n"
     ]
    }
   ],
   "source": [
    "from scipy.stats import t\n",
    "# define probability\n",
    "\n",
    "df = len(sample)-1\n",
    "p2 = t.cdf(tvalue, df)\n",
    "print(p2)\n",
    "print((1-p2))"
   ]
  },
  {
   "cell_type": "code",
   "execution_count": 39,
   "metadata": {},
   "outputs": [
    {
     "name": "stdout",
     "output_type": "stream",
     "text": [
      "2.172604168221127\n",
      "0.9635999999753254\n"
     ]
    }
   ],
   "source": [
    "# student t-distribution percent point function\n",
    "from scipy.stats import t\n",
    "# define probability\n",
    "p = 0.9636\n",
    "df = 6\n",
    "# retrieve value <= probability\n",
    "value = t.ppf(p, df)\n",
    "print(value)\n",
    "# confirm with cdf\n",
    "p = t.cdf(value, df)\n",
    "print(p)"
   ]
  },
  {
   "cell_type": "markdown",
   "metadata": {},
   "source": [
    "Next, I am plotting the distribution for the population"
   ]
  },
  {
   "cell_type": "code",
   "execution_count": 7,
   "metadata": {},
   "outputs": [],
   "source": [
    "import math\n",
    "import numpy as np\n",
    "import matplotlib.pyplot as plt\n",
    "%matplotlib inline\n",
    "n = 7\n",
    "nsim = 300000\n",
    "mu = 0.05\n",
    "sigma = 2\n",
    "xbar=[]\n",
    "sx=[]\n",
    "for i in range(nsim):\n",
    "    x = np.random.normal(mu, sigma, n)\n",
    "    xbar.append(x.mean())\n",
    "    sx.append(x.std())\n",
    "\n",
    "    \n",
    "xbar=np.array(xbar)\n",
    "sx=np.array(sx)\n",
    "zstat = (xbar-mu)/(sigma / math.sqrt(n))\n",
    "tstat = (xbar-mu)/(sx / math.sqrt(n-1))\n"
   ]
  },
  {
   "cell_type": "code",
   "execution_count": 8,
   "metadata": {},
   "outputs": [
    {
     "data": {
      "text/plain": [
       "0.0024780762387482946"
      ]
     },
     "execution_count": 8,
     "metadata": {},
     "output_type": "execute_result"
    }
   ],
   "source": [
    "tstat.mean()"
   ]
  },
  {
   "cell_type": "code",
   "execution_count": 9,
   "metadata": {},
   "outputs": [],
   "source": [
    "tstat.sort()"
   ]
  },
  {
   "cell_type": "code",
   "execution_count": 14,
   "metadata": {},
   "outputs": [],
   "source": [
    "lxbar=len(tstat)\n",
    "CF=96.36\n",
    "CFp=math.floor(lxbar*(1-CF/100))\n",
    "CFpvalue=tstat[-CFp]\n",
    "CFnvalue=tstat[CFp]"
   ]
  },
  {
   "cell_type": "code",
   "execution_count": 15,
   "metadata": {},
   "outputs": [
    {
     "data": {
      "text/plain": [
       "2.1866389615715027"
      ]
     },
     "execution_count": 15,
     "metadata": {},
     "output_type": "execute_result"
    }
   ],
   "source": [
    "CFpvalue"
   ]
  },
  {
   "cell_type": "code",
   "execution_count": 16,
   "metadata": {},
   "outputs": [
    {
     "data": {
      "text/plain": [
       "-2.158636521746931"
      ]
     },
     "execution_count": 16,
     "metadata": {},
     "output_type": "execute_result"
    }
   ],
   "source": [
    "CFnvalue"
   ]
  },
  {
   "cell_type": "code",
   "execution_count": 13,
   "metadata": {},
   "outputs": [
    {
     "data": {
      "text/plain": [
       "5459"
      ]
     },
     "execution_count": 13,
     "metadata": {},
     "output_type": "execute_result"
    }
   ],
   "source": [
    "CFp"
   ]
  },
  {
   "cell_type": "code",
   "execution_count": 40,
   "metadata": {},
   "outputs": [
    {
     "data": {
      "image/png": "[encoded data removed]",
      "text/plain": [
       "<Figure size 432x288 with 1 Axes>"
      ]
     },
     "metadata": {
      "needs_background": "light"
     },
     "output_type": "display_data"
    }
   ],
   "source": [
    "plt.hist(tstat, bins=100)\n",
    "plt.axvline(tstat.mean(), color='yellow', linestyle='dashed', linewidth=2)\n",
    "# show the t-statistic - the p-value is the area under the curve to the right of this\n",
    "plt.axvline(tvalue, color='magenta', linestyle='dashed', linewidth=2)\n",
    "plt.axvline(CFpvalue, color='red', linestyle='dashed', linewidth=2)\n",
    "axes = plt.gca()\n",
    "axes.set_xlim([-10,10])\n",
    "#axes.set_ylim([ymin,ymax])\n",
    "plt.show()"
   ]
  },
  {
   "cell_type": "markdown",
   "metadata": {},
   "source": [
    "***EXAMPLE*** Our students have completed their school year, and been asked to rate their statistics class on a scale between -5 (terrible) and 5 (fantastic). The statistics class is taught online to tens of thousands of students, so to assess its success, we'll take a random sample of 50 ratings.\n",
    "\n",
    "Run the following code to draw 50 samples."
   ]
  },
  {
   "cell_type": "code",
   "execution_count": 1,
   "metadata": {},
   "outputs": [
    {
     "name": "stdout",
     "output_type": "stream",
     "text": [
      "Min:-5\n",
      "Max:5\n",
      "Mean:0.84\n"
     ]
    },
    {
     "data": {
      "image/png": "[encoded data removed]",
      "text/plain": [
       "<Figure size 432x288 with 1 Axes>"
      ]
     },
     "metadata": {
      "needs_background": "light"
     },
     "output_type": "display_data"
    }
   ],
   "source": [
    "import numpy as np\n",
    "import matplotlib.pyplot as plt\n",
    "%matplotlib inline\n",
    "\n",
    "np.random.seed(123)\n",
    "lo = np.random.randint(-5, -1, 6)\n",
    "mid = np.random.randint(0, 3, 38)\n",
    "hi = np.random.randint(4, 6, 6)\n",
    "sample = np.append(lo,np.append(mid, hi))\n",
    "print(\"Min:\" + str(sample.min()))\n",
    "print(\"Max:\" + str(sample.max()))\n",
    "print(\"Mean:\" + str(sample.mean()))\n",
    "\n",
    "plt.hist(sample)\n",
    "plt.show()"
   ]
  },
  {
   "cell_type": "code",
   "execution_count": 2,
   "metadata": {},
   "outputs": [
    {
     "data": {
      "text/plain": [
       "6"
      ]
     },
     "execution_count": 2,
     "metadata": {},
     "output_type": "execute_result"
    }
   ],
   "source": [
    "len(lo)"
   ]
  },
  {
   "cell_type": "markdown",
   "metadata": {},
   "source": [
    "A question we might immediately ask is: \"how do students tend to like the class\"? In this case, possible ratings were between -5 and 5, with a \"neutral\" score of 0. In other words, if our average score is above zero, then students tend to enjoy the course. \n",
    "\n",
    "In the sample above, the mean score is above 0 (in other words, people liked the class in this data). If you had actually run this course and saw this data, it might lead you to believe that the overall mean rating for this class (i.e., not just the sample) is likely to be positive. \n",
    "\n",
    "There is an important point to be made, though: this is just a sample, and you want to make a statement not just about your sample but the whole population from which it came. In other words, you want to know how the class was received overall, but you only have access to a limited set of data. This often the case when analyzing data. \n",
    "\n",
    "So, how can you test your belief that your positive looking *sample* reflects the fact that the course does tend to get good evaluations, that your *population* mean (not just your sample mean) is positive?\n",
    "\n",
    "We start by defining two hypotheses:\n",
    "\n",
    "* The *null* hypothesis (**H<sub>0</sub>**) is that the population mean for all of the ratings is *not* higher than 0, and the fact that our sample mean is higher than this is due to random chance in our sample selection. \n",
    "* The *alternative* hypothesis (**H<sub>1</sub>**) is that the population mean is actually higher than 0, and the fact that our sample mean is higher than this means that our sample correctly detected this trend. \n",
    "\n",
    "You can write these as mutually exclusive expressions like this:\n",
    "\n",
    "\\begin{equation}H_{0}: \\mu \\le 0 \\\\ H_{1}: \\mu > 0 \\end{equation}\n",
    "\n",
    "So how do we test these hypotheses? Because they are mutually exclusive, if we can show the null is probably not true, then we are safe to reject it and conclude that people really do like our online course. But how do we do that?\n",
    "\n",
    "Well, if the *null* hypothesis is true, the sampling distribution for ratings with a sample size of 50 will be a normal distribution with a mean of 0. Run the following code to visualize this, with the mean of 0 shown as a yellow dashed line.\n",
    "\n",
    "*(The code just generates a normal distribution with a mean of 0 and a standard deviation that makes it approximate a sampling distribution of 50 random means between -5 and 5 - don't worry too much about the actual values, it's just to illustrate the key points!)*"
   ]
  },
  {
   "cell_type": "code",
   "execution_count": null,
   "metadata": {},
   "outputs": [],
   "source": [
    "I sampled ratings from 50 students--> average of 50 ratings is greater than 0--> students enjoyed the class\n",
    "\n",
    "H0: mean<0, for me to reject this thypothesis, I need a credible evidence. I would say, the average of 50 strudents is greater than 0 by chance\n",
    "H1: show me a credible evidence that the average of 50 students greater 0 is not happening by chance.    \n"
   ]
  },
  {
   "cell_type": "code",
   "execution_count": null,
   "metadata": {},
   "outputs": [],
   "source": []
  },
  {
   "cell_type": "code",
   "execution_count": 3,
   "metadata": {},
   "outputs": [
    {
     "data": {
      "image/png": "[encoded data removed]",
      "text/plain": [
       "<Figure size 432x288 with 1 Axes>"
      ]
     },
     "metadata": {
      "needs_background": "light"
     },
     "output_type": "display_data"
    }
   ],
   "source": [
    "import numpy as np\n",
    "import matplotlib.pyplot as plt\n",
    "%matplotlib inline\n",
    "\n",
    "pop = np.random.normal(0, 1.15, 100000)\n",
    "plt.hist(pop, bins=100)\n",
    "plt.axvline(pop.mean(), color='yellow', linestyle='dashed', linewidth=2)\n",
    "plt.show()"
   ]
  },
  {
   "cell_type": "markdown",
   "metadata": {},
   "source": [
    "This illustrates all the *sample* results you could get if the null hypothesis was true (that is, the rating population mean is actually 0). Note that if the null hypothesis is true, it's still *possible* to get a sample with a mean ranging from just over -5 to just under 5. The question is how *probable* is it to get a sample with a mean as high we did for our 50-rating sample under the null hypothesis? And how improbable would it *need* to be for us to conclude that the null is, in fact, a poor explanation for our data? \n",
    "\n",
    "Well, we measure distance from the mean in standard deviations, so we need to find out how many standard deviations above the null-hypothesized population mean of 0 our sample mean is, and measure the area under the distribution curve from this point on - that will give us the probability of observing a mean that is *at least* as high as our sample mean. We call the number of standard deviations above the mean where our sample mean is found the ***test statistic*** (or sometimes just *t-statistic*), and we call the area under the curve from this point (representing the probability of observing a sample mean this high or greater) the ***p-value***.\n",
    "\n",
    "So the p-value tells us how probable our sample mean is when the null is true, but we need to set a threshold under which we consider this to be too improbable to be explained by random chance alone. We call this threshold our *critical value*, and we usually indicate it using the Greek letter alpha (**&alpha;**). You can use any value you think is appropriate for **&alpha;** - commonly a value of 0.05 (5%) is used, but there's nothing special about this value.\n",
    "\n",
    "We calculate the t-statistic by performing a statistical test. Technically, when the standard deviation of the population is known, we call it a *z-test* (because a *normal* distribution is often called a *z-distribution* and we measure variance from the mean in multiples of standard deviation known as *z-scores*). When the standard deviation of the population is not known, the test is referred to as a *t-test* and based on an adjusted version of a normal distribution called a *student's t distribution*, in which the distribution is \"flattened\" to allow for more sample variation depending on the sample size. Generally, with a sample size of 30 or more, a t-test is approximately equivalent to a z-test.\n",
    "\n",
    "Specifically, in this case we're performing a *single sample* test (we're comparing the mean from a single sample of ratings against the hypothesized population mean), and it's a *one-tailed* test (we're checking to see if the sample mean is *greater than* the null-hypothesized population mean - in other words, in the *right* tail of the distribution).\n",
    "\n",
    "The general formula for one-tailed, single-sample t-test is:\n",
    "\n",
    "\\begin{equation}t = \\frac{\\bar{x} - \\mu}{s \\div \\sqrt{n}} \\end{equation}\n",
    "\n",
    "In this formula, **x&#772;** is the sample mean, **&mu;** is the population mean, **s** is the standard deviation, and **n** is the sample size. You can think of the numerator of this equation (the expression at the top of the fraction) as a *signal*, and the denominator (the expression at the bottom of the fraction) as being *noise*. The signal measures the difference between the statistic and the null-hypothesized value, and the noise represents the random variance in the data in the form of standard deviation (or standard error). The t-statistic is the ratio of signal to noise, and measures the number of standard errors between the null-hypothesized value and the observed sample mean. A large value tells you that your \"result\" or \"signal\" was much larger than you would typically expect by chance.\n",
    "\n",
    "Fortunately, most programming languages used for statistical analysis include functions to perform a t-test, so you rarely need to manually calculate the results using the formula.\n",
    "\n",
    "Run the code below to run a single-sample t-test comparing our sample mean for ratings to a hypothesized population mean of 0, and visualize the resulting t-statistic on the normal distribution for the null hypothesis.\n"
   ]
  },
  {
   "cell_type": "code",
   "execution_count": null,
   "metadata": {},
   "outputs": [],
   "source": [
    "we have normal distributin with mu=mean and sigma=std-->N(mu, sigma)\n",
    "if mu=0, and sigma=1, then this normal distributino is called Standard Normal Distribution-->N(mean=0, std=1)\n",
    "\n",
    "Scaling--> \n",
    "\n",
    "1. take the data, subtract the mean of data from the data points, the mean of the new data will be zero\n",
    "mean[X-mean(X)]=0\n",
    "mean=(x_1+x_2+...x_n)/n\n",
    "\n",
    "(x_1-mean + x_2-mean + x_3-mean+...x_n-mean)/n\n",
    "\n",
    "(x_1+x_2+...x_n)/n-n*mean/n=mean-mean=0\n",
    "\n",
    "2. Take the centered data, and divide by the std of data--> will make the std of data =1\n",
    "\n",
    "now, this scaled data has mean 0 and std 1"
   ]
  },
  {
   "cell_type": "code",
   "execution_count": null,
   "metadata": {},
   "outputs": [],
   "source": [
    "If I give you a X~N(mean=mu, stdsigma)\n",
    "\n",
    "then z=(X-mu)/Sigma-->Normal(mean=0, sigma=1)-->z-transformation"
   ]
  },
  {
   "cell_type": "code",
   "execution_count": 4,
   "metadata": {},
   "outputs": [
    {
     "name": "stdout",
     "output_type": "stream",
     "text": [
      "t-statistic:2.773584905660377\n",
      "p-value:0.003911\n"
     ]
    },
    {
     "data": {
      "image/png": "[encoded data removed]",
      "text/plain": [
       "<Figure size 432x288 with 1 Axes>"
      ]
     },
     "metadata": {
      "needs_background": "light"
     },
     "output_type": "display_data"
    }
   ],
   "source": [
    "from scipy import stats\n",
    "import numpy as np\n",
    "import matplotlib.pyplot as plt\n",
    "%matplotlib inline\n",
    "\n",
    "# T-Test\n",
    "t,p = stats.ttest_1samp(sample, 0)\n",
    "# ttest_1samp is 2-tailed, so half the resulting p-value to get a 1-tailed p-value\n",
    "p1 = '%f' % (p/2)\n",
    "print (\"t-statistic:\" + str(t))\n",
    "print(\"p-value:\" + str(p1))\n",
    "\n",
    "# calculate a 90% confidence interval. 10% of the probability is outside this, 5% in each tail\n",
    "ci = stats.norm.interval(0.90, 0, 1.15)\n",
    "plt.hist(pop, bins=100)\n",
    "# show the hypothesized population mean\n",
    "plt.axvline(pop.mean(), color='yellow', linestyle='dashed', linewidth=2)\n",
    "# show the right-tail confidence interval threshold - 5% of propbability is under the curve to the right of this.\n",
    "plt.axvline(ci[1], color='red', linestyle='dashed', linewidth=2)\n",
    "# show the t-statistic - the p-value is the area under the curve to the right of this\n",
    "plt.axvline(pop.mean() + t*pop.std(), color='magenta', linestyle='dashed', linewidth=2)\n",
    "plt.show()"
   ]
  },
  {
   "cell_type": "code",
   "execution_count": null,
   "metadata": {},
   "outputs": [],
   "source": [
    "s_1=mean(50 scores)--> a data point\n",
    "\n",
    "s1_standardized=(s_1-mu)/(std of the sample)\n",
    "\n",
    "I do not know mean and std of the population\n",
    "\n",
    "I am using standardized distribution--> has mu=0, std=1"
   ]
  },
  {
   "cell_type": "code",
   "execution_count": 6,
   "metadata": {},
   "outputs": [
    {
     "data": {
      "text/plain": [
       "(-1.8915816709941937, 1.8915816709941928)"
      ]
     },
     "execution_count": 6,
     "metadata": {},
     "output_type": "execute_result"
    }
   ],
   "source": [
    "ci"
   ]
  },
  {
   "cell_type": "markdown",
   "metadata": {},
   "source": [
    "In the plot produced by the code above, the yellow line shows the population mean for the null hypothesis. The area under the curve to the right of the red line represents the critical value of 0.05 (or 5%). The magenta line indicates how much higher the sample mean is compared to the hypothesized population mean. This is calculated as the t-statistic (which is printed above the plot) multiplied by the standard deviation. The area under the curve to the right of this encapsulates the p-value calculated by the test (which is also printed above the plot).\n",
    "\n",
    "So what should we conclude from these results?\n",
    "\n",
    "Well, if the p-value is smaller than our critical value of 0.05, that means that under the null hypothesis, the probability of observing a sample mean as high as we did by random chance is low. That's a good sign for us, because it means that our sample is unlikely under the null, and therefore the null is a poor explanation for the data. We can safely *reject* the null hypothesis in favor of the alternative hypothesis - there's enough evidence to suggest that the population mean for our class ratings is greater than 0.\n",
    "\n",
    "Conversely, if the p-value is greater than the critical value, we *fail to reject the null hypothesis* and conclude that the mean rating is not greater than 0. Note that we never actually *accept* the null hypothesis, we just conclude that there isn't enough evidence to reject it!"
   ]
  },
  {
   "cell_type": "code",
   "execution_count": null,
   "metadata": {},
   "outputs": [],
   "source": [
    "use t test if sample size is less than 30\n",
    "use z test if sample size is greater than 30"
   ]
  },
  {
   "cell_type": "code",
   "execution_count": null,
   "metadata": {},
   "outputs": [],
   "source": []
  },
  {
   "cell_type": "code",
   "execution_count": null,
   "metadata": {},
   "outputs": [],
   "source": []
  },
  {
   "cell_type": "markdown",
   "metadata": {},
   "source": [
    "### 3.2 Two-tailed Test\n",
    "A two-tailed test has two critical values, one on each side of the distribution, which is often assumed to be symmetrical (e.g. Gaussian and Student-t distributions.). When using a two- tailed test, a significance level (or alpha) used in the calculation of the critical values must be divided by 2. The critical value will then use a portion of this alpha on each side of the distribution. To make this concrete, consider an alpha of 5%. This would be split to give two alpha values of 2.5% on either side of the distribution with an acceptance area in the middle of the distribution of 95%.\n",
    "\n",
    "We can refer to each critical value as the lower and upper critical values for the left and right of the distribution respectively. Test statistic values more than or equal to the lower critical value and less than or equal to the upper critical value indicate the failure to reject the null hypothesis. Whereas test statistic values less than the lower critical value and more than the upper critical value indicate rejection of the null hypothesis for the test. We can summarize this interpretation as follows:\n",
    "- Lower CR ≤ Test Statistic ≥ Upper CR: not significant result, fail to reject null hy- pothesis (H0).\n",
    "- Test Statistic < Lower CR OR Test Statistic > Upper CR: significant result, re-ject null hypothesis (H0)."
   ]
  },
  {
   "cell_type": "code",
   "execution_count": null,
   "metadata": {},
   "outputs": [],
   "source": []
  },
  {
   "cell_type": "markdown",
   "metadata": {},
   "source": [
    "***EXAMPLE (Cont)***\n",
    "The previous test was an example of a one-tailed test in which the p-value represents the area under one tail of the distribution curve. In this case, the area in question is under the right tail because the alternative hypothesis we were trying to show was that the true population mean is *greater than* the mean of the null hypothesis scenario.\n",
    "\n",
    "Suppose we restated our hypotheses like this:\n",
    "* The *null* hypothesis (**H<sub>0</sub>**) is that the population mean for all of the ratings is 0, and the fact that our sample mean is higher or lower than this can be explained by random chance in our sample selection.\n",
    "* The *alternative* hypothesis (**H<sub>1</sub>**) is that the population mean is not equal to 0.\n",
    "\n",
    "We can write these as mutually exclusive expressions like this:\n",
    "\n",
    "\\begin{equation}H_{0}: \\mu = 0 \\\\ H_{1}: \\mu \\neq 0 \\end{equation}\n",
    "\n",
    "Why would we do this? Well, in the test we performed earlier, we could only reject the null hypothesis if we had really *positive* ratings, but what if our sample data looked really *negative*? It would be a mistake to turn around and run a one-tailed test the other way, for negative ratings. Instead, we conduct a test designed for such a question: a two-tailed test.\n",
    "\n",
    "A two-tailed test has two critical values, one on each side of the distribution, which is often assumed to be symmetrical (e.g. Gaussian and Student-t distributions.). When using a two- tailed test, a significance level (or alpha) used in the calculation of the critical values must be divided by 2. The critical value will then use a portion of this alpha on each side of the distribution. To make this concrete, consider an alpha of 5%. This would be split to give two alpha values of 2.5% on either side of the distribution with an acceptance area in the middle of the distribution of 95%.\n",
    "\n",
    "We can refer to each critical value as the lower and upper critical values for the left and right of the distribution respectively. Test statistic values more than or equal to the lower critical value and less than or equal to the upper critical value indicate the failure to reject the null hypothesis. Whereas test statistic values less than the lower critical value and more than the upper critical value indicate rejection of the null hypothesis for the test. We can summarize this interpretation as follows:\n",
    "- Lower CR ≤ Test Statistic ≥ Upper CR: not significant result, fail to reject null hy- pothesis (H0).\n",
    "- Test Statistic < Lower CR OR Test Statistic > Upper CR: significant result, re-ject null hypothesis (H0).\n",
    "\n",
    "In a two-tailed test, we are willing to reject the null hypothesis if the result is significantly *greater* or *lower* than the null hypothesis. Our critical value (5%) is therefore split in two: the top 2.5% of the curve and the bottom 2.5% of the curve. As long as our test statistic is in that region, we are in the extreme 5% of values (p < .05) and we reject the null hypothesis. In other words, our p-value now needs to be below .025, but it can be in either tail of the distribution. For convenience, we usually \"double\" the p-value in a two-tailed test so that we don't have to remember this rule and still compare against .05 (this is known as a \"two-tailed p-value\"). In fact, it is assumed this has been done in all statistical analyses unless stated otherwise. \n",
    "\n",
    "The following code shows the results of a two-tailed, single sample test of our class ratings. Note that the ***ttest_1samp*** function in the ***stats*** library returns a 2-tailed p-value by default (which is why we halved it in the previous example).\n"
   ]
  },
  {
   "cell_type": "code",
   "execution_count": 7,
   "metadata": {},
   "outputs": [
    {
     "name": "stdout",
     "output_type": "stream",
     "text": [
      "t-statistic:2.773584905660377\n",
      "p-value:0.007822\n"
     ]
    },
    {
     "data": {
      "image/png": "[encoded data removed]",
      "text/plain": [
       "<Figure size 432x288 with 1 Axes>"
      ]
     },
     "metadata": {
      "needs_background": "light"
     },
     "output_type": "display_data"
    }
   ],
   "source": [
    "from scipy import stats\n",
    "import numpy as np\n",
    "import matplotlib.pyplot as plt\n",
    "%matplotlib inline\n",
    "\n",
    "# T-Test\n",
    "t,p = stats.ttest_1samp(sample, 0)\n",
    "print (\"t-statistic:\" + str(t))\n",
    "# ttest_1samp is 2-tailed\n",
    "print(\"p-value:\" + '%f' % p)\n",
    "# calculate a 95% confidence interval. 5% of the probability is outside this, 2.5% in each tail\n",
    "ci = stats.norm.interval(0.95, 0, 1.15)\n",
    "plt.hist(pop, bins=100)\n",
    "# show the hypothesized population mean\n",
    "plt.axvline(pop.mean(), color='yellow', linestyle='dashed', linewidth=2)\n",
    "# show the confidence interval thresholds - 5% of propbability is under the curve outside these.\n",
    "plt.axvline(ci[0], color='red', linestyle='dashed', linewidth=2)\n",
    "plt.axvline(ci[1], color='red', linestyle='dashed', linewidth=2)\n",
    "# show the t-statistic thresholds - the p-value is the area under the curve outside these\n",
    "plt.axvline(pop.mean() - t*pop.std(), color='magenta', linestyle='dashed', linewidth=2)\n",
    "plt.axvline(pop.mean() + t*pop.std(), color='magenta', linestyle='dashed', linewidth=2)\n",
    "plt.show()"
   ]
  },
  {
   "cell_type": "markdown",
   "metadata": {},
   "source": [
    "Here we see that our 2-tailed p-value was clearly less than 0.05; so We reject the null hypothesis.\n",
    "\n",
    "You may note that doubling the p-value in a two-tailed test makes it harder to reject the null. This is true; we require more evidence because we are asking a more complicated question. "
   ]
  },
  {
   "cell_type": "markdown",
   "metadata": {},
   "source": [
    "### 3.3 Student’s t-Test for testing independence of two samples\n",
    "The Student’s t-test is a statistical hypothesis test that two independent data samples known to have a Gaussian distribution, have the same Gaussian distribution.\n",
    "\n",
    "The assumption or null hypothesis of the test is that the means of two populations are equal. A rejection of this hypothesis indicates that there is sufficient evidence that the means of the populations are different, and in turn that the distributions are not equal.\n",
    "- Fail to Reject H0: No difference between the sample means. \n",
    "- Reject H0: Some difference between the sample means."
   ]
  },
  {
   "cell_type": "code",
   "execution_count": 5,
   "metadata": {},
   "outputs": [
    {
     "name": "stdout",
     "output_type": "stream",
     "text": [
      "Statistics=-2.262, p=0.025\n",
      "Different distributions (reject H0)\n",
      "t-statistic:-2.3719009567078646\n",
      "p-value:0.019631\n"
     ]
    }
   ],
   "source": [
    "# student's t-test\n",
    "from numpy.random import seed\n",
    "from numpy.random import randn\n",
    "from scipy.stats import ttest_ind,ttest_1samp\n",
    "# seed the random number generator\n",
    "seed(1)\n",
    "# generate two independent samples\n",
    "data1 = 5 * randn(100) + 50\n",
    "data2 = 5 * randn(100) + 51\n",
    "# compare samples\n",
    "stat, p = ttest_ind(data1, data2) \n",
    "print('Statistics={:.3f}, p={:.3f}'.format(stat, p))\n",
    "# interpret\n",
    "alpha = 0.05\n",
    "if p > alpha:\n",
    "    print('Same distributions (fail to reject H0)') \n",
    "else:\n",
    "    print('Different distributions (reject H0)')\n",
    "\n",
    "sample=data1-data2\n",
    "# T-Test\n",
    "t,p = ttest_1samp(sample, 0)\n",
    "# ttest_1samp is 2-tailed, so half the resulting p-value to get a 1-tailed p-value\n",
    "p1 = '%f' % (p)\n",
    "print (\"t-statistic:\" + str(t))\n",
    "print(\"p-value:\" + str(p1))"
   ]
  },
  {
   "cell_type": "markdown",
   "metadata": {},
   "source": [
    "\n",
    "In both of the previous examples, we compared a statistic from a single data sample to a null-hypothesized population parameter. Sometimes you might want to compare two samples against one another.\n",
    "\n",
    "For example, let's suppose that some of the students who took the statistics course had previously studied mathematics, while other students had no previous math experience. You might hypothesize that the grades of students who had previously studied math are significantly higher than the grades of students who had not.\n",
    "\n",
    "* The *null* hypothesis (**H<sub>0</sub>**) is that the population mean grade for students with previous math studies is not greater than the population mean grade for students without any math experience, and the fact that our sample mean for math students is higher than our sample mean for non-math students can be explained by random chance in our sample selection.\n",
    "* The *alternative* hypothesis (**H<sub>1</sub>**) is that the population mean grade for students with previous math studies is greater than the population mean grade for students without any math experience.\n",
    "\n",
    "We can write these as mutually exclusive expressions like this:\n",
    "\n",
    "\\begin{equation}H_{0}: \\mu_{1} \\le \\mu_{2} \\\\ H_{1}: \\mu_{1} > \\mu_{2} \\end{equation}\n",
    "\n",
    "This is a one-sided test that compares two samples. To perform this test, we'll take two samples. One sample contains 100 grades for students who have previously studied math, and the other sample contains 100 grades for students with no math experience.\n",
    "\n",
    "We won't go into the test-statistic formula here, but it essentially the same as the one above, adapted to include information from both samples. We can easily test this in most software packages using the command for an \"independent samples\" t-test:\n"
   ]
  },
  {
   "cell_type": "markdown",
   "metadata": {},
   "source": [
    "### 3.4 Paired Student’s t-Test\n",
    "We may wish to compare the means between two data samples that are related in some way. For example, the data samples may represent two independent measures or evaluations of the same object. These data samples are repeated or dependent and are referred to as paired samples or repeated measures. Because the samples are not independent, we cannot use the Student’s t-test. Instead, we must use a modified version of the test that corrects for the fact that the data samples are dependent, called the paired Student’s t-test."
   ]
  },
  {
   "cell_type": "code",
   "execution_count": 50,
   "metadata": {},
   "outputs": [
    {
     "name": "stdout",
     "output_type": "stream",
     "text": [
      "Statistics=-2.372, p=0.020\n",
      "Different distributions (reject H0)\n"
     ]
    }
   ],
   "source": [
    "# paired student's t-test\n",
    "from numpy.random import seed\n",
    "from numpy.random import randn\n",
    "from scipy.stats import ttest_rel\n",
    "# seed the random number generator\n",
    "seed(1)\n",
    "# generate two independent samples\n",
    "data1 = 5 * randn(100) + 50\n",
    "data2 = 5 * randn(100) + 51\n",
    "# compare samples\n",
    "stat, p = ttest_rel(data1, data2) \n",
    "print('Statistics={:.3f}, p={:.3f}'.format(stat, p)) \n",
    "# interpret\n",
    "alpha = 0.05\n",
    "if p > alpha:\n",
    "    print('Same distributions (fail to reject H0)') \n",
    "else:\n",
    "    print('Different distributions (reject H0)')"
   ]
  },
  {
   "cell_type": "code",
   "execution_count": null,
   "metadata": {},
   "outputs": [],
   "source": []
  },
  {
   "cell_type": "markdown",
   "metadata": {},
   "source": [
    "***EXAMPLE***\n",
    "In the two-sample test we conduced previously, the samples were independent; in other words there was no relatioship between the observations in the first sample and the observations in the second sample. Sometimes you might want to compare statistical differences between related observations before and after some change that you believe might influence the data.\n",
    "\n",
    "For example, suppose our students took a mid-term exam, and later took and end-of-term exam. You might hypothesise that the students will improve their grades in the end-of-term exam, after they've undertaken additional study. We could test for a general improvement on average across all students with a two-sample independent test, but a more appropriate test would be to compare the two test scores for each individual student.\n",
    "\n",
    "To accomplish this, we need to create two samples; one for scores in the mid-term, exam, the other for scores in the end-of-term exam. Then we need to compare the samples in such a way that each pair of observations for the same student are compared to one another. \n",
    "\n",
    "This is known as a paired-samples t-test or a dependent-samples t-test. Technically, it tests whether the *changes* tend to be in the positive or negative direction."
   ]
  },
  {
   "cell_type": "code",
   "execution_count": 11,
   "metadata": {},
   "outputs": [
    {
     "name": "stdout",
     "output_type": "stream",
     "text": [
      "t-statistic:2.3406857739212583\n",
      "p-value:0.010627\n"
     ]
    },
    {
     "data": {
      "image/png": "[encoded data removed]",
      "text/plain": [
       "<Figure size 432x288 with 1 Axes>"
      ]
     },
     "metadata": {
      "needs_background": "light"
     },
     "output_type": "display_data"
    }
   ],
   "source": [
    "import numpy as np\n",
    "import matplotlib.pyplot as plt\n",
    "from scipy import stats\n",
    "%matplotlib inline\n",
    "\n",
    "np.random.seed(123)\n",
    "midTerm = np.random.normal(59.45, 1.5, 100)\n",
    "endTerm = np.random.normal(60.05, 1.5, 100)\n",
    "\n",
    "# Paired (related) test\n",
    "t,p = stats.ttest_rel(endTerm, midTerm)\n",
    "# ttest_rel is 2-tailed, so half the resulting p-value to get a 1-tailed p-value\n",
    "p1 = '%f' % (p/2)\n",
    "print(\"t-statistic:\" + str(t))\n",
    "print(\"p-value:\" + str(p1))\n",
    "\n",
    "pop = np.random.normal(midTerm.mean(), midTerm.std(), 100000)\n",
    "# calculate a 90% confidence interval. 10% of the probability is outside this, 5% in each tail\n",
    "ci = stats.norm.interval(0.90, midTerm.mean(), midTerm.std())\n",
    "plt.hist(pop, bins=100)\n",
    "# show the hypothesized population mean\n",
    "plt.axvline(pop.mean(), color='yellow', linestyle='dashed', linewidth=2)\n",
    "# show the right-tail confidence interval threshold - 5% of propbability is under the curve to the right of this.\n",
    "plt.axvline(ci[1], color='red', linestyle='dashed', linewidth=2)\n",
    "# show the t-statistic - the p-value is the area under the curve to the right of this\n",
    "plt.axvline(pop.mean() + t*pop.std(), color='magenta', linestyle='dashed', linewidth=2)\n",
    "plt.show()"
   ]
  },
  {
   "cell_type": "markdown",
   "metadata": {},
   "source": [
    "### 3.5 Analysis of Variance Test\n",
    "There are sometimes situations where we may have multiple independent data samples. We can perform the Student’s t-test pairwise on each combination of the data samples to get an idea of which samples have different means. This can be onerous if we are only interested in whether all samples have the same distribution or not. To answer this question, we can use the analysis of variance test, or ANOVA for short. ANOVA is a statistical test that assumes that the mean across 2 or more groups are equal. If the evidence suggests that this is not the case, the null hypothesis is rejected and at least one data sample has a different distribution.\n",
    "- Fail to Reject H0: All sample distributions are equal.\n",
    "- Reject H0: One or more sample distributions are not equal.\n",
    "\n",
    "The test requires that the data samples are a Gaussian distribution, that the samples are independent, and that all data samples have the same standard deviation."
   ]
  },
  {
   "cell_type": "code",
   "execution_count": 51,
   "metadata": {},
   "outputs": [
    {
     "name": "stdout",
     "output_type": "stream",
     "text": [
      "Statistics=3.655, p=0.027\n",
      "Different distributions (reject H0)\n"
     ]
    }
   ],
   "source": [
    "# analysis of variance test\n",
    "from numpy.random import seed\n",
    "from numpy.random import randn\n",
    "from scipy.stats import f_oneway\n",
    "# seed the random number generator\n",
    "seed(1)\n",
    "# generate three independent samples\n",
    "data1 = 5 * randn(100) + 50\n",
    "data2 = 5 * randn(100) + 50\n",
    "data3 = 5 * randn(100) + 52\n",
    "# compare samples\n",
    "stat, p = f_oneway(data1, data2, data3) \n",
    "print('Statistics={:.3f}, p={:.3f}'.format(stat, p)) \n",
    "# interpret\n",
    "alpha = 0.05\n",
    "if p > alpha:\n",
    "    print('Same distributions (fail to reject H0)') \n",
    "else:\n",
    "    print('Different distributions (reject H0)')"
   ]
  },
  {
   "cell_type": "markdown",
   "metadata": {},
   "source": [
    "## 4. Covariance and Correlation\n",
    "There may be complex and unknown relationships between the variables in your dataset. It is important to discover and quantify the degree to which variables in your dataset are dependent upon each other. This knowledge can help you better prepare your data to meet the expectations of machine learning algorithms, such as linear regression, whose performance will degrade with the presence of these interdependencies."
   ]
  },
  {
   "cell_type": "markdown",
   "metadata": {},
   "source": [
    "### 4.1 What is Correlation?\n",
    "Variables within a dataset can be related for lots of reasons. For example: \n",
    "- One variable could cause or depend on the values of another variable.\n",
    "- One variable could be lightly associated with another variable.\n",
    "- Two variables could depend on a third unknown variable.\n",
    "\n",
    "The statistical relationship between two variables is referred to as their correlation. A correlation could be positive, meaning both variables move in the same direction, or negative, meaning that when one variable’s value increases, the other variables’ values decrease. Correlation can also be neural or zero, meaning that the variables are unrelated.\n",
    "- Positive Correlation: Both variables change in the same direction. \n",
    "- Neutral Correlation: No relationship in the change of the variables. \n",
    "- Negative Correlation: Variables change in opposite directions.\n",
    "\n",
    "The performance of some algorithms can deteriorate if two or more variables are tightly related, called multicollinearity. An example is linear regression, where one of the offending correlated variables should be removed in order to improve the skill of the model."
   ]
  },
  {
   "cell_type": "code",
   "execution_count": 44,
   "metadata": {},
   "outputs": [
    {
     "name": "stdout",
     "output_type": "stream",
     "text": [
      "data1: mean=100.776 stdv=19.620\n",
      "data2: mean=151.050 stdv=22.358\n"
     ]
    },
    {
     "data": {
      "image/png": "[encoded data removed]",
      "text/plain": [
       "<Figure size 432x288 with 1 Axes>"
      ]
     },
     "metadata": {
      "needs_background": "light"
     },
     "output_type": "display_data"
    }
   ],
   "source": [
    "# generate related variables\n",
    "from numpy import mean\n",
    "from numpy import std\n",
    "from numpy.random import randn\n",
    "from numpy.random import seed\n",
    "from matplotlib import pyplot\n",
    "# seed random number generator\n",
    "seed(1)\n",
    "data1 = 20 * randn(1000) + 100\n",
    "data2 = data1 + (10 * randn(1000) + 50)\n",
    "# summarize\n",
    "print('data1: mean={:.3f} stdv={:.3f}'.format(mean(data1), std(data1)))\n",
    "print('data2: mean={:.3f} stdv={:.3f}'.format(mean(data2), std(data2)))\n",
    "# plot\n",
    "pyplot.scatter(data1, data2)\n",
    "pyplot.show()\n"
   ]
  },
  {
   "cell_type": "markdown",
   "metadata": {},
   "source": [
    "A scatter plot of the two variables is created. Because we contrived the dataset, we know there is a relationship between the two variables. This is clear when we review the generated scatter plot where we can see an increasing trend."
   ]
  },
  {
   "cell_type": "markdown",
   "metadata": {},
   "source": [
    "### 4.2 Covariance\n",
    "Variables can be related by a linear relationship. This is a relationship that is consistently additive across the two data samples. This relationship can be summarized between two variables, called the covariance. It is calculated as the average of the product between the values from each sample, where the values haven been centered (had their mean subtracted):\n",
    "\n",
    "$$cov(x,y)=\\frac{1}{n}\\times \\sum_{i=1}^{n}(x_i-mean(x))\\times (y_i-mean(y))$$"
   ]
  },
  {
   "cell_type": "code",
   "execution_count": 45,
   "metadata": {},
   "outputs": [
    {
     "name": "stdout",
     "output_type": "stream",
     "text": [
      "[[385.33297729 389.7545618 ]\n",
      " [389.7545618  500.38006058]]\n"
     ]
    }
   ],
   "source": [
    "# calculate the covariance between two variables\n",
    "from numpy.random import randn\n",
    "from numpy.random import seed\n",
    "from numpy import cov\n",
    "# seed random number generator\n",
    "seed(1)\n",
    "# prepare data\n",
    "data1 = 20 * randn(1000) + 100\n",
    "data2 = data1 + (10 * randn(1000) + 50)\n",
    "# calculate covariance matrix\n",
    "covariance = cov(data1, data2)\n",
    "print(covariance)"
   ]
  },
  {
   "cell_type": "markdown",
   "metadata": {},
   "source": [
    "A problem with covariance as a statistical tool alone is that it is challenging to interpret. This leads us to the Pearson’s correlation coefficient next."
   ]
  },
  {
   "cell_type": "markdown",
   "metadata": {},
   "source": [
    "### 4.3 Pearson's Correlation\n",
    "The Pearson’s correlation coefficient is calculated as the covariance of the two variables divided by the product of the standard deviation of each data sample. It is the normalization of the covariance between the two variables to give an interpretable score.\n",
    "$$PearsonCorelation=\\frac{cov(x,y)}{std(x)\\times std(y)}$$"
   ]
  },
  {
   "cell_type": "markdown",
   "metadata": {},
   "source": [
    "The Pearson’s correlation is a statistical hypothesis test that does assume that there is no relationship between the samples (null hypothesis). The p-value can be interpreted as follows:\n",
    "- p-value ≤ alpha: significant result, reject null hypothesis, some relationship (H1).\n",
    "- p-value > alpha: not significant result, fail to reject null hypothesis, no relationship (H0)."
   ]
  },
  {
   "cell_type": "code",
   "execution_count": 47,
   "metadata": {},
   "outputs": [
    {
     "name": "stdout",
     "output_type": "stream",
     "text": [
      "Pearsons correlation: 0.888\n",
      "Some correlation (reject H0)\n"
     ]
    }
   ],
   "source": [
    "# calculate the pearson's correlation between two variables from numpy.random import randn\n",
    "from numpy.random import seed\n",
    "from scipy.stats import pearsonr\n",
    "# seed random number generator\n",
    "seed(1)\n",
    "# prepare data\n",
    "data1 = 20 * randn(1000) + 100\n",
    "data2 = data1 + (10 * randn(1000) + 50)\n",
    "# calculate Pearson's correlation\n",
    "corr, p = pearsonr(data1, data2)\n",
    "# display the correlation\n",
    "print('Pearsons correlation: %.3f' % corr) # interpret the significance\n",
    "alpha = 0.05\n",
    "if p > alpha:\n",
    "    print('No correlation (fail to reject H0)') \n",
    "else:\n",
    "    print('Some correlation (reject H0)')"
   ]
  }
 ],
 "metadata": {
  "kernelspec": {
   "display_name": "Python 3 (ipykernel)",
   "language": "python",
   "name": "python3"
  },
  "language_info": {
   "codemirror_mode": {
    "name": "ipython",
    "version": 3
   },
   "file_extension": ".py",
   "mimetype": "text/x-python",
   "name": "python",
   "nbconvert_exporter": "python",
   "pygments_lexer": "ipython3",
   "version": "3.9.12"
  }
 },
 "nbformat": 4,
 "nbformat_minor": 4
}
