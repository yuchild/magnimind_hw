{
 "cells": [
  {
   "cell_type": "markdown",
   "id": "15043aac",
   "metadata": {},
   "source": [
    "## Early Stopping of Gradient Boosting"
   ]
  },
  {
   "cell_type": "code",
   "execution_count": 1,
   "id": "509b0428",
   "metadata": {},
   "outputs": [
    {
     "name": "stdout",
     "output_type": "stream",
     "text": [
      "Training Time without Early Stopping: 21.05 seconds\n",
      "Classification Report (without Early Stopping):\n",
      "              precision    recall  f1-score   support\n",
      "\n",
      "           0       1.00      1.00      1.00        33\n",
      "           1       0.97      1.00      0.98        28\n",
      "           2       1.00      0.97      0.98        33\n",
      "           3       1.00      0.97      0.99        34\n",
      "           4       1.00      0.98      0.99        46\n",
      "           5       0.98      0.98      0.98        47\n",
      "           6       0.94      0.94      0.94        35\n",
      "           7       0.94      0.97      0.96        34\n",
      "           8       0.94      1.00      0.97        30\n",
      "           9       0.97      0.95      0.96        40\n",
      "\n",
      "    accuracy                           0.97       360\n",
      "   macro avg       0.97      0.98      0.97       360\n",
      "weighted avg       0.98      0.97      0.98       360\n",
      "\n",
      "Training Time with Early Stopping: 5.76 seconds\n",
      "Classification Report (with Early Stopping):\n",
      "              precision    recall  f1-score   support\n",
      "\n",
      "           0       1.00      0.97      0.98        33\n",
      "           1       0.93      0.96      0.95        28\n",
      "           2       0.97      0.97      0.97        33\n",
      "           3       1.00      0.94      0.97        34\n",
      "           4       0.98      0.96      0.97        46\n",
      "           5       0.98      0.96      0.97        47\n",
      "           6       0.97      0.94      0.96        35\n",
      "           7       0.94      0.97      0.96        34\n",
      "           8       0.88      1.00      0.94        30\n",
      "           9       0.95      0.95      0.95        40\n",
      "\n",
      "    accuracy                           0.96       360\n",
      "   macro avg       0.96      0.96      0.96       360\n",
      "weighted avg       0.96      0.96      0.96       360\n",
      "\n"
     ]
    }
   ],
   "source": [
    "import time\n",
    "import numpy as np\n",
    "from sklearn.ensemble import GradientBoostingClassifier\n",
    "from sklearn.datasets import load_digits\n",
    "from sklearn.model_selection import train_test_split\n",
    "from sklearn.metrics import classification_report\n",
    "\n",
    "# Step 1: Load digits dataset\n",
    "digits = load_digits()\n",
    "X, y = digits.data, digits.target\n",
    "\n",
    "# Step 2: Split the dataset into training and validation sets\n",
    "X_train, X_val, y_train, y_val = train_test_split(X, y, test_size=0.2, random_state=42)\n",
    "\n",
    "# Train Gradient Boosting Classifier without early stopping\n",
    "start_time_no_early_stopping = time.time()\n",
    "gb_no_early_stopping = GradientBoostingClassifier(n_estimators=1000, random_state=42)\n",
    "gb_no_early_stopping.fit(X_train, y_train)\n",
    "end_time_no_early_stopping = time.time()\n",
    "train_time_no_early_stopping = end_time_no_early_stopping - start_time_no_early_stopping\n",
    "\n",
    "# Predictions without early stopping\n",
    "y_pred_no_early_stopping = gb_no_early_stopping.predict(X_val)\n",
    "\n",
    "# Train Gradient Boosting Classifier with early stopping\n",
    "start_time_with_early_stopping = time.time()\n",
    "gb_with_early_stopping = GradientBoostingClassifier(n_estimators=1000, random_state=42, validation_fraction=0.1, n_iter_no_change=10)\n",
    "gb_with_early_stopping.fit(X_train, y_train)\n",
    "end_time_with_early_stopping = time.time()\n",
    "train_time_with_early_stopping = end_time_with_early_stopping - start_time_with_early_stopping\n",
    "\n",
    "# Predictions with early stopping\n",
    "y_pred_with_early_stopping = gb_with_early_stopping.predict(X_val)\n",
    "\n",
    "# Step 4: Report scores for both models\n",
    "print(\"Training Time without Early Stopping: {:.2f} seconds\".format(train_time_no_early_stopping))\n",
    "print(\"Classification Report (without Early Stopping):\")\n",
    "print(classification_report(y_val, y_pred_no_early_stopping))\n",
    "\n",
    "print(\"Training Time with Early Stopping: {:.2f} seconds\".format(train_time_with_early_stopping))\n",
    "print(\"Classification Report (with Early Stopping):\")\n",
    "print(classification_report(y_val, y_pred_with_early_stopping))\n"
   ]
  },
  {
   "cell_type": "code",
   "execution_count": null,
   "id": "503de223",
   "metadata": {},
   "outputs": [],
   "source": []
  }
 ],
 "metadata": {
  "kernelspec": {
   "display_name": "Python 3 (ipykernel)",
   "language": "python",
   "name": "python3"
  },
  "language_info": {
   "codemirror_mode": {
    "name": "ipython",
    "version": 3
   },
   "file_extension": ".py",
   "mimetype": "text/x-python",
   "name": "python",
   "nbconvert_exporter": "python",
   "pygments_lexer": "ipython3",
   "version": "3.12.3"
  }
 },
 "nbformat": 4,
 "nbformat_minor": 5
}
