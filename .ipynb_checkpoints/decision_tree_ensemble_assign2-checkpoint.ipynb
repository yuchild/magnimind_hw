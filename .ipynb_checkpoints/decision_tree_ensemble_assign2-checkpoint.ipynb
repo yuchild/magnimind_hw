{
 "cells": [
  {
   "cell_type": "markdown",
   "id": "20ab48ba",
   "metadata": {},
   "source": [
    "## Prime Indians Diabetes"
   ]
  },
  {
   "cell_type": "code",
   "execution_count": 1,
   "id": "aadadd5e",
   "metadata": {},
   "outputs": [],
   "source": [
    "import pandas as pd\n",
    "import numpy as np\n",
    "from sklearn.model_selection import train_test_split\n",
    "from sklearn.impute import SimpleImputer\n",
    "from sklearn.preprocessing import StandardScaler\n",
    "from sklearn.ensemble import RandomForestClassifier\n",
    "from sklearn.pipeline import Pipeline\n",
    "from sklearn.compose import ColumnTransformer\n",
    "from sklearn.metrics import classification_report\n",
    "\n",
    "import matplotlib.pyplot as plt"
   ]
  },
  {
   "cell_type": "code",
   "execution_count": 2,
   "id": "37a122fb",
   "metadata": {},
   "outputs": [
    {
     "name": "stdout",
     "output_type": "stream",
     "text": [
      "<class 'pandas.core.frame.DataFrame'>\n",
      "RangeIndex: 768 entries, 0 to 767\n",
      "Data columns (total 9 columns):\n",
      " #   Column                      Non-Null Count  Dtype  \n",
      "---  ------                      --------------  -----  \n",
      " 0   time_pregnant_no            768 non-null    int64  \n",
      " 1   plasma_concentration        768 non-null    int64  \n",
      " 2   diastolic_blood_pressure    768 non-null    int64  \n",
      " 3   triceps_skinfold_thickness  768 non-null    int64  \n",
      " 4   serum_insulin               768 non-null    int64  \n",
      " 5   bmi                         768 non-null    float64\n",
      " 6   diabetes_pedigree           768 non-null    float64\n",
      " 7   age                         768 non-null    int64  \n",
      " 8   class                       768 non-null    int64  \n",
      "dtypes: float64(2), int64(7)\n",
      "memory usage: 54.1 KB\n"
     ]
    }
   ],
   "source": [
    "data = pd.read_csv('./data/prime_indians_diabetes.csv')\n",
    "df = data.copy()\n",
    "df.info()"
   ]
  },
  {
   "cell_type": "code",
   "execution_count": 3,
   "id": "fac1ae35",
   "metadata": {},
   "outputs": [
    {
     "data": {
      "text/html": [
       "<div>\n",
       "<style scoped>\n",
       "    .dataframe tbody tr th:only-of-type {\n",
       "        vertical-align: middle;\n",
       "    }\n",
       "\n",
       "    .dataframe tbody tr th {\n",
       "        vertical-align: top;\n",
       "    }\n",
       "\n",
       "    .dataframe thead th {\n",
       "        text-align: right;\n",
       "    }\n",
       "</style>\n",
       "<table border=\"1\" class=\"dataframe\">\n",
       "  <thead>\n",
       "    <tr style=\"text-align: right;\">\n",
       "      <th></th>\n",
       "      <th>time_pregnant_no</th>\n",
       "      <th>plasma_concentration</th>\n",
       "      <th>diastolic_blood_pressure</th>\n",
       "      <th>triceps_skinfold_thickness</th>\n",
       "      <th>serum_insulin</th>\n",
       "      <th>bmi</th>\n",
       "      <th>diabetes_pedigree</th>\n",
       "      <th>age</th>\n",
       "      <th>class</th>\n",
       "    </tr>\n",
       "  </thead>\n",
       "  <tbody>\n",
       "    <tr>\n",
       "      <th>0</th>\n",
       "      <td>6</td>\n",
       "      <td>148</td>\n",
       "      <td>72</td>\n",
       "      <td>35</td>\n",
       "      <td>0</td>\n",
       "      <td>33.6</td>\n",
       "      <td>0.627</td>\n",
       "      <td>50</td>\n",
       "      <td>1</td>\n",
       "    </tr>\n",
       "    <tr>\n",
       "      <th>1</th>\n",
       "      <td>1</td>\n",
       "      <td>85</td>\n",
       "      <td>66</td>\n",
       "      <td>29</td>\n",
       "      <td>0</td>\n",
       "      <td>26.6</td>\n",
       "      <td>0.351</td>\n",
       "      <td>31</td>\n",
       "      <td>0</td>\n",
       "    </tr>\n",
       "    <tr>\n",
       "      <th>2</th>\n",
       "      <td>8</td>\n",
       "      <td>183</td>\n",
       "      <td>64</td>\n",
       "      <td>0</td>\n",
       "      <td>0</td>\n",
       "      <td>23.3</td>\n",
       "      <td>0.672</td>\n",
       "      <td>32</td>\n",
       "      <td>1</td>\n",
       "    </tr>\n",
       "    <tr>\n",
       "      <th>3</th>\n",
       "      <td>1</td>\n",
       "      <td>89</td>\n",
       "      <td>66</td>\n",
       "      <td>23</td>\n",
       "      <td>94</td>\n",
       "      <td>28.1</td>\n",
       "      <td>0.167</td>\n",
       "      <td>21</td>\n",
       "      <td>0</td>\n",
       "    </tr>\n",
       "    <tr>\n",
       "      <th>4</th>\n",
       "      <td>0</td>\n",
       "      <td>137</td>\n",
       "      <td>40</td>\n",
       "      <td>35</td>\n",
       "      <td>168</td>\n",
       "      <td>43.1</td>\n",
       "      <td>2.288</td>\n",
       "      <td>33</td>\n",
       "      <td>1</td>\n",
       "    </tr>\n",
       "  </tbody>\n",
       "</table>\n",
       "</div>"
      ],
      "text/plain": [
       "   time_pregnant_no  plasma_concentration  diastolic_blood_pressure  \\\n",
       "0                 6                   148                        72   \n",
       "1                 1                    85                        66   \n",
       "2                 8                   183                        64   \n",
       "3                 1                    89                        66   \n",
       "4                 0                   137                        40   \n",
       "\n",
       "   triceps_skinfold_thickness  serum_insulin   bmi  diabetes_pedigree  age  \\\n",
       "0                          35              0  33.6              0.627   50   \n",
       "1                          29              0  26.6              0.351   31   \n",
       "2                           0              0  23.3              0.672   32   \n",
       "3                          23             94  28.1              0.167   21   \n",
       "4                          35            168  43.1              2.288   33   \n",
       "\n",
       "   class  \n",
       "0      1  \n",
       "1      0  \n",
       "2      1  \n",
       "3      0  \n",
       "4      1  "
      ]
     },
     "execution_count": 3,
     "metadata": {},
     "output_type": "execute_result"
    }
   ],
   "source": [
    "df.head()"
   ]
  },
  {
   "cell_type": "code",
   "execution_count": 4,
   "id": "2fd9b9e6",
   "metadata": {},
   "outputs": [
    {
     "data": {
      "text/plain": [
       "time_pregnant_no              0\n",
       "plasma_concentration          0\n",
       "diastolic_blood_pressure      0\n",
       "triceps_skinfold_thickness    0\n",
       "serum_insulin                 0\n",
       "bmi                           0\n",
       "diabetes_pedigree             0\n",
       "age                           0\n",
       "class                         0\n",
       "dtype: int64"
      ]
     },
     "execution_count": 4,
     "metadata": {},
     "output_type": "execute_result"
    }
   ],
   "source": [
    "df.isnull().sum()"
   ]
  },
  {
   "cell_type": "code",
   "execution_count": 5,
   "id": "807a10e8",
   "metadata": {
    "scrolled": false
   },
   "outputs": [
    {
     "name": "stdout",
     "output_type": "stream",
     "text": [
      "['num__plasma_concentration' 'num__diastolic_blood_pressure'\n",
      " 'num__triceps_skinfold_thickness' 'num__serum_insulin' 'num__bmi'\n",
      " 'num__diabetes_pedigree' 'num__age']\n"
     ]
    },
    {
     "data": {
      "image/png": "[encoded data removed]",
      "text/plain": [
       "<Figure size 1000x600 with 1 Axes>"
      ]
     },
     "metadata": {},
     "output_type": "display_data"
    }
   ],
   "source": [
    "# Assuming your DataFrame is named 'df'\n",
    "# 1. Replace 0's with NaN for the specified columns and then impute with mean\n",
    "null_cols = ['plasma_concentration', 'diastolic_blood_pressure',\n",
    "             'triceps_skinfold_thickness', 'serum_insulin', 'bmi',\n",
    "             'diabetes_pedigree', 'age']\n",
    "\n",
    "df[null_cols] = df[null_cols].replace(0, np.nan)\n",
    "\n",
    "# 2. Assign features to X and target variable to y\n",
    "X = df.drop(columns=['class'])\n",
    "y = df['class']\n",
    "\n",
    "# 3. Create preprocessing pipeline for imputing and scaling\n",
    "numeric_transformer = Pipeline(steps=[\n",
    "    ('imputer', SimpleImputer(strategy='mean')),  # Impute missing values with the mean\n",
    "    ('scaler', StandardScaler())  # Scale the features\n",
    "])\n",
    "\n",
    "# Apply the transformation to all columns in X\n",
    "preprocessor = ColumnTransformer(transformers=[\n",
    "    ('num', numeric_transformer, null_cols)\n",
    "])\n",
    "\n",
    "# 4. Create pipeline with preprocessing and RandomForestClassifier\n",
    "clf = Pipeline(steps=[\n",
    "    ('preprocessor', preprocessor),\n",
    "    ('classifier', RandomForestClassifier(n_estimators=100, random_state=42))\n",
    "])\n",
    "\n",
    "# 5. Split the data into train and test sets (80% train, 20% test)\n",
    "X_train, X_test, y_train, y_test = train_test_split(X, y, stratify=y, test_size=0.2, random_state=42)\n",
    "\n",
    "# Fit the model\n",
    "clf.fit(X_train, y_train)\n",
    "\n",
    "# Make predictions\n",
    "y_pred = clf.predict(X_test)\n",
    "\n",
    "# 6. List the feature importances\n",
    "rf = clf.named_steps['classifier']\n",
    "importances = rf.feature_importances_\n",
    "\n",
    "# Get the column names from the preprocessor after transformation\n",
    "transformed_features = clf.named_steps['preprocessor'].get_feature_names_out()\n",
    "print(transformed_features)\n",
    "\n",
    "# 7. Create a bar plot for feature importances\n",
    "# Sort the feature importances\n",
    "indices = np.argsort(importances)[::-1]\n",
    "\n",
    "# Plot the feature importances\n",
    "plt.figure(figsize=(10, 6))\n",
    "plt.title(\"Feature Importances\")\n",
    "plt.bar(range(len(importances)), importances[indices], align=\"center\")\n",
    "plt.xticks(range(len(importances)), transformed_features[indices], rotation=90)\n",
    "plt.tight_layout()\n",
    "plt.show()"
   ]
  },
  {
   "cell_type": "code",
   "execution_count": 6,
   "id": "2731e7c8",
   "metadata": {},
   "outputs": [
    {
     "name": "stdout",
     "output_type": "stream",
     "text": [
      "Classification Report after dropping the least important feature:\n",
      "              precision    recall  f1-score   support\n",
      "\n",
      "           0       0.79      0.84      0.81       100\n",
      "           1       0.66      0.57      0.61        54\n",
      "\n",
      "    accuracy                           0.75       154\n",
      "   macro avg       0.72      0.71      0.71       154\n",
      "weighted avg       0.74      0.75      0.74       154\n",
      "\n"
     ]
    }
   ],
   "source": [
    "# Generate classification report\n",
    "report = classification_report(y_test, y_pred)\n",
    "print(\"Classification Report after dropping the least important feature:\")\n",
    "print(report)"
   ]
  },
  {
   "cell_type": "markdown",
   "id": "c18b5fbd",
   "metadata": {},
   "source": [
    "## Drop Least Improt Features"
   ]
  },
  {
   "cell_type": "code",
   "execution_count": 7,
   "id": "c8749c35",
   "metadata": {},
   "outputs": [
    {
     "name": "stdout",
     "output_type": "stream",
     "text": [
      "Classification Report after dropping the least important feature:\n",
      "              precision    recall  f1-score   support\n",
      "\n",
      "           0       0.79      0.84      0.81       100\n",
      "           1       0.66      0.57      0.61        54\n",
      "\n",
      "    accuracy                           0.75       154\n",
      "   macro avg       0.72      0.71      0.71       154\n",
      "weighted avg       0.74      0.75      0.74       154\n",
      "\n"
     ]
    }
   ],
   "source": [
    "# Get feature importances and least important feature\n",
    "importances = clf.named_steps['classifier'].feature_importances_\n",
    "indices = np.argsort(importances)\n",
    "least_important_feature = X.columns[indices[-1]]  # Get least important original feature\n",
    "\n",
    "# Drop the least important feature from the original DataFrame\n",
    "X_dropped = X.drop(columns=[least_important_feature])\n",
    "\n",
    "# Repeat steps after dropping the least important feature\n",
    "X_train, X_test, y_train, y_test = train_test_split(X_dropped, y, stratify=y, test_size=0.2, random_state=42)\n",
    "\n",
    "# Fit the model again\n",
    "clf.fit(X_train, y_train)\n",
    "y_pred_dropped = clf.predict(X_test)\n",
    "\n",
    "# Make predictions after dropping the least important feature\n",
    "y_pred_dropped = clf.predict(X_test)\n",
    "\n",
    "# Generate classification report\n",
    "report = classification_report(y_test, y_pred_dropped)\n",
    "print(\"Classification Report after dropping the least important feature:\")\n",
    "print(report)"
   ]
  },
  {
   "cell_type": "markdown",
   "id": "e5b5aac9",
   "metadata": {},
   "source": [
    "## Drop least 2 important features"
   ]
  },
  {
   "cell_type": "code",
   "execution_count": 8,
   "id": "25a81393",
   "metadata": {
    "scrolled": false
   },
   "outputs": [
    {
     "name": "stdout",
     "output_type": "stream",
     "text": [
      "Classification Report after dropping the least important features:\n",
      "              precision    recall  f1-score   support\n",
      "\n",
      "           0       0.81      0.87      0.84       100\n",
      "           1       0.72      0.63      0.67        54\n",
      "\n",
      "    accuracy                           0.79       154\n",
      "   macro avg       0.77      0.75      0.76       154\n",
      "weighted avg       0.78      0.79      0.78       154\n",
      "\n"
     ]
    }
   ],
   "source": [
    "# Fit the model if it hasn't been done yet\n",
    "clf.fit(X, y)\n",
    "\n",
    "# Get the ColumnTransformer directly\n",
    "transformer = clf.named_steps['preprocessor']\n",
    "\n",
    "# Transform the input features to get the transformed feature set\n",
    "X_transformed = transformer.transform(X)\n",
    "\n",
    "# Get the feature names after transformation\n",
    "feature_names = transformer.get_feature_names_out()\n",
    "\n",
    "# Get feature importances from the classifier\n",
    "importances = clf.named_steps['classifier'].feature_importances_\n",
    "indices = np.argsort(importances)\n",
    "\n",
    "# Select the last three least important features\n",
    "least_important_features = feature_names[indices[:2]]  # Get the names of the least important features\n",
    "\n",
    "# Convert transformed X back to DataFrame to drop the least important features\n",
    "X_dropped = pd.DataFrame(X_transformed, columns=feature_names).drop(columns=least_important_features)\n",
    "\n",
    "# Split the data after dropping the least important features\n",
    "X_train, X_test, y_train, y_test = train_test_split(X_dropped, y, stratify=y, test_size=0.2, random_state=42)\n",
    "\n",
    "# Fit the model again\n",
    "clf.named_steps['classifier'].fit(X_train, y_train)\n",
    "\n",
    "# Make predictions after dropping the least important features\n",
    "y_pred_dropped = clf.named_steps['classifier'].predict(X_test)\n",
    "\n",
    "# Generate classification report\n",
    "report = classification_report(y_test, y_pred_dropped)\n",
    "print(\"Classification Report after dropping the least important features:\")\n",
    "print(report)\n"
   ]
  },
  {
   "cell_type": "code",
   "execution_count": null,
   "id": "ca75b4fd",
   "metadata": {},
   "outputs": [],
   "source": []
  }
 ],
 "metadata": {
  "kernelspec": {
   "display_name": "Python 3 (ipykernel)",
   "language": "python",
   "name": "python3"
  },
  "language_info": {
   "codemirror_mode": {
    "name": "ipython",
    "version": 3
   },
   "file_extension": ".py",
   "mimetype": "text/x-python",
   "name": "python",
   "nbconvert_exporter": "python",
   "pygments_lexer": "ipython3",
   "version": "3.12.3"
  }
 },
 "nbformat": 4,
 "nbformat_minor": 5
}
