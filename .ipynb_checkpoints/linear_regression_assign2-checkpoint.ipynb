{
 "cells": [
  {
   "cell_type": "markdown",
   "id": "47b00ba3",
   "metadata": {},
   "source": [
    "## Ridge and Lasso \n",
    "### 1) Load the dataset bike_day_raw.csv, which has the regression target cnt. \n",
    "### This dataset is hourly bike rentals in the citybike platform. \n",
    "### The cnt column is the number of rentals, which we want to predict from date and weather data."
   ]
  },
  {
   "cell_type": "code",
   "execution_count": 1,
   "id": "5ff9da66",
   "metadata": {},
   "outputs": [
    {
     "name": "stdout",
     "output_type": "stream",
     "text": [
      "Shape: (731, 11)\n",
      "\n",
      "Dtypes: season          int64\n",
      "mnth            int64\n",
      "holiday         int64\n",
      "weekday         int64\n",
      "workingday      int64\n",
      "weathersit      int64\n",
      "temp          float64\n",
      "atemp         float64\n",
      "hum           float64\n",
      "windspeed     float64\n",
      "cnt             int64\n",
      "dtype: object\n",
      "\n",
      "Column Names: Index(['season', 'mnth', 'holiday', 'weekday', 'workingday', 'weathersit',\n",
      "       'temp', 'atemp', 'hum', 'windspeed', 'cnt'],\n",
      "      dtype='object')\n"
     ]
    }
   ],
   "source": [
    "import pandas as pd\n",
    "\n",
    "df = pd.read_csv('./data/bike_day_raw.csv')\n",
    "print(f'Shape: {df.shape}\\n\\nDtypes: {df.dtypes}\\n\\nColumn Names: {df.columns}')"
   ]
  },
  {
   "cell_type": "code",
   "execution_count": 2,
   "id": "b966485b",
   "metadata": {},
   "outputs": [
    {
     "name": "stdout",
     "output_type": "stream",
     "text": [
      "R^2 score: 0.5519\n",
      "Mean Squared Error: 1796978.1114\n"
     ]
    }
   ],
   "source": [
    "from sklearn.model_selection import train_test_split\n",
    "from sklearn.linear_model import LinearRegression\n",
    "from sklearn.metrics import mean_squared_error, r2_score\n",
    "\n",
    "# Define features and target\n",
    "X = df.drop(columns='cnt')\n",
    "y = df['cnt']\n",
    "\n",
    "# Split the dataset into training and test sets\n",
    "X_train, X_test, y_train, y_test = train_test_split(X, y, test_size=0.2, random_state=42)\n",
    "\n",
    "# Initialize and fit the LinearRegression model\n",
    "model = LinearRegression()\n",
    "model.fit(X_train, y_train)\n",
    "\n",
    "# Make predictions on the test data\n",
    "y_pred = model.predict(X_test)\n",
    "\n",
    "# Evaluate the model\n",
    "r2 = r2_score(y_test, y_pred)\n",
    "mse = mean_squared_error(y_test, y_pred)\n",
    "\n",
    "print(f\"R^2 score: {r2:.4f}\")\n",
    "print(f\"Mean Squared Error: {mse:.4f}\")"
   ]
  },
  {
   "cell_type": "markdown",
   "id": "41504f7b",
   "metadata": {},
   "source": [
    "## 2) Load the diabetes dataset using sklearn.datasets.load_diabetes.\n",
    "### Scale the dataset (you can be creative and make pipelines)\n",
    "### Apply LinearRegression,\n",
    "### Apply Ridge and do grid search\n",
    "### Apply Lasso and do grid search\n",
    "### Visualize the coefficients."
   ]
  },
  {
   "cell_type": "code",
   "execution_count": 3,
   "id": "9bca2b53",
   "metadata": {},
   "outputs": [
    {
     "name": "stdout",
     "output_type": "stream",
     "text": [
      "LinearRegression R^2 score: 0.4526\n",
      "Best Ridge alpha: 21.5443\n",
      "Best Ridge R^2 score: 0.4023\n",
      "Best Lasso alpha: 2.7826\n",
      "Best Lasso R^2 score: 0.4002\n"
     ]
    },
    {
     "data": {
      "image/png": "[encoded data removed]",
      "text/plain": [
       "<Figure size 1200x600 with 2 Axes>"
      ]
     },
     "metadata": {},
     "output_type": "display_data"
    }
   ],
   "source": [
    "import numpy as np\n",
    "import pandas as pd\n",
    "import matplotlib.pyplot as plt\n",
    "from sklearn.datasets import load_diabetes\n",
    "from sklearn.model_selection import train_test_split, GridSearchCV\n",
    "from sklearn.preprocessing import StandardScaler\n",
    "from sklearn.linear_model import LinearRegression, Ridge, Lasso\n",
    "from sklearn.pipeline import Pipeline\n",
    "from sklearn.compose import ColumnTransformer\n",
    "\n",
    "# Load the diabetes dataset\n",
    "diabetes = load_diabetes()\n",
    "X = diabetes.data\n",
    "y = diabetes.target\n",
    "\n",
    "# Split the dataset into training and test sets\n",
    "X_train, X_test, y_train, y_test = train_test_split(X, y, test_size=0.2, random_state=42)\n",
    "\n",
    "# Create a pipeline for scaling and applying LinearRegression\n",
    "pipeline_lr = Pipeline([\n",
    "    ('scaler', StandardScaler()),\n",
    "    ('model', LinearRegression())\n",
    "])\n",
    "\n",
    "# Train the LinearRegression model\n",
    "pipeline_lr.fit(X_train, y_train)\n",
    "\n",
    "# Evaluate the LinearRegression model\n",
    "score_lr = pipeline_lr.score(X_test, y_test)\n",
    "print(f\"LinearRegression R^2 score: {score_lr:.4f}\")\n",
    "\n",
    "# Create a pipeline for scaling and applying Ridge with Grid Search\n",
    "pipeline_ridge = Pipeline([\n",
    "    ('scaler', StandardScaler()),\n",
    "    ('model', Ridge())\n",
    "])\n",
    "\n",
    "# Define the grid of hyperparameters\n",
    "param_grid_ridge = {'model__alpha': np.logspace(-4, 4, 10)}\n",
    "\n",
    "# Perform Grid Search for Ridge\n",
    "grid_search_ridge = GridSearchCV(pipeline_ridge, param_grid_ridge, cv=10, scoring='r2')\n",
    "grid_search_ridge.fit(X_train, y_train)\n",
    "\n",
    "# Print best parameters and score\n",
    "print(f\"Best Ridge alpha: {grid_search_ridge.best_params_['model__alpha']:.4f}\")\n",
    "print(f\"Best Ridge R^2 score: {grid_search_ridge.best_score_:.4f}\")\n",
    "\n",
    "# Get the coefficients for Ridge\n",
    "ridge_best_model = grid_search_ridge.best_estimator_\n",
    "ridge_coefficients = ridge_best_model.named_steps['model'].coef_\n",
    "\n",
    "# Create a pipeline for scaling and applying Lasso with Grid Search\n",
    "pipeline_lasso = Pipeline([\n",
    "    ('scaler', StandardScaler()),\n",
    "    ('model', Lasso())\n",
    "])\n",
    "\n",
    "# Define the grid of hyperparameters\n",
    "param_grid_lasso = {'model__alpha': np.logspace(-4, 4, 10)}\n",
    "\n",
    "# Perform Grid Search for Lasso\n",
    "grid_search_lasso = GridSearchCV(pipeline_lasso, param_grid_lasso, cv=10, scoring='r2')\n",
    "grid_search_lasso.fit(X_train, y_train)\n",
    "\n",
    "# Print best parameters and score\n",
    "print(f\"Best Lasso alpha: {grid_search_lasso.best_params_['model__alpha']:.4f}\")\n",
    "print(f\"Best Lasso R^2 score: {grid_search_lasso.best_score_:.4f}\")\n",
    "\n",
    "# Get the coefficients for Lasso\n",
    "lasso_best_model = grid_search_lasso.best_estimator_\n",
    "lasso_coefficients = lasso_best_model.named_steps['model'].coef_\n",
    "\n",
    "# Plot the coefficients\n",
    "plt.figure(figsize=(12, 6))\n",
    "\n",
    "# Plot Ridge coefficients\n",
    "plt.subplot(1, 2, 1)\n",
    "plt.bar(range(len(ridge_coefficients)), ridge_coefficients)\n",
    "plt.title('Ridge Coefficients')\n",
    "plt.xlabel('Feature Index')\n",
    "plt.ylabel('Coefficient Value')\n",
    "\n",
    "# Plot Lasso coefficients\n",
    "plt.subplot(1, 2, 2)\n",
    "plt.bar(range(len(lasso_coefficients)), lasso_coefficients)\n",
    "plt.title('Lasso Coefficients')\n",
    "plt.xlabel('Feature Index')\n",
    "plt.ylabel('Coefficient Value')\n",
    "\n",
    "plt.tight_layout()\n",
    "plt.show()\n"
   ]
  },
  {
   "cell_type": "code",
   "execution_count": 5,
   "id": "b9ee5244",
   "metadata": {},
   "outputs": [],
   "source": [
    "# ridge keeps all and minimizes correlation and lasso will use 0 alpha to feature select correlated columns"
   ]
  },
  {
   "cell_type": "code",
   "execution_count": null,
   "id": "c15a8197",
   "metadata": {},
   "outputs": [],
   "source": []
  }
 ],
 "metadata": {
  "kernelspec": {
   "display_name": "Python 3 (ipykernel)",
   "language": "python",
   "name": "python3"
  },
  "language_info": {
   "codemirror_mode": {
    "name": "ipython",
    "version": 3
   },
   "file_extension": ".py",
   "mimetype": "text/x-python",
   "name": "python",
   "nbconvert_exporter": "python",
   "pygments_lexer": "ipython3",
   "version": "3.12.3"
  }
 },
 "nbformat": 4,
 "nbformat_minor": 5
}
