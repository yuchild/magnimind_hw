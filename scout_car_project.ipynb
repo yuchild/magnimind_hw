{
 "cells": [
  {
   "cell_type": "code",
   "execution_count": 1,
   "id": "7d3a83bb",
   "metadata": {},
   "outputs": [],
   "source": [
    "import pandas as pd\n",
    "import numpy as np\n",
    "from src import scout_car_clean as scc\n",
    "\n",
    "%load_ext autoreload\n",
    "%autoreload 2"
   ]
  },
  {
   "cell_type": "code",
   "execution_count": 2,
   "id": "8fc097be",
   "metadata": {},
   "outputs": [
    {
     "name": "stdout",
     "output_type": "stream",
     "text": [
      "/media/oem/onetbsamdot/ezt/github/magnimind_hw\n"
     ]
    }
   ],
   "source": [
    "import os\n",
    "print(os.getcwd())"
   ]
  },
  {
   "cell_type": "code",
   "execution_count": 3,
   "id": "5cbf6e41",
   "metadata": {},
   "outputs": [],
   "source": [
    "df_org = pd.read_json('./data/scout_car.json', lines=True)\n",
    "df = df_org.copy()"
   ]
  },
  {
   "cell_type": "code",
   "execution_count": 4,
   "id": "fc59259e",
   "metadata": {},
   "outputs": [
    {
     "data": {
      "text/plain": [
       "'\\n**Columns**\\n* url: url of autos\\n* short_description, description: Description of autos (in English and German) written by users\\n* make_model, make, model: Model of autos. Ex:Audi A1\\n* body_type, body: Body type of autos Example: van, sedans\\n* vat: VAT deductible, price negotiable\\n* registration, first_registration: First registration date and year of autos.\\n* prev_owner, previous_owners: Number of previous owners\\n* type: new or used\\n* next_inspection, inspection_new: information about inspection (inspection date,..)\\n* body_color, body_color_original: Color of auto Ex: Black, red\\n* paint_type: Paint type of auto Ex: Metallic, Uni/basic\\n* upholstery: Upholstery information (texture, color)\\n* gearing_type: Type of gear Ex: automatic, manual\\n* fuel : fuel type Ex: diesel, benzine\\n* co2_emission, emission_class, emission_label: emission information\\n* drive_chain: drive chain Ex: front,rear, 4WD\\n* consumption: consumption of auto in city, country and combination (lt/100 km)\\n* country_version\\n* entertainment_media\\n* safety_security\\n* comfort_convenience\\n* extras\\n* price: Price of cars\\n* km: km of autos\\n* hp: horsepower of autos (kW)\\n* displacement: displacement of autos (cc)\\n* warranty: warranty period (month)\\n* weight: weight of auto (kg)\\n* nr_of_doors: number of doors\\n* nr_of_seats : number of seats\\n* cylinders: number of cylinders\\n* gears: number of gears\\n\\n'"
      ]
     },
     "execution_count": 4,
     "metadata": {},
     "output_type": "execute_result"
    }
   ],
   "source": [
    "\"\"\"\n",
    "**Columns**\n",
    "* url: url of autos\n",
    "* short_description, description: Description of autos (in English and German) written by users\n",
    "* make_model, make, model: Model of autos. Ex:Audi A1\n",
    "* body_type, body: Body type of autos Example: van, sedans\n",
    "* vat: VAT deductible, price negotiable\n",
    "* registration, first_registration: First registration date and year of autos.\n",
    "* prev_owner, previous_owners: Number of previous owners\n",
    "* type: new or used\n",
    "* next_inspection, inspection_new: information about inspection (inspection date,..)\n",
    "* body_color, body_color_original: Color of auto Ex: Black, red\n",
    "* paint_type: Paint type of auto Ex: Metallic, Uni/basic\n",
    "* upholstery: Upholstery information (texture, color)\n",
    "* gearing_type: Type of gear Ex: automatic, manual\n",
    "* fuel : fuel type Ex: diesel, benzine\n",
    "* co2_emission, emission_class, emission_label: emission information\n",
    "* drive_chain: drive chain Ex: front,rear, 4WD\n",
    "* consumption: consumption of auto in city, country and combination (lt/100 km)\n",
    "* country_version\n",
    "* entertainment_media\n",
    "* safety_security\n",
    "* comfort_convenience\n",
    "* extras\n",
    "* price: Price of cars\n",
    "* km: km of autos\n",
    "* hp: horsepower of autos (kW)\n",
    "* displacement: displacement of autos (cc)\n",
    "* warranty: warranty period (month)\n",
    "* weight: weight of auto (kg)\n",
    "* nr_of_doors: number of doors\n",
    "* nr_of_seats : number of seats\n",
    "* cylinders: number of cylinders\n",
    "* gears: number of gears\n",
    "\n",
    "\"\"\""
   ]
  },
  {
   "cell_type": "code",
   "execution_count": 5,
   "id": "2d644e36",
   "metadata": {},
   "outputs": [
    {
     "data": {
      "text/plain": [
       "Index(['url', 'make_model', 'short_description', 'body_type', 'price', 'vat',\n",
       "       'km', 'registration', 'prev_owner', 'kw', 'hp', 'type',\n",
       "       'previous_owners', 'next_inspection', 'inspection_new', 'warranty',\n",
       "       'full_service', 'nonsmoking_vehicle', 'null', 'make', 'model',\n",
       "       'offer_number', 'first_registration', 'body_color', 'paint_type',\n",
       "       'body_color_original', 'upholstery', 'body', 'nr_of_doors',\n",
       "       'nr_of_seats', 'model_code', 'gearing_type', 'displacement',\n",
       "       'cylinders', 'weight', 'drive_chain', 'fuel', 'consumption',\n",
       "       'co2_emission', 'emission_class', 'comfort_convenience',\n",
       "       'entertainment_media', 'extras', 'safety_security', 'description',\n",
       "       'emission_label', 'gears', 'country_version', 'electricity_consumption',\n",
       "       'last_service_date', 'other_fuel_types', 'availability',\n",
       "       'last_timing_belt_service_date', 'available_from'],\n",
       "      dtype='object')"
      ]
     },
     "execution_count": 5,
     "metadata": {},
     "output_type": "execute_result"
    }
   ],
   "source": [
    "# Replace special characters and spaces in column names\n",
    "df.columns = (\n",
    "    df.columns\n",
    "    .str.strip()\n",
    "    .str.lower()\n",
    "    .str.replace(r'[\\s\\n]+', '_', regex=True)\n",
    "    .str.replace(r'[^a-z0-9_]', '', regex=True)\n",
    "    .str.replace(r'_+', '_', regex=True)\n",
    ")\n",
    "\n",
    "df.columns"
   ]
  },
  {
   "cell_type": "code",
   "execution_count": 6,
   "id": "f2694fc5",
   "metadata": {},
   "outputs": [
    {
     "data": {
      "text/plain": [
       "Index(['url', 'make_model', 'short_description', 'body_type', 'price', 'vat',\n",
       "       'km', 'registration', 'prev_owner', 'kw', 'hp', 'type',\n",
       "       'previous_owners', 'next_inspection', 'inspection_new', 'warranty',\n",
       "       'full_service', 'nonsmoking_vehicle', 'null', 'make', 'model',\n",
       "       'offer_number', 'first_registration', 'body_color', 'paint_type',\n",
       "       'body_color_original', 'upholstery', 'body', 'nr_of_doors',\n",
       "       'nr_of_seats', 'model_code', 'gearing_type', 'displacement',\n",
       "       'cylinders', 'weight', 'drive_chain', 'fuel', 'consumption',\n",
       "       'co2_emission', 'emission_class', 'description', 'emission_label',\n",
       "       'gears', 'country_version', 'electricity_consumption',\n",
       "       'last_service_date', 'other_fuel_types', 'availability',\n",
       "       'last_timing_belt_service_date', 'available_from'],\n",
       "      dtype='object')"
      ]
     },
     "execution_count": 6,
     "metadata": {},
     "output_type": "execute_result"
    }
   ],
   "source": [
    "df_to_clean = df.drop(['entertainment_media', 'safety_security', 'comfort_convenience', 'extras'],axis=1).copy()\n",
    "df_to_clean.columns"
   ]
  },
  {
   "cell_type": "code",
   "execution_count": 7,
   "id": "ed433f61",
   "metadata": {},
   "outputs": [
    {
     "data": {
      "text/plain": [
       "(15919, 50)"
      ]
     },
     "execution_count": 7,
     "metadata": {},
     "output_type": "execute_result"
    }
   ],
   "source": [
    "df_to_clean.shape"
   ]
  },
  {
   "cell_type": "code",
   "execution_count": 8,
   "id": "681bd5ca",
   "metadata": {},
   "outputs": [
    {
     "data": {
      "text/plain": [
       "15919"
      ]
     },
     "execution_count": 8,
     "metadata": {},
     "output_type": "execute_result"
    }
   ],
   "source": [
    "len(np.unique(df_to_clean['url']))"
   ]
  },
  {
   "cell_type": "code",
   "execution_count": 10,
   "id": "7f1beb7b",
   "metadata": {},
   "outputs": [
    {
     "name": "stdout",
     "output_type": "stream",
     "text": [
      "<class 'pandas.core.frame.DataFrame'>\n",
      "RangeIndex: 15919 entries, 0 to 15918\n",
      "Data columns (total 50 columns):\n",
      " #   Column                         Non-Null Count  Dtype  \n",
      "---  ------                         --------------  -----  \n",
      " 0   url                            15919 non-null  object \n",
      " 1   make_model                     15919 non-null  object \n",
      " 2   short_description              15873 non-null  object \n",
      " 3   body_type                      15859 non-null  object \n",
      " 4   price                          15919 non-null  int64  \n",
      " 5   vat                            11406 non-null  object \n",
      " 6   km                             15919 non-null  object \n",
      " 7   registration                   15919 non-null  object \n",
      " 8   prev_owner                     9091 non-null   object \n",
      " 9   kw                             0 non-null      float64\n",
      " 10  hp                             15919 non-null  object \n",
      " 11  type                           15917 non-null  object \n",
      " 12  previous_owners                9279 non-null   object \n",
      " 13  next_inspection                3535 non-null   object \n",
      " 14  inspection_new                 3932 non-null   object \n",
      " 15  warranty                       10499 non-null  object \n",
      " 16  full_service                   8215 non-null   object \n",
      " 17  nonsmoking_vehicle             7177 non-null   object \n",
      " 18  null                           15919 non-null  object \n",
      " 19  make                           15919 non-null  object \n",
      " 20  model                          15919 non-null  object \n",
      " 21  offer_number                   12744 non-null  object \n",
      " 22  first_registration             14322 non-null  object \n",
      " 23  body_color                     15322 non-null  object \n",
      " 24  paint_type                     10147 non-null  object \n",
      " 25  body_color_original            12160 non-null  object \n",
      " 26  upholstery                     12199 non-null  object \n",
      " 27  body                           15859 non-null  object \n",
      " 28  nr_of_doors                    15707 non-null  object \n",
      " 29  nr_of_seats                    14942 non-null  object \n",
      " 30  model_code                     4978 non-null   object \n",
      " 31  gearing_type                   15919 non-null  object \n",
      " 32  displacement                   15423 non-null  object \n",
      " 33  cylinders                      10239 non-null  object \n",
      " 34  weight                         8945 non-null   object \n",
      " 35  drive_chain                    9061 non-null   object \n",
      " 36  fuel                           15919 non-null  object \n",
      " 37  consumption                    14013 non-null  object \n",
      " 38  co2_emission                   14111 non-null  object \n",
      " 39  emission_class                 12898 non-null  object \n",
      " 40  description                    15919 non-null  object \n",
      " 41  emission_label                 3985 non-null   object \n",
      " 42  gears                          11207 non-null  object \n",
      " 43  country_version                7586 non-null   object \n",
      " 44  electricity_consumption        137 non-null    object \n",
      " 45  last_service_date              566 non-null    object \n",
      " 46  other_fuel_types               880 non-null    object \n",
      " 47  availability                   635 non-null    object \n",
      " 48  last_timing_belt_service_date  16 non-null     object \n",
      " 49  available_from                 272 non-null    object \n",
      "dtypes: float64(1), int64(1), object(48)\n",
      "memory usage: 6.1+ MB\n"
     ]
    }
   ],
   "source": [
    "df_to_clean.info()"
   ]
  },
  {
   "cell_type": "code",
   "execution_count": 11,
   "id": "3bf374fe-6c85-4b0e-9643-2498f166e02c",
   "metadata": {},
   "outputs": [
    {
     "data": {
      "text/plain": [
       "url\n",
       "https://www.autoscout24.com//offers/audi-a1-sportback-1-4-tdi-s-tronic-xenon-navi-klima-diesel-black-bdab349a-caa5-41b0-98eb-c1345b84445e                  1\n",
       "https://www.autoscout24.com//offers/opel-insignia-bus-inno-2-0-cdti-aut-navi-bi-xe-led-e6-diesel-black-8710b253-dd98-4ed0-9d46-cbad2d79532b                1\n",
       "https://www.autoscout24.com//offers/opel-insignia-sport-tourer-opel-sport-tourer-1-6-cdti-136-ch-a-c-diesel-silver-10b7463b-9f56-4348-af35-df3432b2b585    1\n",
       "https://www.autoscout24.com//offers/opel-insignia-2-0cdti-st-business-innovation-navi-bt-diesel-black-ba5a3368-dedc-4e51-9127-3976b26e93c2                 1\n",
       "https://www.autoscout24.com//offers/opel-insignia-sport-tourer-opel-sport-tourer-1-6-cdti-136-ch-a-c-diesel-silver-7b52f054-78d3-4d5e-9370-8a7d081d7edd    1\n",
       "                                                                                                                                                          ..\n",
       "https://www.autoscout24.com//offers/audi-a3-sb-30-1-6-tdi-business-116cv-s-tronic-diesel-black-cf50f7b1-4d7b-466f-93a2-4e11ec0b4107                        1\n",
       "https://www.autoscout24.com//offers/audi-a3-sb-30-1-6-tdi-business-116cv-s-tronic-diesel-grey-3f47eb34-15c4-4763-860d-78fcbbd2c9ff                         1\n",
       "https://www.autoscout24.com//offers/audi-a3-sb-30-1-6-tdi-business-116cv-s-tronic-diesel-silver-f7a4bc95-b2ef-4bac-9497-6bcbcd05db0b                       1\n",
       "https://www.autoscout24.com//offers/audi-a3-sb-30-1-6-tdi-business-116cv-s-tronic-diesel-silver-1c94c7a2-67b5-49ca-ae42-42a6800fb3f5                       1\n",
       "https://www.autoscout24.com//offers/renault-espace-initiale-paris-tce-225-edc-gpf-navi-shz-aux-gasoline-grey-0bd690d9-7e93-4cab-bc5a-9d5b63402481          1\n",
       "Name: count, Length: 15919, dtype: int64"
      ]
     },
     "execution_count": 11,
     "metadata": {},
     "output_type": "execute_result"
    }
   ],
   "source": [
    "# url\n",
    "df_to_clean['url'].value_counts(dropna=False)"
   ]
  },
  {
   "cell_type": "code",
   "execution_count": 17,
   "id": "483e3b9b-e981-4431-be4e-b597816a77c6",
   "metadata": {},
   "outputs": [
    {
     "data": {
      "text/plain": [
       "15919"
      ]
     },
     "execution_count": 17,
     "metadata": {},
     "output_type": "execute_result"
    }
   ],
   "source": [
    "len(np.unique(df_to_clean['url']))"
   ]
  },
  {
   "cell_type": "code",
   "execution_count": 18,
   "id": "eba1a563-52ca-4b7c-b29a-b8e5945218d4",
   "metadata": {},
   "outputs": [
    {
     "data": {
      "text/plain": [
       "9"
      ]
     },
     "execution_count": 18,
     "metadata": {},
     "output_type": "execute_result"
    }
   ],
   "source": [
    "# make_model\n",
    "len(np.unique(df_to_clean['make_model']))"
   ]
  },
  {
   "cell_type": "code",
   "execution_count": 20,
   "id": "67857fb3-c3ef-4df5-b3f7-46a2e99ad157",
   "metadata": {},
   "outputs": [
    {
     "data": {
      "text/plain": [
       "(array(['Audi A1', 'Audi A2', 'Audi A3', 'Opel Astra', 'Opel Corsa',\n",
       "        'Opel Insignia', 'Renault Clio', 'Renault Duster',\n",
       "        'Renault Espace'], dtype=object),\n",
       " array([2614,    1, 3097, 2526, 2219, 2598, 1839,   34,  991]))"
      ]
     },
     "execution_count": 20,
     "metadata": {},
     "output_type": "execute_result"
    }
   ],
   "source": [
    "np.unique(df_to_clean['make_model'], return_counts=True,equal_nan=True)"
   ]
  },
  {
   "cell_type": "code",
   "execution_count": null,
   "id": "ea62cb1f-d004-4a7a-9240-6afc9866711a",
   "metadata": {},
   "outputs": [],
   "source": []
  }
 ],
 "metadata": {
  "kernelspec": {
   "display_name": "Python 3 (ipykernel)",
   "language": "python",
   "name": "python3"
  },
  "language_info": {
   "codemirror_mode": {
    "name": "ipython",
    "version": 3
   },
   "file_extension": ".py",
   "mimetype": "text/x-python",
   "name": "python",
   "nbconvert_exporter": "python",
   "pygments_lexer": "ipython3",
   "version": "3.8.10"
  }
 },
 "nbformat": 4,
 "nbformat_minor": 5
}
