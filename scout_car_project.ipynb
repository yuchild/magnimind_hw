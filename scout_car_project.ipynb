{
 "cells": [
  {
   "cell_type": "code",
   "execution_count": 1,
   "id": "7d3a83bb",
   "metadata": {},
   "outputs": [],
   "source": [
    "import pandas as pd\n",
    "import numpy as np\n",
    "from src import scout_car_clean as scc\n",
    "\n",
    "%load_ext autoreload\n",
    "%autoreload 2"
   ]
  },
  {
   "cell_type": "code",
   "execution_count": 2,
   "id": "8fc097be",
   "metadata": {},
   "outputs": [
    {
     "name": "stdout",
     "output_type": "stream",
     "text": [
      "/media/oem/onetbsamdot/ezt/github/magnimind_hw\n"
     ]
    }
   ],
   "source": [
    "import os\n",
    "print(os.getcwd())"
   ]
  },
  {
   "cell_type": "code",
   "execution_count": 3,
   "id": "5cbf6e41",
   "metadata": {},
   "outputs": [],
   "source": [
    "df_org = pd.read_json('./data/scout_car.json', lines=True)\n",
    "df = df_org.copy()"
   ]
  },
  {
   "cell_type": "code",
   "execution_count": 4,
   "id": "fc59259e",
   "metadata": {},
   "outputs": [
    {
     "data": {
      "text/plain": [
       "'\\n**Columns**\\n* url: url of autos\\n* short_description, description: Description of autos (in English and German) written by users\\n* make_model, make, model: Model of autos. Ex:Audi A1\\n* body_type, body: Body type of autos Example: van, sedans\\n* vat: VAT deductible, price negotiable\\n* registration, first_registration: First registration date and year of autos.\\n* prev_owner, previous_owners: Number of previous owners\\n* type: new or used\\n* next_inspection, inspection_new: information about inspection (inspection date,..)\\n* body_color, body_color_original: Color of auto Ex: Black, red\\n* paint_type: Paint type of auto Ex: Metallic, Uni/basic\\n* upholstery: Upholstery information (texture, color)\\n* gearing_type: Type of gear Ex: automatic, manual\\n* fuel : fuel type Ex: diesel, benzine\\n* co2_emission, emission_class, emission_label: emission information\\n* drive_chain: drive chain Ex: front,rear, 4WD\\n* consumption: consumption of auto in city, country and combination (lt/100 km)\\n* country_version\\n* entertainment_media\\n* safety_security\\n* comfort_convenience\\n* extras\\n* price: Price of cars\\n* km: km of autos\\n* hp: horsepower of autos (kW)\\n* displacement: displacement of autos (cc)\\n* warranty: warranty period (month)\\n* weight: weight of auto (kg)\\n* nr_of_doors: number of doors\\n* nr_of_seats : number of seats\\n* cylinders: number of cylinders\\n* gears: number of gears\\n\\n'"
      ]
     },
     "execution_count": 4,
     "metadata": {},
     "output_type": "execute_result"
    }
   ],
   "source": [
    "\"\"\"\n",
    "**Columns**\n",
    "* url: url of autos\n",
    "* short_description, description: Description of autos (in English and German) written by users\n",
    "* make_model, make, model: Model of autos. Ex:Audi A1\n",
    "* body_type, body: Body type of autos Example: van, sedans\n",
    "* vat: VAT deductible, price negotiable\n",
    "* registration, first_registration: First registration date and year of autos.\n",
    "* prev_owner, previous_owners: Number of previous owners\n",
    "* type: new or used\n",
    "* next_inspection, inspection_new: information about inspection (inspection date,..)\n",
    "* body_color, body_color_original: Color of auto Ex: Black, red\n",
    "* paint_type: Paint type of auto Ex: Metallic, Uni/basic\n",
    "* upholstery: Upholstery information (texture, color)\n",
    "* gearing_type: Type of gear Ex: automatic, manual\n",
    "* fuel : fuel type Ex: diesel, benzine\n",
    "* co2_emission, emission_class, emission_label: emission information\n",
    "* drive_chain: drive chain Ex: front,rear, 4WD\n",
    "* consumption: consumption of auto in city, country and combination (lt/100 km)\n",
    "* country_version\n",
    "* entertainment_media\n",
    "* safety_security\n",
    "* comfort_convenience\n",
    "* extras\n",
    "* price: Price of cars\n",
    "* km: km of autos\n",
    "* hp: horsepower of autos (kW)\n",
    "* displacement: displacement of autos (cc)\n",
    "* warranty: warranty period (month)\n",
    "* weight: weight of auto (kg)\n",
    "* nr_of_doors: number of doors\n",
    "* nr_of_seats : number of seats\n",
    "* cylinders: number of cylinders\n",
    "* gears: number of gears\n",
    "\n",
    "\"\"\""
   ]
  },
  {
   "cell_type": "code",
   "execution_count": 5,
   "id": "2d644e36",
   "metadata": {},
   "outputs": [
    {
     "data": {
      "text/plain": [
       "Index(['url', 'make_model', 'short_description', 'body_type', 'price', 'vat',\n",
       "       'km', 'registration', 'prev_owner', 'kw', 'hp', 'type',\n",
       "       'previous_owners', 'next_inspection', 'inspection_new', 'warranty',\n",
       "       'full_service', 'nonsmoking_vehicle', 'null', 'make', 'model',\n",
       "       'offer_number', 'first_registration', 'body_color', 'paint_type',\n",
       "       'body_color_original', 'upholstery', 'body', 'nr_of_doors',\n",
       "       'nr_of_seats', 'model_code', 'gearing_type', 'displacement',\n",
       "       'cylinders', 'weight', 'drive_chain', 'fuel', 'consumption',\n",
       "       'co2_emission', 'emission_class', 'comfort_convenience',\n",
       "       'entertainment_media', 'extras', 'safety_security', 'description',\n",
       "       'emission_label', 'gears', 'country_version', 'electricity_consumption',\n",
       "       'last_service_date', 'other_fuel_types', 'availability',\n",
       "       'last_timing_belt_service_date', 'available_from'],\n",
       "      dtype='object')"
      ]
     },
     "execution_count": 5,
     "metadata": {},
     "output_type": "execute_result"
    }
   ],
   "source": [
    "# Replace special characters and spaces in column names\n",
    "df.columns = (\n",
    "    df.columns\n",
    "    .str.strip()\n",
    "    .str.lower()\n",
    "    .str.replace(r'[\\s\\n]+', '_', regex=True)\n",
    "    .str.replace(r'[^a-z0-9_]', '', regex=True)\n",
    "    .str.replace(r'_+', '_', regex=True)\n",
    ")\n",
    "\n",
    "df.columns"
   ]
  },
  {
   "cell_type": "code",
   "execution_count": 6,
   "id": "f2694fc5",
   "metadata": {},
   "outputs": [
    {
     "data": {
      "text/plain": [
       "Index(['url', 'make_model', 'short_description', 'body_type', 'price', 'vat',\n",
       "       'km', 'registration', 'prev_owner', 'kw', 'hp', 'type',\n",
       "       'previous_owners', 'next_inspection', 'inspection_new', 'warranty',\n",
       "       'full_service', 'nonsmoking_vehicle', 'null', 'make', 'model',\n",
       "       'offer_number', 'first_registration', 'body_color', 'paint_type',\n",
       "       'body_color_original', 'upholstery', 'body', 'nr_of_doors',\n",
       "       'nr_of_seats', 'model_code', 'gearing_type', 'displacement',\n",
       "       'cylinders', 'weight', 'drive_chain', 'fuel', 'consumption',\n",
       "       'co2_emission', 'emission_class', 'description', 'emission_label',\n",
       "       'gears', 'country_version', 'electricity_consumption',\n",
       "       'last_service_date', 'other_fuel_types', 'availability',\n",
       "       'last_timing_belt_service_date', 'available_from'],\n",
       "      dtype='object')"
      ]
     },
     "execution_count": 6,
     "metadata": {},
     "output_type": "execute_result"
    }
   ],
   "source": [
    "df.drop(['entertainment_media', 'safety_security', 'comfort_convenience', 'extras'],axis=1,inplace=True)\n",
    "df.columns"
   ]
  },
  {
   "cell_type": "code",
   "execution_count": 7,
   "id": "681bd5ca",
   "metadata": {},
   "outputs": [
    {
     "data": {
      "text/plain": [
       "15919"
      ]
     },
     "execution_count": 7,
     "metadata": {},
     "output_type": "execute_result"
    }
   ],
   "source": [
    "len(np.unique(df['url']))"
   ]
  },
  {
   "cell_type": "code",
   "execution_count": 8,
   "id": "7f1beb7b",
   "metadata": {},
   "outputs": [
    {
     "name": "stdout",
     "output_type": "stream",
     "text": [
      "<class 'pandas.core.frame.DataFrame'>\n",
      "RangeIndex: 15919 entries, 0 to 15918\n",
      "Data columns (total 50 columns):\n",
      " #   Column                         Non-Null Count  Dtype  \n",
      "---  ------                         --------------  -----  \n",
      " 0   url                            15919 non-null  object \n",
      " 1   make_model                     15919 non-null  object \n",
      " 2   short_description              15873 non-null  object \n",
      " 3   body_type                      15859 non-null  object \n",
      " 4   price                          15919 non-null  int64  \n",
      " 5   vat                            11406 non-null  object \n",
      " 6   km                             15919 non-null  object \n",
      " 7   registration                   15919 non-null  object \n",
      " 8   prev_owner                     9091 non-null   object \n",
      " 9   kw                             0 non-null      float64\n",
      " 10  hp                             15919 non-null  object \n",
      " 11  type                           15917 non-null  object \n",
      " 12  previous_owners                9279 non-null   object \n",
      " 13  next_inspection                3535 non-null   object \n",
      " 14  inspection_new                 3932 non-null   object \n",
      " 15  warranty                       10499 non-null  object \n",
      " 16  full_service                   8215 non-null   object \n",
      " 17  nonsmoking_vehicle             7177 non-null   object \n",
      " 18  null                           15919 non-null  object \n",
      " 19  make                           15919 non-null  object \n",
      " 20  model                          15919 non-null  object \n",
      " 21  offer_number                   12744 non-null  object \n",
      " 22  first_registration             14322 non-null  object \n",
      " 23  body_color                     15322 non-null  object \n",
      " 24  paint_type                     10147 non-null  object \n",
      " 25  body_color_original            12160 non-null  object \n",
      " 26  upholstery                     12199 non-null  object \n",
      " 27  body                           15859 non-null  object \n",
      " 28  nr_of_doors                    15707 non-null  object \n",
      " 29  nr_of_seats                    14942 non-null  object \n",
      " 30  model_code                     4978 non-null   object \n",
      " 31  gearing_type                   15919 non-null  object \n",
      " 32  displacement                   15423 non-null  object \n",
      " 33  cylinders                      10239 non-null  object \n",
      " 34  weight                         8945 non-null   object \n",
      " 35  drive_chain                    9061 non-null   object \n",
      " 36  fuel                           15919 non-null  object \n",
      " 37  consumption                    14013 non-null  object \n",
      " 38  co2_emission                   14111 non-null  object \n",
      " 39  emission_class                 12898 non-null  object \n",
      " 40  description                    15919 non-null  object \n",
      " 41  emission_label                 3985 non-null   object \n",
      " 42  gears                          11207 non-null  object \n",
      " 43  country_version                7586 non-null   object \n",
      " 44  electricity_consumption        137 non-null    object \n",
      " 45  last_service_date              566 non-null    object \n",
      " 46  other_fuel_types               880 non-null    object \n",
      " 47  availability                   635 non-null    object \n",
      " 48  last_timing_belt_service_date  16 non-null     object \n",
      " 49  available_from                 272 non-null    object \n",
      "dtypes: float64(1), int64(1), object(48)\n",
      "memory usage: 6.1+ MB\n"
     ]
    }
   ],
   "source": [
    "df.info()"
   ]
  },
  {
   "cell_type": "code",
   "execution_count": 9,
   "id": "ed433f61",
   "metadata": {},
   "outputs": [
    {
     "data": {
      "text/plain": [
       "(15919, 50)"
      ]
     },
     "execution_count": 9,
     "metadata": {},
     "output_type": "execute_result"
    }
   ],
   "source": [
    "df.shape"
   ]
  },
  {
   "cell_type": "code",
   "execution_count": 10,
   "id": "483e3b9b-e981-4431-be4e-b597816a77c6",
   "metadata": {},
   "outputs": [
    {
     "data": {
      "text/plain": [
       "15919"
      ]
     },
     "execution_count": 10,
     "metadata": {},
     "output_type": "execute_result"
    }
   ],
   "source": [
    "# url unique count\n",
    "len(np.unique(df['url']))"
   ]
  },
  {
   "cell_type": "code",
   "execution_count": 11,
   "id": "eba1a563-52ca-4b7c-b29a-b8e5945218d4",
   "metadata": {},
   "outputs": [
    {
     "data": {
      "text/plain": [
       "9"
      ]
     },
     "execution_count": 11,
     "metadata": {},
     "output_type": "execute_result"
    }
   ],
   "source": [
    "# make_model unique count\n",
    "len(np.unique(df['make_model']))"
   ]
  },
  {
   "cell_type": "code",
   "execution_count": 12,
   "id": "67857fb3-c3ef-4df5-b3f7-46a2e99ad157",
   "metadata": {},
   "outputs": [
    {
     "data": {
      "text/plain": [
       "(array(['Audi A1', 'Audi A2', 'Audi A3', 'Opel Astra', 'Opel Corsa',\n",
       "        'Opel Insignia', 'Renault Clio', 'Renault Duster',\n",
       "        'Renault Espace'], dtype=object),\n",
       " array([2614,    1, 3097, 2526, 2219, 2598, 1839,   34,  991]))"
      ]
     },
     "execution_count": 12,
     "metadata": {},
     "output_type": "execute_result"
    }
   ],
   "source": [
    "np.unique(df['make_model'], return_counts=True,equal_nan=True)"
   ]
  },
  {
   "cell_type": "code",
   "execution_count": 13,
   "id": "ea62cb1f-d004-4a7a-9240-6afc9866711a",
   "metadata": {},
   "outputs": [
    {
     "data": {
      "text/plain": [
       "(array(['audi_a1', 'audi_a2', 'audi_a3', 'opel_astra', 'opel_corsa',\n",
       "        'opel_insignia', 'renault_clio', 'renault_duster',\n",
       "        'renault_espace'], dtype=object),\n",
       " array([2614,    1, 3097, 2526, 2219, 2598, 1839,   34,  991]))"
      ]
     },
     "execution_count": 13,
     "metadata": {},
     "output_type": "execute_result"
    }
   ],
   "source": [
    "df['make_model'] = df['make_model'].str.lower().str.replace(' ', '_')\n",
    "np.unique(df['make_model'], return_counts=True,equal_nan=True)"
   ]
  },
  {
   "cell_type": "code",
   "execution_count": 14,
   "id": "69439f9e-86f2-4dca-9443-da3cdaf8b985",
   "metadata": {},
   "outputs": [
    {
     "data": {
      "text/plain": [
       "(array([' 1,6 CDTI**NAVI*Klimaaut*Tempomat*EURO6*TÜV NEU',\n",
       "        ' 1.4 75 cv5 porte b-color', ' 1.4 TFSI Attraction (125 CV)', ...,\n",
       "        'van 1.5 dci 75cv S&S E6', 'zoé life', 'Österr. Edition 16.CDTI'],\n",
       "       dtype=object),\n",
       " array([ 1,  1,  6, ..., 24,  1,  1]))"
      ]
     },
     "execution_count": 14,
     "metadata": {},
     "output_type": "execute_result"
    }
   ],
   "source": [
    "# short description unique count\n",
    "df['short_description'].fillna('none', inplace=True)\n",
    "np.unique(df['short_description'], return_counts=True,equal_nan=True)"
   ]
  },
  {
   "cell_type": "code",
   "execution_count": 15,
   "id": "a4b40ea0-2cc0-4abf-8f9d-e35e8b0ba91d",
   "metadata": {},
   "outputs": [
    {
     "data": {
      "text/plain": [
       "0"
      ]
     },
     "execution_count": 15,
     "metadata": {},
     "output_type": "execute_result"
    }
   ],
   "source": [
    "df['short_description'].isnull().sum()"
   ]
  },
  {
   "cell_type": "code",
   "execution_count": 16,
   "id": "c91ea193-2253-494c-af6c-8a902759a693",
   "metadata": {},
   "outputs": [
    {
     "data": {
      "text/plain": [
       "0"
      ]
     },
     "execution_count": 16,
     "metadata": {},
     "output_type": "execute_result"
    }
   ],
   "source": [
    "df['short_description'].fillna('none', inplace=True)\n",
    "df['short_description'].isnull().sum()"
   ]
  },
  {
   "cell_type": "code",
   "execution_count": 17,
   "id": "209c6075-9369-4ad8-90e3-cd7d05148a34",
   "metadata": {
    "scrolled": true
   },
   "outputs": [
    {
     "data": {
      "text/plain": [
       "(array(['compact', 'convertible', 'coupe', 'none', 'off_road', 'other',\n",
       "        'sedans', 'station_wagon', 'transporter', 'van'], dtype=object),\n",
       " array([3153,    8,   25,   60,   56,  290, 7903, 3553,   88,  783]))"
      ]
     },
     "execution_count": 17,
     "metadata": {},
     "output_type": "execute_result"
    }
   ],
   "source": [
    "# body type\n",
    "df['body_type'].fillna('none', inplace=True)\n",
    "df['body_type'] = df['body_type'].str.lower().str.replace('-', '_').str.replace(' ', '_')\n",
    "np.unique(df['body_type'], return_counts=True,equal_nan=True)"
   ]
  },
  {
   "cell_type": "code",
   "execution_count": 18,
   "id": "b0e667c9-e7a7-4208-a127-bb7aa93da0a9",
   "metadata": {},
   "outputs": [
    {
     "data": {
      "text/plain": [
       "0"
      ]
     },
     "execution_count": 18,
     "metadata": {},
     "output_type": "execute_result"
    }
   ],
   "source": [
    "# price null check\n",
    "df['price'].isnull().sum()"
   ]
  },
  {
   "cell_type": "code",
   "execution_count": 19,
   "id": "c0bd5c9d-156f-44c1-a7fc-7a3b6f0d5602",
   "metadata": {},
   "outputs": [
    {
     "data": {
      "text/plain": [
       "(array(['none', 'price_negotiable', 'vat_deductible'], dtype=object),\n",
       " array([ 4513,   426, 10980]))"
      ]
     },
     "execution_count": 19,
     "metadata": {},
     "output_type": "execute_result"
    }
   ],
   "source": [
    "# vat\n",
    "df['vat'].fillna('none', inplace=True)\n",
    "df['vat'] = df['vat'].str.lower().str.replace(' ', '_')\n",
    "np.unique(df['vat'], return_counts=True,equal_nan=True)"
   ]
  },
  {
   "cell_type": "code",
   "execution_count": 20,
   "id": "cd66dabf-d1b1-4916-8f63-c0874e284baa",
   "metadata": {},
   "outputs": [
    {
     "data": {
      "text/plain": [
       "0"
      ]
     },
     "execution_count": 20,
     "metadata": {},
     "output_type": "execute_result"
    }
   ],
   "source": [
    "df['vat'].isnull().sum()"
   ]
  },
  {
   "cell_type": "code",
   "execution_count": 21,
   "id": "4cc0d0fc-a26c-43d2-b2c5-f8ce5376498c",
   "metadata": {},
   "outputs": [
    {
     "data": {
      "text/plain": [
       "0"
      ]
     },
     "execution_count": 21,
     "metadata": {},
     "output_type": "execute_result"
    }
   ],
   "source": [
    "# km null check\n",
    "df['km'].isnull().sum()"
   ]
  },
  {
   "cell_type": "code",
   "execution_count": 22,
   "id": "f284bc80-3e9c-4b0e-8511-7c03d34f9e59",
   "metadata": {},
   "outputs": [
    {
     "data": {
      "text/plain": [
       "0"
      ]
     },
     "execution_count": 22,
     "metadata": {},
     "output_type": "execute_result"
    }
   ],
   "source": [
    "# registration null check:\n",
    "df['registration'].isnull().sum()"
   ]
  },
  {
   "cell_type": "code",
   "execution_count": 23,
   "id": "78f5e7bc-c17d-4060-9612-9dcc2e5e8a8c",
   "metadata": {},
   "outputs": [
    {
     "data": {
      "text/plain": [
       "(array(['-/-', '01/2016', '01/2017', '01/2018', '01/2019', '02/2016',\n",
       "        '02/2017', '02/2018', '02/2019', '03/2016', '03/2017', '03/2018',\n",
       "        '03/2019', '04/2016', '04/2017', '04/2018', '04/2019', '05/2016',\n",
       "        '05/2017', '05/2018', '05/2019', '06/2016', '06/2017', '06/2018',\n",
       "        '06/2019', '07/2016', '07/2017', '07/2018', '07/2019', '08/2016',\n",
       "        '08/2017', '08/2018', '08/2019', '09/2016', '09/2017', '09/2018',\n",
       "        '09/2019', '10/2016', '10/2017', '10/2018', '11/2016', '11/2017',\n",
       "        '11/2018', '11/2019', '12/2016', '12/2017', '12/2018', '12/2019'],\n",
       "       dtype=object),\n",
       " array([1597,  376,  306,  511,  541,  472,  368,  539,  585,  536,  471,\n",
       "         695,  543,  532,  380,  541,  506,  459,  404,  572,  440,  452,\n",
       "         409,  532,  224,  176,  215,  396,    6,   94,  114,  285,    1,\n",
       "         141,  149,  141,    5,  160,  154,   97,  142,  180,  110,    1,\n",
       "         134,  123,  103,    1]))"
      ]
     },
     "execution_count": 23,
     "metadata": {},
     "output_type": "execute_result"
    }
   ],
   "source": [
    "np.unique(df['registration'], return_counts=True,equal_nan=True)"
   ]
  },
  {
   "cell_type": "code",
   "execution_count": 24,
   "id": "3529be72-4abc-4694-a189-08fbc91870cd",
   "metadata": {},
   "outputs": [
    {
     "data": {
      "text/html": [
       "<div>\n",
       "<style scoped>\n",
       "    .dataframe tbody tr th:only-of-type {\n",
       "        vertical-align: middle;\n",
       "    }\n",
       "\n",
       "    .dataframe tbody tr th {\n",
       "        vertical-align: top;\n",
       "    }\n",
       "\n",
       "    .dataframe thead th {\n",
       "        text-align: right;\n",
       "    }\n",
       "</style>\n",
       "<table border=\"1\" class=\"dataframe\">\n",
       "  <thead>\n",
       "    <tr style=\"text-align: right;\">\n",
       "      <th></th>\n",
       "      <th>registration</th>\n",
       "      <th>registration_month</th>\n",
       "      <th>registration_year</th>\n",
       "    </tr>\n",
       "  </thead>\n",
       "  <tbody>\n",
       "    <tr>\n",
       "      <th>14700</th>\n",
       "      <td>-/-</td>\n",
       "      <td>none</td>\n",
       "      <td>none</td>\n",
       "    </tr>\n",
       "    <tr>\n",
       "      <th>1405</th>\n",
       "      <td>03/2017</td>\n",
       "      <td>03</td>\n",
       "      <td>2017</td>\n",
       "    </tr>\n",
       "    <tr>\n",
       "      <th>15005</th>\n",
       "      <td>08/2016</td>\n",
       "      <td>08</td>\n",
       "      <td>2016</td>\n",
       "    </tr>\n",
       "    <tr>\n",
       "      <th>5573</th>\n",
       "      <td>-/-</td>\n",
       "      <td>none</td>\n",
       "      <td>none</td>\n",
       "    </tr>\n",
       "    <tr>\n",
       "      <th>5976</th>\n",
       "      <td>04/2017</td>\n",
       "      <td>04</td>\n",
       "      <td>2017</td>\n",
       "    </tr>\n",
       "    <tr>\n",
       "      <th>11591</th>\n",
       "      <td>10/2017</td>\n",
       "      <td>10</td>\n",
       "      <td>2017</td>\n",
       "    </tr>\n",
       "    <tr>\n",
       "      <th>10487</th>\n",
       "      <td>02/2016</td>\n",
       "      <td>02</td>\n",
       "      <td>2016</td>\n",
       "    </tr>\n",
       "    <tr>\n",
       "      <th>11383</th>\n",
       "      <td>07/2017</td>\n",
       "      <td>07</td>\n",
       "      <td>2017</td>\n",
       "    </tr>\n",
       "    <tr>\n",
       "      <th>8992</th>\n",
       "      <td>04/2016</td>\n",
       "      <td>04</td>\n",
       "      <td>2016</td>\n",
       "    </tr>\n",
       "    <tr>\n",
       "      <th>12747</th>\n",
       "      <td>02/2019</td>\n",
       "      <td>02</td>\n",
       "      <td>2019</td>\n",
       "    </tr>\n",
       "    <tr>\n",
       "      <th>930</th>\n",
       "      <td>03/2017</td>\n",
       "      <td>03</td>\n",
       "      <td>2017</td>\n",
       "    </tr>\n",
       "    <tr>\n",
       "      <th>867</th>\n",
       "      <td>10/2017</td>\n",
       "      <td>10</td>\n",
       "      <td>2017</td>\n",
       "    </tr>\n",
       "    <tr>\n",
       "      <th>11390</th>\n",
       "      <td>10/2017</td>\n",
       "      <td>10</td>\n",
       "      <td>2017</td>\n",
       "    </tr>\n",
       "    <tr>\n",
       "      <th>1284</th>\n",
       "      <td>01/2017</td>\n",
       "      <td>01</td>\n",
       "      <td>2017</td>\n",
       "    </tr>\n",
       "    <tr>\n",
       "      <th>13722</th>\n",
       "      <td>04/2016</td>\n",
       "      <td>04</td>\n",
       "      <td>2016</td>\n",
       "    </tr>\n",
       "    <tr>\n",
       "      <th>7167</th>\n",
       "      <td>03/2018</td>\n",
       "      <td>03</td>\n",
       "      <td>2018</td>\n",
       "    </tr>\n",
       "    <tr>\n",
       "      <th>10627</th>\n",
       "      <td>06/2016</td>\n",
       "      <td>06</td>\n",
       "      <td>2016</td>\n",
       "    </tr>\n",
       "    <tr>\n",
       "      <th>3734</th>\n",
       "      <td>04/2018</td>\n",
       "      <td>04</td>\n",
       "      <td>2018</td>\n",
       "    </tr>\n",
       "    <tr>\n",
       "      <th>3418</th>\n",
       "      <td>03/2016</td>\n",
       "      <td>03</td>\n",
       "      <td>2016</td>\n",
       "    </tr>\n",
       "    <tr>\n",
       "      <th>32</th>\n",
       "      <td>03/2016</td>\n",
       "      <td>03</td>\n",
       "      <td>2016</td>\n",
       "    </tr>\n",
       "    <tr>\n",
       "      <th>10115</th>\n",
       "      <td>01/2019</td>\n",
       "      <td>01</td>\n",
       "      <td>2019</td>\n",
       "    </tr>\n",
       "    <tr>\n",
       "      <th>1814</th>\n",
       "      <td>06/2018</td>\n",
       "      <td>06</td>\n",
       "      <td>2018</td>\n",
       "    </tr>\n",
       "    <tr>\n",
       "      <th>2250</th>\n",
       "      <td>02/2019</td>\n",
       "      <td>02</td>\n",
       "      <td>2019</td>\n",
       "    </tr>\n",
       "    <tr>\n",
       "      <th>5352</th>\n",
       "      <td>-/-</td>\n",
       "      <td>none</td>\n",
       "      <td>none</td>\n",
       "    </tr>\n",
       "    <tr>\n",
       "      <th>12670</th>\n",
       "      <td>06/2019</td>\n",
       "      <td>06</td>\n",
       "      <td>2019</td>\n",
       "    </tr>\n",
       "  </tbody>\n",
       "</table>\n",
       "</div>"
      ],
      "text/plain": [
       "      registration registration_month registration_year\n",
       "14700          -/-               none              none\n",
       "1405       03/2017                 03              2017\n",
       "15005      08/2016                 08              2016\n",
       "5573           -/-               none              none\n",
       "5976       04/2017                 04              2017\n",
       "11591      10/2017                 10              2017\n",
       "10487      02/2016                 02              2016\n",
       "11383      07/2017                 07              2017\n",
       "8992       04/2016                 04              2016\n",
       "12747      02/2019                 02              2019\n",
       "930        03/2017                 03              2017\n",
       "867        10/2017                 10              2017\n",
       "11390      10/2017                 10              2017\n",
       "1284       01/2017                 01              2017\n",
       "13722      04/2016                 04              2016\n",
       "7167       03/2018                 03              2018\n",
       "10627      06/2016                 06              2016\n",
       "3734       04/2018                 04              2018\n",
       "3418       03/2016                 03              2016\n",
       "32         03/2016                 03              2016\n",
       "10115      01/2019                 01              2019\n",
       "1814       06/2018                 06              2018\n",
       "2250       02/2019                 02              2019\n",
       "5352           -/-               none              none\n",
       "12670      06/2019                 06              2019"
      ]
     },
     "execution_count": 24,
     "metadata": {},
     "output_type": "execute_result"
    }
   ],
   "source": [
    "# Split the 'registration' column into 'registration_month' and 'registration_year'\n",
    "df[['registration_month', 'registration_year']] = df['registration'].str.split('/', expand=True)\n",
    "\n",
    "# Replace invalid entries with 'none'\n",
    "df['registration_month'] = df['registration_month'].replace('-', 'none')\n",
    "df['registration_year'] = df['registration_year'].replace('-', 'none')\n",
    "\n",
    "# sample registration\n",
    "df[['registration', 'registration_month', 'registration_year']].sample(25)"
   ]
  },
  {
   "cell_type": "code",
   "execution_count": 25,
   "id": "67584ddd-a640-4d48-98ae-95aa18419c0a",
   "metadata": {},
   "outputs": [
    {
     "data": {
      "text/plain": [
       "(array(['1 previous owner', '2 previous owners', '3 previous owners',\n",
       "        '4 previous owners', 'none'], dtype=object),\n",
       " array([8294,  778,   17,    2, 6828]))"
      ]
     },
     "execution_count": 25,
     "metadata": {},
     "output_type": "execute_result"
    }
   ],
   "source": [
    "# prev_owner\n",
    "df['prev_owner'].fillna('none',inplace=True)\n",
    "np.unique(df['prev_owner'], return_counts=True, equal_nan=True)"
   ]
  },
  {
   "cell_type": "code",
   "execution_count": 26,
   "id": "43e1f24b-d6da-4f2a-a6e1-25745adac283",
   "metadata": {},
   "outputs": [
    {
     "data": {
      "text/plain": [
       "(array(['1_previous_owner', '2_previous_owners', '3_previous_owners',\n",
       "        '4_previous_owners', 'none'], dtype=object),\n",
       " array([8294,  778,   17,    2, 6828]))"
      ]
     },
     "execution_count": 26,
     "metadata": {},
     "output_type": "execute_result"
    }
   ],
   "source": [
    "df['prev_owner'] = df['prev_owner'].str.replace(' ', '_')\n",
    "np.unique(df['prev_owner'], return_counts=True, equal_nan=True)"
   ]
  },
  {
   "cell_type": "code",
   "execution_count": 27,
   "id": "cbbdfffb-238b-463f-b749-c9ae0e7dc894",
   "metadata": {},
   "outputs": [
    {
     "data": {
      "text/plain": [
       "9805                [\\n11/2021\\n, \\n129 g CO2/km (comb)\\n]\n",
       "3463                 [\\n09/2020\\n, \\n99 g CO2/km (comb)\\n]\n",
       "4819                [\\n10/2021\\n, \\n121 g CO2/km (comb)\\n]\n",
       "7439                                           \\n01/2021\\n\n",
       "8824                [\\n03/2021\\n, \\n102 g CO2/km (comb)\\n]\n",
       "7203                [\\n03/2021\\n, \\n121 g CO2/km (comb)\\n]\n",
       "7735                [\\n01/2022\\n, \\n170 g CO2/km (comb)\\n]\n",
       "2162                [\\n03/2020\\n, \\n110 g CO2/km (comb)\\n]\n",
       "11540                                          \\n04/2020\\n\n",
       "1673                                           \\n10/2022\\n\n",
       "7142     [\\n06/2021\\n, \\n, 5.6 l/100 km (comb), \\n, 7.3...\n",
       "13061               [\\n06/2019\\n, \\n120 g CO2/km (comb)\\n]\n",
       "14663               [\\n01/2022\\n, \\n113 g CO2/km (comb)\\n]\n",
       "1547                          [\\n03/2021\\n, \\n4 (Green)\\n]\n",
       "11994                         [\\n06/2019\\n, \\n4 (Green)\\n]\n",
       "821                  [\\n08/2020\\n, \\n94 g CO2/km (comb)\\n]\n",
       "15092                            [\\n03/2021\\n, \\nEuro 6\\n]\n",
       "4881                [\\n08/2021\\n, \\n111 g CO2/km (comb)\\n]\n",
       "10174               [\\n03/2022\\n, \\n132 g CO2/km (comb)\\n]\n",
       "9228                [\\n12/2021\\n, \\n129 g CO2/km (comb)\\n]\n",
       "11618                                        [\\n01/2021\\n]\n",
       "14371                                          \\n08/2021\\n\n",
       "1615                                           \\n06/2022\\n\n",
       "12051               [\\n07/2018\\n, \\n147 g CO2/km (comb)\\n]\n",
       "957                 [\\n02/2020\\n, \\n121 g CO2/km (comb)\\n]\n",
       "Name: next_inspection, dtype: object"
      ]
     },
     "execution_count": 27,
     "metadata": {},
     "output_type": "execute_result"
    }
   ],
   "source": [
    "# next inspection\n",
    "df['next_inspection'].fillna('none',inplace=True)\n",
    "df[df['next_inspection'] != 'none']['next_inspection'].sample(25)"
   ]
  },
  {
   "cell_type": "code",
   "execution_count": 28,
   "id": "a45d9f63-4f53-4c6f-824d-c3458b86adaf",
   "metadata": {},
   "outputs": [
    {
     "data": {
      "text/plain": [
       "['\\n06/2021\\n',\n",
       " '\\n',\n",
       " '5.9 l/100 km (comb)',\n",
       " '\\n',\n",
       " '7.5 l/100 km (city)',\n",
       " '\\n',\n",
       " '5 l/100 km (country)',\n",
       " '\\n']"
      ]
     },
     "execution_count": 28,
     "metadata": {},
     "output_type": "execute_result"
    }
   ],
   "source": [
    "df['next_inspection'].iloc[10087]"
   ]
  },
  {
   "cell_type": "code",
   "execution_count": 29,
   "id": "f13b6c50-a895-47bb-8e17-ba936bf637a9",
   "metadata": {},
   "outputs": [
    {
     "data": {
      "text/plain": [
       "590                      [\\nYes\\n, \\n99 g CO2/km (comb)\\n]\n",
       "9314     [\\nYes\\n, \\n, 5.9 l/100 km (comb), \\n, 7.9 l/1...\n",
       "6734                                             [\\nYes\\n]\n",
       "263                     [\\nYes\\n, \\n103 g CO2/km (comb)\\n]\n",
       "10391                   [\\nYes\\n, \\n129 g CO2/km (comb)\\n]\n",
       "11732                   [\\nYes\\n, \\n104 g CO2/km (comb)\\n]\n",
       "14372                   [\\nYes\\n, \\n135 g CO2/km (comb)\\n]\n",
       "6314     [\\nYes\\n, \\n, 5.6 l/100 km (comb), \\n, 7.3 l/1...\n",
       "5018                                 [\\nYes\\n, \\nEuro 6\\n]\n",
       "13192                                [\\nYes\\n, \\nEuro 6\\n]\n",
       "6413                     [\\nYes\\n, \\n95 g CO2/km (comb)\\n]\n",
       "12216    [\\nYes\\n, \\n, 6.1 l/100 km (comb), \\n, 7.5 l/1...\n",
       "3139                    [\\nYes\\n, \\n101 g CO2/km (comb)\\n]\n",
       "6960                     [\\nYes\\n, \\n95 g CO2/km (comb)\\n]\n",
       "3504                    [\\nYes\\n, \\n105 g CO2/km (comb)\\n]\n",
       "8528                    [\\nYes\\n, \\n142 g CO2/km (comb)\\n]\n",
       "806                     [\\nYes\\n, \\n104 g CO2/km (comb)\\n]\n",
       "5590                                               \\nYes\\n\n",
       "1940                              [\\nYes\\n, \\n4 (Green)\\n]\n",
       "3135                    [\\nYes\\n, \\n101 g CO2/km (comb)\\n]\n",
       "8915                    [\\nYes\\n, \\n119 g CO2/km (comb)\\n]\n",
       "7778                    [\\nYes\\n, \\n126 g CO2/km (comb)\\n]\n",
       "10025                   [\\nYes\\n, \\n158 g CO2/km (comb)\\n]\n",
       "10614                   [\\nYes\\n, \\n135 g CO2/km (comb)\\n]\n",
       "137                     [\\nYes\\n, \\n102 g CO2/km (comb)\\n]\n",
       "Name: inspection_new, dtype: object"
      ]
     },
     "execution_count": 29,
     "metadata": {},
     "output_type": "execute_result"
    }
   ],
   "source": [
    "df['inspection_new'].fillna('none',inplace=True)\n",
    "df[df['inspection_new'] != 'none']['inspection_new'].sample(25)"
   ]
  },
  {
   "cell_type": "code",
   "execution_count": 30,
   "id": "5de2a747-9c1c-4e35-b57f-35504f165790",
   "metadata": {},
   "outputs": [
    {
     "data": {
      "text/plain": [
       "(array(['- kW', '1 kW', '100 kW', '101 kW', '103 kW', '104 kW', '110 kW',\n",
       "        '112 kW', '115 kW', '117 kW', '118 kW', '119 kW', '120 kW',\n",
       "        '121 kW', '122 kW', '123 kW', '125 kW', '127 kW', '132 kW',\n",
       "        '133 kW', '135 kW', '137 kW', '140 kW', '141 kW', '143 kW',\n",
       "        '146 kW', '147 kW', '149 kW', '150 kW', '154 kW', '155 kW',\n",
       "        '162 kW', '163 kW', '164 kW', '165 kW', '167 kW', '168 kW',\n",
       "        '184 kW', '191 kW', '195 kW', '228 kW', '239 kW', '270 kW',\n",
       "        '294 kW', '4 kW', '40 kW', '44 kW', '51 kW', '52 kW', '53 kW',\n",
       "        '54 kW', '55 kW', '56 kW', '57 kW', '60 kW', '63 kW', '65 kW',\n",
       "        '66 kW', '67 kW', '70 kW', '71 kW', '74 kW', '75 kW', '76 kW',\n",
       "        '77 kW', '78 kW', '80 kW', '81 kW', '82 kW', '84 kW', '85 kW',\n",
       "        '86 kW', '87 kW', '88 kW', '89 kW', '9 kW', '90 kW', '92 kW',\n",
       "        '93 kW', '96 kW', '98 kW'], dtype=object),\n",
       " array([  88,   20, 1308,   47,  253,    8, 1112,    7,    1,    6,  516,\n",
       "          30,    8,  392,   35,    1,  707,    2,    1,    1,   24,    1,\n",
       "           2,   16,    2,   18,  380,    3,    2,   39,    6,   98,    1,\n",
       "          27,  194,    2,    3,    5,    7,    1,    2,    1,    2,   18,\n",
       "           1,    2,    1,  695,   22,    2,  276,  569,  286,   10,  160,\n",
       "           2,    4, 2122,   40,  888,   59,   81,    1,    4,  345,   20,\n",
       "           3, 1402,   22,    1, 2542,    2,  232,  177,    2,    1,    4,\n",
       "         466,    3,   72,    3]))"
      ]
     },
     "execution_count": 30,
     "metadata": {},
     "output_type": "execute_result"
    }
   ],
   "source": [
    "# hp\n",
    "np.unique(df['hp'], return_counts=True, equal_nan=True)"
   ]
  },
  {
   "cell_type": "code",
   "execution_count": 31,
   "id": "3b006185-dcc3-4dfe-8252-5c8bbc6873c1",
   "metadata": {},
   "outputs": [
    {
     "data": {
      "text/plain": [
       "8394      66\n",
       "15615    118\n",
       "8262      66\n",
       "12125    121\n",
       "Name: kw, dtype: object"
      ]
     },
     "execution_count": 31,
     "metadata": {},
     "output_type": "execute_result"
    }
   ],
   "source": [
    "df['kw'] = df['hp'].str.extract('(\\d+)').copy()\n",
    "df['kw'] = df['kw'].fillna('none').copy()\n",
    "df['kw'].sample(4)"
   ]
  },
  {
   "cell_type": "code",
   "execution_count": 32,
   "id": "f9851e43-b82c-4bbe-9282-fba6d648c355",
   "metadata": {},
   "outputs": [
    {
     "data": {
      "text/plain": [
       "11976    100\n",
       "11622    100\n",
       "3668      81\n",
       "6562      74\n",
       "Name: kw, dtype: object"
      ]
     },
     "execution_count": 32,
     "metadata": {},
     "output_type": "execute_result"
    }
   ],
   "source": [
    "df['kw'].sample(4)"
   ]
  },
  {
   "cell_type": "code",
   "execution_count": 39,
   "id": "5625080a-031c-4bc4-8a6f-4a12867cd5b8",
   "metadata": {},
   "outputs": [
    {
     "data": {
      "text/html": [
       "<div>\n",
       "<style scoped>\n",
       "    .dataframe tbody tr th:only-of-type {\n",
       "        vertical-align: middle;\n",
       "    }\n",
       "\n",
       "    .dataframe tbody tr th {\n",
       "        vertical-align: top;\n",
       "    }\n",
       "\n",
       "    .dataframe thead th {\n",
       "        text-align: right;\n",
       "    }\n",
       "</style>\n",
       "<table border=\"1\" class=\"dataframe\">\n",
       "  <thead>\n",
       "    <tr style=\"text-align: right;\">\n",
       "      <th></th>\n",
       "      <th>kw</th>\n",
       "      <th>hp</th>\n",
       "    </tr>\n",
       "  </thead>\n",
       "  <tbody>\n",
       "    <tr>\n",
       "      <th>6706</th>\n",
       "      <td>110</td>\n",
       "      <td>110 kW</td>\n",
       "    </tr>\n",
       "    <tr>\n",
       "      <th>15562</th>\n",
       "      <td>none</td>\n",
       "      <td>- kW</td>\n",
       "    </tr>\n",
       "    <tr>\n",
       "      <th>12725</th>\n",
       "      <td>121</td>\n",
       "      <td>121 kW</td>\n",
       "    </tr>\n",
       "    <tr>\n",
       "      <th>8240</th>\n",
       "      <td>66</td>\n",
       "      <td>66 kW</td>\n",
       "    </tr>\n",
       "    <tr>\n",
       "      <th>13788</th>\n",
       "      <td>162</td>\n",
       "      <td>162 kW</td>\n",
       "    </tr>\n",
       "    <tr>\n",
       "      <th>12997</th>\n",
       "      <td>103</td>\n",
       "      <td>103 kW</td>\n",
       "    </tr>\n",
       "    <tr>\n",
       "      <th>5747</th>\n",
       "      <td>100</td>\n",
       "      <td>100 kW</td>\n",
       "    </tr>\n",
       "    <tr>\n",
       "      <th>15876</th>\n",
       "      <td>165</td>\n",
       "      <td>165 kW</td>\n",
       "    </tr>\n",
       "    <tr>\n",
       "      <th>12792</th>\n",
       "      <td>81</td>\n",
       "      <td>81 kW</td>\n",
       "    </tr>\n",
       "    <tr>\n",
       "      <th>6537</th>\n",
       "      <td>100</td>\n",
       "      <td>100 kW</td>\n",
       "    </tr>\n",
       "    <tr>\n",
       "      <th>12580</th>\n",
       "      <td>154</td>\n",
       "      <td>154 kW</td>\n",
       "    </tr>\n",
       "    <tr>\n",
       "      <th>1928</th>\n",
       "      <td>147</td>\n",
       "      <td>147 kW</td>\n",
       "    </tr>\n",
       "    <tr>\n",
       "      <th>11714</th>\n",
       "      <td>125</td>\n",
       "      <td>125 kW</td>\n",
       "    </tr>\n",
       "    <tr>\n",
       "      <th>3467</th>\n",
       "      <td>81</td>\n",
       "      <td>81 kW</td>\n",
       "    </tr>\n",
       "    <tr>\n",
       "      <th>13249</th>\n",
       "      <td>87</td>\n",
       "      <td>87 kW</td>\n",
       "    </tr>\n",
       "    <tr>\n",
       "      <th>8574</th>\n",
       "      <td>66</td>\n",
       "      <td>66 kW</td>\n",
       "    </tr>\n",
       "    <tr>\n",
       "      <th>5366</th>\n",
       "      <td>85</td>\n",
       "      <td>85 kW</td>\n",
       "    </tr>\n",
       "    <tr>\n",
       "      <th>7796</th>\n",
       "      <td>110</td>\n",
       "      <td>110 kW</td>\n",
       "    </tr>\n",
       "    <tr>\n",
       "      <th>11798</th>\n",
       "      <td>125</td>\n",
       "      <td>125 kW</td>\n",
       "    </tr>\n",
       "    <tr>\n",
       "      <th>3080</th>\n",
       "      <td>81</td>\n",
       "      <td>81 kW</td>\n",
       "    </tr>\n",
       "    <tr>\n",
       "      <th>3806</th>\n",
       "      <td>81</td>\n",
       "      <td>81 kW</td>\n",
       "    </tr>\n",
       "    <tr>\n",
       "      <th>13531</th>\n",
       "      <td>55</td>\n",
       "      <td>55 kW</td>\n",
       "    </tr>\n",
       "    <tr>\n",
       "      <th>5000</th>\n",
       "      <td>85</td>\n",
       "      <td>85 kW</td>\n",
       "    </tr>\n",
       "    <tr>\n",
       "      <th>15491</th>\n",
       "      <td>118</td>\n",
       "      <td>118 kW</td>\n",
       "    </tr>\n",
       "    <tr>\n",
       "      <th>14817</th>\n",
       "      <td>56</td>\n",
       "      <td>56 kW</td>\n",
       "    </tr>\n",
       "    <tr>\n",
       "      <th>2615</th>\n",
       "      <td>110</td>\n",
       "      <td>110 kW</td>\n",
       "    </tr>\n",
       "    <tr>\n",
       "      <th>9272</th>\n",
       "      <td>67</td>\n",
       "      <td>67 kW</td>\n",
       "    </tr>\n",
       "    <tr>\n",
       "      <th>2249</th>\n",
       "      <td>70</td>\n",
       "      <td>70 kW</td>\n",
       "    </tr>\n",
       "    <tr>\n",
       "      <th>13209</th>\n",
       "      <td>88</td>\n",
       "      <td>88 kW</td>\n",
       "    </tr>\n",
       "    <tr>\n",
       "      <th>8645</th>\n",
       "      <td>51</td>\n",
       "      <td>51 kW</td>\n",
       "    </tr>\n",
       "    <tr>\n",
       "      <th>9215</th>\n",
       "      <td>66</td>\n",
       "      <td>66 kW</td>\n",
       "    </tr>\n",
       "    <tr>\n",
       "      <th>10962</th>\n",
       "      <td>125</td>\n",
       "      <td>125 kW</td>\n",
       "    </tr>\n",
       "    <tr>\n",
       "      <th>7452</th>\n",
       "      <td>92</td>\n",
       "      <td>92 kW</td>\n",
       "    </tr>\n",
       "    <tr>\n",
       "      <th>6667</th>\n",
       "      <td>100</td>\n",
       "      <td>100 kW</td>\n",
       "    </tr>\n",
       "    <tr>\n",
       "      <th>5085</th>\n",
       "      <td>85</td>\n",
       "      <td>85 kW</td>\n",
       "    </tr>\n",
       "    <tr>\n",
       "      <th>10207</th>\n",
       "      <td>55</td>\n",
       "      <td>55 kW</td>\n",
       "    </tr>\n",
       "    <tr>\n",
       "      <th>15475</th>\n",
       "      <td>118</td>\n",
       "      <td>118 kW</td>\n",
       "    </tr>\n",
       "    <tr>\n",
       "      <th>7226</th>\n",
       "      <td>100</td>\n",
       "      <td>100 kW</td>\n",
       "    </tr>\n",
       "    <tr>\n",
       "      <th>10658</th>\n",
       "      <td>100</td>\n",
       "      <td>100 kW</td>\n",
       "    </tr>\n",
       "    <tr>\n",
       "      <th>15665</th>\n",
       "      <td>165</td>\n",
       "      <td>165 kW</td>\n",
       "    </tr>\n",
       "    <tr>\n",
       "      <th>4882</th>\n",
       "      <td>85</td>\n",
       "      <td>85 kW</td>\n",
       "    </tr>\n",
       "    <tr>\n",
       "      <th>9537</th>\n",
       "      <td>51</td>\n",
       "      <td>51 kW</td>\n",
       "    </tr>\n",
       "    <tr>\n",
       "      <th>11626</th>\n",
       "      <td>103</td>\n",
       "      <td>103 kW</td>\n",
       "    </tr>\n",
       "    <tr>\n",
       "      <th>7677</th>\n",
       "      <td>110</td>\n",
       "      <td>110 kW</td>\n",
       "    </tr>\n",
       "    <tr>\n",
       "      <th>12829</th>\n",
       "      <td>103</td>\n",
       "      <td>103 kW</td>\n",
       "    </tr>\n",
       "    <tr>\n",
       "      <th>15715</th>\n",
       "      <td>119</td>\n",
       "      <td>119 kW</td>\n",
       "    </tr>\n",
       "    <tr>\n",
       "      <th>1257</th>\n",
       "      <td>66</td>\n",
       "      <td>66 kW</td>\n",
       "    </tr>\n",
       "    <tr>\n",
       "      <th>4627</th>\n",
       "      <td>85</td>\n",
       "      <td>85 kW</td>\n",
       "    </tr>\n",
       "    <tr>\n",
       "      <th>15089</th>\n",
       "      <td>118</td>\n",
       "      <td>118 kW</td>\n",
       "    </tr>\n",
       "    <tr>\n",
       "      <th>8733</th>\n",
       "      <td>51</td>\n",
       "      <td>51 kW</td>\n",
       "    </tr>\n",
       "  </tbody>\n",
       "</table>\n",
       "</div>"
      ],
      "text/plain": [
       "         kw      hp\n",
       "6706    110  110 kW\n",
       "15562  none    - kW\n",
       "12725   121  121 kW\n",
       "8240     66   66 kW\n",
       "13788   162  162 kW\n",
       "12997   103  103 kW\n",
       "5747    100  100 kW\n",
       "15876   165  165 kW\n",
       "12792    81   81 kW\n",
       "6537    100  100 kW\n",
       "12580   154  154 kW\n",
       "1928    147  147 kW\n",
       "11714   125  125 kW\n",
       "3467     81   81 kW\n",
       "13249    87   87 kW\n",
       "8574     66   66 kW\n",
       "5366     85   85 kW\n",
       "7796    110  110 kW\n",
       "11798   125  125 kW\n",
       "3080     81   81 kW\n",
       "3806     81   81 kW\n",
       "13531    55   55 kW\n",
       "5000     85   85 kW\n",
       "15491   118  118 kW\n",
       "14817    56   56 kW\n",
       "2615    110  110 kW\n",
       "9272     67   67 kW\n",
       "2249     70   70 kW\n",
       "13209    88   88 kW\n",
       "8645     51   51 kW\n",
       "9215     66   66 kW\n",
       "10962   125  125 kW\n",
       "7452     92   92 kW\n",
       "6667    100  100 kW\n",
       "5085     85   85 kW\n",
       "10207    55   55 kW\n",
       "15475   118  118 kW\n",
       "7226    100  100 kW\n",
       "10658   100  100 kW\n",
       "15665   165  165 kW\n",
       "4882     85   85 kW\n",
       "9537     51   51 kW\n",
       "11626   103  103 kW\n",
       "7677    110  110 kW\n",
       "12829   103  103 kW\n",
       "15715   119  119 kW\n",
       "1257     66   66 kW\n",
       "4627     85   85 kW\n",
       "15089   118  118 kW\n",
       "8733     51   51 kW"
      ]
     },
     "execution_count": 39,
     "metadata": {},
     "output_type": "execute_result"
    }
   ],
   "source": [
    "df[['kw','hp']].sample(50)"
   ]
  },
  {
   "cell_type": "code",
   "execution_count": 40,
   "id": "c0ae300d-38c8-456d-bc2e-b8aa9d3df86f",
   "metadata": {},
   "outputs": [],
   "source": [
    "!python3 scout_car_clean.py"
   ]
  },
  {
   "cell_type": "code",
   "execution_count": null,
   "id": "3c0b50e1-8639-4fd3-a76c-fcc3e43aefd3",
   "metadata": {},
   "outputs": [],
   "source": []
  }
 ],
 "metadata": {
  "kernelspec": {
   "display_name": "Python 3 (ipykernel)",
   "language": "python",
   "name": "python3"
  },
  "language_info": {
   "codemirror_mode": {
    "name": "ipython",
    "version": 3
   },
   "file_extension": ".py",
   "mimetype": "text/x-python",
   "name": "python",
   "nbconvert_exporter": "python",
   "pygments_lexer": "ipython3",
   "version": "3.8.10"
  }
 },
 "nbformat": 4,
 "nbformat_minor": 5
}
