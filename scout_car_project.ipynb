{
 "cells": [
  {
   "cell_type": "code",
   "execution_count": 1,
   "id": "7d3a83bb",
   "metadata": {},
   "outputs": [],
   "source": [
    "import pandas as pd\n",
    "import numpy as np\n",
    "from src import scout_car_clean as scc\n",
    "\n",
    "%load_ext autoreload\n",
    "%autoreload 2"
   ]
  },
  {
   "cell_type": "code",
   "execution_count": 2,
   "id": "8fc097be",
   "metadata": {},
   "outputs": [
    {
     "name": "stdout",
     "output_type": "stream",
     "text": [
      "/media/oem/onetbsamdot/ezt/github/magnimind_hw\n"
     ]
    }
   ],
   "source": [
    "import os\n",
    "print(os.getcwd())"
   ]
  },
  {
   "cell_type": "code",
   "execution_count": 3,
   "id": "5cbf6e41",
   "metadata": {},
   "outputs": [],
   "source": [
    "df_org = pd.read_json('./data/scout_car.json', lines=True)\n",
    "df = df_org.copy()"
   ]
  },
  {
   "cell_type": "code",
   "execution_count": 4,
   "id": "fc59259e",
   "metadata": {},
   "outputs": [
    {
     "data": {
      "text/plain": [
       "'\\n**Columns**\\n* url: url of autos\\n* short_description, description: Description of autos (in English and German) written by users\\n* make_model, make, model: Model of autos. Ex:Audi A1\\n* body_type, body: Body type of autos Example: van, sedans\\n* vat: VAT deductible, price negotiable\\n* registration, first_registration: First registration date and year of autos.\\n* prev_owner, previous_owners: Number of previous owners\\n* type: new or used\\n* next_inspection, inspection_new: information about inspection (inspection date,..)\\n* body_color, body_color_original: Color of auto Ex: Black, red\\n* paint_type: Paint type of auto Ex: Metallic, Uni/basic\\n* upholstery: Upholstery information (texture, color)\\n* gearing_type: Type of gear Ex: automatic, manual\\n* fuel : fuel type Ex: diesel, benzine\\n* co2_emission, emission_class, emission_label: emission information\\n* drive_chain: drive chain Ex: front,rear, 4WD\\n* consumption: consumption of auto in city, country and combination (lt/100 km)\\n* country_version\\n* entertainment_media\\n* safety_security\\n* comfort_convenience\\n* extras\\n* price: Price of cars\\n* km: km of autos\\n* hp: horsepower of autos (kW)\\n* displacement: displacement of autos (cc)\\n* warranty: warranty period (month)\\n* weight: weight of auto (kg)\\n* nr_of_doors: number of doors\\n* nr_of_seats : number of seats\\n* cylinders: number of cylinders\\n* gears: number of gears\\n\\n'"
      ]
     },
     "execution_count": 4,
     "metadata": {},
     "output_type": "execute_result"
    }
   ],
   "source": [
    "\"\"\"\n",
    "**Columns**\n",
    "* url: url of autos\n",
    "* short_description, description: Description of autos (in English and German) written by users\n",
    "* make_model, make, model: Model of autos. Ex:Audi A1\n",
    "* body_type, body: Body type of autos Example: van, sedans\n",
    "* vat: VAT deductible, price negotiable\n",
    "* registration, first_registration: First registration date and year of autos.\n",
    "* prev_owner, previous_owners: Number of previous owners\n",
    "* type: new or used\n",
    "* next_inspection, inspection_new: information about inspection (inspection date,..)\n",
    "* body_color, body_color_original: Color of auto Ex: Black, red\n",
    "* paint_type: Paint type of auto Ex: Metallic, Uni/basic\n",
    "* upholstery: Upholstery information (texture, color)\n",
    "* gearing_type: Type of gear Ex: automatic, manual\n",
    "* fuel : fuel type Ex: diesel, benzine\n",
    "* co2_emission, emission_class, emission_label: emission information\n",
    "* drive_chain: drive chain Ex: front,rear, 4WD\n",
    "* consumption: consumption of auto in city, country and combination (lt/100 km)\n",
    "* country_version\n",
    "* entertainment_media\n",
    "* safety_security\n",
    "* comfort_convenience\n",
    "* extras\n",
    "* price: Price of cars\n",
    "* km: km of autos\n",
    "* hp: horsepower of autos (kW)\n",
    "* displacement: displacement of autos (cc)\n",
    "* warranty: warranty period (month)\n",
    "* weight: weight of auto (kg)\n",
    "* nr_of_doors: number of doors\n",
    "* nr_of_seats : number of seats\n",
    "* cylinders: number of cylinders\n",
    "* gears: number of gears\n",
    "\n",
    "\"\"\""
   ]
  },
  {
   "cell_type": "code",
   "execution_count": 5,
   "id": "2d644e36",
   "metadata": {},
   "outputs": [
    {
     "data": {
      "text/plain": [
       "Index(['url', 'make_model', 'short_description', 'body_type', 'price', 'vat',\n",
       "       'km', 'registration', 'prev_owner', 'kw', 'hp', 'type',\n",
       "       'previous_owners', 'next_inspection', 'inspection_new', 'warranty',\n",
       "       'full_service', 'nonsmoking_vehicle', 'null', 'make', 'model',\n",
       "       'offer_number', 'first_registration', 'body_color', 'paint_type',\n",
       "       'body_color_original', 'upholstery', 'body', 'nr_of_doors',\n",
       "       'nr_of_seats', 'model_code', 'gearing_type', 'displacement',\n",
       "       'cylinders', 'weight', 'drive_chain', 'fuel', 'consumption',\n",
       "       'co2_emission', 'emission_class', 'comfort_convenience',\n",
       "       'entertainment_media', 'extras', 'safety_security', 'description',\n",
       "       'emission_label', 'gears', 'country_version', 'electricity_consumption',\n",
       "       'last_service_date', 'other_fuel_types', 'availability',\n",
       "       'last_timing_belt_service_date', 'available_from'],\n",
       "      dtype='object')"
      ]
     },
     "execution_count": 5,
     "metadata": {},
     "output_type": "execute_result"
    }
   ],
   "source": [
    "# Replace special characters and spaces in column names\n",
    "df.columns = (\n",
    "    df.columns\n",
    "    .str.strip()\n",
    "    .str.lower()\n",
    "    .str.replace(r'[\\s\\n]+', '_', regex=True)\n",
    "    .str.replace(r'[^a-z0-9_]', '', regex=True)\n",
    "    .str.replace(r'_+', '_', regex=True)\n",
    ")\n",
    "\n",
    "df.columns"
   ]
  },
  {
   "cell_type": "code",
   "execution_count": 6,
   "id": "f2694fc5",
   "metadata": {},
   "outputs": [
    {
     "data": {
      "text/plain": [
       "Index(['url', 'make_model', 'short_description', 'body_type', 'price', 'vat',\n",
       "       'km', 'registration', 'prev_owner', 'kw', 'hp', 'type',\n",
       "       'previous_owners', 'next_inspection', 'inspection_new', 'warranty',\n",
       "       'full_service', 'nonsmoking_vehicle', 'null', 'make', 'model',\n",
       "       'offer_number', 'first_registration', 'body_color', 'paint_type',\n",
       "       'body_color_original', 'upholstery', 'body', 'nr_of_doors',\n",
       "       'nr_of_seats', 'model_code', 'gearing_type', 'displacement',\n",
       "       'cylinders', 'weight', 'drive_chain', 'fuel', 'consumption',\n",
       "       'co2_emission', 'emission_class', 'description', 'emission_label',\n",
       "       'gears', 'country_version', 'electricity_consumption',\n",
       "       'last_service_date', 'other_fuel_types', 'availability',\n",
       "       'last_timing_belt_service_date', 'available_from'],\n",
       "      dtype='object')"
      ]
     },
     "execution_count": 6,
     "metadata": {},
     "output_type": "execute_result"
    }
   ],
   "source": [
    "df.drop(['entertainment_media', 'safety_security', 'comfort_convenience', 'extras', 'kw'],axis=1,inplace=True)\n",
    "df.columns"
   ]
  },
  {
   "cell_type": "code",
   "execution_count": 7,
   "id": "681bd5ca",
   "metadata": {},
   "outputs": [
    {
     "data": {
      "text/plain": [
       "15919"
      ]
     },
     "execution_count": 7,
     "metadata": {},
     "output_type": "execute_result"
    }
   ],
   "source": [
    "len(np.unique(df['url']))"
   ]
  },
  {
   "cell_type": "code",
   "execution_count": 8,
   "id": "7f1beb7b",
   "metadata": {},
   "outputs": [
    {
     "name": "stdout",
     "output_type": "stream",
     "text": [
      "<class 'pandas.core.frame.DataFrame'>\n",
      "RangeIndex: 15919 entries, 0 to 15918\n",
      "Data columns (total 50 columns):\n",
      " #   Column                         Non-Null Count  Dtype  \n",
      "---  ------                         --------------  -----  \n",
      " 0   url                            15919 non-null  object \n",
      " 1   make_model                     15919 non-null  object \n",
      " 2   short_description              15873 non-null  object \n",
      " 3   body_type                      15859 non-null  object \n",
      " 4   price                          15919 non-null  int64  \n",
      " 5   vat                            11406 non-null  object \n",
      " 6   km                             15919 non-null  object \n",
      " 7   registration                   15919 non-null  object \n",
      " 8   prev_owner                     9091 non-null   object \n",
      " 9   kw                             0 non-null      float64\n",
      " 10  hp                             15919 non-null  object \n",
      " 11  type                           15917 non-null  object \n",
      " 12  previous_owners                9279 non-null   object \n",
      " 13  next_inspection                3535 non-null   object \n",
      " 14  inspection_new                 3932 non-null   object \n",
      " 15  warranty                       10499 non-null  object \n",
      " 16  full_service                   8215 non-null   object \n",
      " 17  nonsmoking_vehicle             7177 non-null   object \n",
      " 18  null                           15919 non-null  object \n",
      " 19  make                           15919 non-null  object \n",
      " 20  model                          15919 non-null  object \n",
      " 21  offer_number                   12744 non-null  object \n",
      " 22  first_registration             14322 non-null  object \n",
      " 23  body_color                     15322 non-null  object \n",
      " 24  paint_type                     10147 non-null  object \n",
      " 25  body_color_original            12160 non-null  object \n",
      " 26  upholstery                     12199 non-null  object \n",
      " 27  body                           15859 non-null  object \n",
      " 28  nr_of_doors                    15707 non-null  object \n",
      " 29  nr_of_seats                    14942 non-null  object \n",
      " 30  model_code                     4978 non-null   object \n",
      " 31  gearing_type                   15919 non-null  object \n",
      " 32  displacement                   15423 non-null  object \n",
      " 33  cylinders                      10239 non-null  object \n",
      " 34  weight                         8945 non-null   object \n",
      " 35  drive_chain                    9061 non-null   object \n",
      " 36  fuel                           15919 non-null  object \n",
      " 37  consumption                    14013 non-null  object \n",
      " 38  co2_emission                   14111 non-null  object \n",
      " 39  emission_class                 12898 non-null  object \n",
      " 40  description                    15919 non-null  object \n",
      " 41  emission_label                 3985 non-null   object \n",
      " 42  gears                          11207 non-null  object \n",
      " 43  country_version                7586 non-null   object \n",
      " 44  electricity_consumption        137 non-null    object \n",
      " 45  last_service_date              566 non-null    object \n",
      " 46  other_fuel_types               880 non-null    object \n",
      " 47  availability                   635 non-null    object \n",
      " 48  last_timing_belt_service_date  16 non-null     object \n",
      " 49  available_from                 272 non-null    object \n",
      "dtypes: float64(1), int64(1), object(48)\n",
      "memory usage: 6.1+ MB\n"
     ]
    }
   ],
   "source": [
    "df.info()"
   ]
  },
  {
   "cell_type": "code",
   "execution_count": 9,
   "id": "ed433f61",
   "metadata": {},
   "outputs": [
    {
     "data": {
      "text/plain": [
       "(15919, 50)"
      ]
     },
     "execution_count": 9,
     "metadata": {},
     "output_type": "execute_result"
    }
   ],
   "source": [
    "df.shape"
   ]
  },
  {
   "cell_type": "code",
   "execution_count": 10,
   "id": "483e3b9b-e981-4431-be4e-b597816a77c6",
   "metadata": {},
   "outputs": [
    {
     "data": {
      "text/plain": [
       "15919"
      ]
     },
     "execution_count": 10,
     "metadata": {},
     "output_type": "execute_result"
    }
   ],
   "source": [
    "# url unique count\n",
    "len(np.unique(df['url']))"
   ]
  },
  {
   "cell_type": "code",
   "execution_count": 11,
   "id": "eba1a563-52ca-4b7c-b29a-b8e5945218d4",
   "metadata": {},
   "outputs": [
    {
     "data": {
      "text/plain": [
       "9"
      ]
     },
     "execution_count": 11,
     "metadata": {},
     "output_type": "execute_result"
    }
   ],
   "source": [
    "# make_model unique count\n",
    "len(np.unique(df['make_model']))"
   ]
  },
  {
   "cell_type": "code",
   "execution_count": 12,
   "id": "67857fb3-c3ef-4df5-b3f7-46a2e99ad157",
   "metadata": {},
   "outputs": [
    {
     "data": {
      "text/plain": [
       "(array(['Audi A1', 'Audi A2', 'Audi A3', 'Opel Astra', 'Opel Corsa',\n",
       "        'Opel Insignia', 'Renault Clio', 'Renault Duster',\n",
       "        'Renault Espace'], dtype=object),\n",
       " array([2614,    1, 3097, 2526, 2219, 2598, 1839,   34,  991]))"
      ]
     },
     "execution_count": 12,
     "metadata": {},
     "output_type": "execute_result"
    }
   ],
   "source": [
    "np.unique(df['make_model'], return_counts=True,equal_nan=True)"
   ]
  },
  {
   "cell_type": "code",
   "execution_count": 13,
   "id": "ea62cb1f-d004-4a7a-9240-6afc9866711a",
   "metadata": {},
   "outputs": [
    {
     "data": {
      "text/plain": [
       "(array(['audi_a1', 'audi_a2', 'audi_a3', 'opel_astra', 'opel_corsa',\n",
       "        'opel_insignia', 'renault_clio', 'renault_duster',\n",
       "        'renault_espace'], dtype=object),\n",
       " array([2614,    1, 3097, 2526, 2219, 2598, 1839,   34,  991]))"
      ]
     },
     "execution_count": 13,
     "metadata": {},
     "output_type": "execute_result"
    }
   ],
   "source": [
    "df['make_model'] = df['make_model'].str.lower().str.replace(' ', '_')\n",
    "np.unique(df['make_model'], return_counts=True,equal_nan=True)"
   ]
  },
  {
   "cell_type": "code",
   "execution_count": 14,
   "id": "69439f9e-86f2-4dca-9443-da3cdaf8b985",
   "metadata": {},
   "outputs": [
    {
     "data": {
      "text/plain": [
       "(array([' 1,6 CDTI**NAVI*Klimaaut*Tempomat*EURO6*TÜV NEU',\n",
       "        ' 1.4 75 cv5 porte b-color', ' 1.4 TFSI Attraction (125 CV)', ...,\n",
       "        'van 1.5 dci 75cv S&S E6', 'zoé life', 'Österr. Edition 16.CDTI'],\n",
       "       dtype=object),\n",
       " array([ 1,  1,  6, ..., 24,  1,  1]))"
      ]
     },
     "execution_count": 14,
     "metadata": {},
     "output_type": "execute_result"
    }
   ],
   "source": [
    "# short description unique count\n",
    "df['short_description'].fillna('none', inplace=True)\n",
    "np.unique(df['short_description'], return_counts=True,equal_nan=True)"
   ]
  },
  {
   "cell_type": "code",
   "execution_count": 15,
   "id": "a4b40ea0-2cc0-4abf-8f9d-e35e8b0ba91d",
   "metadata": {},
   "outputs": [
    {
     "data": {
      "text/plain": [
       "0"
      ]
     },
     "execution_count": 15,
     "metadata": {},
     "output_type": "execute_result"
    }
   ],
   "source": [
    "df['short_description'].isnull().sum()"
   ]
  },
  {
   "cell_type": "code",
   "execution_count": 16,
   "id": "c91ea193-2253-494c-af6c-8a902759a693",
   "metadata": {},
   "outputs": [
    {
     "data": {
      "text/plain": [
       "0"
      ]
     },
     "execution_count": 16,
     "metadata": {},
     "output_type": "execute_result"
    }
   ],
   "source": [
    "df['short_description'].fillna('none', inplace=True)\n",
    "df['short_description'].isnull().sum()"
   ]
  },
  {
   "cell_type": "code",
   "execution_count": 18,
   "id": "209c6075-9369-4ad8-90e3-cd7d05148a34",
   "metadata": {
    "scrolled": true
   },
   "outputs": [
    {
     "data": {
      "text/plain": [
       "(array(['compact', 'convertible', 'coupe', 'none', 'off_road', 'other',\n",
       "        'sedans', 'station_wagon', 'transporter', 'van'], dtype=object),\n",
       " array([3153,    8,   25,   60,   56,  290, 7903, 3553,   88,  783]))"
      ]
     },
     "execution_count": 18,
     "metadata": {},
     "output_type": "execute_result"
    }
   ],
   "source": [
    "# body type\n",
    "df['body_type'].fillna('none', inplace=True)\n",
    "df['body_type'] = df['body_type'].str.lower().str.replace('-', '_').str.replace(' ', '_')\n",
    "np.unique(df['body_type'], return_counts=True,equal_nan=True)"
   ]
  },
  {
   "cell_type": "code",
   "execution_count": 19,
   "id": "b0e667c9-e7a7-4208-a127-bb7aa93da0a9",
   "metadata": {},
   "outputs": [
    {
     "data": {
      "text/plain": [
       "0"
      ]
     },
     "execution_count": 19,
     "metadata": {},
     "output_type": "execute_result"
    }
   ],
   "source": [
    "# price null check\n",
    "df['price'].isnull().sum()"
   ]
  },
  {
   "cell_type": "code",
   "execution_count": 21,
   "id": "c0bd5c9d-156f-44c1-a7fc-7a3b6f0d5602",
   "metadata": {},
   "outputs": [
    {
     "data": {
      "text/plain": [
       "(array(['none', 'price_negotiable', 'vat_deductible'], dtype=object),\n",
       " array([ 4513,   426, 10980]))"
      ]
     },
     "execution_count": 21,
     "metadata": {},
     "output_type": "execute_result"
    }
   ],
   "source": [
    "# vat\n",
    "df['vat'].fillna('none', inplace=True)\n",
    "df['vat'] = df['vat'].str.lower().str.replace(' ', '_')\n",
    "np.unique(df['vat'], return_counts=True,equal_nan=True)"
   ]
  },
  {
   "cell_type": "code",
   "execution_count": 22,
   "id": "cd66dabf-d1b1-4916-8f63-c0874e284baa",
   "metadata": {},
   "outputs": [
    {
     "data": {
      "text/plain": [
       "0"
      ]
     },
     "execution_count": 22,
     "metadata": {},
     "output_type": "execute_result"
    }
   ],
   "source": [
    "df['vat'].isnull().sum()"
   ]
  },
  {
   "cell_type": "code",
   "execution_count": 23,
   "id": "4cc0d0fc-a26c-43d2-b2c5-f8ce5376498c",
   "metadata": {},
   "outputs": [
    {
     "data": {
      "text/plain": [
       "0"
      ]
     },
     "execution_count": 23,
     "metadata": {},
     "output_type": "execute_result"
    }
   ],
   "source": [
    "# km null check\n",
    "df['km'].isnull().sum()"
   ]
  },
  {
   "cell_type": "code",
   "execution_count": 24,
   "id": "f284bc80-3e9c-4b0e-8511-7c03d34f9e59",
   "metadata": {},
   "outputs": [
    {
     "data": {
      "text/plain": [
       "0"
      ]
     },
     "execution_count": 24,
     "metadata": {},
     "output_type": "execute_result"
    }
   ],
   "source": [
    "# registration null check:\n",
    "df['registration'].isnull().sum()"
   ]
  },
  {
   "cell_type": "code",
   "execution_count": 25,
   "id": "78f5e7bc-c17d-4060-9612-9dcc2e5e8a8c",
   "metadata": {},
   "outputs": [
    {
     "data": {
      "text/plain": [
       "(array(['-/-', '01/2016', '01/2017', '01/2018', '01/2019', '02/2016',\n",
       "        '02/2017', '02/2018', '02/2019', '03/2016', '03/2017', '03/2018',\n",
       "        '03/2019', '04/2016', '04/2017', '04/2018', '04/2019', '05/2016',\n",
       "        '05/2017', '05/2018', '05/2019', '06/2016', '06/2017', '06/2018',\n",
       "        '06/2019', '07/2016', '07/2017', '07/2018', '07/2019', '08/2016',\n",
       "        '08/2017', '08/2018', '08/2019', '09/2016', '09/2017', '09/2018',\n",
       "        '09/2019', '10/2016', '10/2017', '10/2018', '11/2016', '11/2017',\n",
       "        '11/2018', '11/2019', '12/2016', '12/2017', '12/2018', '12/2019'],\n",
       "       dtype=object),\n",
       " array([1597,  376,  306,  511,  541,  472,  368,  539,  585,  536,  471,\n",
       "         695,  543,  532,  380,  541,  506,  459,  404,  572,  440,  452,\n",
       "         409,  532,  224,  176,  215,  396,    6,   94,  114,  285,    1,\n",
       "         141,  149,  141,    5,  160,  154,   97,  142,  180,  110,    1,\n",
       "         134,  123,  103,    1]))"
      ]
     },
     "execution_count": 25,
     "metadata": {},
     "output_type": "execute_result"
    }
   ],
   "source": [
    "np.unique(df['registration'], return_counts=True,equal_nan=True)"
   ]
  },
  {
   "cell_type": "code",
   "execution_count": 26,
   "id": "3529be72-4abc-4694-a189-08fbc91870cd",
   "metadata": {},
   "outputs": [
    {
     "data": {
      "text/html": [
       "<div>\n",
       "<style scoped>\n",
       "    .dataframe tbody tr th:only-of-type {\n",
       "        vertical-align: middle;\n",
       "    }\n",
       "\n",
       "    .dataframe tbody tr th {\n",
       "        vertical-align: top;\n",
       "    }\n",
       "\n",
       "    .dataframe thead th {\n",
       "        text-align: right;\n",
       "    }\n",
       "</style>\n",
       "<table border=\"1\" class=\"dataframe\">\n",
       "  <thead>\n",
       "    <tr style=\"text-align: right;\">\n",
       "      <th></th>\n",
       "      <th>registration</th>\n",
       "      <th>registration_month</th>\n",
       "      <th>registration_year</th>\n",
       "    </tr>\n",
       "  </thead>\n",
       "  <tbody>\n",
       "    <tr>\n",
       "      <th>13836</th>\n",
       "      <td>02/2016</td>\n",
       "      <td>02</td>\n",
       "      <td>2016</td>\n",
       "    </tr>\n",
       "    <tr>\n",
       "      <th>12464</th>\n",
       "      <td>-/-</td>\n",
       "      <td>none</td>\n",
       "      <td>none</td>\n",
       "    </tr>\n",
       "    <tr>\n",
       "      <th>13054</th>\n",
       "      <td>-/-</td>\n",
       "      <td>none</td>\n",
       "      <td>none</td>\n",
       "    </tr>\n",
       "    <tr>\n",
       "      <th>14848</th>\n",
       "      <td>-/-</td>\n",
       "      <td>none</td>\n",
       "      <td>none</td>\n",
       "    </tr>\n",
       "    <tr>\n",
       "      <th>6272</th>\n",
       "      <td>03/2017</td>\n",
       "      <td>03</td>\n",
       "      <td>2017</td>\n",
       "    </tr>\n",
       "    <tr>\n",
       "      <th>8726</th>\n",
       "      <td>07/2016</td>\n",
       "      <td>07</td>\n",
       "      <td>2016</td>\n",
       "    </tr>\n",
       "    <tr>\n",
       "      <th>6678</th>\n",
       "      <td>03/2018</td>\n",
       "      <td>03</td>\n",
       "      <td>2018</td>\n",
       "    </tr>\n",
       "    <tr>\n",
       "      <th>10781</th>\n",
       "      <td>02/2017</td>\n",
       "      <td>02</td>\n",
       "      <td>2017</td>\n",
       "    </tr>\n",
       "    <tr>\n",
       "      <th>8797</th>\n",
       "      <td>02/2016</td>\n",
       "      <td>02</td>\n",
       "      <td>2016</td>\n",
       "    </tr>\n",
       "    <tr>\n",
       "      <th>11566</th>\n",
       "      <td>02/2018</td>\n",
       "      <td>02</td>\n",
       "      <td>2018</td>\n",
       "    </tr>\n",
       "    <tr>\n",
       "      <th>6200</th>\n",
       "      <td>06/2016</td>\n",
       "      <td>06</td>\n",
       "      <td>2016</td>\n",
       "    </tr>\n",
       "    <tr>\n",
       "      <th>15624</th>\n",
       "      <td>05/2018</td>\n",
       "      <td>05</td>\n",
       "      <td>2018</td>\n",
       "    </tr>\n",
       "    <tr>\n",
       "      <th>11939</th>\n",
       "      <td>01/2018</td>\n",
       "      <td>01</td>\n",
       "      <td>2018</td>\n",
       "    </tr>\n",
       "    <tr>\n",
       "      <th>13942</th>\n",
       "      <td>07/2017</td>\n",
       "      <td>07</td>\n",
       "      <td>2017</td>\n",
       "    </tr>\n",
       "    <tr>\n",
       "      <th>666</th>\n",
       "      <td>03/2016</td>\n",
       "      <td>03</td>\n",
       "      <td>2016</td>\n",
       "    </tr>\n",
       "    <tr>\n",
       "      <th>14005</th>\n",
       "      <td>03/2017</td>\n",
       "      <td>03</td>\n",
       "      <td>2017</td>\n",
       "    </tr>\n",
       "    <tr>\n",
       "      <th>14817</th>\n",
       "      <td>03/2019</td>\n",
       "      <td>03</td>\n",
       "      <td>2019</td>\n",
       "    </tr>\n",
       "    <tr>\n",
       "      <th>15478</th>\n",
       "      <td>02/2019</td>\n",
       "      <td>02</td>\n",
       "      <td>2019</td>\n",
       "    </tr>\n",
       "    <tr>\n",
       "      <th>2765</th>\n",
       "      <td>10/2016</td>\n",
       "      <td>10</td>\n",
       "      <td>2016</td>\n",
       "    </tr>\n",
       "    <tr>\n",
       "      <th>4717</th>\n",
       "      <td>-/-</td>\n",
       "      <td>none</td>\n",
       "      <td>none</td>\n",
       "    </tr>\n",
       "    <tr>\n",
       "      <th>12853</th>\n",
       "      <td>01/2019</td>\n",
       "      <td>01</td>\n",
       "      <td>2019</td>\n",
       "    </tr>\n",
       "    <tr>\n",
       "      <th>6918</th>\n",
       "      <td>01/2017</td>\n",
       "      <td>01</td>\n",
       "      <td>2017</td>\n",
       "    </tr>\n",
       "    <tr>\n",
       "      <th>5512</th>\n",
       "      <td>-/-</td>\n",
       "      <td>none</td>\n",
       "      <td>none</td>\n",
       "    </tr>\n",
       "    <tr>\n",
       "      <th>14935</th>\n",
       "      <td>12/2016</td>\n",
       "      <td>12</td>\n",
       "      <td>2016</td>\n",
       "    </tr>\n",
       "    <tr>\n",
       "      <th>8669</th>\n",
       "      <td>06/2016</td>\n",
       "      <td>06</td>\n",
       "      <td>2016</td>\n",
       "    </tr>\n",
       "  </tbody>\n",
       "</table>\n",
       "</div>"
      ],
      "text/plain": [
       "      registration registration_month registration_year\n",
       "13836      02/2016                 02              2016\n",
       "12464          -/-               none              none\n",
       "13054          -/-               none              none\n",
       "14848          -/-               none              none\n",
       "6272       03/2017                 03              2017\n",
       "8726       07/2016                 07              2016\n",
       "6678       03/2018                 03              2018\n",
       "10781      02/2017                 02              2017\n",
       "8797       02/2016                 02              2016\n",
       "11566      02/2018                 02              2018\n",
       "6200       06/2016                 06              2016\n",
       "15624      05/2018                 05              2018\n",
       "11939      01/2018                 01              2018\n",
       "13942      07/2017                 07              2017\n",
       "666        03/2016                 03              2016\n",
       "14005      03/2017                 03              2017\n",
       "14817      03/2019                 03              2019\n",
       "15478      02/2019                 02              2019\n",
       "2765       10/2016                 10              2016\n",
       "4717           -/-               none              none\n",
       "12853      01/2019                 01              2019\n",
       "6918       01/2017                 01              2017\n",
       "5512           -/-               none              none\n",
       "14935      12/2016                 12              2016\n",
       "8669       06/2016                 06              2016"
      ]
     },
     "execution_count": 26,
     "metadata": {},
     "output_type": "execute_result"
    }
   ],
   "source": [
    "# Split the 'registration' column into 'registration_month' and 'registration_year'\n",
    "df[['registration_month', 'registration_year']] = df['registration'].str.split('/', expand=True)\n",
    "\n",
    "# Replace invalid entries with 'none'\n",
    "df['registration_month'] = df['registration_month'].replace('-', 'none')\n",
    "df['registration_year'] = df['registration_year'].replace('-', 'none')\n",
    "\n",
    "# sample registration\n",
    "df[['registration', 'registration_month', 'registration_year']].sample(25)"
   ]
  },
  {
   "cell_type": "code",
   "execution_count": 28,
   "id": "67584ddd-a640-4d48-98ae-95aa18419c0a",
   "metadata": {},
   "outputs": [
    {
     "data": {
      "text/plain": [
       "(array(['1 previous owner', '2 previous owners', '3 previous owners',\n",
       "        '4 previous owners', 'none'], dtype=object),\n",
       " array([8294,  778,   17,    2, 6828]))"
      ]
     },
     "execution_count": 28,
     "metadata": {},
     "output_type": "execute_result"
    }
   ],
   "source": [
    "# prev_owner\n",
    "df['prev_owner'].fillna('none',inplace=True)\n",
    "np.unique(df['prev_owner'], return_counts=True, equal_nan=True)"
   ]
  },
  {
   "cell_type": "code",
   "execution_count": 29,
   "id": "43e1f24b-d6da-4f2a-a6e1-25745adac283",
   "metadata": {},
   "outputs": [
    {
     "data": {
      "text/plain": [
       "(array(['1_previous_owner', '2_previous_owners', '3_previous_owners',\n",
       "        '4_previous_owners', 'none'], dtype=object),\n",
       " array([8294,  778,   17,    2, 6828]))"
      ]
     },
     "execution_count": 29,
     "metadata": {},
     "output_type": "execute_result"
    }
   ],
   "source": [
    "df['prev_owner'] = df['prev_owner'].str.replace(' ', '_')\n",
    "np.unique(df['prev_owner'], return_counts=True, equal_nan=True)"
   ]
  },
  {
   "cell_type": "code",
   "execution_count": 34,
   "id": "cbbdfffb-238b-463f-b749-c9ae0e7dc894",
   "metadata": {},
   "outputs": [
    {
     "data": {
      "text/plain": [
       "7864                [\\n06/2020\\n, \\n134 g CO2/km (comb)\\n]\n",
       "10251               [\\n06/2022\\n, \\n129 g CO2/km (comb)\\n]\n",
       "11427    [\\n03/2021\\n, \\n, 6.7 l/100 km (comb), \\n, 9.4...\n",
       "5040                [\\n03/2022\\n, \\n106 g CO2/km (comb)\\n]\n",
       "8450                             [\\n08/2020\\n, \\nEuro 6\\n]\n",
       "15159               [\\n06/2020\\n, \\n120 g CO2/km (comb)\\n]\n",
       "5807                [\\n04/2021\\n, \\n122 g CO2/km (comb)\\n]\n",
       "10473               [\\n12/2019\\n, \\n170 g CO2/km (comb)\\n]\n",
       "8570                [\\n04/2020\\n, \\n137 g CO2/km (comb)\\n]\n",
       "1213                 [\\n10/2020\\n, \\n97 g CO2/km (comb)\\n]\n",
       "2527                                           \\n03/2022\\n\n",
       "14994               [\\n05/2019\\n, \\n123 g CO2/km (comb)\\n]\n",
       "5364                [\\n01/2022\\n, \\n117 g CO2/km (comb)\\n]\n",
       "10087    [\\n06/2021\\n, \\n, 5.9 l/100 km (comb), \\n, 7.5...\n",
       "7494     [\\n09/2019\\n, \\n, 4.7 l/100 km (comb), \\n, 5.4...\n",
       "4810                [\\n07/2021\\n, \\n107 g CO2/km (comb)\\n]\n",
       "9316     [\\n06/2019\\n, \\n, 4.7 l/100 km (comb), \\n, 5.8...\n",
       "175                  [\\n03/2020\\n, \\n99 g CO2/km (comb)\\n]\n",
       "507                  [\\n10/2019\\n, \\n97 g CO2/km (comb)\\n]\n",
       "2306                [\\n06/2021\\n, \\n108 g CO2/km (comb)\\n]\n",
       "9390                [\\n04/2021\\n, \\n129 g CO2/km (comb)\\n]\n",
       "12620    [\\n05/2022\\n, \\n, 7.9 l/100 km (comb), \\n, 8.3...\n",
       "8189                                           \\n04/2022\\n\n",
       "6039                [\\n10/2020\\n, \\n119 g CO2/km (comb)\\n]\n",
       "5691                [\\n01/2022\\n, \\n114 g CO2/km (comb)\\n]\n",
       "Name: next_inspection, dtype: object"
      ]
     },
     "execution_count": 34,
     "metadata": {},
     "output_type": "execute_result"
    }
   ],
   "source": [
    "# next inspection\n",
    "df['next_inspection'].fillna('none',inplace=True)\n",
    "df[df['next_inspection'] != 'none']['next_inspection'].sample(25)"
   ]
  },
  {
   "cell_type": "code",
   "execution_count": 39,
   "id": "a45d9f63-4f53-4c6f-824d-c3458b86adaf",
   "metadata": {},
   "outputs": [
    {
     "data": {
      "text/plain": [
       "['\\n06/2021\\n',\n",
       " '\\n',\n",
       " '5.9 l/100 km (comb)',\n",
       " '\\n',\n",
       " '7.5 l/100 km (city)',\n",
       " '\\n',\n",
       " '5 l/100 km (country)',\n",
       " '\\n']"
      ]
     },
     "execution_count": 39,
     "metadata": {},
     "output_type": "execute_result"
    }
   ],
   "source": [
    "df['next_inspection'].iloc[10087]"
   ]
  },
  {
   "cell_type": "code",
   "execution_count": 41,
   "id": "f13b6c50-a895-47bb-8e17-ba936bf637a9",
   "metadata": {},
   "outputs": [
    {
     "data": {
      "text/plain": [
       "5020            [\\nYes\\n, \\nEuro 6d-TEMP\\n]\n",
       "11434                 [\\nYes\\n, \\nEuro 6\\n]\n",
       "8444     [\\nYes\\n, \\n139 g CO2/km (comb)\\n]\n",
       "92                    [\\nYes\\n, \\nEuro 6\\n]\n",
       "4994            [\\nYes\\n, \\nEuro 6d-TEMP\\n]\n",
       "15520    [\\nYes\\n, \\n135 g CO2/km (comb)\\n]\n",
       "9089                  [\\nYes\\n, \\nEuro 6\\n]\n",
       "12071           [\\nYes\\n, \\nEuro 6d-TEMP\\n]\n",
       "14342    [\\nYes\\n, \\n113 g CO2/km (comb)\\n]\n",
       "11633    [\\nYes\\n, \\n119 g CO2/km (comb)\\n]\n",
       "9359     [\\nYes\\n, \\n150 g CO2/km (comb)\\n]\n",
       "13504                               \\nYes\\n\n",
       "6760      [\\nYes\\n, \\n92 g CO2/km (comb)\\n]\n",
       "3798                  [\\nYes\\n, \\nEuro 6\\n]\n",
       "13688                               \\nYes\\n\n",
       "8706     [\\nYes\\n, \\n126 g CO2/km (comb)\\n]\n",
       "15735                               \\nYes\\n\n",
       "10575                               \\nYes\\n\n",
       "5542     [\\nYes\\n, \\n118 g CO2/km (comb)\\n]\n",
       "11259    [\\nYes\\n, \\n141 g CO2/km (comb)\\n]\n",
       "12833    [\\nYes\\n, \\n156 g CO2/km (comb)\\n]\n",
       "10549    [\\nYes\\n, \\n164 g CO2/km (comb)\\n]\n",
       "11126    [\\nYes\\n, \\n104 g CO2/km (comb)\\n]\n",
       "5630     [\\nYes\\n, \\n118 g CO2/km (comb)\\n]\n",
       "9707     [\\nYes\\n, \\n143 g CO2/km (comb)\\n]\n",
       "Name: inspection_new, dtype: object"
      ]
     },
     "execution_count": 41,
     "metadata": {},
     "output_type": "execute_result"
    }
   ],
   "source": [
    "df['inspection_new'].fillna('none',inplace=True)\n",
    "df[df['inspection_new'] != 'none']['inspection_new'].sample(25)"
   ]
  },
  {
   "cell_type": "code",
   "execution_count": null,
   "id": "5de2a747-9c1c-4e35-b57f-35504f165790",
   "metadata": {},
   "outputs": [],
   "source": []
  }
 ],
 "metadata": {
  "kernelspec": {
   "display_name": "Python 3 (ipykernel)",
   "language": "python",
   "name": "python3"
  },
  "language_info": {
   "codemirror_mode": {
    "name": "ipython",
    "version": 3
   },
   "file_extension": ".py",
   "mimetype": "text/x-python",
   "name": "python",
   "nbconvert_exporter": "python",
   "pygments_lexer": "ipython3",
   "version": "3.8.10"
  }
 },
 "nbformat": 4,
 "nbformat_minor": 5
}
