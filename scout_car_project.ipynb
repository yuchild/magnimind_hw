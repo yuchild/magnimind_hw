{
 "cells": [
  {
   "cell_type": "code",
   "execution_count": 1,
   "id": "7d3a83bb",
   "metadata": {},
   "outputs": [],
   "source": [
    "import pandas as pd\n",
    "import numpy as np\n",
    "from src import scout_car_clean as scc\n",
    "\n",
    "%load_ext autoreload\n",
    "%autoreload 2"
   ]
  },
  {
   "cell_type": "code",
   "execution_count": 2,
   "id": "8fc097be",
   "metadata": {},
   "outputs": [
    {
     "name": "stdout",
     "output_type": "stream",
     "text": [
      "/media/oem/onetbsamdot/ezt/github/magnimind_hw\n"
     ]
    }
   ],
   "source": [
    "import os\n",
    "print(os.getcwd())"
   ]
  },
  {
   "cell_type": "code",
   "execution_count": 3,
   "id": "5cbf6e41",
   "metadata": {},
   "outputs": [],
   "source": [
    "df_org = pd.read_json('./data/scout_car.json', lines=True)\n",
    "df = df_org.copy()"
   ]
  },
  {
   "cell_type": "code",
   "execution_count": 4,
   "id": "fc59259e",
   "metadata": {},
   "outputs": [
    {
     "data": {
      "text/plain": [
       "'\\n**Columns**\\n* url: url of autos\\n* short_description, description: Description of autos (in English and German) written by users\\n* make_model, make, model: Model of autos. Ex:Audi A1\\n* body_type, body: Body type of autos Example: van, sedans\\n* vat: VAT deductible, price negotiable\\n* registration, first_registration: First registration date and year of autos.\\n* prev_owner, previous_owners: Number of previous owners\\n* type: new or used\\n* next_inspection, inspection_new: information about inspection (inspection date,..)\\n* body_color, body_color_original: Color of auto Ex: Black, red\\n* paint_type: Paint type of auto Ex: Metallic, Uni/basic\\n* upholstery: Upholstery information (texture, color)\\n* gearing_type: Type of gear Ex: automatic, manual\\n* fuel : fuel type Ex: diesel, benzine\\n* co2_emission, emission_class, emission_label: emission information\\n* drive_chain: drive chain Ex: front,rear, 4WD\\n* consumption: consumption of auto in city, country and combination (lt/100 km)\\n* country_version\\n* entertainment_media\\n* safety_security\\n* comfort_convenience\\n* extras\\n* price: Price of cars\\n* km: km of autos\\n* hp: horsepower of autos (kW)\\n* displacement: displacement of autos (cc)\\n* warranty: warranty period (month)\\n* weight: weight of auto (kg)\\n* nr_of_doors: number of doors\\n* nr_of_seats : number of seats\\n* cylinders: number of cylinders\\n* gears: number of gears\\n\\n'"
      ]
     },
     "execution_count": 4,
     "metadata": {},
     "output_type": "execute_result"
    }
   ],
   "source": [
    "\"\"\"\n",
    "**Columns**\n",
    "* url: url of autos\n",
    "* short_description, description: Description of autos (in English and German) written by users\n",
    "* make_model, make, model: Model of autos. Ex:Audi A1\n",
    "* body_type, body: Body type of autos Example: van, sedans\n",
    "* vat: VAT deductible, price negotiable\n",
    "* registration, first_registration: First registration date and year of autos.\n",
    "* prev_owner, previous_owners: Number of previous owners\n",
    "* type: new or used\n",
    "* next_inspection, inspection_new: information about inspection (inspection date,..)\n",
    "* body_color, body_color_original: Color of auto Ex: Black, red\n",
    "* paint_type: Paint type of auto Ex: Metallic, Uni/basic\n",
    "* upholstery: Upholstery information (texture, color)\n",
    "* gearing_type: Type of gear Ex: automatic, manual\n",
    "* fuel : fuel type Ex: diesel, benzine\n",
    "* co2_emission, emission_class, emission_label: emission information\n",
    "* drive_chain: drive chain Ex: front,rear, 4WD\n",
    "* consumption: consumption of auto in city, country and combination (lt/100 km)\n",
    "* country_version\n",
    "* entertainment_media\n",
    "* safety_security\n",
    "* comfort_convenience\n",
    "* extras\n",
    "* price: Price of cars\n",
    "* km: km of autos\n",
    "* hp: horsepower of autos (kW)\n",
    "* displacement: displacement of autos (cc)\n",
    "* warranty: warranty period (month)\n",
    "* weight: weight of auto (kg)\n",
    "* nr_of_doors: number of doors\n",
    "* nr_of_seats : number of seats\n",
    "* cylinders: number of cylinders\n",
    "* gears: number of gears\n",
    "\n",
    "\"\"\""
   ]
  },
  {
   "cell_type": "code",
   "execution_count": 5,
   "id": "2d644e36",
   "metadata": {},
   "outputs": [
    {
     "data": {
      "text/plain": [
       "Index(['url', 'make_model', 'short_description', 'body_type', 'price', 'vat',\n",
       "       'km', 'registration', 'prev_owner', 'kw', 'hp', 'type',\n",
       "       'previous_owners', 'next_inspection', 'inspection_new', 'warranty',\n",
       "       'full_service', 'nonsmoking_vehicle', 'null', 'make', 'model',\n",
       "       'offer_number', 'first_registration', 'body_color', 'paint_type',\n",
       "       'body_color_original', 'upholstery', 'body', 'nr_of_doors',\n",
       "       'nr_of_seats', 'model_code', 'gearing_type', 'displacement',\n",
       "       'cylinders', 'weight', 'drive_chain', 'fuel', 'consumption',\n",
       "       'co2_emission', 'emission_class', 'comfort_convenience',\n",
       "       'entertainment_media', 'extras', 'safety_security', 'description',\n",
       "       'emission_label', 'gears', 'country_version', 'electricity_consumption',\n",
       "       'last_service_date', 'other_fuel_types', 'availability',\n",
       "       'last_timing_belt_service_date', 'available_from'],\n",
       "      dtype='object')"
      ]
     },
     "execution_count": 5,
     "metadata": {},
     "output_type": "execute_result"
    }
   ],
   "source": [
    "# Replace special characters and spaces in column names\n",
    "df.columns = (\n",
    "    df.columns\n",
    "    .str.strip()\n",
    "    .str.lower()\n",
    "    .str.replace(r'[\\s\\n]+', '_', regex=True)\n",
    "    .str.replace(r'[^a-z0-9_]', '', regex=True)\n",
    "    .str.replace(r'_+', '_', regex=True)\n",
    ")\n",
    "\n",
    "df.columns"
   ]
  },
  {
   "cell_type": "code",
   "execution_count": 6,
   "id": "f2694fc5",
   "metadata": {},
   "outputs": [],
   "source": [
    "# df.drop(['entertainment_media', 'safety_security', 'comfort_convenience', 'extras'],axis=1,inplace=True)\n",
    "# df.columns"
   ]
  },
  {
   "cell_type": "code",
   "execution_count": 7,
   "id": "681bd5ca",
   "metadata": {},
   "outputs": [
    {
     "data": {
      "text/plain": [
       "15919"
      ]
     },
     "execution_count": 7,
     "metadata": {},
     "output_type": "execute_result"
    }
   ],
   "source": [
    "len(np.unique(df['url']))"
   ]
  },
  {
   "cell_type": "code",
   "execution_count": 8,
   "id": "7f1beb7b",
   "metadata": {},
   "outputs": [
    {
     "name": "stdout",
     "output_type": "stream",
     "text": [
      "<class 'pandas.core.frame.DataFrame'>\n",
      "RangeIndex: 15919 entries, 0 to 15918\n",
      "Data columns (total 54 columns):\n",
      " #   Column                         Non-Null Count  Dtype  \n",
      "---  ------                         --------------  -----  \n",
      " 0   url                            15919 non-null  object \n",
      " 1   make_model                     15919 non-null  object \n",
      " 2   short_description              15873 non-null  object \n",
      " 3   body_type                      15859 non-null  object \n",
      " 4   price                          15919 non-null  int64  \n",
      " 5   vat                            11406 non-null  object \n",
      " 6   km                             15919 non-null  object \n",
      " 7   registration                   15919 non-null  object \n",
      " 8   prev_owner                     9091 non-null   object \n",
      " 9   kw                             0 non-null      float64\n",
      " 10  hp                             15919 non-null  object \n",
      " 11  type                           15917 non-null  object \n",
      " 12  previous_owners                9279 non-null   object \n",
      " 13  next_inspection                3535 non-null   object \n",
      " 14  inspection_new                 3932 non-null   object \n",
      " 15  warranty                       10499 non-null  object \n",
      " 16  full_service                   8215 non-null   object \n",
      " 17  nonsmoking_vehicle             7177 non-null   object \n",
      " 18  null                           15919 non-null  object \n",
      " 19  make                           15919 non-null  object \n",
      " 20  model                          15919 non-null  object \n",
      " 21  offer_number                   12744 non-null  object \n",
      " 22  first_registration             14322 non-null  object \n",
      " 23  body_color                     15322 non-null  object \n",
      " 24  paint_type                     10147 non-null  object \n",
      " 25  body_color_original            12160 non-null  object \n",
      " 26  upholstery                     12199 non-null  object \n",
      " 27  body                           15859 non-null  object \n",
      " 28  nr_of_doors                    15707 non-null  object \n",
      " 29  nr_of_seats                    14942 non-null  object \n",
      " 30  model_code                     4978 non-null   object \n",
      " 31  gearing_type                   15919 non-null  object \n",
      " 32  displacement                   15423 non-null  object \n",
      " 33  cylinders                      10239 non-null  object \n",
      " 34  weight                         8945 non-null   object \n",
      " 35  drive_chain                    9061 non-null   object \n",
      " 36  fuel                           15919 non-null  object \n",
      " 37  consumption                    14013 non-null  object \n",
      " 38  co2_emission                   14111 non-null  object \n",
      " 39  emission_class                 12898 non-null  object \n",
      " 40  comfort_convenience            14999 non-null  object \n",
      " 41  entertainment_media            14545 non-null  object \n",
      " 42  extras                         12957 non-null  object \n",
      " 43  safety_security                14937 non-null  object \n",
      " 44  description                    15919 non-null  object \n",
      " 45  emission_label                 3985 non-null   object \n",
      " 46  gears                          11207 non-null  object \n",
      " 47  country_version                7586 non-null   object \n",
      " 48  electricity_consumption        137 non-null    object \n",
      " 49  last_service_date              566 non-null    object \n",
      " 50  other_fuel_types               880 non-null    object \n",
      " 51  availability                   635 non-null    object \n",
      " 52  last_timing_belt_service_date  16 non-null     object \n",
      " 53  available_from                 272 non-null    object \n",
      "dtypes: float64(1), int64(1), object(52)\n",
      "memory usage: 6.6+ MB\n"
     ]
    }
   ],
   "source": [
    "df.info()"
   ]
  },
  {
   "cell_type": "code",
   "execution_count": 9,
   "id": "ed433f61",
   "metadata": {},
   "outputs": [
    {
     "data": {
      "text/plain": [
       "(15919, 54)"
      ]
     },
     "execution_count": 9,
     "metadata": {},
     "output_type": "execute_result"
    }
   ],
   "source": [
    "df.shape"
   ]
  },
  {
   "cell_type": "code",
   "execution_count": 10,
   "id": "483e3b9b-e981-4431-be4e-b597816a77c6",
   "metadata": {},
   "outputs": [
    {
     "data": {
      "text/plain": [
       "15919"
      ]
     },
     "execution_count": 10,
     "metadata": {},
     "output_type": "execute_result"
    }
   ],
   "source": [
    "# url unique count\n",
    "len(np.unique(df['url']))"
   ]
  },
  {
   "cell_type": "code",
   "execution_count": 11,
   "id": "eba1a563-52ca-4b7c-b29a-b8e5945218d4",
   "metadata": {},
   "outputs": [
    {
     "data": {
      "text/plain": [
       "9"
      ]
     },
     "execution_count": 11,
     "metadata": {},
     "output_type": "execute_result"
    }
   ],
   "source": [
    "# make_model unique count\n",
    "len(np.unique(df['make_model']))"
   ]
  },
  {
   "cell_type": "code",
   "execution_count": 12,
   "id": "67857fb3-c3ef-4df5-b3f7-46a2e99ad157",
   "metadata": {},
   "outputs": [
    {
     "data": {
      "text/plain": [
       "(array(['Audi A1', 'Audi A2', 'Audi A3', 'Opel Astra', 'Opel Corsa',\n",
       "        'Opel Insignia', 'Renault Clio', 'Renault Duster',\n",
       "        'Renault Espace'], dtype=object),\n",
       " array([2614,    1, 3097, 2526, 2219, 2598, 1839,   34,  991]))"
      ]
     },
     "execution_count": 12,
     "metadata": {},
     "output_type": "execute_result"
    }
   ],
   "source": [
    "np.unique(df['make_model'], return_counts=True,equal_nan=True)"
   ]
  },
  {
   "cell_type": "code",
   "execution_count": 13,
   "id": "ea62cb1f-d004-4a7a-9240-6afc9866711a",
   "metadata": {},
   "outputs": [
    {
     "data": {
      "text/plain": [
       "(array(['audi_a1', 'audi_a2', 'audi_a3', 'opel_astra', 'opel_corsa',\n",
       "        'opel_insignia', 'renault_clio', 'renault_duster',\n",
       "        'renault_espace'], dtype=object),\n",
       " array([2614,    1, 3097, 2526, 2219, 2598, 1839,   34,  991]))"
      ]
     },
     "execution_count": 13,
     "metadata": {},
     "output_type": "execute_result"
    }
   ],
   "source": [
    "# make separate columns for 'make' and 'model'\n",
    "df['make_model'] = df['make_model'].str.lower().str.replace(' ', '_')\n",
    "np.unique(df['make_model'], return_counts=True,equal_nan=True)"
   ]
  },
  {
   "cell_type": "code",
   "execution_count": 14,
   "id": "69439f9e-86f2-4dca-9443-da3cdaf8b985",
   "metadata": {},
   "outputs": [
    {
     "data": {
      "text/plain": [
       "(array([' 1,6 CDTI**NAVI*Klimaaut*Tempomat*EURO6*TÜV NEU',\n",
       "        ' 1.4 75 cv5 porte b-color', ' 1.4 TFSI Attraction (125 CV)', ...,\n",
       "        'van 1.5 dci 75cv S&S E6', 'zoé life', 'Österr. Edition 16.CDTI'],\n",
       "       dtype=object),\n",
       " array([ 1,  1,  6, ..., 24,  1,  1]))"
      ]
     },
     "execution_count": 14,
     "metadata": {},
     "output_type": "execute_result"
    }
   ],
   "source": [
    "# short description unique count, can be dropped\n",
    "df['short_description'].fillna('none', inplace=True)\n",
    "np.unique(df['short_description'], return_counts=True,equal_nan=True)"
   ]
  },
  {
   "cell_type": "code",
   "execution_count": 15,
   "id": "a4b40ea0-2cc0-4abf-8f9d-e35e8b0ba91d",
   "metadata": {},
   "outputs": [
    {
     "data": {
      "text/plain": [
       "0"
      ]
     },
     "execution_count": 15,
     "metadata": {},
     "output_type": "execute_result"
    }
   ],
   "source": [
    "df['short_description'].isnull().sum()"
   ]
  },
  {
   "cell_type": "code",
   "execution_count": 16,
   "id": "c91ea193-2253-494c-af6c-8a902759a693",
   "metadata": {},
   "outputs": [
    {
     "data": {
      "text/plain": [
       "0"
      ]
     },
     "execution_count": 16,
     "metadata": {},
     "output_type": "execute_result"
    }
   ],
   "source": [
    "df['short_description'].fillna('none', inplace=True)\n",
    "df['short_description'].isnull().sum()"
   ]
  },
  {
   "cell_type": "code",
   "execution_count": 17,
   "id": "209c6075-9369-4ad8-90e3-cd7d05148a34",
   "metadata": {},
   "outputs": [
    {
     "data": {
      "text/plain": [
       "(array(['compact', 'convertible', 'coupe', 'none', 'off_road', 'other',\n",
       "        'sedans', 'station_wagon', 'transporter', 'van'], dtype=object),\n",
       " array([3153,    8,   25,   60,   56,  290, 7903, 3553,   88,  783]))"
      ]
     },
     "execution_count": 17,
     "metadata": {},
     "output_type": "execute_result"
    }
   ],
   "source": [
    "# body type\n",
    "df['body_type'].fillna('none', inplace=True)\n",
    "df['body_type'] = df['body_type'].str.lower().str.replace('-', '_').str.replace(' ', '_')\n",
    "np.unique(df['body_type'], return_counts=True,equal_nan=True)"
   ]
  },
  {
   "cell_type": "code",
   "execution_count": 18,
   "id": "b0e667c9-e7a7-4208-a127-bb7aa93da0a9",
   "metadata": {},
   "outputs": [
    {
     "data": {
      "text/plain": [
       "0"
      ]
     },
     "execution_count": 18,
     "metadata": {},
     "output_type": "execute_result"
    }
   ],
   "source": [
    "# price null check\n",
    "df['price'].isnull().sum()"
   ]
  },
  {
   "cell_type": "code",
   "execution_count": 19,
   "id": "c0bd5c9d-156f-44c1-a7fc-7a3b6f0d5602",
   "metadata": {},
   "outputs": [
    {
     "data": {
      "text/plain": [
       "(array(['none', 'price_negotiable', 'vat_deductible'], dtype=object),\n",
       " array([ 4513,   426, 10980]))"
      ]
     },
     "execution_count": 19,
     "metadata": {},
     "output_type": "execute_result"
    }
   ],
   "source": [
    "# vat\n",
    "df['vat'].fillna('none', inplace=True) # not needed replace with np.nan\n",
    "df['vat'] = df['vat'].str.lower().str.replace(' ', '_')\n",
    "np.unique(df['vat'], return_counts=True,equal_nan=True)"
   ]
  },
  {
   "cell_type": "code",
   "execution_count": 20,
   "id": "cd66dabf-d1b1-4916-8f63-c0874e284baa",
   "metadata": {},
   "outputs": [
    {
     "data": {
      "text/plain": [
       "0"
      ]
     },
     "execution_count": 20,
     "metadata": {},
     "output_type": "execute_result"
    }
   ],
   "source": [
    "df['vat'].isnull().sum()"
   ]
  },
  {
   "cell_type": "code",
   "execution_count": 21,
   "id": "4cc0d0fc-a26c-43d2-b2c5-f8ce5376498c",
   "metadata": {},
   "outputs": [
    {
     "data": {
      "text/plain": [
       "0"
      ]
     },
     "execution_count": 21,
     "metadata": {},
     "output_type": "execute_result"
    }
   ],
   "source": [
    "# km null check\n",
    "df['km'].isnull().sum()"
   ]
  },
  {
   "cell_type": "code",
   "execution_count": 22,
   "id": "f284bc80-3e9c-4b0e-8511-7c03d34f9e59",
   "metadata": {},
   "outputs": [
    {
     "data": {
      "text/plain": [
       "0"
      ]
     },
     "execution_count": 22,
     "metadata": {},
     "output_type": "execute_result"
    }
   ],
   "source": [
    "# registration null check:\n",
    "df['registration'].isnull().sum()"
   ]
  },
  {
   "cell_type": "code",
   "execution_count": 23,
   "id": "78f5e7bc-c17d-4060-9612-9dcc2e5e8a8c",
   "metadata": {},
   "outputs": [
    {
     "data": {
      "text/plain": [
       "(array(['-/-', '01/2016', '01/2017', '01/2018', '01/2019', '02/2016',\n",
       "        '02/2017', '02/2018', '02/2019', '03/2016', '03/2017', '03/2018',\n",
       "        '03/2019', '04/2016', '04/2017', '04/2018', '04/2019', '05/2016',\n",
       "        '05/2017', '05/2018', '05/2019', '06/2016', '06/2017', '06/2018',\n",
       "        '06/2019', '07/2016', '07/2017', '07/2018', '07/2019', '08/2016',\n",
       "        '08/2017', '08/2018', '08/2019', '09/2016', '09/2017', '09/2018',\n",
       "        '09/2019', '10/2016', '10/2017', '10/2018', '11/2016', '11/2017',\n",
       "        '11/2018', '11/2019', '12/2016', '12/2017', '12/2018', '12/2019'],\n",
       "       dtype=object),\n",
       " array([1597,  376,  306,  511,  541,  472,  368,  539,  585,  536,  471,\n",
       "         695,  543,  532,  380,  541,  506,  459,  404,  572,  440,  452,\n",
       "         409,  532,  224,  176,  215,  396,    6,   94,  114,  285,    1,\n",
       "         141,  149,  141,    5,  160,  154,   97,  142,  180,  110,    1,\n",
       "         134,  123,  103,    1]))"
      ]
     },
     "execution_count": 23,
     "metadata": {},
     "output_type": "execute_result"
    }
   ],
   "source": [
    "np.unique(df['registration'], return_counts=True,equal_nan=True)"
   ]
  },
  {
   "cell_type": "code",
   "execution_count": 24,
   "id": "3529be72-4abc-4694-a189-08fbc91870cd",
   "metadata": {},
   "outputs": [
    {
     "data": {
      "text/html": [
       "<div>\n",
       "<style scoped>\n",
       "    .dataframe tbody tr th:only-of-type {\n",
       "        vertical-align: middle;\n",
       "    }\n",
       "\n",
       "    .dataframe tbody tr th {\n",
       "        vertical-align: top;\n",
       "    }\n",
       "\n",
       "    .dataframe thead th {\n",
       "        text-align: right;\n",
       "    }\n",
       "</style>\n",
       "<table border=\"1\" class=\"dataframe\">\n",
       "  <thead>\n",
       "    <tr style=\"text-align: right;\">\n",
       "      <th></th>\n",
       "      <th>registration</th>\n",
       "      <th>registration_month</th>\n",
       "      <th>registration_year</th>\n",
       "    </tr>\n",
       "  </thead>\n",
       "  <tbody>\n",
       "    <tr>\n",
       "      <th>2247</th>\n",
       "      <td>02/2019</td>\n",
       "      <td>02</td>\n",
       "      <td>2019</td>\n",
       "    </tr>\n",
       "    <tr>\n",
       "      <th>15069</th>\n",
       "      <td>05/2017</td>\n",
       "      <td>05</td>\n",
       "      <td>2017</td>\n",
       "    </tr>\n",
       "    <tr>\n",
       "      <th>10030</th>\n",
       "      <td>05/2019</td>\n",
       "      <td>05</td>\n",
       "      <td>2019</td>\n",
       "    </tr>\n",
       "    <tr>\n",
       "      <th>1449</th>\n",
       "      <td>07/2018</td>\n",
       "      <td>07</td>\n",
       "      <td>2018</td>\n",
       "    </tr>\n",
       "    <tr>\n",
       "      <th>12402</th>\n",
       "      <td>-/-</td>\n",
       "      <td>none</td>\n",
       "      <td>none</td>\n",
       "    </tr>\n",
       "    <tr>\n",
       "      <th>5455</th>\n",
       "      <td>-/-</td>\n",
       "      <td>none</td>\n",
       "      <td>none</td>\n",
       "    </tr>\n",
       "    <tr>\n",
       "      <th>14961</th>\n",
       "      <td>02/2016</td>\n",
       "      <td>02</td>\n",
       "      <td>2016</td>\n",
       "    </tr>\n",
       "    <tr>\n",
       "      <th>2848</th>\n",
       "      <td>06/2016</td>\n",
       "      <td>06</td>\n",
       "      <td>2016</td>\n",
       "    </tr>\n",
       "    <tr>\n",
       "      <th>13964</th>\n",
       "      <td>12/2017</td>\n",
       "      <td>12</td>\n",
       "      <td>2017</td>\n",
       "    </tr>\n",
       "    <tr>\n",
       "      <th>14100</th>\n",
       "      <td>08/2017</td>\n",
       "      <td>08</td>\n",
       "      <td>2017</td>\n",
       "    </tr>\n",
       "    <tr>\n",
       "      <th>4901</th>\n",
       "      <td>02/2018</td>\n",
       "      <td>02</td>\n",
       "      <td>2018</td>\n",
       "    </tr>\n",
       "    <tr>\n",
       "      <th>12355</th>\n",
       "      <td>03/2018</td>\n",
       "      <td>03</td>\n",
       "      <td>2018</td>\n",
       "    </tr>\n",
       "    <tr>\n",
       "      <th>605</th>\n",
       "      <td>07/2016</td>\n",
       "      <td>07</td>\n",
       "      <td>2016</td>\n",
       "    </tr>\n",
       "    <tr>\n",
       "      <th>4980</th>\n",
       "      <td>05/2018</td>\n",
       "      <td>05</td>\n",
       "      <td>2018</td>\n",
       "    </tr>\n",
       "    <tr>\n",
       "      <th>3784</th>\n",
       "      <td>04/2018</td>\n",
       "      <td>04</td>\n",
       "      <td>2018</td>\n",
       "    </tr>\n",
       "    <tr>\n",
       "      <th>8650</th>\n",
       "      <td>12/2017</td>\n",
       "      <td>12</td>\n",
       "      <td>2017</td>\n",
       "    </tr>\n",
       "    <tr>\n",
       "      <th>1556</th>\n",
       "      <td>07/2018</td>\n",
       "      <td>07</td>\n",
       "      <td>2018</td>\n",
       "    </tr>\n",
       "    <tr>\n",
       "      <th>14478</th>\n",
       "      <td>09/2018</td>\n",
       "      <td>09</td>\n",
       "      <td>2018</td>\n",
       "    </tr>\n",
       "    <tr>\n",
       "      <th>11806</th>\n",
       "      <td>-/-</td>\n",
       "      <td>none</td>\n",
       "      <td>none</td>\n",
       "    </tr>\n",
       "    <tr>\n",
       "      <th>3340</th>\n",
       "      <td>-/-</td>\n",
       "      <td>none</td>\n",
       "      <td>none</td>\n",
       "    </tr>\n",
       "    <tr>\n",
       "      <th>9105</th>\n",
       "      <td>02/2018</td>\n",
       "      <td>02</td>\n",
       "      <td>2018</td>\n",
       "    </tr>\n",
       "    <tr>\n",
       "      <th>1326</th>\n",
       "      <td>10/2017</td>\n",
       "      <td>10</td>\n",
       "      <td>2017</td>\n",
       "    </tr>\n",
       "    <tr>\n",
       "      <th>15515</th>\n",
       "      <td>02/2018</td>\n",
       "      <td>02</td>\n",
       "      <td>2018</td>\n",
       "    </tr>\n",
       "    <tr>\n",
       "      <th>2715</th>\n",
       "      <td>04/2016</td>\n",
       "      <td>04</td>\n",
       "      <td>2016</td>\n",
       "    </tr>\n",
       "    <tr>\n",
       "      <th>13890</th>\n",
       "      <td>07/2018</td>\n",
       "      <td>07</td>\n",
       "      <td>2018</td>\n",
       "    </tr>\n",
       "  </tbody>\n",
       "</table>\n",
       "</div>"
      ],
      "text/plain": [
       "      registration registration_month registration_year\n",
       "2247       02/2019                 02              2019\n",
       "15069      05/2017                 05              2017\n",
       "10030      05/2019                 05              2019\n",
       "1449       07/2018                 07              2018\n",
       "12402          -/-               none              none\n",
       "5455           -/-               none              none\n",
       "14961      02/2016                 02              2016\n",
       "2848       06/2016                 06              2016\n",
       "13964      12/2017                 12              2017\n",
       "14100      08/2017                 08              2017\n",
       "4901       02/2018                 02              2018\n",
       "12355      03/2018                 03              2018\n",
       "605        07/2016                 07              2016\n",
       "4980       05/2018                 05              2018\n",
       "3784       04/2018                 04              2018\n",
       "8650       12/2017                 12              2017\n",
       "1556       07/2018                 07              2018\n",
       "14478      09/2018                 09              2018\n",
       "11806          -/-               none              none\n",
       "3340           -/-               none              none\n",
       "9105       02/2018                 02              2018\n",
       "1326       10/2017                 10              2017\n",
       "15515      02/2018                 02              2018\n",
       "2715       04/2016                 04              2016\n",
       "13890      07/2018                 07              2018"
      ]
     },
     "execution_count": 24,
     "metadata": {},
     "output_type": "execute_result"
    }
   ],
   "source": [
    "# Split the 'registration' column into 'registration_month' and 'registration_year' use pd.to_datetime()\n",
    "df[['registration_month', 'registration_year']] = df['registration'].str.split('/', expand=True)\n",
    "\n",
    "# Replace invalid entries with 'none', convert to integer or float\n",
    "df['registration_month'] = df['registration_month'].replace('-', 'none')\n",
    "df['registration_year'] = df['registration_year'].replace('-', 'none')\n",
    "\n",
    "# sample registration\n",
    "df[['registration', 'registration_month', 'registration_year']].sample(25)"
   ]
  },
  {
   "cell_type": "code",
   "execution_count": 25,
   "id": "67584ddd-a640-4d48-98ae-95aa18419c0a",
   "metadata": {},
   "outputs": [
    {
     "data": {
      "text/plain": [
       "(array(['1 previous owner', '2 previous owners', '3 previous owners',\n",
       "        '4 previous owners', 'none'], dtype=object),\n",
       " array([8294,  778,   17,    2, 6828]))"
      ]
     },
     "execution_count": 25,
     "metadata": {},
     "output_type": "execute_result"
    }
   ],
   "source": [
    "# prev_owner\n",
    "df['prev_owner'].fillna('none',inplace=True)\n",
    "np.unique(df['prev_owner'], return_counts=True, equal_nan=True)"
   ]
  },
  {
   "cell_type": "code",
   "execution_count": 26,
   "id": "43e1f24b-d6da-4f2a-a6e1-25745adac283",
   "metadata": {},
   "outputs": [
    {
     "data": {
      "text/plain": [
       "(array(['1_previous_owner', '2_previous_owners', '3_previous_owners',\n",
       "        '4_previous_owners', 'none'], dtype=object),\n",
       " array([8294,  778,   17,    2, 6828]))"
      ]
     },
     "execution_count": 26,
     "metadata": {},
     "output_type": "execute_result"
    }
   ],
   "source": [
    "df['prev_owner'] = df['prev_owner'].str.replace(' ', '_')\n",
    "np.unique(df['prev_owner'], return_counts=True, equal_nan=True)"
   ]
  },
  {
   "cell_type": "code",
   "execution_count": 27,
   "id": "8d3d7834-3094-41dc-a322-59179452d164",
   "metadata": {},
   "outputs": [
    {
     "data": {
      "text/html": [
       "<div>\n",
       "<style scoped>\n",
       "    .dataframe tbody tr th:only-of-type {\n",
       "        vertical-align: middle;\n",
       "    }\n",
       "\n",
       "    .dataframe tbody tr th {\n",
       "        vertical-align: top;\n",
       "    }\n",
       "\n",
       "    .dataframe thead th {\n",
       "        text-align: right;\n",
       "    }\n",
       "</style>\n",
       "<table border=\"1\" class=\"dataframe\">\n",
       "  <thead>\n",
       "    <tr style=\"text-align: right;\">\n",
       "      <th></th>\n",
       "      <th>prev_owner</th>\n",
       "      <th>previous_owners</th>\n",
       "    </tr>\n",
       "  </thead>\n",
       "  <tbody>\n",
       "    <tr>\n",
       "      <th>12408</th>\n",
       "      <td>none</td>\n",
       "      <td>NaN</td>\n",
       "    </tr>\n",
       "    <tr>\n",
       "      <th>5119</th>\n",
       "      <td>none</td>\n",
       "      <td>NaN</td>\n",
       "    </tr>\n",
       "    <tr>\n",
       "      <th>2099</th>\n",
       "      <td>none</td>\n",
       "      <td>NaN</td>\n",
       "    </tr>\n",
       "    <tr>\n",
       "      <th>7232</th>\n",
       "      <td>1_previous_owner</td>\n",
       "      <td>\\n1\\n</td>\n",
       "    </tr>\n",
       "    <tr>\n",
       "      <th>4874</th>\n",
       "      <td>1_previous_owner</td>\n",
       "      <td>\\n1\\n</td>\n",
       "    </tr>\n",
       "    <tr>\n",
       "      <th>13215</th>\n",
       "      <td>none</td>\n",
       "      <td>NaN</td>\n",
       "    </tr>\n",
       "    <tr>\n",
       "      <th>13828</th>\n",
       "      <td>none</td>\n",
       "      <td>NaN</td>\n",
       "    </tr>\n",
       "    <tr>\n",
       "      <th>6826</th>\n",
       "      <td>1_previous_owner</td>\n",
       "      <td>\\n1\\n</td>\n",
       "    </tr>\n",
       "    <tr>\n",
       "      <th>3689</th>\n",
       "      <td>1_previous_owner</td>\n",
       "      <td>\\n1\\n</td>\n",
       "    </tr>\n",
       "    <tr>\n",
       "      <th>15547</th>\n",
       "      <td>none</td>\n",
       "      <td>NaN</td>\n",
       "    </tr>\n",
       "    <tr>\n",
       "      <th>14548</th>\n",
       "      <td>none</td>\n",
       "      <td>NaN</td>\n",
       "    </tr>\n",
       "    <tr>\n",
       "      <th>2341</th>\n",
       "      <td>none</td>\n",
       "      <td>NaN</td>\n",
       "    </tr>\n",
       "    <tr>\n",
       "      <th>1663</th>\n",
       "      <td>none</td>\n",
       "      <td>NaN</td>\n",
       "    </tr>\n",
       "    <tr>\n",
       "      <th>9561</th>\n",
       "      <td>1_previous_owner</td>\n",
       "      <td>\\n1\\n</td>\n",
       "    </tr>\n",
       "    <tr>\n",
       "      <th>2723</th>\n",
       "      <td>1_previous_owner</td>\n",
       "      <td>\\n1\\n</td>\n",
       "    </tr>\n",
       "    <tr>\n",
       "      <th>6432</th>\n",
       "      <td>1_previous_owner</td>\n",
       "      <td>\\n1\\n</td>\n",
       "    </tr>\n",
       "    <tr>\n",
       "      <th>1297</th>\n",
       "      <td>1_previous_owner</td>\n",
       "      <td>\\n1\\n</td>\n",
       "    </tr>\n",
       "    <tr>\n",
       "      <th>8507</th>\n",
       "      <td>1_previous_owner</td>\n",
       "      <td>\\n1\\n</td>\n",
       "    </tr>\n",
       "    <tr>\n",
       "      <th>6786</th>\n",
       "      <td>1_previous_owner</td>\n",
       "      <td>\\n1\\n</td>\n",
       "    </tr>\n",
       "    <tr>\n",
       "      <th>4388</th>\n",
       "      <td>1_previous_owner</td>\n",
       "      <td>\\n1\\n</td>\n",
       "    </tr>\n",
       "    <tr>\n",
       "      <th>9177</th>\n",
       "      <td>none</td>\n",
       "      <td>NaN</td>\n",
       "    </tr>\n",
       "    <tr>\n",
       "      <th>9803</th>\n",
       "      <td>1_previous_owner</td>\n",
       "      <td>\\n1\\n</td>\n",
       "    </tr>\n",
       "    <tr>\n",
       "      <th>11790</th>\n",
       "      <td>1_previous_owner</td>\n",
       "      <td>\\n1\\n</td>\n",
       "    </tr>\n",
       "    <tr>\n",
       "      <th>994</th>\n",
       "      <td>1_previous_owner</td>\n",
       "      <td>\\n1\\n</td>\n",
       "    </tr>\n",
       "    <tr>\n",
       "      <th>5237</th>\n",
       "      <td>none</td>\n",
       "      <td>NaN</td>\n",
       "    </tr>\n",
       "  </tbody>\n",
       "</table>\n",
       "</div>"
      ],
      "text/plain": [
       "             prev_owner previous_owners\n",
       "12408              none             NaN\n",
       "5119               none             NaN\n",
       "2099               none             NaN\n",
       "7232   1_previous_owner           \\n1\\n\n",
       "4874   1_previous_owner           \\n1\\n\n",
       "13215              none             NaN\n",
       "13828              none             NaN\n",
       "6826   1_previous_owner           \\n1\\n\n",
       "3689   1_previous_owner           \\n1\\n\n",
       "15547              none             NaN\n",
       "14548              none             NaN\n",
       "2341               none             NaN\n",
       "1663               none             NaN\n",
       "9561   1_previous_owner           \\n1\\n\n",
       "2723   1_previous_owner           \\n1\\n\n",
       "6432   1_previous_owner           \\n1\\n\n",
       "1297   1_previous_owner           \\n1\\n\n",
       "8507   1_previous_owner           \\n1\\n\n",
       "6786   1_previous_owner           \\n1\\n\n",
       "4388   1_previous_owner           \\n1\\n\n",
       "9177               none             NaN\n",
       "9803   1_previous_owner           \\n1\\n\n",
       "11790  1_previous_owner           \\n1\\n\n",
       "994    1_previous_owner           \\n1\\n\n",
       "5237               none             NaN"
      ]
     },
     "execution_count": 27,
     "metadata": {},
     "output_type": "execute_result"
    }
   ],
   "source": [
    "df[['prev_owner','previous_owners']].sample(25)"
   ]
  },
  {
   "cell_type": "code",
   "execution_count": 28,
   "id": "cbbdfffb-238b-463f-b749-c9ae0e7dc894",
   "metadata": {},
   "outputs": [
    {
     "data": {
      "text/plain": [
       "7225                  [\\n05/2021\\n, \\nEuro 6\\n]\n",
       "15364    [\\n04/2020\\n, \\n116 g CO2/km (comb)\\n]\n",
       "4943     [\\n07/2021\\n, \\n111 g CO2/km (comb)\\n]\n",
       "1178     [\\n11/2020\\n, \\n102 g CO2/km (comb)\\n]\n",
       "4086     [\\n05/2020\\n, \\n104 g CO2/km (comb)\\n]\n",
       "7278     [\\n06/2021\\n, \\n133 g CO2/km (comb)\\n]\n",
       "14425                               \\n11/2021\\n\n",
       "12388    [\\n01/2021\\n, \\n133 g CO2/km (comb)\\n]\n",
       "11942    [\\n06/2021\\n, \\n141 g CO2/km (comb)\\n]\n",
       "1522     [\\n07/2021\\n, \\n102 g CO2/km (comb)\\n]\n",
       "5820     [\\n05/2021\\n, \\n152 g CO2/km (comb)\\n]\n",
       "6705     [\\n02/2021\\n, \\n127 g CO2/km (comb)\\n]\n",
       "11598    [\\n12/2020\\n, \\n133 g CO2/km (comb)\\n]\n",
       "2102                                \\n03/2022\\n\n",
       "1435      [\\n05/2020\\n, \\n98 g CO2/km (comb)\\n]\n",
       "14890              [\\n02/2022\\n, \\n4 (Green)\\n]\n",
       "14483    [\\n07/2021\\n, \\n133 g CO2/km (comb)\\n]\n",
       "11226                               \\n05/2021\\n\n",
       "14657     [\\n03/2021\\n, \\n90 g CO2/km (comb)\\n]\n",
       "6442                                \\n07/2019\\n\n",
       "7420      [\\n06/2021\\n, \\n93 g CO2/km (comb)\\n]\n",
       "14248                               \\n07/2020\\n\n",
       "8397                                \\n03/2021\\n\n",
       "13865                               \\n04/2021\\n\n",
       "6446      [\\n06/2019\\n, \\n90 g CO2/km (comb)\\n]\n",
       "Name: next_inspection, dtype: object"
      ]
     },
     "execution_count": 28,
     "metadata": {},
     "output_type": "execute_result"
    }
   ],
   "source": [
    "# next inspection\n",
    "df['next_inspection'].fillna('none',inplace=True)\n",
    "df[df['next_inspection'] != 'none']['next_inspection'].sample(25)"
   ]
  },
  {
   "cell_type": "code",
   "execution_count": 29,
   "id": "a45d9f63-4f53-4c6f-824d-c3458b86adaf",
   "metadata": {},
   "outputs": [
    {
     "data": {
      "text/plain": [
       "next_inspection\n",
       "n          12384\n",
       "             710\n",
       "06/2021      437\n",
       "03/2021      172\n",
       "05/2021      153\n",
       "           ...  \n",
       "12/2017        1\n",
       "01/2023        1\n",
       "01/1921        1\n",
       "11/2022        1\n",
       "03/2017        1\n",
       "Name: count, Length: 70, dtype: int64"
      ]
     },
     "execution_count": 29,
     "metadata": {},
     "output_type": "execute_result"
    }
   ],
   "source": [
    "df['next_inspection'].str[0].str.replace('\\n','').value_counts() # get date and using pd.to_datetime()"
   ]
  },
  {
   "cell_type": "code",
   "execution_count": null,
   "id": "87b733ab-a117-4982-9f80-f905c36926f5",
   "metadata": {},
   "outputs": [],
   "source": []
  },
  {
   "cell_type": "code",
   "execution_count": 30,
   "id": "952c8636-ac5c-4500-96cd-384fc0bef1da",
   "metadata": {
    "scrolled": true
   },
   "outputs": [
    {
     "name": "stderr",
     "output_type": "stream",
     "text": [
      "/tmp/ipykernel_37214/3645520942.py:4: UserWarning: Could not infer format, so each element will be parsed individually, falling back to `dateutil`. To ensure parsing is consistent and as-expected, please specify a format.\n",
      "  pd.to_datetime(df['next_inspection'].str[0].str.replace('\\n',''))\n"
     ]
    },
    {
     "ename": "DateParseError",
     "evalue": "day is out of range for month: 0, at position 0",
     "output_type": "error",
     "traceback": [
      "\u001b[0;31m---------------------------------------------------------------------------\u001b[0m",
      "\u001b[0;31mValueError\u001b[0m                                Traceback (most recent call last)",
      "File \u001b[0;32m~/.local/lib/python3.8/site-packages/pandas/_libs/tslibs/parsing.pyx:679\u001b[0m, in \u001b[0;36mpandas._libs.tslibs.parsing.dateutil_parse\u001b[0;34m()\u001b[0m\n",
      "\u001b[0;31mValueError\u001b[0m: day is out of range for month",
      "\nThe above exception was the direct cause of the following exception:\n",
      "\u001b[0;31mDateParseError\u001b[0m                            Traceback (most recent call last)",
      "Cell \u001b[0;32mIn[30], line 4\u001b[0m\n\u001b[1;32m      2\u001b[0m df[\u001b[38;5;124m'\u001b[39m\u001b[38;5;124mnext_inspection\u001b[39m\u001b[38;5;124m'\u001b[39m] \u001b[38;5;241m=\u001b[39m df[\u001b[38;5;124m'\u001b[39m\u001b[38;5;124mnext_inspection\u001b[39m\u001b[38;5;124m'\u001b[39m]\u001b[38;5;241m.\u001b[39mstr[\u001b[38;5;241m0\u001b[39m]\u001b[38;5;241m.\u001b[39mstr\u001b[38;5;241m.\u001b[39mreplace(\u001b[38;5;124m'\u001b[39m\u001b[38;5;124mn\u001b[39m\u001b[38;5;124m'\u001b[39m,\u001b[38;5;124m'\u001b[39m\u001b[38;5;124m'\u001b[39m)\n\u001b[1;32m      3\u001b[0m df[\u001b[38;5;124m'\u001b[39m\u001b[38;5;124mnext_inspection\u001b[39m\u001b[38;5;124m'\u001b[39m] \u001b[38;5;241m=\u001b[39m df[\u001b[38;5;124m'\u001b[39m\u001b[38;5;124mnext_inspection\u001b[39m\u001b[38;5;124m'\u001b[39m]\u001b[38;5;241m.\u001b[39mfillna(np\u001b[38;5;241m.\u001b[39mnan)\n\u001b[0;32m----> 4\u001b[0m \u001b[43mpd\u001b[49m\u001b[38;5;241;43m.\u001b[39;49m\u001b[43mto_datetime\u001b[49m\u001b[43m(\u001b[49m\u001b[43mdf\u001b[49m\u001b[43m[\u001b[49m\u001b[38;5;124;43m'\u001b[39;49m\u001b[38;5;124;43mnext_inspection\u001b[39;49m\u001b[38;5;124;43m'\u001b[39;49m\u001b[43m]\u001b[49m\u001b[38;5;241;43m.\u001b[39;49m\u001b[43mstr\u001b[49m\u001b[43m[\u001b[49m\u001b[38;5;241;43m0\u001b[39;49m\u001b[43m]\u001b[49m\u001b[38;5;241;43m.\u001b[39;49m\u001b[43mstr\u001b[49m\u001b[38;5;241;43m.\u001b[39;49m\u001b[43mreplace\u001b[49m\u001b[43m(\u001b[49m\u001b[38;5;124;43m'\u001b[39;49m\u001b[38;5;130;43;01m\\n\u001b[39;49;00m\u001b[38;5;124;43m'\u001b[39;49m\u001b[43m,\u001b[49m\u001b[38;5;124;43m'\u001b[39;49m\u001b[38;5;124;43m'\u001b[39;49m\u001b[43m)\u001b[49m\u001b[43m)\u001b[49m\n",
      "File \u001b[0;32m~/.local/lib/python3.8/site-packages/pandas/core/tools/datetimes.py:1046\u001b[0m, in \u001b[0;36mto_datetime\u001b[0;34m(arg, errors, dayfirst, yearfirst, utc, format, exact, unit, infer_datetime_format, origin, cache)\u001b[0m\n\u001b[1;32m   1044\u001b[0m             result \u001b[38;5;241m=\u001b[39m arg\u001b[38;5;241m.\u001b[39mtz_localize(\u001b[38;5;124m\"\u001b[39m\u001b[38;5;124mutc\u001b[39m\u001b[38;5;124m\"\u001b[39m)\n\u001b[1;32m   1045\u001b[0m \u001b[38;5;28;01melif\u001b[39;00m \u001b[38;5;28misinstance\u001b[39m(arg, ABCSeries):\n\u001b[0;32m-> 1046\u001b[0m     cache_array \u001b[38;5;241m=\u001b[39m \u001b[43m_maybe_cache\u001b[49m\u001b[43m(\u001b[49m\u001b[43marg\u001b[49m\u001b[43m,\u001b[49m\u001b[43m \u001b[49m\u001b[38;5;28;43mformat\u001b[39;49m\u001b[43m,\u001b[49m\u001b[43m \u001b[49m\u001b[43mcache\u001b[49m\u001b[43m,\u001b[49m\u001b[43m \u001b[49m\u001b[43mconvert_listlike\u001b[49m\u001b[43m)\u001b[49m\n\u001b[1;32m   1047\u001b[0m     \u001b[38;5;28;01mif\u001b[39;00m \u001b[38;5;129;01mnot\u001b[39;00m cache_array\u001b[38;5;241m.\u001b[39mempty:\n\u001b[1;32m   1048\u001b[0m         result \u001b[38;5;241m=\u001b[39m arg\u001b[38;5;241m.\u001b[39mmap(cache_array)\n",
      "File \u001b[0;32m~/.local/lib/python3.8/site-packages/pandas/core/tools/datetimes.py:250\u001b[0m, in \u001b[0;36m_maybe_cache\u001b[0;34m(arg, format, cache, convert_listlike)\u001b[0m\n\u001b[1;32m    248\u001b[0m unique_dates \u001b[38;5;241m=\u001b[39m unique(arg)\n\u001b[1;32m    249\u001b[0m \u001b[38;5;28;01mif\u001b[39;00m \u001b[38;5;28mlen\u001b[39m(unique_dates) \u001b[38;5;241m<\u001b[39m \u001b[38;5;28mlen\u001b[39m(arg):\n\u001b[0;32m--> 250\u001b[0m     cache_dates \u001b[38;5;241m=\u001b[39m \u001b[43mconvert_listlike\u001b[49m\u001b[43m(\u001b[49m\u001b[43munique_dates\u001b[49m\u001b[43m,\u001b[49m\u001b[43m \u001b[49m\u001b[38;5;28;43mformat\u001b[39;49m\u001b[43m)\u001b[49m\n\u001b[1;32m    251\u001b[0m     \u001b[38;5;66;03m# GH#45319\u001b[39;00m\n\u001b[1;32m    252\u001b[0m     \u001b[38;5;28;01mtry\u001b[39;00m:\n",
      "File \u001b[0;32m~/.local/lib/python3.8/site-packages/pandas/core/tools/datetimes.py:455\u001b[0m, in \u001b[0;36m_convert_listlike_datetimes\u001b[0;34m(arg, format, name, utc, unit, errors, dayfirst, yearfirst, exact)\u001b[0m\n\u001b[1;32m    452\u001b[0m \u001b[38;5;28;01mif\u001b[39;00m \u001b[38;5;28mformat\u001b[39m \u001b[38;5;129;01mis\u001b[39;00m \u001b[38;5;129;01mnot\u001b[39;00m \u001b[38;5;28;01mNone\u001b[39;00m \u001b[38;5;129;01mand\u001b[39;00m \u001b[38;5;28mformat\u001b[39m \u001b[38;5;241m!=\u001b[39m \u001b[38;5;124m\"\u001b[39m\u001b[38;5;124mmixed\u001b[39m\u001b[38;5;124m\"\u001b[39m:\n\u001b[1;32m    453\u001b[0m     \u001b[38;5;28;01mreturn\u001b[39;00m _array_strptime_with_fallback(arg, name, utc, \u001b[38;5;28mformat\u001b[39m, exact, errors)\n\u001b[0;32m--> 455\u001b[0m result, tz_parsed \u001b[38;5;241m=\u001b[39m \u001b[43mobjects_to_datetime64ns\u001b[49m\u001b[43m(\u001b[49m\n\u001b[1;32m    456\u001b[0m \u001b[43m    \u001b[49m\u001b[43marg\u001b[49m\u001b[43m,\u001b[49m\n\u001b[1;32m    457\u001b[0m \u001b[43m    \u001b[49m\u001b[43mdayfirst\u001b[49m\u001b[38;5;241;43m=\u001b[39;49m\u001b[43mdayfirst\u001b[49m\u001b[43m,\u001b[49m\n\u001b[1;32m    458\u001b[0m \u001b[43m    \u001b[49m\u001b[43myearfirst\u001b[49m\u001b[38;5;241;43m=\u001b[39;49m\u001b[43myearfirst\u001b[49m\u001b[43m,\u001b[49m\n\u001b[1;32m    459\u001b[0m \u001b[43m    \u001b[49m\u001b[43mutc\u001b[49m\u001b[38;5;241;43m=\u001b[39;49m\u001b[43mutc\u001b[49m\u001b[43m,\u001b[49m\n\u001b[1;32m    460\u001b[0m \u001b[43m    \u001b[49m\u001b[43merrors\u001b[49m\u001b[38;5;241;43m=\u001b[39;49m\u001b[43merrors\u001b[49m\u001b[43m,\u001b[49m\n\u001b[1;32m    461\u001b[0m \u001b[43m    \u001b[49m\u001b[43mallow_object\u001b[49m\u001b[38;5;241;43m=\u001b[39;49m\u001b[38;5;28;43;01mTrue\u001b[39;49;00m\u001b[43m,\u001b[49m\n\u001b[1;32m    462\u001b[0m \u001b[43m\u001b[49m\u001b[43m)\u001b[49m\n\u001b[1;32m    464\u001b[0m \u001b[38;5;28;01mif\u001b[39;00m tz_parsed \u001b[38;5;129;01mis\u001b[39;00m \u001b[38;5;129;01mnot\u001b[39;00m \u001b[38;5;28;01mNone\u001b[39;00m:\n\u001b[1;32m    465\u001b[0m     \u001b[38;5;66;03m# We can take a shortcut since the datetime64 numpy array\u001b[39;00m\n\u001b[1;32m    466\u001b[0m     \u001b[38;5;66;03m# is in UTC\u001b[39;00m\n\u001b[1;32m    467\u001b[0m     dta \u001b[38;5;241m=\u001b[39m DatetimeArray(result, dtype\u001b[38;5;241m=\u001b[39mtz_to_dtype(tz_parsed))\n",
      "File \u001b[0;32m~/.local/lib/python3.8/site-packages/pandas/core/arrays/datetimes.py:2177\u001b[0m, in \u001b[0;36mobjects_to_datetime64ns\u001b[0;34m(data, dayfirst, yearfirst, utc, errors, allow_object)\u001b[0m\n\u001b[1;32m   2174\u001b[0m \u001b[38;5;66;03m# if str-dtype, convert\u001b[39;00m\n\u001b[1;32m   2175\u001b[0m data \u001b[38;5;241m=\u001b[39m np\u001b[38;5;241m.\u001b[39marray(data, copy\u001b[38;5;241m=\u001b[39m\u001b[38;5;28;01mFalse\u001b[39;00m, dtype\u001b[38;5;241m=\u001b[39mnp\u001b[38;5;241m.\u001b[39mobject_)\n\u001b[0;32m-> 2177\u001b[0m result, tz_parsed \u001b[38;5;241m=\u001b[39m \u001b[43mtslib\u001b[49m\u001b[38;5;241;43m.\u001b[39;49m\u001b[43marray_to_datetime\u001b[49m\u001b[43m(\u001b[49m\n\u001b[1;32m   2178\u001b[0m \u001b[43m    \u001b[49m\u001b[43mdata\u001b[49m\u001b[43m,\u001b[49m\n\u001b[1;32m   2179\u001b[0m \u001b[43m    \u001b[49m\u001b[43merrors\u001b[49m\u001b[38;5;241;43m=\u001b[39;49m\u001b[43merrors\u001b[49m\u001b[43m,\u001b[49m\n\u001b[1;32m   2180\u001b[0m \u001b[43m    \u001b[49m\u001b[43mutc\u001b[49m\u001b[38;5;241;43m=\u001b[39;49m\u001b[43mutc\u001b[49m\u001b[43m,\u001b[49m\n\u001b[1;32m   2181\u001b[0m \u001b[43m    \u001b[49m\u001b[43mdayfirst\u001b[49m\u001b[38;5;241;43m=\u001b[39;49m\u001b[43mdayfirst\u001b[49m\u001b[43m,\u001b[49m\n\u001b[1;32m   2182\u001b[0m \u001b[43m    \u001b[49m\u001b[43myearfirst\u001b[49m\u001b[38;5;241;43m=\u001b[39;49m\u001b[43myearfirst\u001b[49m\u001b[43m,\u001b[49m\n\u001b[1;32m   2183\u001b[0m \u001b[43m\u001b[49m\u001b[43m)\u001b[49m\n\u001b[1;32m   2185\u001b[0m \u001b[38;5;28;01mif\u001b[39;00m tz_parsed \u001b[38;5;129;01mis\u001b[39;00m \u001b[38;5;129;01mnot\u001b[39;00m \u001b[38;5;28;01mNone\u001b[39;00m:\n\u001b[1;32m   2186\u001b[0m     \u001b[38;5;66;03m# We can take a shortcut since the datetime64 numpy array\u001b[39;00m\n\u001b[1;32m   2187\u001b[0m     \u001b[38;5;66;03m#  is in UTC\u001b[39;00m\n\u001b[1;32m   2188\u001b[0m     \u001b[38;5;66;03m# Return i8 values to denote unix timestamps\u001b[39;00m\n\u001b[1;32m   2189\u001b[0m     \u001b[38;5;28;01mreturn\u001b[39;00m result\u001b[38;5;241m.\u001b[39mview(\u001b[38;5;124m\"\u001b[39m\u001b[38;5;124mi8\u001b[39m\u001b[38;5;124m\"\u001b[39m), tz_parsed\n",
      "File \u001b[0;32m~/.local/lib/python3.8/site-packages/pandas/_libs/tslib.pyx:402\u001b[0m, in \u001b[0;36mpandas._libs.tslib.array_to_datetime\u001b[0;34m()\u001b[0m\n",
      "File \u001b[0;32m~/.local/lib/python3.8/site-packages/pandas/_libs/tslib.pyx:551\u001b[0m, in \u001b[0;36mpandas._libs.tslib.array_to_datetime\u001b[0;34m()\u001b[0m\n",
      "File \u001b[0;32m~/.local/lib/python3.8/site-packages/pandas/_libs/tslib.pyx:516\u001b[0m, in \u001b[0;36mpandas._libs.tslib.array_to_datetime\u001b[0;34m()\u001b[0m\n",
      "File \u001b[0;32m~/.local/lib/python3.8/site-packages/pandas/_libs/tslibs/conversion.pyx:557\u001b[0m, in \u001b[0;36mpandas._libs.tslibs.conversion.convert_str_to_tsobject\u001b[0;34m()\u001b[0m\n",
      "File \u001b[0;32m~/.local/lib/python3.8/site-packages/pandas/_libs/tslibs/parsing.pyx:329\u001b[0m, in \u001b[0;36mpandas._libs.tslibs.parsing.parse_datetime_string\u001b[0;34m()\u001b[0m\n",
      "File \u001b[0;32m~/.local/lib/python3.8/site-packages/pandas/_libs/tslibs/parsing.pyx:683\u001b[0m, in \u001b[0;36mpandas._libs.tslibs.parsing.dateutil_parse\u001b[0;34m()\u001b[0m\n",
      "\u001b[0;31mDateParseError\u001b[0m: day is out of range for month: 0, at position 0"
     ]
    }
   ],
   "source": [
    "df['next_inspection'] = df['next_inspection'].str[0].str.replace('\\n','')\n",
    "df['next_inspection'] = df['next_inspection'].str[0].str.replace('n','')\n",
    "df['next_inspection'] = df['next_inspection'].fillna(np.nan)\n",
    "pd.to_datetime(df['next_inspection'].str[0].str.replace('\\n',''))"
   ]
  },
  {
   "cell_type": "code",
   "execution_count": null,
   "id": "613a4ff4-3b3c-43b6-b5f8-9aeaa9d51f8a",
   "metadata": {},
   "outputs": [],
   "source": [
    "df['next_inspection'].unique()"
   ]
  },
  {
   "cell_type": "code",
   "execution_count": null,
   "id": "f13b6c50-a895-47bb-8e17-ba936bf637a9",
   "metadata": {},
   "outputs": [],
   "source": [
    "df['inspection_new'].fillna('none',inplace=True)\n",
    "df[df['inspection_new'] != 'none']['inspection_new'].sample(25)"
   ]
  },
  {
   "cell_type": "code",
   "execution_count": null,
   "id": "1482630b-0453-4acb-ad70-a1674e48c34d",
   "metadata": {},
   "outputs": [],
   "source": []
  },
  {
   "cell_type": "code",
   "execution_count": null,
   "id": "5de2a747-9c1c-4e35-b57f-35504f165790",
   "metadata": {},
   "outputs": [],
   "source": [
    "# hp\n",
    "np.unique(df['hp'], return_counts=True, equal_nan=True)"
   ]
  },
  {
   "cell_type": "code",
   "execution_count": null,
   "id": "3b006185-dcc3-4dfe-8252-5c8bbc6873c1",
   "metadata": {},
   "outputs": [],
   "source": [
    "df['kw'] = df['hp'].str.extract('(\\d+)').copy()\n",
    "df['kw'] = df['kw'].fillna('none').copy()\n",
    "df['kw'].sample(4)"
   ]
  },
  {
   "cell_type": "code",
   "execution_count": null,
   "id": "f9851e43-b82c-4bbe-9282-fba6d648c355",
   "metadata": {},
   "outputs": [],
   "source": [
    "df['kw'].sample(4)"
   ]
  },
  {
   "cell_type": "code",
   "execution_count": null,
   "id": "5625080a-031c-4bc4-8a6f-4a12867cd5b8",
   "metadata": {},
   "outputs": [],
   "source": [
    "df[['kw','hp']].sample(50)"
   ]
  },
  {
   "cell_type": "code",
   "execution_count": null,
   "id": "c0ae300d-38c8-456d-bc2e-b8aa9d3df86f",
   "metadata": {},
   "outputs": [],
   "source": [
    "!python3 scout_car_clean.py"
   ]
  },
  {
   "cell_type": "code",
   "execution_count": null,
   "id": "3c0b50e1-8639-4fd3-a76c-fcc3e43aefd3",
   "metadata": {},
   "outputs": [],
   "source": []
  }
 ],
 "metadata": {
  "kernelspec": {
   "display_name": "Python 3 (ipykernel)",
   "language": "python",
   "name": "python3"
  },
  "language_info": {
   "codemirror_mode": {
    "name": "ipython",
    "version": 3
   },
   "file_extension": ".py",
   "mimetype": "text/x-python",
   "name": "python",
   "nbconvert_exporter": "python",
   "pygments_lexer": "ipython3",
   "version": "3.8.10"
  }
 },
 "nbformat": 4,
 "nbformat_minor": 5
}
